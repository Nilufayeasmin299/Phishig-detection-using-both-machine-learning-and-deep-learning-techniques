{
  "nbformat": 4,
  "nbformat_minor": 0,
  "metadata": {
    "colab": {
      "name": "Phishing detection using ML after feature selection.ipynb",
      "provenance": [],
      "collapsed_sections": [
        "i8LPYklWJ9og",
        "eE77pIzTKTgw",
        "nEE_l70DPiz5",
        "-qxdJpKZUVBI",
        "mU2Y7YVDS665"
      ],
      "authorship_tag": "ABX9TyM3TPSkjODPWQzwN3F9Srpa",
      "include_colab_link": true
    },
    "kernelspec": {
      "name": "python3",
      "display_name": "Python 3"
    },
    "language_info": {
      "name": "python"
    }
  },
  "cells": [
    {
      "cell_type": "markdown",
      "metadata": {
        "id": "view-in-github",
        "colab_type": "text"
      },
      "source": [
        "<a href=\"https://colab.research.google.com/github/Nilufayeasmin299/Phishig-detection-using-both-machine-learning-and-deep-learning-techniques/blob/main/Phishing_detection_using_ML_after_feature_selection.ipynb\" target=\"_parent\"><img src=\"https://colab.research.google.com/assets/colab-badge.svg\" alt=\"Open In Colab\"/></a>"
      ]
    },
    {
      "cell_type": "code",
      "metadata": {
        "colab": {
          "base_uri": "https://localhost:8080/"
        },
        "id": "yxxcCQTjoaE_",
        "outputId": "0d2b2137-4718-4bf0-87b2-28b7bbd243ff"
      },
      "source": [
        "from google.colab import drive\n",
        "drive.mount('/content/gdrive')"
      ],
      "execution_count": null,
      "outputs": [
        {
          "output_type": "stream",
          "text": [
            "Drive already mounted at /content/gdrive; to attempt to forcibly remount, call drive.mount(\"/content/gdrive\", force_remount=True).\n"
          ],
          "name": "stdout"
        }
      ]
    },
    {
      "cell_type": "markdown",
      "metadata": {
        "id": "oemw_1ev8hC3"
      },
      "source": [
        "# **Loading data**"
      ]
    },
    {
      "cell_type": "code",
      "metadata": {
        "id": "PHBxk2FQolkF"
      },
      "source": [
        "#importing basic packages\n",
        "import pandas as pd\n",
        "import numpy as np\n",
        "import seaborn as sns\n",
        "import matplotlib.pyplot as plt"
      ],
      "execution_count": null,
      "outputs": []
    },
    {
      "cell_type": "code",
      "metadata": {
        "colab": {
          "base_uri": "https://localhost:8080/",
          "height": 240
        },
        "id": "tHNLNcoPozty",
        "outputId": "e12f78cb-5141-4410-af5b-0a6f155dedeb"
      },
      "source": [
        "#Loading the data\n",
        "data0 = pd.read_csv('/content/gdrive/MyDrive/Second paper/Dataset/My new_data')\n",
        "data0.head()"
      ],
      "execution_count": null,
      "outputs": [
        {
          "output_type": "execute_result",
          "data": {
            "text/html": [
              "<div>\n",
              "<style scoped>\n",
              "    .dataframe tbody tr th:only-of-type {\n",
              "        vertical-align: middle;\n",
              "    }\n",
              "\n",
              "    .dataframe tbody tr th {\n",
              "        vertical-align: top;\n",
              "    }\n",
              "\n",
              "    .dataframe thead th {\n",
              "        text-align: right;\n",
              "    }\n",
              "</style>\n",
              "<table border=\"1\" class=\"dataframe\">\n",
              "  <thead>\n",
              "    <tr style=\"text-align: right;\">\n",
              "      <th></th>\n",
              "      <th>Unnamed: 0</th>\n",
              "      <th>having_IP_Address</th>\n",
              "      <th>URL_Length</th>\n",
              "      <th>Shortining_Service</th>\n",
              "      <th>Prefix_Suffix</th>\n",
              "      <th>having_Sub_Domain</th>\n",
              "      <th>SSLfinal_State</th>\n",
              "      <th>Domain_registeration_length</th>\n",
              "      <th>Request_URL</th>\n",
              "      <th>URL_of_Anchor</th>\n",
              "      <th>Links_in_tags</th>\n",
              "      <th>SFH</th>\n",
              "      <th>Redirect</th>\n",
              "      <th>on_mouseover</th>\n",
              "      <th>RightClick</th>\n",
              "      <th>age_of_domain</th>\n",
              "      <th>web_traffic</th>\n",
              "      <th>Page_Rank</th>\n",
              "      <th>Google_Index</th>\n",
              "      <th>Links_pointing_to_page</th>\n",
              "      <th>Statistical_report</th>\n",
              "      <th>Result</th>\n",
              "    </tr>\n",
              "  </thead>\n",
              "  <tbody>\n",
              "    <tr>\n",
              "      <th>0</th>\n",
              "      <td>0</td>\n",
              "      <td>-1</td>\n",
              "      <td>1</td>\n",
              "      <td>1</td>\n",
              "      <td>-1</td>\n",
              "      <td>-1</td>\n",
              "      <td>-1</td>\n",
              "      <td>-1</td>\n",
              "      <td>1</td>\n",
              "      <td>-1</td>\n",
              "      <td>1</td>\n",
              "      <td>-1</td>\n",
              "      <td>0</td>\n",
              "      <td>1</td>\n",
              "      <td>1</td>\n",
              "      <td>-1</td>\n",
              "      <td>-1</td>\n",
              "      <td>-1</td>\n",
              "      <td>1</td>\n",
              "      <td>1</td>\n",
              "      <td>-1</td>\n",
              "      <td>0</td>\n",
              "    </tr>\n",
              "    <tr>\n",
              "      <th>1</th>\n",
              "      <td>1</td>\n",
              "      <td>1</td>\n",
              "      <td>1</td>\n",
              "      <td>1</td>\n",
              "      <td>-1</td>\n",
              "      <td>0</td>\n",
              "      <td>1</td>\n",
              "      <td>-1</td>\n",
              "      <td>1</td>\n",
              "      <td>0</td>\n",
              "      <td>-1</td>\n",
              "      <td>-1</td>\n",
              "      <td>0</td>\n",
              "      <td>1</td>\n",
              "      <td>1</td>\n",
              "      <td>-1</td>\n",
              "      <td>0</td>\n",
              "      <td>-1</td>\n",
              "      <td>1</td>\n",
              "      <td>1</td>\n",
              "      <td>1</td>\n",
              "      <td>0</td>\n",
              "    </tr>\n",
              "    <tr>\n",
              "      <th>2</th>\n",
              "      <td>2</td>\n",
              "      <td>1</td>\n",
              "      <td>0</td>\n",
              "      <td>1</td>\n",
              "      <td>-1</td>\n",
              "      <td>-1</td>\n",
              "      <td>-1</td>\n",
              "      <td>-1</td>\n",
              "      <td>1</td>\n",
              "      <td>0</td>\n",
              "      <td>-1</td>\n",
              "      <td>-1</td>\n",
              "      <td>0</td>\n",
              "      <td>1</td>\n",
              "      <td>1</td>\n",
              "      <td>1</td>\n",
              "      <td>1</td>\n",
              "      <td>-1</td>\n",
              "      <td>1</td>\n",
              "      <td>0</td>\n",
              "      <td>-1</td>\n",
              "      <td>0</td>\n",
              "    </tr>\n",
              "    <tr>\n",
              "      <th>3</th>\n",
              "      <td>3</td>\n",
              "      <td>1</td>\n",
              "      <td>0</td>\n",
              "      <td>1</td>\n",
              "      <td>-1</td>\n",
              "      <td>-1</td>\n",
              "      <td>-1</td>\n",
              "      <td>1</td>\n",
              "      <td>-1</td>\n",
              "      <td>0</td>\n",
              "      <td>0</td>\n",
              "      <td>-1</td>\n",
              "      <td>0</td>\n",
              "      <td>1</td>\n",
              "      <td>1</td>\n",
              "      <td>-1</td>\n",
              "      <td>1</td>\n",
              "      <td>-1</td>\n",
              "      <td>1</td>\n",
              "      <td>-1</td>\n",
              "      <td>1</td>\n",
              "      <td>0</td>\n",
              "    </tr>\n",
              "    <tr>\n",
              "      <th>4</th>\n",
              "      <td>4</td>\n",
              "      <td>1</td>\n",
              "      <td>0</td>\n",
              "      <td>-1</td>\n",
              "      <td>-1</td>\n",
              "      <td>1</td>\n",
              "      <td>1</td>\n",
              "      <td>-1</td>\n",
              "      <td>1</td>\n",
              "      <td>0</td>\n",
              "      <td>0</td>\n",
              "      <td>-1</td>\n",
              "      <td>0</td>\n",
              "      <td>-1</td>\n",
              "      <td>1</td>\n",
              "      <td>-1</td>\n",
              "      <td>0</td>\n",
              "      <td>-1</td>\n",
              "      <td>1</td>\n",
              "      <td>1</td>\n",
              "      <td>1</td>\n",
              "      <td>1</td>\n",
              "    </tr>\n",
              "  </tbody>\n",
              "</table>\n",
              "</div>"
            ],
            "text/plain": [
              "   Unnamed: 0  having_IP_Address  ...  Statistical_report  Result\n",
              "0           0                 -1  ...                  -1       0\n",
              "1           1                  1  ...                   1       0\n",
              "2           2                  1  ...                  -1       0\n",
              "3           3                  1  ...                   1       0\n",
              "4           4                  1  ...                   1       1\n",
              "\n",
              "[5 rows x 22 columns]"
            ]
          },
          "metadata": {
            "tags": []
          },
          "execution_count": 3
        }
      ]
    },
    {
      "cell_type": "code",
      "metadata": {
        "colab": {
          "base_uri": "https://localhost:8080/"
        },
        "id": "4H3ki_9DsgJ5",
        "outputId": "93b5dca9-3322-48a7-a2d6-4d663c75e4d4"
      },
      "source": [
        "#Checking the shape of the dataset\n",
        "data0.shape"
      ],
      "execution_count": null,
      "outputs": [
        {
          "output_type": "execute_result",
          "data": {
            "text/plain": [
              "(11055, 22)"
            ]
          },
          "metadata": {
            "tags": []
          },
          "execution_count": 4
        }
      ]
    },
    {
      "cell_type": "code",
      "metadata": {
        "id": "kXbkm27BspAt"
      },
      "source": [
        "data=data0.drop(['Unnamed: 0'], axis=1)"
      ],
      "execution_count": null,
      "outputs": []
    },
    {
      "cell_type": "code",
      "metadata": {
        "colab": {
          "base_uri": "https://localhost:8080/",
          "height": 223
        },
        "id": "jmiDH1uVs17D",
        "outputId": "872a9309-b586-45a1-9bcb-9bf6a8ac4699"
      },
      "source": [
        "data.head()"
      ],
      "execution_count": null,
      "outputs": [
        {
          "output_type": "execute_result",
          "data": {
            "text/html": [
              "<div>\n",
              "<style scoped>\n",
              "    .dataframe tbody tr th:only-of-type {\n",
              "        vertical-align: middle;\n",
              "    }\n",
              "\n",
              "    .dataframe tbody tr th {\n",
              "        vertical-align: top;\n",
              "    }\n",
              "\n",
              "    .dataframe thead th {\n",
              "        text-align: right;\n",
              "    }\n",
              "</style>\n",
              "<table border=\"1\" class=\"dataframe\">\n",
              "  <thead>\n",
              "    <tr style=\"text-align: right;\">\n",
              "      <th></th>\n",
              "      <th>having_IP_Address</th>\n",
              "      <th>URL_Length</th>\n",
              "      <th>Shortining_Service</th>\n",
              "      <th>Prefix_Suffix</th>\n",
              "      <th>having_Sub_Domain</th>\n",
              "      <th>SSLfinal_State</th>\n",
              "      <th>Domain_registeration_length</th>\n",
              "      <th>Request_URL</th>\n",
              "      <th>URL_of_Anchor</th>\n",
              "      <th>Links_in_tags</th>\n",
              "      <th>SFH</th>\n",
              "      <th>Redirect</th>\n",
              "      <th>on_mouseover</th>\n",
              "      <th>RightClick</th>\n",
              "      <th>age_of_domain</th>\n",
              "      <th>web_traffic</th>\n",
              "      <th>Page_Rank</th>\n",
              "      <th>Google_Index</th>\n",
              "      <th>Links_pointing_to_page</th>\n",
              "      <th>Statistical_report</th>\n",
              "      <th>Result</th>\n",
              "    </tr>\n",
              "  </thead>\n",
              "  <tbody>\n",
              "    <tr>\n",
              "      <th>0</th>\n",
              "      <td>-1</td>\n",
              "      <td>1</td>\n",
              "      <td>1</td>\n",
              "      <td>-1</td>\n",
              "      <td>-1</td>\n",
              "      <td>-1</td>\n",
              "      <td>-1</td>\n",
              "      <td>1</td>\n",
              "      <td>-1</td>\n",
              "      <td>1</td>\n",
              "      <td>-1</td>\n",
              "      <td>0</td>\n",
              "      <td>1</td>\n",
              "      <td>1</td>\n",
              "      <td>-1</td>\n",
              "      <td>-1</td>\n",
              "      <td>-1</td>\n",
              "      <td>1</td>\n",
              "      <td>1</td>\n",
              "      <td>-1</td>\n",
              "      <td>0</td>\n",
              "    </tr>\n",
              "    <tr>\n",
              "      <th>1</th>\n",
              "      <td>1</td>\n",
              "      <td>1</td>\n",
              "      <td>1</td>\n",
              "      <td>-1</td>\n",
              "      <td>0</td>\n",
              "      <td>1</td>\n",
              "      <td>-1</td>\n",
              "      <td>1</td>\n",
              "      <td>0</td>\n",
              "      <td>-1</td>\n",
              "      <td>-1</td>\n",
              "      <td>0</td>\n",
              "      <td>1</td>\n",
              "      <td>1</td>\n",
              "      <td>-1</td>\n",
              "      <td>0</td>\n",
              "      <td>-1</td>\n",
              "      <td>1</td>\n",
              "      <td>1</td>\n",
              "      <td>1</td>\n",
              "      <td>0</td>\n",
              "    </tr>\n",
              "    <tr>\n",
              "      <th>2</th>\n",
              "      <td>1</td>\n",
              "      <td>0</td>\n",
              "      <td>1</td>\n",
              "      <td>-1</td>\n",
              "      <td>-1</td>\n",
              "      <td>-1</td>\n",
              "      <td>-1</td>\n",
              "      <td>1</td>\n",
              "      <td>0</td>\n",
              "      <td>-1</td>\n",
              "      <td>-1</td>\n",
              "      <td>0</td>\n",
              "      <td>1</td>\n",
              "      <td>1</td>\n",
              "      <td>1</td>\n",
              "      <td>1</td>\n",
              "      <td>-1</td>\n",
              "      <td>1</td>\n",
              "      <td>0</td>\n",
              "      <td>-1</td>\n",
              "      <td>0</td>\n",
              "    </tr>\n",
              "    <tr>\n",
              "      <th>3</th>\n",
              "      <td>1</td>\n",
              "      <td>0</td>\n",
              "      <td>1</td>\n",
              "      <td>-1</td>\n",
              "      <td>-1</td>\n",
              "      <td>-1</td>\n",
              "      <td>1</td>\n",
              "      <td>-1</td>\n",
              "      <td>0</td>\n",
              "      <td>0</td>\n",
              "      <td>-1</td>\n",
              "      <td>0</td>\n",
              "      <td>1</td>\n",
              "      <td>1</td>\n",
              "      <td>-1</td>\n",
              "      <td>1</td>\n",
              "      <td>-1</td>\n",
              "      <td>1</td>\n",
              "      <td>-1</td>\n",
              "      <td>1</td>\n",
              "      <td>0</td>\n",
              "    </tr>\n",
              "    <tr>\n",
              "      <th>4</th>\n",
              "      <td>1</td>\n",
              "      <td>0</td>\n",
              "      <td>-1</td>\n",
              "      <td>-1</td>\n",
              "      <td>1</td>\n",
              "      <td>1</td>\n",
              "      <td>-1</td>\n",
              "      <td>1</td>\n",
              "      <td>0</td>\n",
              "      <td>0</td>\n",
              "      <td>-1</td>\n",
              "      <td>0</td>\n",
              "      <td>-1</td>\n",
              "      <td>1</td>\n",
              "      <td>-1</td>\n",
              "      <td>0</td>\n",
              "      <td>-1</td>\n",
              "      <td>1</td>\n",
              "      <td>1</td>\n",
              "      <td>1</td>\n",
              "      <td>1</td>\n",
              "    </tr>\n",
              "  </tbody>\n",
              "</table>\n",
              "</div>"
            ],
            "text/plain": [
              "   having_IP_Address  URL_Length  ...  Statistical_report  Result\n",
              "0                 -1           1  ...                  -1       0\n",
              "1                  1           1  ...                   1       0\n",
              "2                  1           0  ...                  -1       0\n",
              "3                  1           0  ...                   1       0\n",
              "4                  1           0  ...                   1       1\n",
              "\n",
              "[5 rows x 21 columns]"
            ]
          },
          "metadata": {
            "tags": []
          },
          "execution_count": 6
        }
      ]
    },
    {
      "cell_type": "code",
      "metadata": {
        "colab": {
          "base_uri": "https://localhost:8080/"
        },
        "id": "xL0lhCVut-MA",
        "outputId": "fb9a2eec-47d8-4e0a-9c43-d7c366688111"
      },
      "source": [
        "data.columns"
      ],
      "execution_count": null,
      "outputs": [
        {
          "output_type": "execute_result",
          "data": {
            "text/plain": [
              "Index(['having_IP_Address', 'URL_Length', 'Shortining_Service',\n",
              "       'Prefix_Suffix', 'having_Sub_Domain', 'SSLfinal_State',\n",
              "       'Domain_registeration_length', 'Request_URL', 'URL_of_Anchor',\n",
              "       'Links_in_tags', 'SFH', 'Redirect', 'on_mouseover', 'RightClick',\n",
              "       'age_of_domain', 'web_traffic', 'Page_Rank', 'Google_Index',\n",
              "       'Links_pointing_to_page', 'Statistical_report', 'Result'],\n",
              "      dtype='object')"
            ]
          },
          "metadata": {
            "tags": []
          },
          "execution_count": 7
        }
      ]
    },
    {
      "cell_type": "code",
      "metadata": {
        "colab": {
          "base_uri": "https://localhost:8080/"
        },
        "id": "fcup9uOYIfIR",
        "outputId": "c546ac1f-892e-4e97-bcf6-c2ee7a4b1d3e"
      },
      "source": [
        "data.shape"
      ],
      "execution_count": null,
      "outputs": [
        {
          "output_type": "execute_result",
          "data": {
            "text/plain": [
              "(11055, 21)"
            ]
          },
          "metadata": {
            "tags": []
          },
          "execution_count": 8
        }
      ]
    },
    {
      "cell_type": "code",
      "metadata": {
        "colab": {
          "base_uri": "https://localhost:8080/"
        },
        "id": "q__qr322Ij-8",
        "outputId": "3cec8df5-0958-4334-a8cb-e67b7b91334b"
      },
      "source": [
        "data.info()"
      ],
      "execution_count": null,
      "outputs": [
        {
          "output_type": "stream",
          "text": [
            "<class 'pandas.core.frame.DataFrame'>\n",
            "RangeIndex: 11055 entries, 0 to 11054\n",
            "Data columns (total 21 columns):\n",
            " #   Column                       Non-Null Count  Dtype\n",
            "---  ------                       --------------  -----\n",
            " 0   having_IP_Address            11055 non-null  int64\n",
            " 1   URL_Length                   11055 non-null  int64\n",
            " 2   Shortining_Service           11055 non-null  int64\n",
            " 3   Prefix_Suffix                11055 non-null  int64\n",
            " 4   having_Sub_Domain            11055 non-null  int64\n",
            " 5   SSLfinal_State               11055 non-null  int64\n",
            " 6   Domain_registeration_length  11055 non-null  int64\n",
            " 7   Request_URL                  11055 non-null  int64\n",
            " 8   URL_of_Anchor                11055 non-null  int64\n",
            " 9   Links_in_tags                11055 non-null  int64\n",
            " 10  SFH                          11055 non-null  int64\n",
            " 11  Redirect                     11055 non-null  int64\n",
            " 12  on_mouseover                 11055 non-null  int64\n",
            " 13  RightClick                   11055 non-null  int64\n",
            " 14  age_of_domain                11055 non-null  int64\n",
            " 15  web_traffic                  11055 non-null  int64\n",
            " 16  Page_Rank                    11055 non-null  int64\n",
            " 17  Google_Index                 11055 non-null  int64\n",
            " 18  Links_pointing_to_page       11055 non-null  int64\n",
            " 19  Statistical_report           11055 non-null  int64\n",
            " 20  Result                       11055 non-null  int64\n",
            "dtypes: int64(21)\n",
            "memory usage: 1.8 MB\n"
          ],
          "name": "stdout"
        }
      ]
    },
    {
      "cell_type": "code",
      "metadata": {
        "colab": {
          "base_uri": "https://localhost:8080/"
        },
        "id": "_iHFk4a-ImuJ",
        "outputId": "945cd11d-780d-4fa4-f9d8-a9448efb8b25"
      },
      "source": [
        "data['Result'].value_counts()"
      ],
      "execution_count": null,
      "outputs": [
        {
          "output_type": "execute_result",
          "data": {
            "text/plain": [
              "1    6157\n",
              "0    4898\n",
              "Name: Result, dtype: int64"
            ]
          },
          "metadata": {
            "tags": []
          },
          "execution_count": 10
        }
      ]
    },
    {
      "cell_type": "code",
      "metadata": {
        "colab": {
          "base_uri": "https://localhost:8080/"
        },
        "id": "JmvE61Pr--FO",
        "outputId": "adf0ecfa-d78c-4907-818c-a54e0c2679fb"
      },
      "source": [
        "#checking the data for null or missing values\n",
        "data.isnull().sum()"
      ],
      "execution_count": null,
      "outputs": [
        {
          "output_type": "execute_result",
          "data": {
            "text/plain": [
              "having_IP_Address              0\n",
              "URL_Length                     0\n",
              "Shortining_Service             0\n",
              "Prefix_Suffix                  0\n",
              "having_Sub_Domain              0\n",
              "SSLfinal_State                 0\n",
              "Domain_registeration_length    0\n",
              "Request_URL                    0\n",
              "URL_of_Anchor                  0\n",
              "Links_in_tags                  0\n",
              "SFH                            0\n",
              "Redirect                       0\n",
              "on_mouseover                   0\n",
              "RightClick                     0\n",
              "age_of_domain                  0\n",
              "web_traffic                    0\n",
              "Page_Rank                      0\n",
              "Google_Index                   0\n",
              "Links_pointing_to_page         0\n",
              "Statistical_report             0\n",
              "Result                         0\n",
              "dtype: int64"
            ]
          },
          "metadata": {
            "tags": []
          },
          "execution_count": 11
        }
      ]
    },
    {
      "cell_type": "code",
      "metadata": {
        "colab": {
          "base_uri": "https://localhost:8080/",
          "height": 223
        },
        "id": "8LbJtSUr_AAr",
        "outputId": "3a3cca3d-d4da-4050-e1f5-e6de257f3e3d"
      },
      "source": [
        "# shuffling the rows in the dataset so that when splitting the train and test set are equally distributed\n",
        "data = data.sample(frac=1).reset_index(drop=True)\n",
        "data.head()"
      ],
      "execution_count": null,
      "outputs": [
        {
          "output_type": "execute_result",
          "data": {
            "text/html": [
              "<div>\n",
              "<style scoped>\n",
              "    .dataframe tbody tr th:only-of-type {\n",
              "        vertical-align: middle;\n",
              "    }\n",
              "\n",
              "    .dataframe tbody tr th {\n",
              "        vertical-align: top;\n",
              "    }\n",
              "\n",
              "    .dataframe thead th {\n",
              "        text-align: right;\n",
              "    }\n",
              "</style>\n",
              "<table border=\"1\" class=\"dataframe\">\n",
              "  <thead>\n",
              "    <tr style=\"text-align: right;\">\n",
              "      <th></th>\n",
              "      <th>having_IP_Address</th>\n",
              "      <th>URL_Length</th>\n",
              "      <th>Shortining_Service</th>\n",
              "      <th>Prefix_Suffix</th>\n",
              "      <th>having_Sub_Domain</th>\n",
              "      <th>SSLfinal_State</th>\n",
              "      <th>Domain_registeration_length</th>\n",
              "      <th>Request_URL</th>\n",
              "      <th>URL_of_Anchor</th>\n",
              "      <th>Links_in_tags</th>\n",
              "      <th>SFH</th>\n",
              "      <th>Redirect</th>\n",
              "      <th>on_mouseover</th>\n",
              "      <th>RightClick</th>\n",
              "      <th>age_of_domain</th>\n",
              "      <th>web_traffic</th>\n",
              "      <th>Page_Rank</th>\n",
              "      <th>Google_Index</th>\n",
              "      <th>Links_pointing_to_page</th>\n",
              "      <th>Statistical_report</th>\n",
              "      <th>Result</th>\n",
              "    </tr>\n",
              "  </thead>\n",
              "  <tbody>\n",
              "    <tr>\n",
              "      <th>0</th>\n",
              "      <td>-1</td>\n",
              "      <td>-1</td>\n",
              "      <td>-1</td>\n",
              "      <td>1</td>\n",
              "      <td>1</td>\n",
              "      <td>1</td>\n",
              "      <td>-1</td>\n",
              "      <td>1</td>\n",
              "      <td>0</td>\n",
              "      <td>0</td>\n",
              "      <td>-1</td>\n",
              "      <td>1</td>\n",
              "      <td>1</td>\n",
              "      <td>1</td>\n",
              "      <td>-1</td>\n",
              "      <td>-1</td>\n",
              "      <td>-1</td>\n",
              "      <td>1</td>\n",
              "      <td>1</td>\n",
              "      <td>1</td>\n",
              "      <td>1</td>\n",
              "    </tr>\n",
              "    <tr>\n",
              "      <th>1</th>\n",
              "      <td>-1</td>\n",
              "      <td>-1</td>\n",
              "      <td>1</td>\n",
              "      <td>-1</td>\n",
              "      <td>0</td>\n",
              "      <td>0</td>\n",
              "      <td>1</td>\n",
              "      <td>-1</td>\n",
              "      <td>-1</td>\n",
              "      <td>0</td>\n",
              "      <td>-1</td>\n",
              "      <td>0</td>\n",
              "      <td>1</td>\n",
              "      <td>1</td>\n",
              "      <td>1</td>\n",
              "      <td>0</td>\n",
              "      <td>-1</td>\n",
              "      <td>1</td>\n",
              "      <td>1</td>\n",
              "      <td>1</td>\n",
              "      <td>0</td>\n",
              "    </tr>\n",
              "    <tr>\n",
              "      <th>2</th>\n",
              "      <td>1</td>\n",
              "      <td>-1</td>\n",
              "      <td>1</td>\n",
              "      <td>-1</td>\n",
              "      <td>1</td>\n",
              "      <td>1</td>\n",
              "      <td>1</td>\n",
              "      <td>-1</td>\n",
              "      <td>1</td>\n",
              "      <td>1</td>\n",
              "      <td>-1</td>\n",
              "      <td>0</td>\n",
              "      <td>1</td>\n",
              "      <td>1</td>\n",
              "      <td>1</td>\n",
              "      <td>1</td>\n",
              "      <td>-1</td>\n",
              "      <td>1</td>\n",
              "      <td>0</td>\n",
              "      <td>1</td>\n",
              "      <td>1</td>\n",
              "    </tr>\n",
              "    <tr>\n",
              "      <th>3</th>\n",
              "      <td>1</td>\n",
              "      <td>-1</td>\n",
              "      <td>1</td>\n",
              "      <td>-1</td>\n",
              "      <td>0</td>\n",
              "      <td>0</td>\n",
              "      <td>-1</td>\n",
              "      <td>-1</td>\n",
              "      <td>-1</td>\n",
              "      <td>0</td>\n",
              "      <td>-1</td>\n",
              "      <td>0</td>\n",
              "      <td>1</td>\n",
              "      <td>1</td>\n",
              "      <td>1</td>\n",
              "      <td>0</td>\n",
              "      <td>-1</td>\n",
              "      <td>1</td>\n",
              "      <td>0</td>\n",
              "      <td>1</td>\n",
              "      <td>0</td>\n",
              "    </tr>\n",
              "    <tr>\n",
              "      <th>4</th>\n",
              "      <td>1</td>\n",
              "      <td>-1</td>\n",
              "      <td>1</td>\n",
              "      <td>-1</td>\n",
              "      <td>-1</td>\n",
              "      <td>1</td>\n",
              "      <td>-1</td>\n",
              "      <td>1</td>\n",
              "      <td>1</td>\n",
              "      <td>-1</td>\n",
              "      <td>-1</td>\n",
              "      <td>0</td>\n",
              "      <td>1</td>\n",
              "      <td>1</td>\n",
              "      <td>1</td>\n",
              "      <td>1</td>\n",
              "      <td>-1</td>\n",
              "      <td>1</td>\n",
              "      <td>1</td>\n",
              "      <td>1</td>\n",
              "      <td>1</td>\n",
              "    </tr>\n",
              "  </tbody>\n",
              "</table>\n",
              "</div>"
            ],
            "text/plain": [
              "   having_IP_Address  URL_Length  ...  Statistical_report  Result\n",
              "0                 -1          -1  ...                   1       1\n",
              "1                 -1          -1  ...                   1       0\n",
              "2                  1          -1  ...                   1       1\n",
              "3                  1          -1  ...                   1       0\n",
              "4                  1          -1  ...                   1       1\n",
              "\n",
              "[5 rows x 21 columns]"
            ]
          },
          "metadata": {
            "tags": []
          },
          "execution_count": 12
        }
      ]
    },
    {
      "cell_type": "code",
      "metadata": {
        "colab": {
          "base_uri": "https://localhost:8080/"
        },
        "id": "AX2JJ0rt_IuI",
        "outputId": "fb771d1f-6173-4a59-fd8a-af0ae4d3fe38"
      },
      "source": [
        "# Sepratating & assigning features and target columns to X & y\n",
        "y = data['Result']\n",
        "X = data.drop('Result',axis=1)\n",
        "X.shape, y.shape"
      ],
      "execution_count": null,
      "outputs": [
        {
          "output_type": "execute_result",
          "data": {
            "text/plain": [
              "((11055, 20), (11055,))"
            ]
          },
          "metadata": {
            "tags": []
          },
          "execution_count": 13
        }
      ]
    },
    {
      "cell_type": "code",
      "metadata": {
        "id": "xcwiysHg_Lmf"
      },
      "source": [
        "# Feature Scaling \n",
        "from sklearn.preprocessing import StandardScaler \n",
        "sc = StandardScaler() \n",
        "X_train = sc.fit_transform(X) \n",
        "y_train=y"
      ],
      "execution_count": null,
      "outputs": []
    },
    {
      "cell_type": "code",
      "metadata": {
        "id": "I2quzzbJ_Rlk"
      },
      "source": [
        "\n",
        "# Applying k-Fold Cross Validation \n",
        "from sklearn import model_selection\n",
        "from sklearn.metrics import accuracy_score,f1_score, precision_score,recall_score, make_scorer\n",
        "scoring={'accuracy':make_scorer(accuracy_score),'precision':make_scorer(precision_score),\n",
        "         'recall':make_scorer(recall_score),'f1':make_scorer(f1_score)}"
      ],
      "execution_count": null,
      "outputs": []
    },
    {
      "cell_type": "markdown",
      "metadata": {
        "id": "PNS3g9xg_XTj"
      },
      "source": [
        "## **Machine Learning Models & Training**"
      ]
    },
    {
      "cell_type": "code",
      "metadata": {
        "id": "sulQ36At_b24"
      },
      "source": [
        "# Creating holders to store the model performance results\n",
        "ML_Model = []\n",
        "acc_cross = []\n",
        "acc_error=[]\n",
        "pre_cross = []\n",
        "pre_error = []\n",
        "rec_cross = []\n",
        "rec_error = []\n",
        "f1_cross = []\n",
        "f1_error = []\n",
        "ex_time = []\n",
        "#function to call for storing the results\n",
        "def storeResults(model, a,ae,p,pe,r,re,f,fe,t):\n",
        "  ML_Model.append(model)\n",
        "  acc_cross.append(round(a,3))\n",
        "  acc_error.append(round(ae,3))\n",
        "  pre_cross.append(round(p,3))\n",
        "  pre_error.append(round(pe,3))\n",
        "  rec_cross.append(round(r,3))\n",
        "  rec_error.append(round(re,3))\n",
        "  f1_cross.append(round(f,3))\n",
        "  f1_error.append(round(fe,3))\n",
        "  ex_time.append(round(t,3))"
      ],
      "execution_count": null,
      "outputs": []
    },
    {
      "cell_type": "markdown",
      "metadata": {
        "id": "Vx1jtWXsJPDA"
      },
      "source": [
        "#**Decision tree Classifier**"
      ]
    },
    {
      "cell_type": "code",
      "metadata": {
        "id": "NrGbV9weI_7u"
      },
      "source": [
        "import time\n",
        "p=0\n",
        "tme=0\n",
        "tic=time.perf_counter()"
      ],
      "execution_count": null,
      "outputs": []
    },
    {
      "cell_type": "code",
      "metadata": {
        "id": "yk3vCTftJWsa"
      },
      "source": [
        "# Decision Tree model \n",
        "from sklearn.tree import DecisionTreeClassifier\n",
        "\n",
        "# instantiate the model \n",
        "tree = DecisionTreeClassifier(max_depth = 5)"
      ],
      "execution_count": null,
      "outputs": []
    },
    {
      "cell_type": "code",
      "metadata": {
        "id": "mPKDbPeJR0MT"
      },
      "source": [
        "#applying kfold cross validation on model\n",
        "results_dt = model_selection.cross_validate(tree.fit(X_train,y_train),\n",
        "                                          X=X_train,\n",
        "                                          y=y_train,\n",
        "                                          cv=10,\n",
        "                                          scoring=scoring)"
      ],
      "execution_count": null,
      "outputs": []
    },
    {
      "cell_type": "markdown",
      "metadata": {
        "id": "saizZtWv_6RU"
      },
      "source": [
        "**Performance Evaluation:**"
      ]
    },
    {
      "cell_type": "code",
      "metadata": {
        "id": "6QFt4xm__2GR"
      },
      "source": [
        "acc=np.mean(results_dt['test_accuracy'])\n",
        "acc_err=np.std(results_dt['test_accuracy'])\n",
        "pre=np.mean(results_dt['test_precision'])\n",
        "pre_err=np.std(results_dt['test_precision'])\n",
        "rec=np.mean(results_dt['test_recall'])\n",
        "rec_err=np.std(results_dt['test_recall'])\n",
        "f1=np.mean(results_dt['test_f1'])\n",
        "f1_err=np.std(results_dt['test_f1'])"
      ],
      "execution_count": null,
      "outputs": []
    },
    {
      "cell_type": "code",
      "metadata": {
        "colab": {
          "base_uri": "https://localhost:8080/"
        },
        "id": "4FzgOt4NSOJn",
        "outputId": "c28c88ef-ec7a-4b75-d1bf-e3878dbc72f8"
      },
      "source": [
        "print('Cross Validation accuracy: %.3f +/- %.3f' % (acc,acc_err))\n",
        "print('Precision: %.3f +/- %.3f' % (pre,pre_err))\n",
        "print('Recall: %.3f +/- %.3f' % (rec,rec_err))\n",
        "print('F1 Score: %.3f +/- %.3f' % (f1,f1_err))"
      ],
      "execution_count": null,
      "outputs": [
        {
          "output_type": "stream",
          "text": [
            "Cross Validation accuracy: 0.922 +/- 0.008\n",
            "Precision: 0.903 +/- 0.016\n",
            "Recall: 0.964 +/- 0.017\n",
            "F1 Score: 0.933 +/- 0.007\n"
          ],
          "name": "stdout"
        }
      ]
    },
    {
      "cell_type": "markdown",
      "metadata": {
        "id": "YmwCUxXIARm-"
      },
      "source": [
        "###**Storing the results:**"
      ]
    },
    {
      "cell_type": "code",
      "metadata": {
        "id": "0uGKPLJeAXUd"
      },
      "source": [
        "#storing the results. The below mentioned order of parameter passing is important.\n",
        "#Caution: Execute only once to avoid duplications.\n",
        "p=time.perf_counter()\n",
        "tme=p-tic\n",
        "tic=p\n",
        "storeResults('Decision Tree', acc,acc_err,pre,pre_err,rec,rec_err,f1,f1_err,tme)"
      ],
      "execution_count": null,
      "outputs": []
    },
    {
      "cell_type": "markdown",
      "metadata": {
        "id": "j2dN-ewyJlK4"
      },
      "source": [
        "#**Random Forest Classifier**"
      ]
    },
    {
      "cell_type": "code",
      "metadata": {
        "id": "9v48by6oJgM_"
      },
      "source": [
        "import time\n",
        "p=0\n",
        "tme=0\n",
        "tic=time.perf_counter()"
      ],
      "execution_count": null,
      "outputs": []
    },
    {
      "cell_type": "code",
      "metadata": {
        "id": "gOmvfPX5Jswx"
      },
      "source": [
        "# Random Forest model\n",
        "from sklearn.ensemble import RandomForestClassifier\n",
        "\n",
        "# instantiate the model\n",
        "forest = RandomForestClassifier(max_depth=5)"
      ],
      "execution_count": null,
      "outputs": []
    },
    {
      "cell_type": "code",
      "metadata": {
        "id": "p8Nw5xJYSpk_"
      },
      "source": [
        "#applying kfold cross validation on model\n",
        "results_rf = model_selection.cross_validate(forest.fit(X_train,y_train),\n",
        "                                          X=X_train,\n",
        "                                          y=y_train,\n",
        "                                          cv=10,\n",
        "                                          scoring=scoring)"
      ],
      "execution_count": null,
      "outputs": []
    },
    {
      "cell_type": "markdown",
      "metadata": {
        "id": "ak0AorgvAseo"
      },
      "source": [
        "### **Performance Evaluation:**"
      ]
    },
    {
      "cell_type": "code",
      "metadata": {
        "id": "Kc3M_-H2_CE0"
      },
      "source": [
        "acc=np.mean(results_rf['test_accuracy'])\n",
        "acc_err=np.std(results_rf['test_accuracy'])\n",
        "pre=np.mean(results_rf['test_precision'])\n",
        "pre_err=np.std(results_rf['test_precision'])\n",
        "rec=np.mean(results_rf['test_recall'])\n",
        "rec_err=np.std(results_rf['test_recall'])\n",
        "f1=np.mean(results_rf['test_f1'])\n",
        "f1_err=np.std(results_rf['test_f1'])"
      ],
      "execution_count": null,
      "outputs": []
    },
    {
      "cell_type": "code",
      "metadata": {
        "colab": {
          "base_uri": "https://localhost:8080/"
        },
        "id": "yZNYdl3LBCtc",
        "outputId": "5cc16eda-b971-48d9-ab3c-7e08a67a31fb"
      },
      "source": [
        "print('Cross Validation accuracy: %.3f +/- %.3f' % (acc,acc_err))\n",
        "print('Precision: %.3f +/- %.3f' % (pre,pre_err))\n",
        "print('Recall: %.3f +/- %.3f' % (rec,rec_err))\n",
        "print('F1 Score: %.3f +/- %.3f' % (f1,f1_err))"
      ],
      "execution_count": null,
      "outputs": [
        {
          "output_type": "stream",
          "text": [
            "Cross Validation accuracy: 0.929 +/- 0.007\n",
            "Precision: 0.919 +/- 0.009\n",
            "Recall: 0.956 +/- 0.010\n",
            "F1 Score: 0.937 +/- 0.006\n"
          ],
          "name": "stdout"
        }
      ]
    },
    {
      "cell_type": "markdown",
      "metadata": {
        "id": "Uj_B-_FUBHND"
      },
      "source": [
        "### **Storing the results:**"
      ]
    },
    {
      "cell_type": "code",
      "metadata": {
        "id": "p7SgYvUGDqy1"
      },
      "source": [
        "#storing the results. The below mentioned order of parameter passing is important.\n",
        "#Caution: Execute only once to avoid duplications.\n",
        "p=time.perf_counter()\n",
        "tme=p-tic\n",
        "tic=p\n",
        "storeResults('Random Forest', acc,acc_err,pre,pre_err,rec,rec_err,f1,f1_err,tme)"
      ],
      "execution_count": null,
      "outputs": []
    },
    {
      "cell_type": "markdown",
      "metadata": {
        "id": "i8LPYklWJ9og"
      },
      "source": [
        "#**AdaBoost classifier**"
      ]
    },
    {
      "cell_type": "code",
      "metadata": {
        "id": "-jHJMyIx1zK-"
      },
      "source": [
        "import time\n",
        "p=0\n",
        "tme=0\n",
        "tic=time.perf_counter()"
      ],
      "execution_count": null,
      "outputs": []
    },
    {
      "cell_type": "code",
      "metadata": {
        "id": "oBU0WxJkJ3Cb"
      },
      "source": [
        "from sklearn.ensemble import AdaBoostClassifier\n",
        "adc=AdaBoostClassifier(n_estimators=5,learning_rate=1)"
      ],
      "execution_count": null,
      "outputs": []
    },
    {
      "cell_type": "code",
      "metadata": {
        "id": "HjLQehngKGgj"
      },
      "source": [
        "#applying kfold cross validation on model\n",
        "results_adc = model_selection.cross_validate(adc.fit(X_train,y_train),\n",
        "                                          X=X_train,\n",
        "                                          y=y_train,\n",
        "                                          cv=10,\n",
        "                                          scoring=scoring)"
      ],
      "execution_count": null,
      "outputs": []
    },
    {
      "cell_type": "markdown",
      "metadata": {
        "id": "hEiDIwN12QQ1"
      },
      "source": [
        "##**Performance Evaluation:**"
      ]
    },
    {
      "cell_type": "code",
      "metadata": {
        "id": "h1ZKeX5nKKEX"
      },
      "source": [
        "acc=np.mean(results_adc['test_accuracy'])\n",
        "acc_err=np.std(results_adc['test_accuracy'])\n",
        "pre=np.mean(results_adc['test_precision'])\n",
        "pre_err=np.std(results_adc['test_precision'])\n",
        "rec=np.mean(results_adc['test_recall'])\n",
        "rec_err=np.std(results_adc['test_recall'])\n",
        "f1=np.mean(results_adc['test_f1'])\n",
        "f1_err=np.std(results_adc['test_f1'])"
      ],
      "execution_count": null,
      "outputs": []
    },
    {
      "cell_type": "code",
      "metadata": {
        "colab": {
          "base_uri": "https://localhost:8080/"
        },
        "id": "iOuYLURITFOh",
        "outputId": "2dc67264-ab51-4099-f157-14cfa96641e8"
      },
      "source": [
        "print('Cross Validation accuracy: %.3f +/- %.3f' % (acc,acc_err))\n",
        "print('Precision: %.3f +/- %.3f' % (pre,pre_err))\n",
        "print('Recall: %.3f +/- %.3f' % (rec,rec_err))\n",
        "print('F1 Score: %.3f +/- %.3f' % (f1,f1_err))"
      ],
      "execution_count": null,
      "outputs": [
        {
          "output_type": "stream",
          "text": [
            "Cross Validation accuracy: 0.917 +/- 0.009\n",
            "Precision: 0.924 +/- 0.009\n",
            "Recall: 0.928 +/- 0.011\n",
            "F1 Score: 0.926 +/- 0.008\n"
          ],
          "name": "stdout"
        }
      ]
    },
    {
      "cell_type": "markdown",
      "metadata": {
        "id": "gqiVy00r2hWc"
      },
      "source": [
        "### **Storing the results:**"
      ]
    },
    {
      "cell_type": "code",
      "metadata": {
        "id": "LeSv6M2L2k-6"
      },
      "source": [
        "#storing the results. The below mentioned order of parameter passing is important.\n",
        "#Caution: Execute only once to avoid duplications.\n",
        "p=time.perf_counter()\n",
        "tme=p-tic\n",
        "tic=p\n",
        "storeResults('AdaBoost Classifier', acc,acc_err,pre,pre_err,rec,rec_err,f1,f1_err,tme)"
      ],
      "execution_count": null,
      "outputs": []
    },
    {
      "cell_type": "markdown",
      "metadata": {
        "id": "XqpCi2y32sKa"
      },
      "source": [
        "#**XGBoost Classifier**"
      ]
    },
    {
      "cell_type": "code",
      "metadata": {
        "id": "CvpjGyMt2viX"
      },
      "source": [
        "import time\n",
        "p=0\n",
        "tme=0\n",
        "tic=time.perf_counter()"
      ],
      "execution_count": null,
      "outputs": []
    },
    {
      "cell_type": "code",
      "metadata": {
        "id": "PG9WL1tn3ZPb"
      },
      "source": [
        "#XGBoost Classifier\n",
        "from xgboost import XGBClassifier\n",
        "# instantiate the model \n",
        "xgb = XGBClassifier(learning_rate=0.4,max_depth=7)"
      ],
      "execution_count": null,
      "outputs": []
    },
    {
      "cell_type": "code",
      "metadata": {
        "id": "T4p5XRc13d3u"
      },
      "source": [
        "#applying kfold cross validation on model\n",
        "results_xgb = model_selection.cross_validate(xgb.fit(X_train,y_train),\n",
        "                                          X=X_train,\n",
        "                                          y=y_train,\n",
        "                                          cv=10,\n",
        "                                          scoring=scoring)"
      ],
      "execution_count": null,
      "outputs": []
    },
    {
      "cell_type": "markdown",
      "metadata": {
        "id": "2gwBCJaB3gXt"
      },
      "source": [
        "###**Performance Evaluation:**"
      ]
    },
    {
      "cell_type": "code",
      "metadata": {
        "id": "9HKnrRk83luT"
      },
      "source": [
        "acc=np.mean(results_xgb['test_accuracy'])\n",
        "acc_err=np.std(results_xgb['test_accuracy'])\n",
        "pre=np.mean(results_xgb['test_precision'])\n",
        "pre_err=np.std(results_xgb['test_precision'])\n",
        "rec=np.mean(results_xgb['test_recall'])\n",
        "rec_err=np.std(results_xgb['test_recall'])\n",
        "f1=np.mean(results_xgb['test_f1'])\n",
        "f1_err=np.std(results_xgb['test_f1'])"
      ],
      "execution_count": null,
      "outputs": []
    },
    {
      "cell_type": "code",
      "metadata": {
        "colab": {
          "base_uri": "https://localhost:8080/"
        },
        "id": "Vqm_XNc63owD",
        "outputId": "c1360747-aeb4-44c5-dc96-521caa185b5a"
      },
      "source": [
        "print('Cross Validation accuracy: %.3f +/- %.3f' % (acc,acc_err))\n",
        "print('Precision: %.3f +/- %.3f' % (pre,pre_err))\n",
        "print('Recall: %.3f +/- %.3f' % (rec,rec_err))\n",
        "print('F1 Score: %.3f +/- %.3f' % (f1,f1_err))"
      ],
      "execution_count": null,
      "outputs": [
        {
          "output_type": "stream",
          "text": [
            "Cross Validation accuracy: 0.970 +/- 0.004\n",
            "Precision: 0.968 +/- 0.005\n",
            "Recall: 0.979 +/- 0.005\n",
            "F1 Score: 0.974 +/- 0.004\n"
          ],
          "name": "stdout"
        }
      ]
    },
    {
      "cell_type": "markdown",
      "metadata": {
        "id": "E3UIz2H73vNZ"
      },
      "source": [
        "###**Storing the results:**"
      ]
    },
    {
      "cell_type": "code",
      "metadata": {
        "id": "fFtV9v1G3zpR"
      },
      "source": [
        "#storing the results. The below mentioned order of parameter passing is important.\n",
        "#Caution: Execute only once to avoid duplications.\n",
        "p=time.perf_counter()\n",
        "tme=p-tic\n",
        "tic=p\n",
        "storeResults('XGBoost classifier', acc,acc_err,pre,pre_err,rec,rec_err,f1,f1_err,tme)"
      ],
      "execution_count": null,
      "outputs": []
    },
    {
      "cell_type": "markdown",
      "metadata": {
        "id": "eE77pIzTKTgw"
      },
      "source": [
        "#**Support Vector Machine**"
      ]
    },
    {
      "cell_type": "code",
      "metadata": {
        "id": "ubgMAs__35AR"
      },
      "source": [
        "import time\n",
        "p=0\n",
        "tme=0\n",
        "tic=time.perf_counter()"
      ],
      "execution_count": null,
      "outputs": []
    },
    {
      "cell_type": "code",
      "metadata": {
        "id": "xWk-4FhRKPAk"
      },
      "source": [
        "# SVM model \n",
        "from sklearn.svm import SVC \n",
        "\n",
        "# instantiate the model \n",
        "svm = SVC(kernel='linear', C=1.0, random_state=12)"
      ],
      "execution_count": null,
      "outputs": []
    },
    {
      "cell_type": "code",
      "metadata": {
        "id": "QXPSws7iKZ-S"
      },
      "source": [
        "#applying kfold cross validation on model\n",
        "results_svm = model_selection.cross_validate(svm.fit(X_train,y_train),\n",
        "                                          X=X_train,\n",
        "                                          y=y_train,\n",
        "                                          cv=10,\n",
        "                                          scoring=scoring)"
      ],
      "execution_count": null,
      "outputs": []
    },
    {
      "cell_type": "markdown",
      "metadata": {
        "id": "1DcCmjVS4D6y"
      },
      "source": [
        "###**Performance Evaluation:**"
      ]
    },
    {
      "cell_type": "code",
      "metadata": {
        "id": "KattC8VyLI8D"
      },
      "source": [
        "acc=np.mean(results_svm['test_accuracy'])\n",
        "acc_err=np.std(results_svm['test_accuracy'])\n",
        "pre=np.mean(results_svm['test_precision'])\n",
        "pre_err=np.std(results_svm['test_precision'])\n",
        "rec=np.mean(results_svm['test_recall'])\n",
        "rec_err=np.std(results_svm['test_recall'])\n",
        "f1=np.mean(results_svm['test_f1'])\n",
        "f1_err=np.std(results_svm['test_f1'])"
      ],
      "execution_count": null,
      "outputs": []
    },
    {
      "cell_type": "code",
      "metadata": {
        "id": "3rXeXvEA21-B",
        "colab": {
          "base_uri": "https://localhost:8080/"
        },
        "outputId": "84d14512-bc8b-4a5a-cb11-71b46218405b"
      },
      "source": [
        "print('Cross Validation accuracy: %.3f +/- %.3f' % (acc,acc_err))\n",
        "print('Precision: %.3f +/- %.3f' % (pre,pre_err))\n",
        "print('Recall: %.3f +/- %.3f' % (rec,rec_err))\n",
        "print('F1 Score: %.3f +/- %.3f' % (f1,f1_err))"
      ],
      "execution_count": null,
      "outputs": [
        {
          "output_type": "stream",
          "text": [
            "Cross Validation accuracy: 0.923 +/- 0.006\n",
            "Precision: 0.918 +/- 0.007\n",
            "Recall: 0.947 +/- 0.008\n",
            "F1 Score: 0.932 +/- 0.005\n"
          ],
          "name": "stdout"
        }
      ]
    },
    {
      "cell_type": "markdown",
      "metadata": {
        "id": "VRHQ3nvc4Rkv"
      },
      "source": [
        "###**Storing the results:**"
      ]
    },
    {
      "cell_type": "code",
      "metadata": {
        "id": "VtY287AR4VX8"
      },
      "source": [
        "#storing the results. The below mentioned order of parameter passing is important.\n",
        "#Caution: Execute only once to avoid duplications.\n",
        "p=time.perf_counter()\n",
        "tme=p-tic\n",
        "tic=p\n",
        "storeResults('Support Vector Machine', acc,acc_err,pre,pre_err,rec,rec_err,f1,f1_err,tme)"
      ],
      "execution_count": null,
      "outputs": []
    },
    {
      "cell_type": "markdown",
      "metadata": {
        "id": "nEE_l70DPiz5"
      },
      "source": [
        "#**K-nearest neighbours**"
      ]
    },
    {
      "cell_type": "code",
      "metadata": {
        "id": "ZkE8GYpgLmDF"
      },
      "source": [
        "import time\n",
        "p=0\n",
        "tme=0\n",
        "tic=time.perf_counter()\n"
      ],
      "execution_count": null,
      "outputs": []
    },
    {
      "cell_type": "code",
      "metadata": {
        "id": "V7Zrym1TSRWP"
      },
      "source": [
        "# K-nearest neighbors model \n",
        "from sklearn.neighbors import KNeighborsClassifier\n",
        "\n",
        "# instantiate the model \n",
        "knn=KNeighborsClassifier()"
      ],
      "execution_count": null,
      "outputs": []
    },
    {
      "cell_type": "code",
      "metadata": {
        "id": "44kAh1pVSUlP"
      },
      "source": [
        "#applying kfold cross validation on model\n",
        "results_knn = model_selection.cross_validate(knn.fit(X_train,y_train),\n",
        "                                          X=X_train,\n",
        "                                          y=y_train,\n",
        "                                          cv=10,\n",
        "                                          scoring=scoring)"
      ],
      "execution_count": null,
      "outputs": []
    },
    {
      "cell_type": "markdown",
      "metadata": {
        "id": "50BamleP4plc"
      },
      "source": [
        "###**Performance Evaluation:**"
      ]
    },
    {
      "cell_type": "code",
      "metadata": {
        "id": "XUn8Ot7Z4myX"
      },
      "source": [
        "acc=np.mean(results_knn['test_accuracy'])\n",
        "acc_err=np.std(results_knn['test_accuracy'])\n",
        "pre=np.mean(results_knn['test_precision'])\n",
        "pre_err=np.std(results_knn['test_precision'])\n",
        "rec=np.mean(results_knn['test_recall'])\n",
        "rec_err=np.std(results_knn['test_recall'])\n",
        "f1=np.mean(results_knn['test_f1'])\n",
        "f1_err=np.std(results_knn['test_f1'])"
      ],
      "execution_count": null,
      "outputs": []
    },
    {
      "cell_type": "code",
      "metadata": {
        "colab": {
          "base_uri": "https://localhost:8080/"
        },
        "id": "9Z_1Mkha4x94",
        "outputId": "0d7fdcdc-6bd2-4d66-9807-8243a5c4b7d7"
      },
      "source": [
        "print('Cross Validation accuracy: %.3f +/- %.3f' % (acc,acc_err))\n",
        "print('Precision: %.3f +/- %.3f' % (pre,pre_err))\n",
        "print('Recall: %.3f +/- %.3f' % (rec,rec_err))\n",
        "print('F1 Score: %.3f +/- %.3f' % (f1,f1_err))"
      ],
      "execution_count": null,
      "outputs": [
        {
          "output_type": "stream",
          "text": [
            "Cross Validation accuracy: 0.944 +/- 0.006\n",
            "Precision: 0.947 +/- 0.008\n",
            "Recall: 0.953 +/- 0.006\n",
            "F1 Score: 0.950 +/- 0.005\n"
          ],
          "name": "stdout"
        }
      ]
    },
    {
      "cell_type": "markdown",
      "metadata": {
        "id": "uxdup0Jb45XG"
      },
      "source": [
        "###**Storing the results:**"
      ]
    },
    {
      "cell_type": "code",
      "metadata": {
        "id": "xedQqmYN48cP"
      },
      "source": [
        "#storing the results. The below mentioned order of parameter passing is important.\n",
        "#Caution: Execute only once to avoid duplications.\n",
        "p=time.perf_counter()\n",
        "tme=p-tic\n",
        "tic=p\n",
        "storeResults('K-nearest neighbors', acc,acc_err,pre,pre_err,rec,rec_err,f1,f1_err,tme)"
      ],
      "execution_count": null,
      "outputs": []
    },
    {
      "cell_type": "markdown",
      "metadata": {
        "id": "mU2Y7YVDS665"
      },
      "source": [
        "#**Gaussian Naive-Bayes**"
      ]
    },
    {
      "cell_type": "code",
      "metadata": {
        "id": "SbmZQrVy5D3P"
      },
      "source": [
        "import time\n",
        "p=0\n",
        "tme=0\n",
        "tic=time.perf_counter()"
      ],
      "execution_count": null,
      "outputs": []
    },
    {
      "cell_type": "code",
      "metadata": {
        "id": "1sflBFT3TrGb"
      },
      "source": [
        "# Gaussian Naive-Bayes model \n",
        "from sklearn.naive_bayes import GaussianNB\n",
        "\n",
        "# instantiate the model \n",
        "gnb=GaussianNB()"
      ],
      "execution_count": null,
      "outputs": []
    },
    {
      "cell_type": "code",
      "metadata": {
        "id": "cUTFQzypVYSZ"
      },
      "source": [
        "#applying kfold cross validation on model\n",
        "results_gnb = model_selection.cross_validate(gnb.fit(X_train,y_train),\n",
        "                                          X=X_train,\n",
        "                                          y=y_train,\n",
        "                                          cv=10,\n",
        "                                          scoring=scoring)"
      ],
      "execution_count": null,
      "outputs": []
    },
    {
      "cell_type": "markdown",
      "metadata": {
        "id": "2lWfK7vv5NSu"
      },
      "source": [
        "###**Performance Evaluation:**"
      ]
    },
    {
      "cell_type": "code",
      "metadata": {
        "id": "YgU9o6PE5S6Y"
      },
      "source": [
        "acc=np.mean(results_gnb['test_accuracy'])\n",
        "acc_err=np.std(results_gnb['test_accuracy'])\n",
        "pre=np.mean(results_gnb['test_precision'])\n",
        "pre_err=np.std(results_gnb['test_precision'])\n",
        "rec=np.mean(results_gnb['test_recall'])\n",
        "rec_err=np.std(results_gnb['test_recall'])\n",
        "f1=np.mean(results_gnb['test_f1'])\n",
        "f1_err=np.std(results_gnb['test_f1'])"
      ],
      "execution_count": null,
      "outputs": []
    },
    {
      "cell_type": "code",
      "metadata": {
        "colab": {
          "base_uri": "https://localhost:8080/"
        },
        "id": "IFJLpAle5Xw8",
        "outputId": "c215e01c-6f86-4d66-9f3b-7f037d51990b"
      },
      "source": [
        "print('Cross Validation accuracy: %.3f +/- %.3f' % (acc,acc_err))\n",
        "print('Precision: %.3f +/- %.3f' % (pre,pre_err))\n",
        "print('Recall: %.3f +/- %.3f' % (rec,rec_err))\n",
        "print('F1 Score: %.3f +/- %.3f' % (f1,f1_err))"
      ],
      "execution_count": null,
      "outputs": [
        {
          "output_type": "stream",
          "text": [
            "Cross Validation accuracy: 0.594 +/- 0.010\n",
            "Precision: 1.000 +/- 0.000\n",
            "Recall: 0.271 +/- 0.018\n",
            "F1 Score: 0.426 +/- 0.022\n"
          ],
          "name": "stdout"
        }
      ]
    },
    {
      "cell_type": "markdown",
      "metadata": {
        "id": "mQs40PEU5cza"
      },
      "source": [
        "###**Storing the results:**"
      ]
    },
    {
      "cell_type": "code",
      "metadata": {
        "id": "5CvMe-xs5aU0"
      },
      "source": [
        "#storing the results. The below mentioned order of parameter passing is important.\n",
        "#Caution: Execute only once to avoid duplications.\n",
        "p=time.perf_counter()\n",
        "tme=p-tic\n",
        "tic=p\n",
        "storeResults('Gaussian Naive-Bayes', acc,acc_err,pre,pre_err,rec,rec_err,f1,f1_err,tme)"
      ],
      "execution_count": null,
      "outputs": []
    },
    {
      "cell_type": "markdown",
      "metadata": {
        "id": "anuQtKp15lwh"
      },
      "source": [
        "#**Multilayer Perceptrons (MLPs): Deep Learning**"
      ]
    },
    {
      "cell_type": "code",
      "metadata": {
        "id": "J8k9znZw5sQ2"
      },
      "source": [
        "import time\n",
        "p=0\n",
        "tme=0\n",
        "tic=time.perf_counter()"
      ],
      "execution_count": null,
      "outputs": []
    },
    {
      "cell_type": "code",
      "metadata": {
        "id": "HOBG-_eq5vJK"
      },
      "source": [
        "# Multilayer Perceptrons model\n",
        "from sklearn.neural_network import MLPClassifier\n",
        "# instantiate the model\n",
        "mlp = MLPClassifier(alpha=0.001, hidden_layer_sizes=([100,100,100]))"
      ],
      "execution_count": null,
      "outputs": []
    },
    {
      "cell_type": "code",
      "metadata": {
        "id": "R-iMQB7V5yhT"
      },
      "source": [
        "#applying kfold cross validation on model\n",
        "results_mlp = model_selection.cross_validate(mlp.fit(X_train,y_train),\n",
        "                                          X=X_train,\n",
        "                                          y=y_train,\n",
        "                                          cv=10,\n",
        "                                          scoring=scoring)"
      ],
      "execution_count": null,
      "outputs": []
    },
    {
      "cell_type": "markdown",
      "metadata": {
        "id": "Ndo-eZBX52uG"
      },
      "source": [
        "###**Performance Evaluation:**"
      ]
    },
    {
      "cell_type": "code",
      "metadata": {
        "id": "3nphdYYV57EA"
      },
      "source": [
        "acc=np.mean(results_mlp['test_accuracy'])\n",
        "acc_err=np.std(results_mlp['test_accuracy'])\n",
        "pre=np.mean(results_mlp['test_precision'])\n",
        "pre_err=np.std(results_mlp['test_precision'])\n",
        "rec=np.mean(results_mlp['test_recall'])\n",
        "rec_err=np.std(results_mlp['test_recall'])\n",
        "f1=np.mean(results_mlp['test_f1'])\n",
        "f1_err=np.std(results_mlp['test_f1'])"
      ],
      "execution_count": null,
      "outputs": []
    },
    {
      "cell_type": "code",
      "metadata": {
        "colab": {
          "base_uri": "https://localhost:8080/"
        },
        "id": "NX4s8tUq5-CQ",
        "outputId": "8df1f3b7-7b64-451e-a515-be981d4193bd"
      },
      "source": [
        "print('Cross Validation accuracy: %.3f +/- %.3f' % (acc,acc_err))\n",
        "print('Precision: %.3f +/- %.3f' % (pre,pre_err))\n",
        "print('Recall: %.3f +/- %.3f' % (rec,rec_err))\n",
        "print('F1 Score: %.3f +/- %.3f' % (f1,f1_err))"
      ],
      "execution_count": null,
      "outputs": [
        {
          "output_type": "stream",
          "text": [
            "Cross Validation accuracy: 0.965 +/- 0.006\n",
            "Precision: 0.965 +/- 0.011\n",
            "Recall: 0.971 +/- 0.007\n",
            "F1 Score: 0.968 +/- 0.005\n"
          ],
          "name": "stdout"
        }
      ]
    },
    {
      "cell_type": "markdown",
      "metadata": {
        "id": "VJzT01Pt6BjQ"
      },
      "source": [
        "###**Storing the results:**"
      ]
    },
    {
      "cell_type": "code",
      "metadata": {
        "id": "DR1H03Pp8Rg6"
      },
      "source": [
        "#storing the results. The below mentioned order of parameter passing is important.\n",
        "#Caution: Execute only once to avoid duplications.\n",
        "p=time.perf_counter()\n",
        "tme=p-tic\n",
        "tic=p\n",
        "storeResults('Multilayer Perceptrons Classifier', acc,acc_err,pre,pre_err,rec,rec_err,f1,f1_err,tme)"
      ],
      "execution_count": null,
      "outputs": []
    },
    {
      "cell_type": "markdown",
      "metadata": {
        "id": "8hqVwBbYD4ty"
      },
      "source": [
        "# **Comparision of Models**"
      ]
    },
    {
      "cell_type": "code",
      "metadata": {
        "colab": {
          "base_uri": "https://localhost:8080/"
        },
        "id": "8M2ckE7ODzb3",
        "outputId": "09a98d8b-dbc9-44cc-d93c-fb36f9e639e4"
      },
      "source": [
        "#creating dataframe\n",
        "results = pd.DataFrame({ 'ML Model': ML_Model,    \n",
        "    'Acc(mean)': acc_cross,'error(+/-':acc_error,'precision(mean)':pre_cross,'error(+/-)':pre_error,\n",
        "    'recall(mean)':rec_cross,'error(+/-)':rec_error,'f1(mean)':f1_cross,'error(+/-)':f1_error,\n",
        "    'Execution Time':ex_time})\n",
        "results"
      ],
      "execution_count": null,
      "outputs": [
        {
          "output_type": "execute_result",
          "data": {
            "text/html": [
              "<div>\n",
              "<style scoped>\n",
              "    .dataframe tbody tr th:only-of-type {\n",
              "        vertical-align: middle;\n",
              "    }\n",
              "\n",
              "    .dataframe tbody tr th {\n",
              "        vertical-align: top;\n",
              "    }\n",
              "\n",
              "    .dataframe thead th {\n",
              "        text-align: right;\n",
              "    }\n",
              "</style>\n",
              "<table border=\"1\" class=\"dataframe\">\n",
              "  <thead>\n",
              "    <tr style=\"text-align: right;\">\n",
              "      <th></th>\n",
              "      <th>ML Model</th>\n",
              "      <th>Acc(mean)</th>\n",
              "      <th>error(+/-</th>\n",
              "      <th>precision(mean)</th>\n",
              "      <th>error(+/-)</th>\n",
              "      <th>recall(mean)</th>\n",
              "      <th>f1(mean)</th>\n",
              "      <th>Execution Time</th>\n",
              "    </tr>\n",
              "  </thead>\n",
              "  <tbody>\n",
              "    <tr>\n",
              "      <th>0</th>\n",
              "      <td>Decision Tree</td>\n",
              "      <td>0.922</td>\n",
              "      <td>0.008</td>\n",
              "      <td>0.903</td>\n",
              "      <td>0.007</td>\n",
              "      <td>0.964</td>\n",
              "      <td>0.933</td>\n",
              "      <td>0.262</td>\n",
              "    </tr>\n",
              "    <tr>\n",
              "      <th>1</th>\n",
              "      <td>Random Forest</td>\n",
              "      <td>0.929</td>\n",
              "      <td>0.007</td>\n",
              "      <td>0.919</td>\n",
              "      <td>0.006</td>\n",
              "      <td>0.956</td>\n",
              "      <td>0.937</td>\n",
              "      <td>4.580</td>\n",
              "    </tr>\n",
              "    <tr>\n",
              "      <th>2</th>\n",
              "      <td>AdaBoost Classifier</td>\n",
              "      <td>0.917</td>\n",
              "      <td>0.009</td>\n",
              "      <td>0.924</td>\n",
              "      <td>0.008</td>\n",
              "      <td>0.928</td>\n",
              "      <td>0.926</td>\n",
              "      <td>0.527</td>\n",
              "    </tr>\n",
              "    <tr>\n",
              "      <th>3</th>\n",
              "      <td>XGBoost classifier</td>\n",
              "      <td>0.970</td>\n",
              "      <td>0.004</td>\n",
              "      <td>0.968</td>\n",
              "      <td>0.004</td>\n",
              "      <td>0.979</td>\n",
              "      <td>0.974</td>\n",
              "      <td>17.059</td>\n",
              "    </tr>\n",
              "    <tr>\n",
              "      <th>4</th>\n",
              "      <td>Support Vector Machine</td>\n",
              "      <td>0.923</td>\n",
              "      <td>0.006</td>\n",
              "      <td>0.918</td>\n",
              "      <td>0.005</td>\n",
              "      <td>0.947</td>\n",
              "      <td>0.932</td>\n",
              "      <td>19.670</td>\n",
              "    </tr>\n",
              "    <tr>\n",
              "      <th>5</th>\n",
              "      <td>K-nearest neighbors</td>\n",
              "      <td>0.944</td>\n",
              "      <td>0.006</td>\n",
              "      <td>0.947</td>\n",
              "      <td>0.005</td>\n",
              "      <td>0.953</td>\n",
              "      <td>0.950</td>\n",
              "      <td>4.643</td>\n",
              "    </tr>\n",
              "    <tr>\n",
              "      <th>6</th>\n",
              "      <td>Gaussian Naive-Bayes</td>\n",
              "      <td>0.594</td>\n",
              "      <td>0.010</td>\n",
              "      <td>1.000</td>\n",
              "      <td>0.022</td>\n",
              "      <td>0.271</td>\n",
              "      <td>0.426</td>\n",
              "      <td>0.184</td>\n",
              "    </tr>\n",
              "    <tr>\n",
              "      <th>7</th>\n",
              "      <td>Multilayer Perceptrons Classifier</td>\n",
              "      <td>0.965</td>\n",
              "      <td>0.006</td>\n",
              "      <td>0.965</td>\n",
              "      <td>0.005</td>\n",
              "      <td>0.971</td>\n",
              "      <td>0.968</td>\n",
              "      <td>176.886</td>\n",
              "    </tr>\n",
              "  </tbody>\n",
              "</table>\n",
              "</div>"
            ],
            "text/plain": [
              "                            ML Model  Acc(mean)  ...  f1(mean)  Execution Time\n",
              "0                      Decision Tree      0.922  ...     0.933           0.262\n",
              "1                      Random Forest      0.929  ...     0.937           4.580\n",
              "2                AdaBoost Classifier      0.917  ...     0.926           0.527\n",
              "3                 XGBoost classifier      0.970  ...     0.974          17.059\n",
              "4             Support Vector Machine      0.923  ...     0.932          19.670\n",
              "5                K-nearest neighbors      0.944  ...     0.950           4.643\n",
              "6               Gaussian Naive-Bayes      0.594  ...     0.426           0.184\n",
              "7  Multilayer Perceptrons Classifier      0.965  ...     0.968         176.886\n",
              "\n",
              "[8 rows x 8 columns]"
            ]
          },
          "metadata": {
            "tags": []
          },
          "execution_count": 65
        }
      ]
    },
    {
      "cell_type": "code",
      "metadata": {
        "id": "QLxIvTQtD-qW",
        "colab": {
          "base_uri": "https://localhost:8080/",
          "height": 295
        },
        "outputId": "ad9b4145-d011-4d3d-bfc0-01d99d9a5cbe"
      },
      "source": [
        "#Sorting the datafram on accuracy\n",
        "results.sort_values(by=['Acc(mean)'], ascending=False)"
      ],
      "execution_count": null,
      "outputs": [
        {
          "output_type": "execute_result",
          "data": {
            "text/html": [
              "<div>\n",
              "<style scoped>\n",
              "    .dataframe tbody tr th:only-of-type {\n",
              "        vertical-align: middle;\n",
              "    }\n",
              "\n",
              "    .dataframe tbody tr th {\n",
              "        vertical-align: top;\n",
              "    }\n",
              "\n",
              "    .dataframe thead th {\n",
              "        text-align: right;\n",
              "    }\n",
              "</style>\n",
              "<table border=\"1\" class=\"dataframe\">\n",
              "  <thead>\n",
              "    <tr style=\"text-align: right;\">\n",
              "      <th></th>\n",
              "      <th>ML Model</th>\n",
              "      <th>Acc(mean)</th>\n",
              "      <th>error(+/-</th>\n",
              "      <th>precision(mean)</th>\n",
              "      <th>error(+/-)</th>\n",
              "      <th>recall(mean)</th>\n",
              "      <th>f1(mean)</th>\n",
              "      <th>Execution Time</th>\n",
              "    </tr>\n",
              "  </thead>\n",
              "  <tbody>\n",
              "    <tr>\n",
              "      <th>3</th>\n",
              "      <td>XGBoost classifier</td>\n",
              "      <td>0.970</td>\n",
              "      <td>0.004</td>\n",
              "      <td>0.968</td>\n",
              "      <td>0.004</td>\n",
              "      <td>0.979</td>\n",
              "      <td>0.974</td>\n",
              "      <td>17.059</td>\n",
              "    </tr>\n",
              "    <tr>\n",
              "      <th>7</th>\n",
              "      <td>Multilayer Perceptrons Classifier</td>\n",
              "      <td>0.965</td>\n",
              "      <td>0.006</td>\n",
              "      <td>0.965</td>\n",
              "      <td>0.005</td>\n",
              "      <td>0.971</td>\n",
              "      <td>0.968</td>\n",
              "      <td>176.886</td>\n",
              "    </tr>\n",
              "    <tr>\n",
              "      <th>5</th>\n",
              "      <td>K-nearest neighbors</td>\n",
              "      <td>0.944</td>\n",
              "      <td>0.006</td>\n",
              "      <td>0.947</td>\n",
              "      <td>0.005</td>\n",
              "      <td>0.953</td>\n",
              "      <td>0.950</td>\n",
              "      <td>4.643</td>\n",
              "    </tr>\n",
              "    <tr>\n",
              "      <th>1</th>\n",
              "      <td>Random Forest</td>\n",
              "      <td>0.929</td>\n",
              "      <td>0.007</td>\n",
              "      <td>0.919</td>\n",
              "      <td>0.006</td>\n",
              "      <td>0.956</td>\n",
              "      <td>0.937</td>\n",
              "      <td>4.580</td>\n",
              "    </tr>\n",
              "    <tr>\n",
              "      <th>4</th>\n",
              "      <td>Support Vector Machine</td>\n",
              "      <td>0.923</td>\n",
              "      <td>0.006</td>\n",
              "      <td>0.918</td>\n",
              "      <td>0.005</td>\n",
              "      <td>0.947</td>\n",
              "      <td>0.932</td>\n",
              "      <td>19.670</td>\n",
              "    </tr>\n",
              "    <tr>\n",
              "      <th>0</th>\n",
              "      <td>Decision Tree</td>\n",
              "      <td>0.922</td>\n",
              "      <td>0.008</td>\n",
              "      <td>0.903</td>\n",
              "      <td>0.007</td>\n",
              "      <td>0.964</td>\n",
              "      <td>0.933</td>\n",
              "      <td>0.262</td>\n",
              "    </tr>\n",
              "    <tr>\n",
              "      <th>2</th>\n",
              "      <td>AdaBoost Classifier</td>\n",
              "      <td>0.917</td>\n",
              "      <td>0.009</td>\n",
              "      <td>0.924</td>\n",
              "      <td>0.008</td>\n",
              "      <td>0.928</td>\n",
              "      <td>0.926</td>\n",
              "      <td>0.527</td>\n",
              "    </tr>\n",
              "    <tr>\n",
              "      <th>6</th>\n",
              "      <td>Gaussian Naive-Bayes</td>\n",
              "      <td>0.594</td>\n",
              "      <td>0.010</td>\n",
              "      <td>1.000</td>\n",
              "      <td>0.022</td>\n",
              "      <td>0.271</td>\n",
              "      <td>0.426</td>\n",
              "      <td>0.184</td>\n",
              "    </tr>\n",
              "  </tbody>\n",
              "</table>\n",
              "</div>"
            ],
            "text/plain": [
              "                            ML Model  Acc(mean)  ...  f1(mean)  Execution Time\n",
              "3                 XGBoost classifier      0.970  ...     0.974          17.059\n",
              "7  Multilayer Perceptrons Classifier      0.965  ...     0.968         176.886\n",
              "5                K-nearest neighbors      0.944  ...     0.950           4.643\n",
              "1                      Random Forest      0.929  ...     0.937           4.580\n",
              "4             Support Vector Machine      0.923  ...     0.932          19.670\n",
              "0                      Decision Tree      0.922  ...     0.933           0.262\n",
              "2                AdaBoost Classifier      0.917  ...     0.926           0.527\n",
              "6               Gaussian Naive-Bayes      0.594  ...     0.426           0.184\n",
              "\n",
              "[8 rows x 8 columns]"
            ]
          },
          "metadata": {
            "tags": []
          },
          "execution_count": 66
        }
      ]
    },
    {
      "cell_type": "code",
      "metadata": {
        "colab": {
          "base_uri": "https://localhost:8080/",
          "height": 295
        },
        "id": "G1mekQy-8aeq",
        "outputId": "60a94261-910d-4d33-9e95-bb9258d24e02"
      },
      "source": [
        "#Sorting the datafram on accuracy\n",
        "results.sort_values(by=['Execution Time'], ascending=False)"
      ],
      "execution_count": null,
      "outputs": [
        {
          "output_type": "execute_result",
          "data": {
            "text/html": [
              "<div>\n",
              "<style scoped>\n",
              "    .dataframe tbody tr th:only-of-type {\n",
              "        vertical-align: middle;\n",
              "    }\n",
              "\n",
              "    .dataframe tbody tr th {\n",
              "        vertical-align: top;\n",
              "    }\n",
              "\n",
              "    .dataframe thead th {\n",
              "        text-align: right;\n",
              "    }\n",
              "</style>\n",
              "<table border=\"1\" class=\"dataframe\">\n",
              "  <thead>\n",
              "    <tr style=\"text-align: right;\">\n",
              "      <th></th>\n",
              "      <th>ML Model</th>\n",
              "      <th>Acc(mean)</th>\n",
              "      <th>error(+/-</th>\n",
              "      <th>precision(mean)</th>\n",
              "      <th>error(+/-)</th>\n",
              "      <th>recall(mean)</th>\n",
              "      <th>f1(mean)</th>\n",
              "      <th>Execution Time</th>\n",
              "    </tr>\n",
              "  </thead>\n",
              "  <tbody>\n",
              "    <tr>\n",
              "      <th>7</th>\n",
              "      <td>Multilayer Perceptrons Classifier</td>\n",
              "      <td>0.965</td>\n",
              "      <td>0.006</td>\n",
              "      <td>0.965</td>\n",
              "      <td>0.005</td>\n",
              "      <td>0.971</td>\n",
              "      <td>0.968</td>\n",
              "      <td>176.886</td>\n",
              "    </tr>\n",
              "    <tr>\n",
              "      <th>4</th>\n",
              "      <td>Support Vector Machine</td>\n",
              "      <td>0.923</td>\n",
              "      <td>0.006</td>\n",
              "      <td>0.918</td>\n",
              "      <td>0.005</td>\n",
              "      <td>0.947</td>\n",
              "      <td>0.932</td>\n",
              "      <td>19.670</td>\n",
              "    </tr>\n",
              "    <tr>\n",
              "      <th>3</th>\n",
              "      <td>XGBoost classifier</td>\n",
              "      <td>0.970</td>\n",
              "      <td>0.004</td>\n",
              "      <td>0.968</td>\n",
              "      <td>0.004</td>\n",
              "      <td>0.979</td>\n",
              "      <td>0.974</td>\n",
              "      <td>17.059</td>\n",
              "    </tr>\n",
              "    <tr>\n",
              "      <th>5</th>\n",
              "      <td>K-nearest neighbors</td>\n",
              "      <td>0.944</td>\n",
              "      <td>0.006</td>\n",
              "      <td>0.947</td>\n",
              "      <td>0.005</td>\n",
              "      <td>0.953</td>\n",
              "      <td>0.950</td>\n",
              "      <td>4.643</td>\n",
              "    </tr>\n",
              "    <tr>\n",
              "      <th>1</th>\n",
              "      <td>Random Forest</td>\n",
              "      <td>0.929</td>\n",
              "      <td>0.007</td>\n",
              "      <td>0.919</td>\n",
              "      <td>0.006</td>\n",
              "      <td>0.956</td>\n",
              "      <td>0.937</td>\n",
              "      <td>4.580</td>\n",
              "    </tr>\n",
              "    <tr>\n",
              "      <th>2</th>\n",
              "      <td>AdaBoost Classifier</td>\n",
              "      <td>0.917</td>\n",
              "      <td>0.009</td>\n",
              "      <td>0.924</td>\n",
              "      <td>0.008</td>\n",
              "      <td>0.928</td>\n",
              "      <td>0.926</td>\n",
              "      <td>0.527</td>\n",
              "    </tr>\n",
              "    <tr>\n",
              "      <th>0</th>\n",
              "      <td>Decision Tree</td>\n",
              "      <td>0.922</td>\n",
              "      <td>0.008</td>\n",
              "      <td>0.903</td>\n",
              "      <td>0.007</td>\n",
              "      <td>0.964</td>\n",
              "      <td>0.933</td>\n",
              "      <td>0.262</td>\n",
              "    </tr>\n",
              "    <tr>\n",
              "      <th>6</th>\n",
              "      <td>Gaussian Naive-Bayes</td>\n",
              "      <td>0.594</td>\n",
              "      <td>0.010</td>\n",
              "      <td>1.000</td>\n",
              "      <td>0.022</td>\n",
              "      <td>0.271</td>\n",
              "      <td>0.426</td>\n",
              "      <td>0.184</td>\n",
              "    </tr>\n",
              "  </tbody>\n",
              "</table>\n",
              "</div>"
            ],
            "text/plain": [
              "                            ML Model  Acc(mean)  ...  f1(mean)  Execution Time\n",
              "7  Multilayer Perceptrons Classifier      0.965  ...     0.968         176.886\n",
              "4             Support Vector Machine      0.923  ...     0.932          19.670\n",
              "3                 XGBoost classifier      0.970  ...     0.974          17.059\n",
              "5                K-nearest neighbors      0.944  ...     0.950           4.643\n",
              "1                      Random Forest      0.929  ...     0.937           4.580\n",
              "2                AdaBoost Classifier      0.917  ...     0.926           0.527\n",
              "0                      Decision Tree      0.922  ...     0.933           0.262\n",
              "6               Gaussian Naive-Bayes      0.594  ...     0.426           0.184\n",
              "\n",
              "[8 rows x 8 columns]"
            ]
          },
          "metadata": {
            "tags": []
          },
          "execution_count": 67
        }
      ]
    },
    {
      "cell_type": "code",
      "metadata": {
        "id": "VUikv8EQ8dqL"
      },
      "source": [
        ""
      ],
      "execution_count": null,
      "outputs": []
    }
  ]
}