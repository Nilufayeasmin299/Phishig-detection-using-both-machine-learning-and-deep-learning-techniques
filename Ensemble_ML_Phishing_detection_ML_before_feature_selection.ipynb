{
  "nbformat": 4,
  "nbformat_minor": 0,
  "metadata": {
    "colab": {
      "name": "Ensemble_ML_Phishing_detection_ML_before_feature_selection.ipynb",
      "provenance": [],
      "collapsed_sections": [],
      "include_colab_link": true
    },
    "kernelspec": {
      "name": "python3",
      "display_name": "Python 3"
    },
    "language_info": {
      "name": "python"
    }
  },
  "cells": [
    {
      "cell_type": "markdown",
      "metadata": {
        "id": "view-in-github",
        "colab_type": "text"
      },
      "source": [
        "<a href=\"https://colab.research.google.com/github/Nilufayeasmin299/Phishig-detection-using-both-machine-learning-and-deep-learning-techniques/blob/main/Ensemble_ML_Phishing_detection_ML_before_feature_selection.ipynb\" target=\"_parent\"><img src=\"https://colab.research.google.com/assets/colab-badge.svg\" alt=\"Open In Colab\"/></a>"
      ]
    },
    {
      "cell_type": "code",
      "metadata": {
        "colab": {
          "base_uri": "https://localhost:8080/",
          "height": 304
        },
        "id": "0dB3kyCn2kh2",
        "outputId": "6bf45b6e-577c-4c7a-c2b1-162c5fade150"
      },
      "source": [
        "from google.colab import drive\n",
        "drive._mount('/content/drive')"
      ],
      "execution_count": null,
      "outputs": [
        {
          "output_type": "error",
          "ename": "ValueError",
          "evalue": "ignored",
          "traceback": [
            "\u001b[0;31m---------------------------------------------------------------------------\u001b[0m",
            "\u001b[0;31mValueError\u001b[0m                                Traceback (most recent call last)",
            "\u001b[0;32m<ipython-input-1-5a06ee438a1f>\u001b[0m in \u001b[0;36m<module>\u001b[0;34m()\u001b[0m\n\u001b[1;32m      1\u001b[0m \u001b[0;32mfrom\u001b[0m \u001b[0mgoogle\u001b[0m\u001b[0;34m.\u001b[0m\u001b[0mcolab\u001b[0m \u001b[0;32mimport\u001b[0m \u001b[0mdrive\u001b[0m\u001b[0;34m\u001b[0m\u001b[0;34m\u001b[0m\u001b[0m\n\u001b[0;32m----> 2\u001b[0;31m \u001b[0mdrive\u001b[0m\u001b[0;34m.\u001b[0m\u001b[0m_mount\u001b[0m\u001b[0;34m(\u001b[0m\u001b[0;34m'/content/drive'\u001b[0m\u001b[0;34m)\u001b[0m\u001b[0;34m\u001b[0m\u001b[0;34m\u001b[0m\u001b[0m\n\u001b[0m",
            "\u001b[0;32m/usr/local/lib/python3.7/dist-packages/google/colab/drive.py\u001b[0m in \u001b[0;36m_mount\u001b[0;34m(mountpoint, force_remount, timeout_ms, use_metadata_server, ephemeral)\u001b[0m\n\u001b[1;32m    294\u001b[0m       \u001b[0mwrote_to_fifo\u001b[0m \u001b[0;34m=\u001b[0m \u001b[0;32mTrue\u001b[0m\u001b[0;34m\u001b[0m\u001b[0;34m\u001b[0m\u001b[0m\n\u001b[1;32m    295\u001b[0m     \u001b[0;32melif\u001b[0m \u001b[0mcase\u001b[0m \u001b[0;34m==\u001b[0m \u001b[0;36m5\u001b[0m \u001b[0;32mand\u001b[0m \u001b[0;32mnot\u001b[0m \u001b[0muse_metadata_server\u001b[0m\u001b[0;34m:\u001b[0m\u001b[0;34m\u001b[0m\u001b[0;34m\u001b[0m\u001b[0m\n\u001b[0;32m--> 296\u001b[0;31m       \u001b[0;32mraise\u001b[0m \u001b[0mValueError\u001b[0m\u001b[0;34m(\u001b[0m\u001b[0;34m'mount failed: invalid oauth code'\u001b[0m\u001b[0;34m)\u001b[0m\u001b[0;34m\u001b[0m\u001b[0;34m\u001b[0m\u001b[0m\n\u001b[0m\u001b[1;32m    297\u001b[0m     \u001b[0;32melif\u001b[0m \u001b[0mcase\u001b[0m \u001b[0;34m==\u001b[0m \u001b[0;36m6\u001b[0m\u001b[0;34m:\u001b[0m\u001b[0;34m\u001b[0m\u001b[0;34m\u001b[0m\u001b[0m\n\u001b[1;32m    298\u001b[0m       \u001b[0;31m# Terminate the DriveFS binary before killing bash.\u001b[0m\u001b[0;34m\u001b[0m\u001b[0;34m\u001b[0m\u001b[0;34m\u001b[0m\u001b[0m\n",
            "\u001b[0;31mValueError\u001b[0m: mount failed: invalid oauth code"
          ]
        }
      ]
    },
    {
      "cell_type": "markdown",
      "metadata": {
        "id": "lz8DwHKY_ITm"
      },
      "source": [
        " # **Loading Data**"
      ]
    },
    {
      "cell_type": "code",
      "metadata": {
        "id": "Ol1091y5-Fin"
      },
      "source": [
        "#importing basic packages\n",
        "import pandas as pd\n",
        "import numpy as np\n",
        "import seaborn as sns\n",
        "import matplotlib.pyplot as plt"
      ],
      "execution_count": null,
      "outputs": []
    },
    {
      "cell_type": "code",
      "metadata": {
        "id": "iuczHrKV-YiG"
      },
      "source": [
        "#Loading the data\n",
        "data0 = pd.read_csv('/content/drive/MyDrive/Second paper/Dataset/URL-Dataset.csv')\n",
        "data0.head()"
      ],
      "execution_count": null,
      "outputs": []
    },
    {
      "cell_type": "markdown",
      "metadata": {
        "id": "YlYxh7Mm_Xqc"
      },
      "source": [
        "# **Familiarizing with Data**"
      ]
    },
    {
      "cell_type": "code",
      "metadata": {
        "id": "-QO0bNoh-j4S"
      },
      "source": [
        "#Checking the shape of the dataset\n",
        "data0.shape"
      ],
      "execution_count": null,
      "outputs": []
    },
    {
      "cell_type": "code",
      "metadata": {
        "id": "XM22j3po-nEv"
      },
      "source": [
        "#Listing the features of the dataset\n",
        "data0.columns"
      ],
      "execution_count": null,
      "outputs": []
    },
    {
      "cell_type": "code",
      "metadata": {
        "id": "eHo414jm-pR7"
      },
      "source": [
        "#Information about the dataset\n",
        "data0.info()"
      ],
      "execution_count": null,
      "outputs": []
    },
    {
      "cell_type": "code",
      "metadata": {
        "id": "OgxwS7iK-sKL"
      },
      "source": [
        "#Finding out the distribution of the class labels\n",
        "from collections import Counter\n",
        "\n",
        "classes = Counter(data0['Result'].values)\n",
        "classes.most_common()"
      ],
      "execution_count": null,
      "outputs": []
    },
    {
      "cell_type": "code",
      "metadata": {
        "id": "w9JQRZoH-vP9"
      },
      "source": [
        "class_dist = pd.DataFrame(classes.most_common(), columns=['Class', 'Num_Observations'])\n",
        "class_dist"
      ],
      "execution_count": null,
      "outputs": []
    },
    {
      "cell_type": "markdown",
      "metadata": {
        "id": "h8aSNqxe_gar"
      },
      "source": [
        "# **Visualizing the data**"
      ]
    },
    {
      "cell_type": "code",
      "metadata": {
        "id": "4KlyNCRF_BNR"
      },
      "source": [
        "#Plotting the data distribution\n",
        "data0.hist(bins = 50,figsize = (15,15))\n",
        "plt.show()"
      ],
      "execution_count": null,
      "outputs": []
    },
    {
      "cell_type": "code",
      "metadata": {
        "id": "q5Bcmr2V_lo_"
      },
      "source": [
        "#Correlation heatmap\n",
        "\n",
        "plt.figure(figsize=(15,13))\n",
        "sns.heatmap(data0.corr())\n",
        "plt.show()"
      ],
      "execution_count": null,
      "outputs": []
    },
    {
      "cell_type": "markdown",
      "metadata": {
        "id": "54CwDzUN_sNX"
      },
      "source": [
        "# **Data Preprocessing & EDA**"
      ]
    },
    {
      "cell_type": "code",
      "metadata": {
        "id": "Q0I1XMCv_pQj"
      },
      "source": [
        "data0.describe()"
      ],
      "execution_count": null,
      "outputs": []
    },
    {
      "cell_type": "code",
      "metadata": {
        "id": "RbakIBgE_zZB"
      },
      "source": [
        "#Dropping the Domain column\n",
        "#data = data0.drop(['Domain'], axis = 1).copy()\n",
        "data=data0"
      ],
      "execution_count": null,
      "outputs": []
    },
    {
      "cell_type": "code",
      "metadata": {
        "id": "bl7gIV-v_5L0"
      },
      "source": [
        "#checking the data for null or missing values\n",
        "data.isnull().sum()"
      ],
      "execution_count": null,
      "outputs": []
    },
    {
      "cell_type": "code",
      "metadata": {
        "id": "9qB86eXH_7pz"
      },
      "source": [
        "# shuffling the rows in the dataset so that when splitting the train and test set are equally distributed\n",
        "data = data.sample(frac=1).reset_index(drop=True)\n",
        "data.head()"
      ],
      "execution_count": null,
      "outputs": []
    },
    {
      "cell_type": "markdown",
      "metadata": {
        "id": "P5cHv91_AB0p"
      },
      "source": [
        "# **Splitting the Data**"
      ]
    },
    {
      "cell_type": "code",
      "metadata": {
        "id": "Vaqo8nS__-iC"
      },
      "source": [
        "# Sepratating & assigning features and target columns to X & y\n",
        "y = data['Result']\n",
        "X = data.drop('Result',axis=1)\n",
        "X.shape, y.shape"
      ],
      "execution_count": null,
      "outputs": []
    },
    {
      "cell_type": "code",
      "metadata": {
        "id": "u1okhsuSAHGq"
      },
      "source": [
        "# Feature Scaling \n",
        "from sklearn.preprocessing import StandardScaler \n",
        "sc = StandardScaler() \n",
        "X_train = sc.fit_transform(X) \n",
        "y_train=y"
      ],
      "execution_count": null,
      "outputs": []
    },
    {
      "cell_type": "code",
      "metadata": {
        "id": "W5snFkvJAKox"
      },
      "source": [
        "# Applying k-Fold Cross Validation \n",
        "from sklearn import model_selection\n",
        "from sklearn.metrics import accuracy_score,f1_score, precision_score,recall_score, make_scorer\n",
        "scoring={'accuracy':make_scorer(accuracy_score),'precision':make_scorer(precision_score),\n",
        "         'recall':make_scorer(recall_score),'f1':make_scorer(f1_score)}"
      ],
      "execution_count": null,
      "outputs": []
    },
    {
      "cell_type": "markdown",
      "metadata": {
        "id": "2vX7R8V3F9RM"
      },
      "source": [
        "## Define ensemble models"
      ]
    },
    {
      "cell_type": "code",
      "metadata": {
        "id": "NwWYMmE19-bU"
      },
      "source": [
        "# Decision Tree model \n",
        "from sklearn.tree import DecisionTreeClassifier\n",
        "# instantiate the model \n",
        "tree = DecisionTreeClassifier()#max_depth = 5)"
      ],
      "execution_count": null,
      "outputs": []
    },
    {
      "cell_type": "code",
      "metadata": {
        "id": "FlFVcjXoD4wP"
      },
      "source": [
        "# Random Forest model\n",
        "from sklearn.ensemble import RandomForestClassifier\n",
        "# instantiate the model\n",
        "forest = RandomForestClassifier()#max_depth=5)"
      ],
      "execution_count": null,
      "outputs": []
    },
    {
      "cell_type": "code",
      "metadata": {
        "id": "YKPbQ8-aEHw3"
      },
      "source": [
        "#adaboost model\n",
        "from sklearn.ensemble import AdaBoostClassifier\n",
        "ada=AdaBoostClassifier()#n_estimators=5,learning_rate=1)"
      ],
      "execution_count": null,
      "outputs": []
    },
    {
      "cell_type": "code",
      "metadata": {
        "id": "LFXMSTbVEfp5"
      },
      "source": [
        "# SVM model \n",
        "from sklearn.svm import SVC \n",
        "# instantiate the model \n",
        "svm = SVC()#kernel='linear', C=1.0, random_state=12)"
      ],
      "execution_count": null,
      "outputs": []
    },
    {
      "cell_type": "code",
      "metadata": {
        "id": "j8HmCFOcEn_X"
      },
      "source": [
        "# K-nearest neighbors model \n",
        "from sklearn.neighbors import KNeighborsClassifier\n",
        "# instantiate the model \n",
        "knn=KNeighborsClassifier()"
      ],
      "execution_count": null,
      "outputs": []
    },
    {
      "cell_type": "code",
      "metadata": {
        "id": "gB2XzXgmFnrD"
      },
      "source": [
        "#XGBoost Classifier\n",
        "from xgboost import XGBClassifier\n",
        " #instantiate the model \n",
        "xgb = XGBClassifier()#learning_rate=0.4,max_depth=7)"
      ],
      "execution_count": null,
      "outputs": []
    },
    {
      "cell_type": "code",
      "metadata": {
        "id": "Y6h_K6c69soP"
      },
      "source": [
        "from sklearn.ensemble import VotingClassifier\n",
        "from sklearn.linear_model import LogisticRegression\n",
        "from sklearn.naive_bayes import GaussianNB\n",
        "from sklearn.ensemble import RandomForestClassifier\n",
        "\n",
        "\n",
        "\n",
        "m = VotingClassifier(\n",
        "    estimators=[\n",
        "                ('dt', tree), \n",
        "                ('rf', forest), \n",
        "                ('ada', ada),\n",
        "                ('svm',svm),\n",
        "                ('knn',knn),\n",
        "                #('xgb',xgb)\n",
        "                ], \n",
        "    voting='hard')"
      ],
      "execution_count": null,
      "outputs": []
    },
    {
      "cell_type": "code",
      "metadata": {
        "id": "B8Qi_3cIDEnL"
      },
      "source": [
        "import time\n",
        "p=0\n",
        "tme=0\n",
        "tic=time.perf_counter()"
      ],
      "execution_count": null,
      "outputs": []
    },
    {
      "cell_type": "code",
      "metadata": {
        "id": "N2cibBip-K3L"
      },
      "source": [
        "#applying kfold cross validation on model\n",
        "results_dt = model_selection.cross_validate(m.fit(X_train,y_train),\n",
        "                                          X=X_train,\n",
        "                                          y=y_train,\n",
        "                                          cv=10,\n",
        "                                          scoring=scoring)"
      ],
      "execution_count": null,
      "outputs": []
    },
    {
      "cell_type": "code",
      "metadata": {
        "id": "VYOP0PuvDNtu"
      },
      "source": [
        "p=time.perf_counter()\n",
        "tme=p-tic"
      ],
      "execution_count": null,
      "outputs": []
    },
    {
      "cell_type": "code",
      "metadata": {
        "id": "GgSs0kNW-0SE"
      },
      "source": [
        "acc=np.mean(results_dt['test_accuracy'])\n",
        "acc_err=np.std(results_dt['test_accuracy'])\n",
        "pre=np.mean(results_dt['test_precision'])\n",
        "pre_err=np.std(results_dt['test_precision'])\n",
        "rec=np.mean(results_dt['test_recall'])\n",
        "rec_err=np.std(results_dt['test_recall'])\n",
        "f1=np.mean(results_dt['test_f1'])\n",
        "f1_err=np.std(results_dt['test_f1'])"
      ],
      "execution_count": null,
      "outputs": []
    },
    {
      "cell_type": "code",
      "metadata": {
        "id": "QWQHXm1S_XMe"
      },
      "source": [
        "print('Cross Validation accuracy: %.4f +/- %.4f' % (acc,acc_err))\n",
        "print('Precision: %.4f +/- %.4f' % (pre,pre_err))\n",
        "print('Recall: %.4f +/- %.4f' % (rec,rec_err))\n",
        "print('F1 Score: %.4f +/- %.4f' % (f1,f1_err)) \n",
        "print('execution time: %.4f sec'% (tme))"
      ],
      "execution_count": null,
      "outputs": []
    },
    {
      "cell_type": "code",
      "metadata": {
        "id": "8h73uLL0Hktk"
      },
      "source": [
        "from sklearn.ensemble import AdaBoostClassifier\n",
        "seed = 7\n",
        "num_trees = 70\n",
        "model = AdaBoostClassifier(n_estimators=num_trees, random_state=seed)"
      ],
      "execution_count": null,
      "outputs": []
    },
    {
      "cell_type": "code",
      "metadata": {
        "id": "QV-WKFhAIeUQ"
      },
      "source": [
        "p=0\n",
        "tme=0\n",
        "tic=time.perf_counter()"
      ],
      "execution_count": null,
      "outputs": []
    },
    {
      "cell_type": "code",
      "metadata": {
        "id": "7EqiJAmnIg7P"
      },
      "source": [
        "#applying kfold cross validation on model\n",
        "results_adc = model_selection.cross_validate(model.fit(X_train,y_train),\n",
        "                                          X=X_train,\n",
        "                                          y=y_train,\n",
        "                                          cv=10,\n",
        "                                          scoring=scoring)"
      ],
      "execution_count": null,
      "outputs": []
    },
    {
      "cell_type": "code",
      "metadata": {
        "id": "sTwuoqXAIsRZ"
      },
      "source": [
        "p=time.perf_counter()\n",
        "tme=p-tic"
      ],
      "execution_count": null,
      "outputs": []
    },
    {
      "cell_type": "code",
      "metadata": {
        "id": "bXlgC_zjI4_U"
      },
      "source": [
        "acc=np.mean(results_adc['test_accuracy'])\n",
        "acc_err=np.std(results_adc['test_accuracy'])\n",
        "pre=np.mean(results_adc['test_precision'])\n",
        "pre_err=np.std(results_adc['test_precision'])\n",
        "rec=np.mean(results_adc['test_recall'])\n",
        "rec_err=np.std(results_adc['test_recall'])\n",
        "f1=np.mean(results_adc['test_f1'])\n",
        "f1_err=np.std(results_adc['test_f1'])"
      ],
      "execution_count": null,
      "outputs": []
    },
    {
      "cell_type": "code",
      "metadata": {
        "id": "gzbv3so5JHf-"
      },
      "source": [
        "print('Cross Validation accuracy: %.4f +/- %.4f' % (acc,acc_err))\n",
        "print('Precision: %.4f +/- %.4f' % (pre,pre_err))\n",
        "print('Recall: %.4f +/- %.4f' % (rec,rec_err))\n",
        "print('F1 Score: %.4f +/- %.4f' % (f1,f1_err)) \n",
        "print('execution time: %.4f sec'% (tme))"
      ],
      "execution_count": null,
      "outputs": []
    },
    {
      "cell_type": "code",
      "metadata": {
        "id": "10D5AD0wUgTX"
      },
      "source": [
        "from sklearn.ensemble import BaggingClassifier\n",
        "num_trees = 100\n",
        "mm=DecisionTreeClassifier()\n",
        "model = BaggingClassifier(base_estimator=mm, n_estimators=num_trees, random_state=42)"
      ],
      "execution_count": null,
      "outputs": []
    },
    {
      "cell_type": "code",
      "metadata": {
        "id": "x7DCRr4qU2cG"
      },
      "source": [
        "p=0\n",
        "tme=0\n",
        "tic=time.perf_counter()"
      ],
      "execution_count": null,
      "outputs": []
    },
    {
      "cell_type": "code",
      "metadata": {
        "id": "5TkQHbmWU29w"
      },
      "source": [
        "#applying kfold cross validation on model\n",
        "results_dt = model_selection.cross_validate(model.fit(X_train,y_train),\n",
        "                                          X=X_train,\n",
        "                                          y=y_train,\n",
        "                                          cv=10,\n",
        "                                          scoring=scoring)"
      ],
      "execution_count": null,
      "outputs": []
    },
    {
      "cell_type": "code",
      "metadata": {
        "id": "A48bX3deVLtf"
      },
      "source": [
        "p=time.perf_counter()\n",
        "tme=p-tic"
      ],
      "execution_count": null,
      "outputs": []
    },
    {
      "cell_type": "code",
      "metadata": {
        "id": "vePawSp6VN6-"
      },
      "source": [
        "acc=np.mean(results_dt['test_accuracy'])\n",
        "acc_err=np.std(results_dt['test_accuracy'])\n",
        "pre=np.mean(results_dt['test_precision'])\n",
        "pre_err=np.std(results_dt['test_precision'])\n",
        "rec=np.mean(results_dt['test_recall'])\n",
        "rec_err=np.std(results_dt['test_recall'])\n",
        "f1=np.mean(results_dt['test_f1'])\n",
        "f1_err=np.std(results_dt['test_f1'])"
      ],
      "execution_count": null,
      "outputs": []
    },
    {
      "cell_type": "code",
      "metadata": {
        "id": "nMMsOgOLVP1n"
      },
      "source": [
        "print('Cross Validation accuracy: %.4f +/- %.4f' % (acc,acc_err))\n",
        "print('Precision: %.4f +/- %.4f' % (pre,pre_err))\n",
        "print('Recall: %.4f +/- %.4f' % (rec,rec_err))\n",
        "print('F1 Score: %.4f +/- %.4f' % (f1,f1_err)) \n",
        "print('execution time: %.4f sec'% (tme))"
      ],
      "execution_count": null,
      "outputs": []
    },
    {
      "cell_type": "code",
      "metadata": {
        "id": "s8KwJKyWJXbH"
      },
      "source": [
        ""
      ],
      "execution_count": null,
      "outputs": []
    }
  ]
}