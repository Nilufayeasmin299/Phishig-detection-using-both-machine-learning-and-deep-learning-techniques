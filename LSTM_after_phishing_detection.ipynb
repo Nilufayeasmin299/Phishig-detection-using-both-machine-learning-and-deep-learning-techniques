{
  "nbformat": 4,
  "nbformat_minor": 0,
  "metadata": {
    "colab": {
      "name": "LSTM after phishing detection.ipynb",
      "provenance": [],
      "authorship_tag": "ABX9TyMsHqZ5Qao3LsRoTKGapXyf",
      "include_colab_link": true
    },
    "kernelspec": {
      "name": "python3",
      "display_name": "Python 3"
    },
    "language_info": {
      "name": "python"
    }
  },
  "cells": [
    {
      "cell_type": "markdown",
      "metadata": {
        "id": "view-in-github",
        "colab_type": "text"
      },
      "source": [
        "<a href=\"https://colab.research.google.com/github/Nilufayeasmin299/Phishig-detection-using-both-machine-learning-and-deep-learning-techniques/blob/main/LSTM_after_phishing_detection.ipynb\" target=\"_parent\"><img src=\"https://colab.research.google.com/assets/colab-badge.svg\" alt=\"Open In Colab\"/></a>"
      ]
    },
    {
      "cell_type": "code",
      "metadata": {
        "colab": {
          "base_uri": "https://localhost:8080/"
        },
        "id": "nvvCDYfgRMcU",
        "outputId": "1c1f05b0-dc7f-4fbc-ecb6-83e485865fc1"
      },
      "source": [
        "from google.colab import drive\n",
        "drive.mount('/content/gdrive')"
      ],
      "execution_count": 1,
      "outputs": [
        {
          "output_type": "stream",
          "text": [
            "Mounted at /content/gdrive\n"
          ],
          "name": "stdout"
        }
      ]
    },
    {
      "cell_type": "code",
      "metadata": {
        "colab": {
          "base_uri": "https://localhost:8080/",
          "height": 240
        },
        "id": "O6kKdKg4RXwM",
        "outputId": "87513c38-7adf-44d9-c623-d22ef040f258"
      },
      "source": [
        "#loading dataset\n",
        "import pandas as pd\n",
        "df=pd.read_csv('/content/gdrive/MyDrive/Second paper/Dataset/My new_data')\n",
        "df.head()"
      ],
      "execution_count": 2,
      "outputs": [
        {
          "output_type": "execute_result",
          "data": {
            "text/html": [
              "<div>\n",
              "<style scoped>\n",
              "    .dataframe tbody tr th:only-of-type {\n",
              "        vertical-align: middle;\n",
              "    }\n",
              "\n",
              "    .dataframe tbody tr th {\n",
              "        vertical-align: top;\n",
              "    }\n",
              "\n",
              "    .dataframe thead th {\n",
              "        text-align: right;\n",
              "    }\n",
              "</style>\n",
              "<table border=\"1\" class=\"dataframe\">\n",
              "  <thead>\n",
              "    <tr style=\"text-align: right;\">\n",
              "      <th></th>\n",
              "      <th>Unnamed: 0</th>\n",
              "      <th>having_IP_Address</th>\n",
              "      <th>URL_Length</th>\n",
              "      <th>Shortining_Service</th>\n",
              "      <th>Prefix_Suffix</th>\n",
              "      <th>having_Sub_Domain</th>\n",
              "      <th>SSLfinal_State</th>\n",
              "      <th>Domain_registeration_length</th>\n",
              "      <th>Request_URL</th>\n",
              "      <th>URL_of_Anchor</th>\n",
              "      <th>Links_in_tags</th>\n",
              "      <th>SFH</th>\n",
              "      <th>Redirect</th>\n",
              "      <th>on_mouseover</th>\n",
              "      <th>RightClick</th>\n",
              "      <th>age_of_domain</th>\n",
              "      <th>web_traffic</th>\n",
              "      <th>Page_Rank</th>\n",
              "      <th>Google_Index</th>\n",
              "      <th>Links_pointing_to_page</th>\n",
              "      <th>Statistical_report</th>\n",
              "      <th>Result</th>\n",
              "    </tr>\n",
              "  </thead>\n",
              "  <tbody>\n",
              "    <tr>\n",
              "      <th>0</th>\n",
              "      <td>0</td>\n",
              "      <td>-1</td>\n",
              "      <td>1</td>\n",
              "      <td>1</td>\n",
              "      <td>-1</td>\n",
              "      <td>-1</td>\n",
              "      <td>-1</td>\n",
              "      <td>-1</td>\n",
              "      <td>1</td>\n",
              "      <td>-1</td>\n",
              "      <td>1</td>\n",
              "      <td>-1</td>\n",
              "      <td>0</td>\n",
              "      <td>1</td>\n",
              "      <td>1</td>\n",
              "      <td>-1</td>\n",
              "      <td>-1</td>\n",
              "      <td>-1</td>\n",
              "      <td>1</td>\n",
              "      <td>1</td>\n",
              "      <td>-1</td>\n",
              "      <td>0</td>\n",
              "    </tr>\n",
              "    <tr>\n",
              "      <th>1</th>\n",
              "      <td>1</td>\n",
              "      <td>1</td>\n",
              "      <td>1</td>\n",
              "      <td>1</td>\n",
              "      <td>-1</td>\n",
              "      <td>0</td>\n",
              "      <td>1</td>\n",
              "      <td>-1</td>\n",
              "      <td>1</td>\n",
              "      <td>0</td>\n",
              "      <td>-1</td>\n",
              "      <td>-1</td>\n",
              "      <td>0</td>\n",
              "      <td>1</td>\n",
              "      <td>1</td>\n",
              "      <td>-1</td>\n",
              "      <td>0</td>\n",
              "      <td>-1</td>\n",
              "      <td>1</td>\n",
              "      <td>1</td>\n",
              "      <td>1</td>\n",
              "      <td>0</td>\n",
              "    </tr>\n",
              "    <tr>\n",
              "      <th>2</th>\n",
              "      <td>2</td>\n",
              "      <td>1</td>\n",
              "      <td>0</td>\n",
              "      <td>1</td>\n",
              "      <td>-1</td>\n",
              "      <td>-1</td>\n",
              "      <td>-1</td>\n",
              "      <td>-1</td>\n",
              "      <td>1</td>\n",
              "      <td>0</td>\n",
              "      <td>-1</td>\n",
              "      <td>-1</td>\n",
              "      <td>0</td>\n",
              "      <td>1</td>\n",
              "      <td>1</td>\n",
              "      <td>1</td>\n",
              "      <td>1</td>\n",
              "      <td>-1</td>\n",
              "      <td>1</td>\n",
              "      <td>0</td>\n",
              "      <td>-1</td>\n",
              "      <td>0</td>\n",
              "    </tr>\n",
              "    <tr>\n",
              "      <th>3</th>\n",
              "      <td>3</td>\n",
              "      <td>1</td>\n",
              "      <td>0</td>\n",
              "      <td>1</td>\n",
              "      <td>-1</td>\n",
              "      <td>-1</td>\n",
              "      <td>-1</td>\n",
              "      <td>1</td>\n",
              "      <td>-1</td>\n",
              "      <td>0</td>\n",
              "      <td>0</td>\n",
              "      <td>-1</td>\n",
              "      <td>0</td>\n",
              "      <td>1</td>\n",
              "      <td>1</td>\n",
              "      <td>-1</td>\n",
              "      <td>1</td>\n",
              "      <td>-1</td>\n",
              "      <td>1</td>\n",
              "      <td>-1</td>\n",
              "      <td>1</td>\n",
              "      <td>0</td>\n",
              "    </tr>\n",
              "    <tr>\n",
              "      <th>4</th>\n",
              "      <td>4</td>\n",
              "      <td>1</td>\n",
              "      <td>0</td>\n",
              "      <td>-1</td>\n",
              "      <td>-1</td>\n",
              "      <td>1</td>\n",
              "      <td>1</td>\n",
              "      <td>-1</td>\n",
              "      <td>1</td>\n",
              "      <td>0</td>\n",
              "      <td>0</td>\n",
              "      <td>-1</td>\n",
              "      <td>0</td>\n",
              "      <td>-1</td>\n",
              "      <td>1</td>\n",
              "      <td>-1</td>\n",
              "      <td>0</td>\n",
              "      <td>-1</td>\n",
              "      <td>1</td>\n",
              "      <td>1</td>\n",
              "      <td>1</td>\n",
              "      <td>1</td>\n",
              "    </tr>\n",
              "  </tbody>\n",
              "</table>\n",
              "</div>"
            ],
            "text/plain": [
              "   Unnamed: 0  having_IP_Address  ...  Statistical_report  Result\n",
              "0           0                 -1  ...                  -1       0\n",
              "1           1                  1  ...                   1       0\n",
              "2           2                  1  ...                  -1       0\n",
              "3           3                  1  ...                   1       0\n",
              "4           4                  1  ...                   1       1\n",
              "\n",
              "[5 rows x 22 columns]"
            ]
          },
          "metadata": {
            "tags": []
          },
          "execution_count": 2
        }
      ]
    },
    {
      "cell_type": "code",
      "metadata": {
        "colab": {
          "base_uri": "https://localhost:8080/"
        },
        "id": "xDhQ6ULnRrbe",
        "outputId": "3601741f-3761-434d-9da6-168a15a00398"
      },
      "source": [
        "df.columns"
      ],
      "execution_count": 3,
      "outputs": [
        {
          "output_type": "execute_result",
          "data": {
            "text/plain": [
              "Index(['Unnamed: 0', 'having_IP_Address', 'URL_Length', 'Shortining_Service',\n",
              "       'Prefix_Suffix', 'having_Sub_Domain', 'SSLfinal_State',\n",
              "       'Domain_registeration_length', 'Request_URL', 'URL_of_Anchor',\n",
              "       'Links_in_tags', 'SFH', 'Redirect', 'on_mouseover', 'RightClick',\n",
              "       'age_of_domain', 'web_traffic', 'Page_Rank', 'Google_Index',\n",
              "       'Links_pointing_to_page', 'Statistical_report', 'Result'],\n",
              "      dtype='object')"
            ]
          },
          "metadata": {
            "tags": []
          },
          "execution_count": 3
        }
      ]
    },
    {
      "cell_type": "code",
      "metadata": {
        "colab": {
          "base_uri": "https://localhost:8080/"
        },
        "id": "tMwaQZz9RuGN",
        "outputId": "29b8d139-9046-443e-e91d-6110d201638c"
      },
      "source": [
        "df.shape"
      ],
      "execution_count": 4,
      "outputs": [
        {
          "output_type": "execute_result",
          "data": {
            "text/plain": [
              "(11055, 22)"
            ]
          },
          "metadata": {
            "tags": []
          },
          "execution_count": 4
        }
      ]
    },
    {
      "cell_type": "code",
      "metadata": {
        "colab": {
          "base_uri": "https://localhost:8080/"
        },
        "id": "ha95eleaRwnC",
        "outputId": "0292302b-793b-4857-cddc-dddae5df0339"
      },
      "source": [
        "df.info()"
      ],
      "execution_count": 5,
      "outputs": [
        {
          "output_type": "stream",
          "text": [
            "<class 'pandas.core.frame.DataFrame'>\n",
            "RangeIndex: 11055 entries, 0 to 11054\n",
            "Data columns (total 22 columns):\n",
            " #   Column                       Non-Null Count  Dtype\n",
            "---  ------                       --------------  -----\n",
            " 0   Unnamed: 0                   11055 non-null  int64\n",
            " 1   having_IP_Address            11055 non-null  int64\n",
            " 2   URL_Length                   11055 non-null  int64\n",
            " 3   Shortining_Service           11055 non-null  int64\n",
            " 4   Prefix_Suffix                11055 non-null  int64\n",
            " 5   having_Sub_Domain            11055 non-null  int64\n",
            " 6   SSLfinal_State               11055 non-null  int64\n",
            " 7   Domain_registeration_length  11055 non-null  int64\n",
            " 8   Request_URL                  11055 non-null  int64\n",
            " 9   URL_of_Anchor                11055 non-null  int64\n",
            " 10  Links_in_tags                11055 non-null  int64\n",
            " 11  SFH                          11055 non-null  int64\n",
            " 12  Redirect                     11055 non-null  int64\n",
            " 13  on_mouseover                 11055 non-null  int64\n",
            " 14  RightClick                   11055 non-null  int64\n",
            " 15  age_of_domain                11055 non-null  int64\n",
            " 16  web_traffic                  11055 non-null  int64\n",
            " 17  Page_Rank                    11055 non-null  int64\n",
            " 18  Google_Index                 11055 non-null  int64\n",
            " 19  Links_pointing_to_page       11055 non-null  int64\n",
            " 20  Statistical_report           11055 non-null  int64\n",
            " 21  Result                       11055 non-null  int64\n",
            "dtypes: int64(22)\n",
            "memory usage: 1.9 MB\n"
          ],
          "name": "stdout"
        }
      ]
    },
    {
      "cell_type": "code",
      "metadata": {
        "colab": {
          "base_uri": "https://localhost:8080/",
          "height": 240
        },
        "id": "I--1IDzrRzER",
        "outputId": "09a0868b-f553-4c2c-d25d-802302520441"
      },
      "source": [
        "# shuffling the rows in the dataset so that when splitting the train and test set are equally distributed\n",
        "data = df.sample(frac=1).reset_index(drop=True)\n",
        "data.head()"
      ],
      "execution_count": 6,
      "outputs": [
        {
          "output_type": "execute_result",
          "data": {
            "text/html": [
              "<div>\n",
              "<style scoped>\n",
              "    .dataframe tbody tr th:only-of-type {\n",
              "        vertical-align: middle;\n",
              "    }\n",
              "\n",
              "    .dataframe tbody tr th {\n",
              "        vertical-align: top;\n",
              "    }\n",
              "\n",
              "    .dataframe thead th {\n",
              "        text-align: right;\n",
              "    }\n",
              "</style>\n",
              "<table border=\"1\" class=\"dataframe\">\n",
              "  <thead>\n",
              "    <tr style=\"text-align: right;\">\n",
              "      <th></th>\n",
              "      <th>Unnamed: 0</th>\n",
              "      <th>having_IP_Address</th>\n",
              "      <th>URL_Length</th>\n",
              "      <th>Shortining_Service</th>\n",
              "      <th>Prefix_Suffix</th>\n",
              "      <th>having_Sub_Domain</th>\n",
              "      <th>SSLfinal_State</th>\n",
              "      <th>Domain_registeration_length</th>\n",
              "      <th>Request_URL</th>\n",
              "      <th>URL_of_Anchor</th>\n",
              "      <th>Links_in_tags</th>\n",
              "      <th>SFH</th>\n",
              "      <th>Redirect</th>\n",
              "      <th>on_mouseover</th>\n",
              "      <th>RightClick</th>\n",
              "      <th>age_of_domain</th>\n",
              "      <th>web_traffic</th>\n",
              "      <th>Page_Rank</th>\n",
              "      <th>Google_Index</th>\n",
              "      <th>Links_pointing_to_page</th>\n",
              "      <th>Statistical_report</th>\n",
              "      <th>Result</th>\n",
              "    </tr>\n",
              "  </thead>\n",
              "  <tbody>\n",
              "    <tr>\n",
              "      <th>0</th>\n",
              "      <td>3062</td>\n",
              "      <td>1</td>\n",
              "      <td>-1</td>\n",
              "      <td>1</td>\n",
              "      <td>-1</td>\n",
              "      <td>-1</td>\n",
              "      <td>-1</td>\n",
              "      <td>1</td>\n",
              "      <td>-1</td>\n",
              "      <td>0</td>\n",
              "      <td>-1</td>\n",
              "      <td>-1</td>\n",
              "      <td>0</td>\n",
              "      <td>1</td>\n",
              "      <td>1</td>\n",
              "      <td>-1</td>\n",
              "      <td>1</td>\n",
              "      <td>-1</td>\n",
              "      <td>-1</td>\n",
              "      <td>0</td>\n",
              "      <td>1</td>\n",
              "      <td>0</td>\n",
              "    </tr>\n",
              "    <tr>\n",
              "      <th>1</th>\n",
              "      <td>9281</td>\n",
              "      <td>-1</td>\n",
              "      <td>-1</td>\n",
              "      <td>1</td>\n",
              "      <td>-1</td>\n",
              "      <td>-1</td>\n",
              "      <td>1</td>\n",
              "      <td>1</td>\n",
              "      <td>-1</td>\n",
              "      <td>0</td>\n",
              "      <td>0</td>\n",
              "      <td>1</td>\n",
              "      <td>0</td>\n",
              "      <td>1</td>\n",
              "      <td>1</td>\n",
              "      <td>1</td>\n",
              "      <td>1</td>\n",
              "      <td>-1</td>\n",
              "      <td>1</td>\n",
              "      <td>0</td>\n",
              "      <td>-1</td>\n",
              "      <td>1</td>\n",
              "    </tr>\n",
              "    <tr>\n",
              "      <th>2</th>\n",
              "      <td>166</td>\n",
              "      <td>-1</td>\n",
              "      <td>-1</td>\n",
              "      <td>-1</td>\n",
              "      <td>-1</td>\n",
              "      <td>-1</td>\n",
              "      <td>1</td>\n",
              "      <td>1</td>\n",
              "      <td>-1</td>\n",
              "      <td>0</td>\n",
              "      <td>1</td>\n",
              "      <td>-1</td>\n",
              "      <td>1</td>\n",
              "      <td>1</td>\n",
              "      <td>1</td>\n",
              "      <td>1</td>\n",
              "      <td>1</td>\n",
              "      <td>-1</td>\n",
              "      <td>1</td>\n",
              "      <td>1</td>\n",
              "      <td>1</td>\n",
              "      <td>1</td>\n",
              "    </tr>\n",
              "    <tr>\n",
              "      <th>3</th>\n",
              "      <td>141</td>\n",
              "      <td>1</td>\n",
              "      <td>1</td>\n",
              "      <td>1</td>\n",
              "      <td>-1</td>\n",
              "      <td>0</td>\n",
              "      <td>0</td>\n",
              "      <td>-1</td>\n",
              "      <td>1</td>\n",
              "      <td>-1</td>\n",
              "      <td>0</td>\n",
              "      <td>1</td>\n",
              "      <td>0</td>\n",
              "      <td>1</td>\n",
              "      <td>1</td>\n",
              "      <td>1</td>\n",
              "      <td>-1</td>\n",
              "      <td>-1</td>\n",
              "      <td>1</td>\n",
              "      <td>-1</td>\n",
              "      <td>1</td>\n",
              "      <td>0</td>\n",
              "    </tr>\n",
              "    <tr>\n",
              "      <th>4</th>\n",
              "      <td>8891</td>\n",
              "      <td>1</td>\n",
              "      <td>1</td>\n",
              "      <td>1</td>\n",
              "      <td>-1</td>\n",
              "      <td>1</td>\n",
              "      <td>1</td>\n",
              "      <td>-1</td>\n",
              "      <td>1</td>\n",
              "      <td>1</td>\n",
              "      <td>0</td>\n",
              "      <td>1</td>\n",
              "      <td>0</td>\n",
              "      <td>1</td>\n",
              "      <td>1</td>\n",
              "      <td>-1</td>\n",
              "      <td>1</td>\n",
              "      <td>1</td>\n",
              "      <td>1</td>\n",
              "      <td>0</td>\n",
              "      <td>1</td>\n",
              "      <td>1</td>\n",
              "    </tr>\n",
              "  </tbody>\n",
              "</table>\n",
              "</div>"
            ],
            "text/plain": [
              "   Unnamed: 0  having_IP_Address  ...  Statistical_report  Result\n",
              "0        3062                  1  ...                   1       0\n",
              "1        9281                 -1  ...                  -1       1\n",
              "2         166                 -1  ...                   1       1\n",
              "3         141                  1  ...                   1       0\n",
              "4        8891                  1  ...                   1       1\n",
              "\n",
              "[5 rows x 22 columns]"
            ]
          },
          "metadata": {
            "tags": []
          },
          "execution_count": 6
        }
      ]
    },
    {
      "cell_type": "code",
      "metadata": {
        "colab": {
          "base_uri": "https://localhost:8080/"
        },
        "id": "vhehOpTmR2oC",
        "outputId": "7734370f-55da-4591-8ba7-77c6389d9034"
      },
      "source": [
        "# Sepratating & assigning features and target columns to X & y\n",
        "y = data['Result']\n",
        "X = data.drop('Result',axis=1)\n",
        "X.shape, y.shape"
      ],
      "execution_count": 7,
      "outputs": [
        {
          "output_type": "execute_result",
          "data": {
            "text/plain": [
              "((11055, 21), (11055,))"
            ]
          },
          "metadata": {
            "tags": []
          },
          "execution_count": 7
        }
      ]
    },
    {
      "cell_type": "code",
      "metadata": {
        "id": "p87CUpnxR6El"
      },
      "source": [
        "from sklearn.preprocessing import StandardScaler\n",
        "scaler=StandardScaler()\n",
        "X_=scaler.fit_transform(X)"
      ],
      "execution_count": 8,
      "outputs": []
    },
    {
      "cell_type": "code",
      "metadata": {
        "id": "9aAXa2e0R8VD"
      },
      "source": [
        "y_=y.to_numpy()"
      ],
      "execution_count": 9,
      "outputs": []
    },
    {
      "cell_type": "code",
      "metadata": {
        "id": "gn1l-QPGSUyZ"
      },
      "source": [
        "X_=X_.reshape(X_.shape[0],X_.shape[1],1)"
      ],
      "execution_count": 10,
      "outputs": []
    },
    {
      "cell_type": "code",
      "metadata": {
        "colab": {
          "base_uri": "https://localhost:8080/"
        },
        "id": "86dUe4Q_SWwr",
        "outputId": "56d2e12b-30c8-48f2-ab3c-cc420ea248bd"
      },
      "source": [
        "X_.shape"
      ],
      "execution_count": 11,
      "outputs": [
        {
          "output_type": "execute_result",
          "data": {
            "text/plain": [
              "(11055, 21, 1)"
            ]
          },
          "metadata": {
            "tags": []
          },
          "execution_count": 11
        }
      ]
    },
    {
      "cell_type": "code",
      "metadata": {
        "colab": {
          "base_uri": "https://localhost:8080/"
        },
        "id": "9C-T1CUtSYrw",
        "outputId": "445de543-16e0-4cf2-d994-ecb5673d96a6"
      },
      "source": [
        "y_.shape"
      ],
      "execution_count": 12,
      "outputs": [
        {
          "output_type": "execute_result",
          "data": {
            "text/plain": [
              "(11055,)"
            ]
          },
          "metadata": {
            "tags": []
          },
          "execution_count": 12
        }
      ]
    },
    {
      "cell_type": "code",
      "metadata": {
        "id": "wWWzqX68Sa-H"
      },
      "source": [
        "import numpy\n",
        "from numpy import mean\n",
        "from numpy import std\n",
        "from numpy import array\n",
        "from keras.models import Sequential\n",
        "from keras.layers import Dense, Dropout\n",
        "import pandas as pd\n",
        "from sklearn.metrics import confusion_matrix, precision_score, recall_score, f1_score, cohen_kappa_score\n",
        "from sklearn.model_selection import KFold\n",
        "from keras.layers import Flatten, Activation, LSTM\n",
        "import time"
      ],
      "execution_count": 13,
      "outputs": []
    },
    {
      "cell_type": "code",
      "metadata": {
        "id": "eHUv__-DSdaG"
      },
      "source": [
        "import tensorflow as tf\n",
        "import random "
      ],
      "execution_count": 14,
      "outputs": []
    },
    {
      "cell_type": "code",
      "metadata": {
        "id": "wFG0QODoSfQ6"
      },
      "source": [
        "import random\n",
        "random.seed( 1 )\n",
        "tf.random.set_seed(2)"
      ],
      "execution_count": 15,
      "outputs": []
    },
    {
      "cell_type": "code",
      "metadata": {
        "id": "H90clN9zShN-"
      },
      "source": [
        "# lists to collect the performance metrics during each fold of the n-fold cross validation\n",
        "accuracy=[]\n",
        "loss=[]\n",
        "recall=[]\n",
        "f1=[]\n",
        "precision=[]\n",
        "Time=[]\n",
        "start = time.time()"
      ],
      "execution_count": 16,
      "outputs": []
    },
    {
      "cell_type": "code",
      "metadata": {
        "colab": {
          "base_uri": "https://localhost:8080/"
        },
        "id": "5SFcMgYiSjZm",
        "outputId": "feae3a9f-c937-496e-b178-09323c098b9b"
      },
      "source": [
        "epochs = 10\n",
        "batch_size=100\n",
        "num_folds=10\n",
        "# Define the K-fold Cross Validator\n",
        "kfold = KFold(n_splits=num_folds, shuffle=True)\n",
        "\n",
        "# K-fold Cross Validation model evaluation\n",
        "fold_no = 1\n",
        "for train, test in kfold.split(X_, y_):\n",
        "\n",
        "  # Define the model architecture\n",
        "  model = Sequential()\n",
        "  model.add(LSTM(256, activation='relu', input_shape=(X_[0].shape)))\n",
        "  model.add(Dropout(0.7))\n",
        "  model.add(Dense(1, activation='sigmoid'))\n",
        "\n",
        "\n",
        "  # Compile the model\n",
        "  model.compile(loss='binary_crossentropy', \n",
        "                optimizer='adam',\n",
        "                metrics=['accuracy'])\n",
        "\n",
        "\n",
        "  # Generate a print\n",
        "  print('------------------------------------------------------------------------')\n",
        "  print(f'Training for fold {fold_no} ...')\n",
        "\n",
        "  # Fit data to model\n",
        "  history = model.fit(X_[train], y_[train],\n",
        "              batch_size=batch_size,\n",
        "              epochs=epochs,\n",
        "              verbose=1)\n",
        "\n",
        "  # Generate generalization metrics\n",
        "  y_pred = model.predict_classes(X_[test])\n",
        "  scores = model.evaluate(X_[test], y_[test], verbose=0)\n",
        "  print(f'Score for fold {fold_no}: {model.metrics_names[0]} of {scores[0]}; {model.metrics_names[1]} of {scores[1]*100}%')\n",
        "  accuracy.append(scores[1] * 100)\n",
        "  loss.append(scores[0])\n",
        "  recall.append(recall_score(y_[test], y_pred))\n",
        "  f1.append(f1_score(y_[test], y_pred))\n",
        "  precision.append(precision_score(y_[test], y_pred))\n",
        "\n",
        "  # Increase fold number\n",
        "  fold_no = fold_no + 1"
      ],
      "execution_count": 17,
      "outputs": [
        {
          "output_type": "stream",
          "text": [
            "------------------------------------------------------------------------\n",
            "Training for fold 1 ...\n",
            "Epoch 1/10\n",
            "100/100 [==============================] - 35s 121ms/step - loss: 0.5251 - accuracy: 0.7372\n",
            "Epoch 2/10\n",
            "100/100 [==============================] - 12s 124ms/step - loss: 0.3607 - accuracy: 0.8448\n",
            "Epoch 3/10\n",
            "100/100 [==============================] - 12s 120ms/step - loss: 0.3252 - accuracy: 0.8652\n",
            "Epoch 4/10\n",
            "100/100 [==============================] - 12s 120ms/step - loss: 0.3058 - accuracy: 0.8728\n",
            "Epoch 5/10\n",
            "100/100 [==============================] - 12s 120ms/step - loss: 0.2963 - accuracy: 0.8784\n",
            "Epoch 6/10\n",
            "100/100 [==============================] - 12s 119ms/step - loss: 0.3019 - accuracy: 0.8799\n",
            "Epoch 7/10\n",
            "100/100 [==============================] - 12s 121ms/step - loss: 0.2937 - accuracy: 0.8793\n",
            "Epoch 8/10\n",
            "100/100 [==============================] - 12s 122ms/step - loss: 0.2650 - accuracy: 0.8925\n",
            "Epoch 9/10\n",
            "100/100 [==============================] - 12s 118ms/step - loss: 0.2660 - accuracy: 0.8897\n",
            "Epoch 10/10\n",
            "100/100 [==============================] - 12s 120ms/step - loss: 0.2667 - accuracy: 0.8955\n"
          ],
          "name": "stdout"
        },
        {
          "output_type": "stream",
          "text": [
            "/usr/local/lib/python3.7/dist-packages/keras/engine/sequential.py:450: UserWarning: `model.predict_classes()` is deprecated and will be removed after 2021-01-01. Please use instead:* `np.argmax(model.predict(x), axis=-1)`,   if your model does multi-class classification   (e.g. if it uses a `softmax` last-layer activation).* `(model.predict(x) > 0.5).astype(\"int32\")`,   if your model does binary classification   (e.g. if it uses a `sigmoid` last-layer activation).\n",
            "  warnings.warn('`model.predict_classes()` is deprecated and '\n"
          ],
          "name": "stderr"
        },
        {
          "output_type": "stream",
          "text": [
            "Score for fold 1: loss of 0.2577378451824188; accuracy of 90.05424976348877%\n",
            "------------------------------------------------------------------------\n",
            "Training for fold 2 ...\n",
            "Epoch 1/10\n",
            "100/100 [==============================] - 14s 123ms/step - loss: 0.5292 - accuracy: 0.7244\n",
            "Epoch 2/10\n",
            "100/100 [==============================] - 12s 121ms/step - loss: 0.3856 - accuracy: 0.8294\n",
            "Epoch 3/10\n",
            "100/100 [==============================] - 12s 123ms/step - loss: 0.3221 - accuracy: 0.8659\n",
            "Epoch 4/10\n",
            "100/100 [==============================] - 12s 123ms/step - loss: 0.3119 - accuracy: 0.8749\n",
            "Epoch 5/10\n",
            "100/100 [==============================] - 12s 120ms/step - loss: 0.2885 - accuracy: 0.8841\n",
            "Epoch 6/10\n",
            "100/100 [==============================] - 12s 121ms/step - loss: 0.2926 - accuracy: 0.8822\n",
            "Epoch 7/10\n",
            "100/100 [==============================] - 12s 120ms/step - loss: 0.2818 - accuracy: 0.8826\n",
            "Epoch 8/10\n",
            "100/100 [==============================] - 13s 127ms/step - loss: 0.2910 - accuracy: 0.8793\n",
            "Epoch 9/10\n",
            "100/100 [==============================] - 13s 127ms/step - loss: 0.2573 - accuracy: 0.8963\n",
            "Epoch 10/10\n",
            "100/100 [==============================] - 13s 130ms/step - loss: 0.2623 - accuracy: 0.8936\n",
            "Score for fold 2: loss of 0.2225172519683838; accuracy of 91.13923907279968%\n",
            "------------------------------------------------------------------------\n",
            "Training for fold 3 ...\n",
            "Epoch 1/10\n",
            "100/100 [==============================] - 15s 124ms/step - loss: 0.5313 - accuracy: 0.7326\n",
            "Epoch 2/10\n",
            "100/100 [==============================] - 12s 119ms/step - loss: 0.3854 - accuracy: 0.8306\n",
            "Epoch 3/10\n",
            "100/100 [==============================] - 12s 124ms/step - loss: 0.3121 - accuracy: 0.8754\n",
            "Epoch 4/10\n",
            "100/100 [==============================] - 13s 126ms/step - loss: 0.3023 - accuracy: 0.8750\n",
            "Epoch 5/10\n",
            "100/100 [==============================] - 12s 123ms/step - loss: 0.3163 - accuracy: 0.8676\n",
            "Epoch 6/10\n",
            "100/100 [==============================] - 12s 124ms/step - loss: 0.2923 - accuracy: 0.8805\n",
            "Epoch 7/10\n",
            "100/100 [==============================] - 12s 123ms/step - loss: 0.2914 - accuracy: 0.8813\n",
            "Epoch 8/10\n",
            "100/100 [==============================] - 12s 122ms/step - loss: 0.2692 - accuracy: 0.8864\n",
            "Epoch 9/10\n",
            "100/100 [==============================] - 12s 120ms/step - loss: 0.2726 - accuracy: 0.8946\n",
            "Epoch 10/10\n",
            "100/100 [==============================] - 12s 118ms/step - loss: 0.2650 - accuracy: 0.8932\n",
            "Score for fold 3: loss of 0.28051328659057617; accuracy of 88.87884020805359%\n",
            "------------------------------------------------------------------------\n",
            "Training for fold 4 ...\n",
            "Epoch 1/10\n",
            "100/100 [==============================] - 14s 121ms/step - loss: 0.5259 - accuracy: 0.7429\n",
            "Epoch 2/10\n",
            "100/100 [==============================] - 12s 121ms/step - loss: 0.3462 - accuracy: 0.8567\n",
            "Epoch 3/10\n",
            "100/100 [==============================] - 12s 121ms/step - loss: 0.3131 - accuracy: 0.8713\n",
            "Epoch 4/10\n",
            "100/100 [==============================] - 12s 121ms/step - loss: 0.2872 - accuracy: 0.8823\n",
            "Epoch 5/10\n",
            "100/100 [==============================] - 12s 119ms/step - loss: 0.2998 - accuracy: 0.8779\n",
            "Epoch 6/10\n",
            "100/100 [==============================] - 12s 117ms/step - loss: 0.2783 - accuracy: 0.8864\n",
            "Epoch 7/10\n",
            "100/100 [==============================] - 12s 124ms/step - loss: 0.2725 - accuracy: 0.8895\n",
            "Epoch 8/10\n",
            "100/100 [==============================] - 12s 123ms/step - loss: 0.2693 - accuracy: 0.8944\n",
            "Epoch 9/10\n",
            "100/100 [==============================] - 12s 121ms/step - loss: 0.2609 - accuracy: 0.8948\n",
            "Epoch 10/10\n",
            "100/100 [==============================] - 12s 122ms/step - loss: 0.2633 - accuracy: 0.8918\n",
            "Score for fold 4: loss of 0.2187754362821579; accuracy of 90.77757596969604%\n",
            "------------------------------------------------------------------------\n",
            "Training for fold 5 ...\n",
            "Epoch 1/10\n",
            "100/100 [==============================] - 14s 123ms/step - loss: 0.5721 - accuracy: 0.7156\n",
            "Epoch 2/10\n",
            "100/100 [==============================] - 12s 125ms/step - loss: 0.4492 - accuracy: 0.8113\n",
            "Epoch 3/10\n",
            "100/100 [==============================] - 13s 126ms/step - loss: 0.3373 - accuracy: 0.8567\n",
            "Epoch 4/10\n",
            "100/100 [==============================] - 12s 123ms/step - loss: 0.3027 - accuracy: 0.8741\n",
            "Epoch 5/10\n",
            "100/100 [==============================] - 12s 123ms/step - loss: 0.3092 - accuracy: 0.8734\n",
            "Epoch 6/10\n",
            "100/100 [==============================] - 12s 122ms/step - loss: 0.3027 - accuracy: 0.8793\n",
            "Epoch 7/10\n",
            "100/100 [==============================] - 12s 121ms/step - loss: 0.2853 - accuracy: 0.8863\n",
            "Epoch 8/10\n",
            "100/100 [==============================] - 12s 120ms/step - loss: 0.2853 - accuracy: 0.8841\n",
            "Epoch 9/10\n",
            "100/100 [==============================] - 12s 120ms/step - loss: 0.2637 - accuracy: 0.8916\n",
            "Epoch 10/10\n",
            "100/100 [==============================] - 12s 121ms/step - loss: 0.2701 - accuracy: 0.8894\n",
            "Score for fold 5: loss of 0.25403255224227905; accuracy of 89.42133784294128%\n",
            "------------------------------------------------------------------------\n",
            "Training for fold 6 ...\n",
            "Epoch 1/10\n",
            "100/100 [==============================] - 14s 121ms/step - loss: 0.5295 - accuracy: 0.7172\n",
            "Epoch 2/10\n",
            "100/100 [==============================] - 12s 121ms/step - loss: 0.3942 - accuracy: 0.8274\n",
            "Epoch 3/10\n",
            "100/100 [==============================] - 12s 121ms/step - loss: 0.3262 - accuracy: 0.8692\n",
            "Epoch 4/10\n",
            "100/100 [==============================] - 12s 122ms/step - loss: 0.3300 - accuracy: 0.8686\n",
            "Epoch 5/10\n",
            "100/100 [==============================] - 12s 122ms/step - loss: 0.2885 - accuracy: 0.8836\n",
            "Epoch 6/10\n",
            "100/100 [==============================] - 12s 123ms/step - loss: 0.2922 - accuracy: 0.8851\n",
            "Epoch 7/10\n",
            "100/100 [==============================] - 12s 124ms/step - loss: 0.2796 - accuracy: 0.8829\n",
            "Epoch 8/10\n",
            "100/100 [==============================] - 12s 123ms/step - loss: 0.2722 - accuracy: 0.8920\n",
            "Epoch 9/10\n",
            "100/100 [==============================] - 12s 124ms/step - loss: 0.2637 - accuracy: 0.8964\n",
            "Epoch 10/10\n",
            "100/100 [==============================] - 12s 121ms/step - loss: 0.2607 - accuracy: 0.8956\n",
            "Score for fold 6: loss of 0.2545991539955139; accuracy of 89.50226306915283%\n",
            "------------------------------------------------------------------------\n",
            "Training for fold 7 ...\n",
            "Epoch 1/10\n",
            "100/100 [==============================] - 15s 120ms/step - loss: 0.5307 - accuracy: 0.7309\n",
            "Epoch 2/10\n",
            "100/100 [==============================] - 12s 121ms/step - loss: 0.3867 - accuracy: 0.8294\n",
            "Epoch 3/10\n",
            "100/100 [==============================] - 13s 126ms/step - loss: 0.3154 - accuracy: 0.8684\n",
            "Epoch 4/10\n",
            "100/100 [==============================] - 13s 125ms/step - loss: 0.3119 - accuracy: 0.8727\n",
            "Epoch 5/10\n",
            "100/100 [==============================] - 12s 124ms/step - loss: 0.2830 - accuracy: 0.8836\n",
            "Epoch 6/10\n",
            "100/100 [==============================] - 13s 127ms/step - loss: 0.2889 - accuracy: 0.8845\n",
            "Epoch 7/10\n",
            "100/100 [==============================] - 13s 129ms/step - loss: 0.3004 - accuracy: 0.8766\n",
            "Epoch 8/10\n",
            "100/100 [==============================] - 13s 128ms/step - loss: 0.2778 - accuracy: 0.8868\n",
            "Epoch 9/10\n",
            "100/100 [==============================] - 13s 127ms/step - loss: 0.2606 - accuracy: 0.8978\n",
            "Epoch 10/10\n",
            "100/100 [==============================] - 13s 129ms/step - loss: 0.2568 - accuracy: 0.9000\n",
            "Score for fold 7: loss of 0.24670882523059845; accuracy of 89.68325853347778%\n",
            "------------------------------------------------------------------------\n",
            "Training for fold 8 ...\n",
            "Epoch 1/10\n",
            "100/100 [==============================] - 14s 123ms/step - loss: 0.5596 - accuracy: 0.7162\n",
            "Epoch 2/10\n",
            "100/100 [==============================] - 12s 121ms/step - loss: 0.4017 - accuracy: 0.8207\n",
            "Epoch 3/10\n",
            "100/100 [==============================] - 12s 123ms/step - loss: 0.3336 - accuracy: 0.8606\n",
            "Epoch 4/10\n",
            "100/100 [==============================] - 12s 123ms/step - loss: 0.3189 - accuracy: 0.8695\n",
            "Epoch 5/10\n",
            "100/100 [==============================] - 12s 123ms/step - loss: 0.2949 - accuracy: 0.8760\n",
            "Epoch 6/10\n",
            "100/100 [==============================] - 12s 123ms/step - loss: 0.2632 - accuracy: 0.8944\n",
            "Epoch 7/10\n",
            "100/100 [==============================] - 12s 121ms/step - loss: 0.2804 - accuracy: 0.8845\n",
            "Epoch 8/10\n",
            "100/100 [==============================] - 12s 120ms/step - loss: 0.2759 - accuracy: 0.8886\n",
            "Epoch 9/10\n",
            "100/100 [==============================] - 12s 123ms/step - loss: 0.2696 - accuracy: 0.8927\n",
            "Epoch 10/10\n",
            "100/100 [==============================] - 12s 123ms/step - loss: 0.2665 - accuracy: 0.8916\n",
            "Score for fold 8: loss of 0.2795880436897278; accuracy of 88.5067880153656%\n",
            "------------------------------------------------------------------------\n",
            "Training for fold 9 ...\n",
            "Epoch 1/10\n",
            "100/100 [==============================] - 15s 124ms/step - loss: 0.5537 - accuracy: 0.7061\n",
            "Epoch 2/10\n",
            "100/100 [==============================] - 12s 124ms/step - loss: 0.4005 - accuracy: 0.8183\n",
            "Epoch 3/10\n",
            "100/100 [==============================] - 12s 123ms/step - loss: 0.3289 - accuracy: 0.8641\n",
            "Epoch 4/10\n",
            "100/100 [==============================] - 12s 124ms/step - loss: 0.2976 - accuracy: 0.8762\n",
            "Epoch 5/10\n",
            "100/100 [==============================] - 12s 122ms/step - loss: 0.2729 - accuracy: 0.8901\n",
            "Epoch 6/10\n",
            "100/100 [==============================] - 12s 124ms/step - loss: 0.2943 - accuracy: 0.8788\n",
            "Epoch 7/10\n",
            "100/100 [==============================] - 13s 126ms/step - loss: 0.2745 - accuracy: 0.8902\n",
            "Epoch 8/10\n",
            "100/100 [==============================] - 12s 121ms/step - loss: 0.2626 - accuracy: 0.8926\n",
            "Epoch 9/10\n",
            "100/100 [==============================] - 12s 120ms/step - loss: 0.2869 - accuracy: 0.8897\n",
            "Epoch 10/10\n",
            "100/100 [==============================] - 12s 119ms/step - loss: 0.2618 - accuracy: 0.8939\n",
            "Score for fold 9: loss of 0.2643795907497406; accuracy of 89.50226306915283%\n",
            "------------------------------------------------------------------------\n",
            "Training for fold 10 ...\n",
            "Epoch 1/10\n",
            "100/100 [==============================] - 15s 120ms/step - loss: 0.5242 - accuracy: 0.7404\n",
            "Epoch 2/10\n",
            "100/100 [==============================] - 12s 119ms/step - loss: 0.3570 - accuracy: 0.8459\n",
            "Epoch 3/10\n",
            "100/100 [==============================] - 12s 120ms/step - loss: 0.3115 - accuracy: 0.8730\n",
            "Epoch 4/10\n",
            "100/100 [==============================] - 12s 120ms/step - loss: 0.2917 - accuracy: 0.8843\n",
            "Epoch 5/10\n",
            "100/100 [==============================] - 12s 121ms/step - loss: 0.2874 - accuracy: 0.8853\n",
            "Epoch 6/10\n",
            "100/100 [==============================] - 12s 121ms/step - loss: 0.3086 - accuracy: 0.8751\n",
            "Epoch 7/10\n",
            "100/100 [==============================] - 12s 120ms/step - loss: 0.2753 - accuracy: 0.8882\n",
            "Epoch 8/10\n",
            "100/100 [==============================] - 12s 121ms/step - loss: 0.2677 - accuracy: 0.8960\n",
            "Epoch 9/10\n",
            "100/100 [==============================] - 12s 121ms/step - loss: 0.2810 - accuracy: 0.8844\n",
            "Epoch 10/10\n",
            "100/100 [==============================] - 12s 120ms/step - loss: 0.2641 - accuracy: 0.8948\n",
            "Score for fold 10: loss of 0.2517147958278656; accuracy of 90.04524946212769%\n"
          ],
          "name": "stdout"
        }
      ]
    },
    {
      "cell_type": "code",
      "metadata": {
        "id": "yWAavg0PTHfE"
      },
      "source": [
        "# obtain approximate training time\n",
        "end_time = time.time()\n",
        "time = (end_time - start)     #obtain time taken to train the model"
      ],
      "execution_count": 18,
      "outputs": []
    },
    {
      "cell_type": "code",
      "metadata": {
        "colab": {
          "base_uri": "https://localhost:8080/"
        },
        "id": "FMuNFZfWaXJn",
        "outputId": "26dc5899-08db-4af0-83c1-d8fa71d46253"
      },
      "source": [
        "# summarize the distribution of scores\n",
        "print('Accuracy Mean: %.3f, Standard Deviation: %.3f' % (mean(accuracy), std(accuracy)))                   #mean of all the accuracies fom the n folds and standard deviation\n",
        "print('Precision Mean: %.3f, Standard Deviation: %.3f' % (mean(precision), std(precision)))          #mean of all the precisions fom the n folds and standard deviation\n",
        "print('Recall Mean: %.3f, Standard Deviation: %.3f' % (mean(recall), std(recall)))\n",
        "print('F1 Mean: %.3f, Standard Deviation: %.3f' % (mean(f1), std(f1)))\n",
        "print('Total time Mean: %.3f' % (time/10))\n",
        "print('loss Mean: %.3f, Standard Deviation: %.3f' % (mean(loss), std(loss)))"
      ],
      "execution_count": 19,
      "outputs": [
        {
          "output_type": "stream",
          "text": [
            "Accuracy Mean: 89.751, Standard Deviation: 0.755\n",
            "Precision Mean: 0.895, Standard Deviation: 0.026\n",
            "Recall Mean: 0.927, Standard Deviation: 0.027\n",
            "F1 Mean: 0.910, Standard Deviation: 0.006\n",
            "Total time Mean: 204.749\n",
            "loss Mean: 0.253, Standard Deviation: 0.019\n"
          ],
          "name": "stdout"
        }
      ]
    },
    {
      "cell_type": "code",
      "metadata": {
        "id": "gUnTWHI4abgz"
      },
      "source": [
        ""
      ],
      "execution_count": null,
      "outputs": []
    }
  ]
}