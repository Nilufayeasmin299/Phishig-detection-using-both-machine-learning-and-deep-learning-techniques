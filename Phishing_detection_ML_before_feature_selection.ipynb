{
  "nbformat": 4,
  "nbformat_minor": 0,
  "metadata": {
    "colab": {
      "name": "Phishing detection ML before feature selection.ipynb",
      "provenance": [],
      "collapsed_sections": [],
      "authorship_tag": "ABX9TyN29Zrp3Rh10xbkVn/YPDdn",
      "include_colab_link": true
    },
    "kernelspec": {
      "name": "python3",
      "display_name": "Python 3"
    },
    "language_info": {
      "name": "python"
    }
  },
  "cells": [
    {
      "cell_type": "markdown",
      "metadata": {
        "id": "view-in-github",
        "colab_type": "text"
      },
      "source": [
        "<a href=\"https://colab.research.google.com/github/Nilufayeasmin299/Phishig-detection-using-both-machine-learning-and-deep-learning-techniques/blob/main/Phishing_detection_ML_before_feature_selection.ipynb\" target=\"_parent\"><img src=\"https://colab.research.google.com/assets/colab-badge.svg\" alt=\"Open In Colab\"/></a>"
      ]
    },
    {
      "cell_type": "code",
      "metadata": {
        "colab": {
          "base_uri": "https://localhost:8080/"
        },
        "id": "0dB3kyCn2kh2",
        "outputId": "ad5a4fc3-8325-4789-e521-c3f9f4e772a4"
      },
      "source": [
        "from google.colab import drive\n",
        "drive.mount('/content/drive')"
      ],
      "execution_count": null,
      "outputs": [
        {
          "output_type": "stream",
          "text": [
            "Drive already mounted at /content/drive; to attempt to forcibly remount, call drive.mount(\"/content/drive\", force_remount=True).\n"
          ],
          "name": "stdout"
        }
      ]
    },
    {
      "cell_type": "markdown",
      "metadata": {
        "id": "lz8DwHKY_ITm"
      },
      "source": [
        " # **Loading Data**"
      ]
    },
    {
      "cell_type": "code",
      "metadata": {
        "id": "Ol1091y5-Fin"
      },
      "source": [
        "#importing basic packages\n",
        "import pandas as pd\n",
        "import numpy as np\n",
        "import seaborn as sns\n",
        "import matplotlib.pyplot as plt"
      ],
      "execution_count": null,
      "outputs": []
    },
    {
      "cell_type": "code",
      "metadata": {
        "colab": {
          "base_uri": "https://localhost:8080/",
          "height": 223
        },
        "id": "iuczHrKV-YiG",
        "outputId": "d4e8d390-d6e9-468d-da3e-f7d028fbb8b4"
      },
      "source": [
        "#Loading the data\n",
        "data0 = pd.read_csv('/content/drive/MyDrive/Second paper/Dataset/URL-Dataset.csv')\n",
        "data0.head()"
      ],
      "execution_count": null,
      "outputs": [
        {
          "output_type": "execute_result",
          "data": {
            "text/html": [
              "<div>\n",
              "<style scoped>\n",
              "    .dataframe tbody tr th:only-of-type {\n",
              "        vertical-align: middle;\n",
              "    }\n",
              "\n",
              "    .dataframe tbody tr th {\n",
              "        vertical-align: top;\n",
              "    }\n",
              "\n",
              "    .dataframe thead th {\n",
              "        text-align: right;\n",
              "    }\n",
              "</style>\n",
              "<table border=\"1\" class=\"dataframe\">\n",
              "  <thead>\n",
              "    <tr style=\"text-align: right;\">\n",
              "      <th></th>\n",
              "      <th>having_IP_Address</th>\n",
              "      <th>URL_Length</th>\n",
              "      <th>Shortining_Service</th>\n",
              "      <th>having_At_Symbol</th>\n",
              "      <th>double_slash_redirecting</th>\n",
              "      <th>Prefix_Suffix</th>\n",
              "      <th>having_Sub_Domain</th>\n",
              "      <th>SSLfinal_State</th>\n",
              "      <th>Domain_registeration_length</th>\n",
              "      <th>Favicon</th>\n",
              "      <th>port</th>\n",
              "      <th>HTTPS_token</th>\n",
              "      <th>Request_URL</th>\n",
              "      <th>URL_of_Anchor</th>\n",
              "      <th>Links_in_tags</th>\n",
              "      <th>SFH</th>\n",
              "      <th>Submitting_to_email</th>\n",
              "      <th>Abnormal_URL</th>\n",
              "      <th>Redirect</th>\n",
              "      <th>on_mouseover</th>\n",
              "      <th>RightClick</th>\n",
              "      <th>popUpWidnow</th>\n",
              "      <th>Iframe</th>\n",
              "      <th>age_of_domain</th>\n",
              "      <th>DNSRecord</th>\n",
              "      <th>web_traffic</th>\n",
              "      <th>Page_Rank</th>\n",
              "      <th>Google_Index</th>\n",
              "      <th>Links_pointing_to_page</th>\n",
              "      <th>Statistical_report</th>\n",
              "      <th>Result</th>\n",
              "    </tr>\n",
              "  </thead>\n",
              "  <tbody>\n",
              "    <tr>\n",
              "      <th>0</th>\n",
              "      <td>-1</td>\n",
              "      <td>1</td>\n",
              "      <td>1</td>\n",
              "      <td>1</td>\n",
              "      <td>-1</td>\n",
              "      <td>-1</td>\n",
              "      <td>-1</td>\n",
              "      <td>-1</td>\n",
              "      <td>-1</td>\n",
              "      <td>1</td>\n",
              "      <td>1</td>\n",
              "      <td>-1</td>\n",
              "      <td>1</td>\n",
              "      <td>-1</td>\n",
              "      <td>1</td>\n",
              "      <td>-1</td>\n",
              "      <td>-1</td>\n",
              "      <td>-1</td>\n",
              "      <td>0</td>\n",
              "      <td>1</td>\n",
              "      <td>1</td>\n",
              "      <td>1</td>\n",
              "      <td>1</td>\n",
              "      <td>-1</td>\n",
              "      <td>-1</td>\n",
              "      <td>-1</td>\n",
              "      <td>-1</td>\n",
              "      <td>1</td>\n",
              "      <td>1</td>\n",
              "      <td>-1</td>\n",
              "      <td>0</td>\n",
              "    </tr>\n",
              "    <tr>\n",
              "      <th>1</th>\n",
              "      <td>1</td>\n",
              "      <td>1</td>\n",
              "      <td>1</td>\n",
              "      <td>1</td>\n",
              "      <td>1</td>\n",
              "      <td>-1</td>\n",
              "      <td>0</td>\n",
              "      <td>1</td>\n",
              "      <td>-1</td>\n",
              "      <td>1</td>\n",
              "      <td>1</td>\n",
              "      <td>-1</td>\n",
              "      <td>1</td>\n",
              "      <td>0</td>\n",
              "      <td>-1</td>\n",
              "      <td>-1</td>\n",
              "      <td>1</td>\n",
              "      <td>1</td>\n",
              "      <td>0</td>\n",
              "      <td>1</td>\n",
              "      <td>1</td>\n",
              "      <td>1</td>\n",
              "      <td>1</td>\n",
              "      <td>-1</td>\n",
              "      <td>-1</td>\n",
              "      <td>0</td>\n",
              "      <td>-1</td>\n",
              "      <td>1</td>\n",
              "      <td>1</td>\n",
              "      <td>1</td>\n",
              "      <td>0</td>\n",
              "    </tr>\n",
              "    <tr>\n",
              "      <th>2</th>\n",
              "      <td>1</td>\n",
              "      <td>0</td>\n",
              "      <td>1</td>\n",
              "      <td>1</td>\n",
              "      <td>1</td>\n",
              "      <td>-1</td>\n",
              "      <td>-1</td>\n",
              "      <td>-1</td>\n",
              "      <td>-1</td>\n",
              "      <td>1</td>\n",
              "      <td>1</td>\n",
              "      <td>-1</td>\n",
              "      <td>1</td>\n",
              "      <td>0</td>\n",
              "      <td>-1</td>\n",
              "      <td>-1</td>\n",
              "      <td>-1</td>\n",
              "      <td>-1</td>\n",
              "      <td>0</td>\n",
              "      <td>1</td>\n",
              "      <td>1</td>\n",
              "      <td>1</td>\n",
              "      <td>1</td>\n",
              "      <td>1</td>\n",
              "      <td>-1</td>\n",
              "      <td>1</td>\n",
              "      <td>-1</td>\n",
              "      <td>1</td>\n",
              "      <td>0</td>\n",
              "      <td>-1</td>\n",
              "      <td>0</td>\n",
              "    </tr>\n",
              "    <tr>\n",
              "      <th>3</th>\n",
              "      <td>1</td>\n",
              "      <td>0</td>\n",
              "      <td>1</td>\n",
              "      <td>1</td>\n",
              "      <td>1</td>\n",
              "      <td>-1</td>\n",
              "      <td>-1</td>\n",
              "      <td>-1</td>\n",
              "      <td>1</td>\n",
              "      <td>1</td>\n",
              "      <td>1</td>\n",
              "      <td>-1</td>\n",
              "      <td>-1</td>\n",
              "      <td>0</td>\n",
              "      <td>0</td>\n",
              "      <td>-1</td>\n",
              "      <td>1</td>\n",
              "      <td>1</td>\n",
              "      <td>0</td>\n",
              "      <td>1</td>\n",
              "      <td>1</td>\n",
              "      <td>1</td>\n",
              "      <td>1</td>\n",
              "      <td>-1</td>\n",
              "      <td>-1</td>\n",
              "      <td>1</td>\n",
              "      <td>-1</td>\n",
              "      <td>1</td>\n",
              "      <td>-1</td>\n",
              "      <td>1</td>\n",
              "      <td>0</td>\n",
              "    </tr>\n",
              "    <tr>\n",
              "      <th>4</th>\n",
              "      <td>1</td>\n",
              "      <td>0</td>\n",
              "      <td>-1</td>\n",
              "      <td>1</td>\n",
              "      <td>1</td>\n",
              "      <td>-1</td>\n",
              "      <td>1</td>\n",
              "      <td>1</td>\n",
              "      <td>-1</td>\n",
              "      <td>1</td>\n",
              "      <td>1</td>\n",
              "      <td>1</td>\n",
              "      <td>1</td>\n",
              "      <td>0</td>\n",
              "      <td>0</td>\n",
              "      <td>-1</td>\n",
              "      <td>1</td>\n",
              "      <td>1</td>\n",
              "      <td>0</td>\n",
              "      <td>-1</td>\n",
              "      <td>1</td>\n",
              "      <td>-1</td>\n",
              "      <td>1</td>\n",
              "      <td>-1</td>\n",
              "      <td>-1</td>\n",
              "      <td>0</td>\n",
              "      <td>-1</td>\n",
              "      <td>1</td>\n",
              "      <td>1</td>\n",
              "      <td>1</td>\n",
              "      <td>1</td>\n",
              "    </tr>\n",
              "  </tbody>\n",
              "</table>\n",
              "</div>"
            ],
            "text/plain": [
              "   having_IP_Address  URL_Length  ...  Statistical_report  Result\n",
              "0                 -1           1  ...                  -1       0\n",
              "1                  1           1  ...                   1       0\n",
              "2                  1           0  ...                  -1       0\n",
              "3                  1           0  ...                   1       0\n",
              "4                  1           0  ...                   1       1\n",
              "\n",
              "[5 rows x 31 columns]"
            ]
          },
          "metadata": {
            "tags": []
          },
          "execution_count": 3
        }
      ]
    },
    {
      "cell_type": "markdown",
      "metadata": {
        "id": "YlYxh7Mm_Xqc"
      },
      "source": [
        "# **Familiarizing with Data**"
      ]
    },
    {
      "cell_type": "code",
      "metadata": {
        "colab": {
          "base_uri": "https://localhost:8080/"
        },
        "id": "-QO0bNoh-j4S",
        "outputId": "e2cb17a6-4ae1-4da4-8946-6e55bc97a79d"
      },
      "source": [
        "#Checking the shape of the dataset\n",
        "data0.shape"
      ],
      "execution_count": null,
      "outputs": [
        {
          "output_type": "execute_result",
          "data": {
            "text/plain": [
              "(11055, 31)"
            ]
          },
          "metadata": {
            "tags": []
          },
          "execution_count": 4
        }
      ]
    },
    {
      "cell_type": "code",
      "metadata": {
        "colab": {
          "base_uri": "https://localhost:8080/"
        },
        "id": "XM22j3po-nEv",
        "outputId": "c7f4975f-aeff-4d47-df7e-f0e61e34c391"
      },
      "source": [
        "#Listing the features of the dataset\n",
        "data0.columns"
      ],
      "execution_count": null,
      "outputs": [
        {
          "output_type": "execute_result",
          "data": {
            "text/plain": [
              "Index(['having_IP_Address', 'URL_Length', 'Shortining_Service',\n",
              "       'having_At_Symbol', 'double_slash_redirecting', 'Prefix_Suffix',\n",
              "       'having_Sub_Domain', 'SSLfinal_State', 'Domain_registeration_length',\n",
              "       'Favicon', 'port', 'HTTPS_token', 'Request_URL', 'URL_of_Anchor',\n",
              "       'Links_in_tags', 'SFH', 'Submitting_to_email', 'Abnormal_URL',\n",
              "       'Redirect', 'on_mouseover', 'RightClick', 'popUpWidnow', 'Iframe',\n",
              "       'age_of_domain', 'DNSRecord', 'web_traffic', 'Page_Rank',\n",
              "       'Google_Index', 'Links_pointing_to_page', 'Statistical_report',\n",
              "       'Result'],\n",
              "      dtype='object')"
            ]
          },
          "metadata": {
            "tags": []
          },
          "execution_count": 5
        }
      ]
    },
    {
      "cell_type": "code",
      "metadata": {
        "colab": {
          "base_uri": "https://localhost:8080/"
        },
        "id": "eHo414jm-pR7",
        "outputId": "1c467eff-e226-4286-bc71-1063f4ef18ad"
      },
      "source": [
        "#Information about the dataset\n",
        "data0.info()"
      ],
      "execution_count": null,
      "outputs": [
        {
          "output_type": "stream",
          "text": [
            "<class 'pandas.core.frame.DataFrame'>\n",
            "RangeIndex: 11055 entries, 0 to 11054\n",
            "Data columns (total 31 columns):\n",
            " #   Column                       Non-Null Count  Dtype\n",
            "---  ------                       --------------  -----\n",
            " 0   having_IP_Address            11055 non-null  int64\n",
            " 1   URL_Length                   11055 non-null  int64\n",
            " 2   Shortining_Service           11055 non-null  int64\n",
            " 3   having_At_Symbol             11055 non-null  int64\n",
            " 4   double_slash_redirecting     11055 non-null  int64\n",
            " 5   Prefix_Suffix                11055 non-null  int64\n",
            " 6   having_Sub_Domain            11055 non-null  int64\n",
            " 7   SSLfinal_State               11055 non-null  int64\n",
            " 8   Domain_registeration_length  11055 non-null  int64\n",
            " 9   Favicon                      11055 non-null  int64\n",
            " 10  port                         11055 non-null  int64\n",
            " 11  HTTPS_token                  11055 non-null  int64\n",
            " 12  Request_URL                  11055 non-null  int64\n",
            " 13  URL_of_Anchor                11055 non-null  int64\n",
            " 14  Links_in_tags                11055 non-null  int64\n",
            " 15  SFH                          11055 non-null  int64\n",
            " 16  Submitting_to_email          11055 non-null  int64\n",
            " 17  Abnormal_URL                 11055 non-null  int64\n",
            " 18  Redirect                     11055 non-null  int64\n",
            " 19  on_mouseover                 11055 non-null  int64\n",
            " 20  RightClick                   11055 non-null  int64\n",
            " 21  popUpWidnow                  11055 non-null  int64\n",
            " 22  Iframe                       11055 non-null  int64\n",
            " 23  age_of_domain                11055 non-null  int64\n",
            " 24  DNSRecord                    11055 non-null  int64\n",
            " 25  web_traffic                  11055 non-null  int64\n",
            " 26  Page_Rank                    11055 non-null  int64\n",
            " 27  Google_Index                 11055 non-null  int64\n",
            " 28  Links_pointing_to_page       11055 non-null  int64\n",
            " 29  Statistical_report           11055 non-null  int64\n",
            " 30  Result                       11055 non-null  int64\n",
            "dtypes: int64(31)\n",
            "memory usage: 2.6 MB\n"
          ],
          "name": "stdout"
        }
      ]
    },
    {
      "cell_type": "code",
      "metadata": {
        "colab": {
          "base_uri": "https://localhost:8080/"
        },
        "id": "OgxwS7iK-sKL",
        "outputId": "3c1c4804-9ef6-4796-bce1-834ead766a07"
      },
      "source": [
        "#Finding out the distribution of the class labels\n",
        "from collections import Counter\n",
        "\n",
        "classes = Counter(data0['Result'].values)\n",
        "classes.most_common()"
      ],
      "execution_count": null,
      "outputs": [
        {
          "output_type": "execute_result",
          "data": {
            "text/plain": [
              "[(1, 6157), (0, 4898)]"
            ]
          },
          "metadata": {
            "tags": []
          },
          "execution_count": 7
        }
      ]
    },
    {
      "cell_type": "code",
      "metadata": {
        "colab": {
          "base_uri": "https://localhost:8080/",
          "height": 110
        },
        "id": "w9JQRZoH-vP9",
        "outputId": "346857a0-1f19-4ed3-e413-4866c3102796"
      },
      "source": [
        "class_dist = pd.DataFrame(classes.most_common(), columns=['Class', 'Num_Observations'])\n",
        "class_dist"
      ],
      "execution_count": null,
      "outputs": [
        {
          "output_type": "execute_result",
          "data": {
            "text/html": [
              "<div>\n",
              "<style scoped>\n",
              "    .dataframe tbody tr th:only-of-type {\n",
              "        vertical-align: middle;\n",
              "    }\n",
              "\n",
              "    .dataframe tbody tr th {\n",
              "        vertical-align: top;\n",
              "    }\n",
              "\n",
              "    .dataframe thead th {\n",
              "        text-align: right;\n",
              "    }\n",
              "</style>\n",
              "<table border=\"1\" class=\"dataframe\">\n",
              "  <thead>\n",
              "    <tr style=\"text-align: right;\">\n",
              "      <th></th>\n",
              "      <th>Class</th>\n",
              "      <th>Num_Observations</th>\n",
              "    </tr>\n",
              "  </thead>\n",
              "  <tbody>\n",
              "    <tr>\n",
              "      <th>0</th>\n",
              "      <td>1</td>\n",
              "      <td>6157</td>\n",
              "    </tr>\n",
              "    <tr>\n",
              "      <th>1</th>\n",
              "      <td>0</td>\n",
              "      <td>4898</td>\n",
              "    </tr>\n",
              "  </tbody>\n",
              "</table>\n",
              "</div>"
            ],
            "text/plain": [
              "   Class  Num_Observations\n",
              "0      1              6157\n",
              "1      0              4898"
            ]
          },
          "metadata": {
            "tags": []
          },
          "execution_count": 8
        }
      ]
    },
    {
      "cell_type": "markdown",
      "metadata": {
        "id": "h8aSNqxe_gar"
      },
      "source": [
        "# **Visualizing the data**"
      ]
    },
    {
      "cell_type": "code",
      "metadata": {
        "colab": {
          "base_uri": "https://localhost:8080/",
          "height": 879
        },
        "id": "4KlyNCRF_BNR",
        "outputId": "c499888c-1040-4f24-f980-1d033e3318fa"
      },
      "source": [
        "#Plotting the data distribution\n",
        "data0.hist(bins = 50,figsize = (15,15))\n",
        "plt.show()"
      ],
      "execution_count": null,
      "outputs": [
        {
          "output_type": "display_data",
          "data": {
            "image/png": "[encoded data removed]",
            "text/plain": [
              "<Figure size 1080x1080 with 36 Axes>"
            ]
          },
          "metadata": {
            "tags": [],
            "needs_background": "light"
          }
        }
      ]
    },
    {
      "cell_type": "code",
      "metadata": {
        "colab": {
          "base_uri": "https://localhost:8080/",
          "height": 893
        },
        "id": "q5Bcmr2V_lo_",
        "outputId": "13310152-fb7c-4827-a93a-d48e7a385cb2"
      },
      "source": [
        "#Correlation heatmap\n",
        "\n",
        "plt.figure(figsize=(15,13))\n",
        "sns.heatmap(data0.corr())\n",
        "plt.show()"
      ],
      "execution_count": null,
      "outputs": [
        {
          "output_type": "display_data",
          "data": {
            "image/png": "[encoded data removed]",
            "text/plain": [
              "<Figure size 1080x936 with 2 Axes>"
            ]
          },
          "metadata": {
            "tags": [],
            "needs_background": "light"
          }
        }
      ]
    },
    {
      "cell_type": "markdown",
      "metadata": {
        "id": "54CwDzUN_sNX"
      },
      "source": [
        "# **Data Preprocessing & EDA**"
      ]
    },
    {
      "cell_type": "code",
      "metadata": {
        "colab": {
          "base_uri": "https://localhost:8080/",
          "height": 315
        },
        "id": "Q0I1XMCv_pQj",
        "outputId": "c2d0e950-c39c-4da0-d19d-c2568abdbc15"
      },
      "source": [
        "data0.describe()"
      ],
      "execution_count": null,
      "outputs": [
        {
          "output_type": "execute_result",
          "data": {
            "text/html": [
              "<div>\n",
              "<style scoped>\n",
              "    .dataframe tbody tr th:only-of-type {\n",
              "        vertical-align: middle;\n",
              "    }\n",
              "\n",
              "    .dataframe tbody tr th {\n",
              "        vertical-align: top;\n",
              "    }\n",
              "\n",
              "    .dataframe thead th {\n",
              "        text-align: right;\n",
              "    }\n",
              "</style>\n",
              "<table border=\"1\" class=\"dataframe\">\n",
              "  <thead>\n",
              "    <tr style=\"text-align: right;\">\n",
              "      <th></th>\n",
              "      <th>having_IP_Address</th>\n",
              "      <th>URL_Length</th>\n",
              "      <th>Shortining_Service</th>\n",
              "      <th>having_At_Symbol</th>\n",
              "      <th>double_slash_redirecting</th>\n",
              "      <th>Prefix_Suffix</th>\n",
              "      <th>having_Sub_Domain</th>\n",
              "      <th>SSLfinal_State</th>\n",
              "      <th>Domain_registeration_length</th>\n",
              "      <th>Favicon</th>\n",
              "      <th>port</th>\n",
              "      <th>HTTPS_token</th>\n",
              "      <th>Request_URL</th>\n",
              "      <th>URL_of_Anchor</th>\n",
              "      <th>Links_in_tags</th>\n",
              "      <th>SFH</th>\n",
              "      <th>Submitting_to_email</th>\n",
              "      <th>Abnormal_URL</th>\n",
              "      <th>Redirect</th>\n",
              "      <th>on_mouseover</th>\n",
              "      <th>RightClick</th>\n",
              "      <th>popUpWidnow</th>\n",
              "      <th>Iframe</th>\n",
              "      <th>age_of_domain</th>\n",
              "      <th>DNSRecord</th>\n",
              "      <th>web_traffic</th>\n",
              "      <th>Page_Rank</th>\n",
              "      <th>Google_Index</th>\n",
              "      <th>Links_pointing_to_page</th>\n",
              "      <th>Statistical_report</th>\n",
              "      <th>Result</th>\n",
              "    </tr>\n",
              "  </thead>\n",
              "  <tbody>\n",
              "    <tr>\n",
              "      <th>count</th>\n",
              "      <td>11055.000000</td>\n",
              "      <td>11055.000000</td>\n",
              "      <td>11055.000000</td>\n",
              "      <td>11055.000000</td>\n",
              "      <td>11055.000000</td>\n",
              "      <td>11055.000000</td>\n",
              "      <td>11055.000000</td>\n",
              "      <td>11055.000000</td>\n",
              "      <td>11055.000000</td>\n",
              "      <td>11055.000000</td>\n",
              "      <td>11055.000000</td>\n",
              "      <td>11055.000000</td>\n",
              "      <td>11055.000000</td>\n",
              "      <td>11055.000000</td>\n",
              "      <td>11055.000000</td>\n",
              "      <td>11055.000000</td>\n",
              "      <td>11055.000000</td>\n",
              "      <td>11055.000000</td>\n",
              "      <td>11055.000000</td>\n",
              "      <td>11055.000000</td>\n",
              "      <td>11055.000000</td>\n",
              "      <td>11055.000000</td>\n",
              "      <td>11055.000000</td>\n",
              "      <td>11055.000000</td>\n",
              "      <td>11055.000000</td>\n",
              "      <td>11055.000000</td>\n",
              "      <td>11055.000000</td>\n",
              "      <td>11055.000000</td>\n",
              "      <td>11055.000000</td>\n",
              "      <td>11055.000000</td>\n",
              "      <td>11055.000000</td>\n",
              "    </tr>\n",
              "    <tr>\n",
              "      <th>mean</th>\n",
              "      <td>0.313795</td>\n",
              "      <td>-0.633198</td>\n",
              "      <td>0.738761</td>\n",
              "      <td>0.700588</td>\n",
              "      <td>0.741474</td>\n",
              "      <td>-0.734962</td>\n",
              "      <td>0.063953</td>\n",
              "      <td>0.250927</td>\n",
              "      <td>-0.336771</td>\n",
              "      <td>0.628584</td>\n",
              "      <td>0.728268</td>\n",
              "      <td>0.675079</td>\n",
              "      <td>0.186793</td>\n",
              "      <td>-0.076526</td>\n",
              "      <td>-0.118137</td>\n",
              "      <td>-0.595749</td>\n",
              "      <td>0.635640</td>\n",
              "      <td>0.705292</td>\n",
              "      <td>0.115694</td>\n",
              "      <td>0.762099</td>\n",
              "      <td>0.913885</td>\n",
              "      <td>0.613388</td>\n",
              "      <td>0.816915</td>\n",
              "      <td>0.061239</td>\n",
              "      <td>0.377114</td>\n",
              "      <td>0.287291</td>\n",
              "      <td>-0.483673</td>\n",
              "      <td>0.721574</td>\n",
              "      <td>0.344007</td>\n",
              "      <td>0.719584</td>\n",
              "      <td>0.556943</td>\n",
              "    </tr>\n",
              "    <tr>\n",
              "      <th>std</th>\n",
              "      <td>0.949534</td>\n",
              "      <td>0.766095</td>\n",
              "      <td>0.673998</td>\n",
              "      <td>0.713598</td>\n",
              "      <td>0.671011</td>\n",
              "      <td>0.678139</td>\n",
              "      <td>0.817518</td>\n",
              "      <td>0.911892</td>\n",
              "      <td>0.941629</td>\n",
              "      <td>0.777777</td>\n",
              "      <td>0.685324</td>\n",
              "      <td>0.737779</td>\n",
              "      <td>0.982444</td>\n",
              "      <td>0.715138</td>\n",
              "      <td>0.763973</td>\n",
              "      <td>0.759143</td>\n",
              "      <td>0.772021</td>\n",
              "      <td>0.708949</td>\n",
              "      <td>0.319872</td>\n",
              "      <td>0.647490</td>\n",
              "      <td>0.405991</td>\n",
              "      <td>0.789818</td>\n",
              "      <td>0.576784</td>\n",
              "      <td>0.998168</td>\n",
              "      <td>0.926209</td>\n",
              "      <td>0.827733</td>\n",
              "      <td>0.875289</td>\n",
              "      <td>0.692369</td>\n",
              "      <td>0.569944</td>\n",
              "      <td>0.694437</td>\n",
              "      <td>0.496769</td>\n",
              "    </tr>\n",
              "    <tr>\n",
              "      <th>min</th>\n",
              "      <td>-1.000000</td>\n",
              "      <td>-1.000000</td>\n",
              "      <td>-1.000000</td>\n",
              "      <td>-1.000000</td>\n",
              "      <td>-1.000000</td>\n",
              "      <td>-1.000000</td>\n",
              "      <td>-1.000000</td>\n",
              "      <td>-1.000000</td>\n",
              "      <td>-1.000000</td>\n",
              "      <td>-1.000000</td>\n",
              "      <td>-1.000000</td>\n",
              "      <td>-1.000000</td>\n",
              "      <td>-1.000000</td>\n",
              "      <td>-1.000000</td>\n",
              "      <td>-1.000000</td>\n",
              "      <td>-1.000000</td>\n",
              "      <td>-1.000000</td>\n",
              "      <td>-1.000000</td>\n",
              "      <td>0.000000</td>\n",
              "      <td>-1.000000</td>\n",
              "      <td>-1.000000</td>\n",
              "      <td>-1.000000</td>\n",
              "      <td>-1.000000</td>\n",
              "      <td>-1.000000</td>\n",
              "      <td>-1.000000</td>\n",
              "      <td>-1.000000</td>\n",
              "      <td>-1.000000</td>\n",
              "      <td>-1.000000</td>\n",
              "      <td>-1.000000</td>\n",
              "      <td>-1.000000</td>\n",
              "      <td>0.000000</td>\n",
              "    </tr>\n",
              "    <tr>\n",
              "      <th>25%</th>\n",
              "      <td>-1.000000</td>\n",
              "      <td>-1.000000</td>\n",
              "      <td>1.000000</td>\n",
              "      <td>1.000000</td>\n",
              "      <td>1.000000</td>\n",
              "      <td>-1.000000</td>\n",
              "      <td>-1.000000</td>\n",
              "      <td>-1.000000</td>\n",
              "      <td>-1.000000</td>\n",
              "      <td>1.000000</td>\n",
              "      <td>1.000000</td>\n",
              "      <td>1.000000</td>\n",
              "      <td>-1.000000</td>\n",
              "      <td>-1.000000</td>\n",
              "      <td>-1.000000</td>\n",
              "      <td>-1.000000</td>\n",
              "      <td>1.000000</td>\n",
              "      <td>1.000000</td>\n",
              "      <td>0.000000</td>\n",
              "      <td>1.000000</td>\n",
              "      <td>1.000000</td>\n",
              "      <td>1.000000</td>\n",
              "      <td>1.000000</td>\n",
              "      <td>-1.000000</td>\n",
              "      <td>-1.000000</td>\n",
              "      <td>0.000000</td>\n",
              "      <td>-1.000000</td>\n",
              "      <td>1.000000</td>\n",
              "      <td>0.000000</td>\n",
              "      <td>1.000000</td>\n",
              "      <td>0.000000</td>\n",
              "    </tr>\n",
              "    <tr>\n",
              "      <th>50%</th>\n",
              "      <td>1.000000</td>\n",
              "      <td>-1.000000</td>\n",
              "      <td>1.000000</td>\n",
              "      <td>1.000000</td>\n",
              "      <td>1.000000</td>\n",
              "      <td>-1.000000</td>\n",
              "      <td>0.000000</td>\n",
              "      <td>1.000000</td>\n",
              "      <td>-1.000000</td>\n",
              "      <td>1.000000</td>\n",
              "      <td>1.000000</td>\n",
              "      <td>1.000000</td>\n",
              "      <td>1.000000</td>\n",
              "      <td>0.000000</td>\n",
              "      <td>0.000000</td>\n",
              "      <td>-1.000000</td>\n",
              "      <td>1.000000</td>\n",
              "      <td>1.000000</td>\n",
              "      <td>0.000000</td>\n",
              "      <td>1.000000</td>\n",
              "      <td>1.000000</td>\n",
              "      <td>1.000000</td>\n",
              "      <td>1.000000</td>\n",
              "      <td>1.000000</td>\n",
              "      <td>1.000000</td>\n",
              "      <td>1.000000</td>\n",
              "      <td>-1.000000</td>\n",
              "      <td>1.000000</td>\n",
              "      <td>0.000000</td>\n",
              "      <td>1.000000</td>\n",
              "      <td>1.000000</td>\n",
              "    </tr>\n",
              "    <tr>\n",
              "      <th>75%</th>\n",
              "      <td>1.000000</td>\n",
              "      <td>-1.000000</td>\n",
              "      <td>1.000000</td>\n",
              "      <td>1.000000</td>\n",
              "      <td>1.000000</td>\n",
              "      <td>-1.000000</td>\n",
              "      <td>1.000000</td>\n",
              "      <td>1.000000</td>\n",
              "      <td>1.000000</td>\n",
              "      <td>1.000000</td>\n",
              "      <td>1.000000</td>\n",
              "      <td>1.000000</td>\n",
              "      <td>1.000000</td>\n",
              "      <td>0.000000</td>\n",
              "      <td>0.000000</td>\n",
              "      <td>-1.000000</td>\n",
              "      <td>1.000000</td>\n",
              "      <td>1.000000</td>\n",
              "      <td>0.000000</td>\n",
              "      <td>1.000000</td>\n",
              "      <td>1.000000</td>\n",
              "      <td>1.000000</td>\n",
              "      <td>1.000000</td>\n",
              "      <td>1.000000</td>\n",
              "      <td>1.000000</td>\n",
              "      <td>1.000000</td>\n",
              "      <td>1.000000</td>\n",
              "      <td>1.000000</td>\n",
              "      <td>1.000000</td>\n",
              "      <td>1.000000</td>\n",
              "      <td>1.000000</td>\n",
              "    </tr>\n",
              "    <tr>\n",
              "      <th>max</th>\n",
              "      <td>1.000000</td>\n",
              "      <td>1.000000</td>\n",
              "      <td>1.000000</td>\n",
              "      <td>1.000000</td>\n",
              "      <td>1.000000</td>\n",
              "      <td>1.000000</td>\n",
              "      <td>1.000000</td>\n",
              "      <td>1.000000</td>\n",
              "      <td>1.000000</td>\n",
              "      <td>1.000000</td>\n",
              "      <td>1.000000</td>\n",
              "      <td>1.000000</td>\n",
              "      <td>1.000000</td>\n",
              "      <td>1.000000</td>\n",
              "      <td>1.000000</td>\n",
              "      <td>1.000000</td>\n",
              "      <td>1.000000</td>\n",
              "      <td>1.000000</td>\n",
              "      <td>1.000000</td>\n",
              "      <td>1.000000</td>\n",
              "      <td>1.000000</td>\n",
              "      <td>1.000000</td>\n",
              "      <td>1.000000</td>\n",
              "      <td>1.000000</td>\n",
              "      <td>1.000000</td>\n",
              "      <td>1.000000</td>\n",
              "      <td>1.000000</td>\n",
              "      <td>1.000000</td>\n",
              "      <td>1.000000</td>\n",
              "      <td>1.000000</td>\n",
              "      <td>1.000000</td>\n",
              "    </tr>\n",
              "  </tbody>\n",
              "</table>\n",
              "</div>"
            ],
            "text/plain": [
              "       having_IP_Address    URL_Length  ...  Statistical_report        Result\n",
              "count       11055.000000  11055.000000  ...        11055.000000  11055.000000\n",
              "mean            0.313795     -0.633198  ...            0.719584      0.556943\n",
              "std             0.949534      0.766095  ...            0.694437      0.496769\n",
              "min            -1.000000     -1.000000  ...           -1.000000      0.000000\n",
              "25%            -1.000000     -1.000000  ...            1.000000      0.000000\n",
              "50%             1.000000     -1.000000  ...            1.000000      1.000000\n",
              "75%             1.000000     -1.000000  ...            1.000000      1.000000\n",
              "max             1.000000      1.000000  ...            1.000000      1.000000\n",
              "\n",
              "[8 rows x 31 columns]"
            ]
          },
          "metadata": {
            "tags": []
          },
          "execution_count": 11
        }
      ]
    },
    {
      "cell_type": "code",
      "metadata": {
        "id": "RbakIBgE_zZB"
      },
      "source": [
        "#Dropping the Domain column\n",
        "#data = data0.drop(['Domain'], axis = 1).copy()\n",
        "data=data0"
      ],
      "execution_count": null,
      "outputs": []
    },
    {
      "cell_type": "code",
      "metadata": {
        "colab": {
          "base_uri": "https://localhost:8080/"
        },
        "id": "bl7gIV-v_5L0",
        "outputId": "a22ae9ee-f69f-473e-8a9a-07a5f3468df7"
      },
      "source": [
        "#checking the data for null or missing values\n",
        "data.isnull().sum()"
      ],
      "execution_count": null,
      "outputs": [
        {
          "output_type": "execute_result",
          "data": {
            "text/plain": [
              "having_IP_Address              0\n",
              "URL_Length                     0\n",
              "Shortining_Service             0\n",
              "having_At_Symbol               0\n",
              "double_slash_redirecting       0\n",
              "Prefix_Suffix                  0\n",
              "having_Sub_Domain              0\n",
              "SSLfinal_State                 0\n",
              "Domain_registeration_length    0\n",
              "Favicon                        0\n",
              "port                           0\n",
              "HTTPS_token                    0\n",
              "Request_URL                    0\n",
              "URL_of_Anchor                  0\n",
              "Links_in_tags                  0\n",
              "SFH                            0\n",
              "Submitting_to_email            0\n",
              "Abnormal_URL                   0\n",
              "Redirect                       0\n",
              "on_mouseover                   0\n",
              "RightClick                     0\n",
              "popUpWidnow                    0\n",
              "Iframe                         0\n",
              "age_of_domain                  0\n",
              "DNSRecord                      0\n",
              "web_traffic                    0\n",
              "Page_Rank                      0\n",
              "Google_Index                   0\n",
              "Links_pointing_to_page         0\n",
              "Statistical_report             0\n",
              "Result                         0\n",
              "dtype: int64"
            ]
          },
          "metadata": {
            "tags": []
          },
          "execution_count": 13
        }
      ]
    },
    {
      "cell_type": "code",
      "metadata": {
        "colab": {
          "base_uri": "https://localhost:8080/",
          "height": 223
        },
        "id": "9qB86eXH_7pz",
        "outputId": "2fa36e82-8a03-4984-d9c2-9f87aaba234b"
      },
      "source": [
        "# shuffling the rows in the dataset so that when splitting the train and test set are equally distributed\n",
        "data = data.sample(frac=1).reset_index(drop=True)\n",
        "data.head()"
      ],
      "execution_count": null,
      "outputs": [
        {
          "output_type": "execute_result",
          "data": {
            "text/html": [
              "<div>\n",
              "<style scoped>\n",
              "    .dataframe tbody tr th:only-of-type {\n",
              "        vertical-align: middle;\n",
              "    }\n",
              "\n",
              "    .dataframe tbody tr th {\n",
              "        vertical-align: top;\n",
              "    }\n",
              "\n",
              "    .dataframe thead th {\n",
              "        text-align: right;\n",
              "    }\n",
              "</style>\n",
              "<table border=\"1\" class=\"dataframe\">\n",
              "  <thead>\n",
              "    <tr style=\"text-align: right;\">\n",
              "      <th></th>\n",
              "      <th>having_IP_Address</th>\n",
              "      <th>URL_Length</th>\n",
              "      <th>Shortining_Service</th>\n",
              "      <th>having_At_Symbol</th>\n",
              "      <th>double_slash_redirecting</th>\n",
              "      <th>Prefix_Suffix</th>\n",
              "      <th>having_Sub_Domain</th>\n",
              "      <th>SSLfinal_State</th>\n",
              "      <th>Domain_registeration_length</th>\n",
              "      <th>Favicon</th>\n",
              "      <th>port</th>\n",
              "      <th>HTTPS_token</th>\n",
              "      <th>Request_URL</th>\n",
              "      <th>URL_of_Anchor</th>\n",
              "      <th>Links_in_tags</th>\n",
              "      <th>SFH</th>\n",
              "      <th>Submitting_to_email</th>\n",
              "      <th>Abnormal_URL</th>\n",
              "      <th>Redirect</th>\n",
              "      <th>on_mouseover</th>\n",
              "      <th>RightClick</th>\n",
              "      <th>popUpWidnow</th>\n",
              "      <th>Iframe</th>\n",
              "      <th>age_of_domain</th>\n",
              "      <th>DNSRecord</th>\n",
              "      <th>web_traffic</th>\n",
              "      <th>Page_Rank</th>\n",
              "      <th>Google_Index</th>\n",
              "      <th>Links_pointing_to_page</th>\n",
              "      <th>Statistical_report</th>\n",
              "      <th>Result</th>\n",
              "    </tr>\n",
              "  </thead>\n",
              "  <tbody>\n",
              "    <tr>\n",
              "      <th>0</th>\n",
              "      <td>1</td>\n",
              "      <td>-1</td>\n",
              "      <td>1</td>\n",
              "      <td>1</td>\n",
              "      <td>1</td>\n",
              "      <td>-1</td>\n",
              "      <td>1</td>\n",
              "      <td>1</td>\n",
              "      <td>-1</td>\n",
              "      <td>1</td>\n",
              "      <td>1</td>\n",
              "      <td>1</td>\n",
              "      <td>1</td>\n",
              "      <td>1</td>\n",
              "      <td>1</td>\n",
              "      <td>1</td>\n",
              "      <td>1</td>\n",
              "      <td>1</td>\n",
              "      <td>1</td>\n",
              "      <td>1</td>\n",
              "      <td>1</td>\n",
              "      <td>1</td>\n",
              "      <td>1</td>\n",
              "      <td>-1</td>\n",
              "      <td>1</td>\n",
              "      <td>1</td>\n",
              "      <td>-1</td>\n",
              "      <td>1</td>\n",
              "      <td>0</td>\n",
              "      <td>1</td>\n",
              "      <td>1</td>\n",
              "    </tr>\n",
              "    <tr>\n",
              "      <th>1</th>\n",
              "      <td>-1</td>\n",
              "      <td>-1</td>\n",
              "      <td>-1</td>\n",
              "      <td>1</td>\n",
              "      <td>-1</td>\n",
              "      <td>-1</td>\n",
              "      <td>0</td>\n",
              "      <td>0</td>\n",
              "      <td>-1</td>\n",
              "      <td>1</td>\n",
              "      <td>1</td>\n",
              "      <td>-1</td>\n",
              "      <td>-1</td>\n",
              "      <td>-1</td>\n",
              "      <td>1</td>\n",
              "      <td>-1</td>\n",
              "      <td>1</td>\n",
              "      <td>-1</td>\n",
              "      <td>0</td>\n",
              "      <td>1</td>\n",
              "      <td>1</td>\n",
              "      <td>1</td>\n",
              "      <td>1</td>\n",
              "      <td>1</td>\n",
              "      <td>-1</td>\n",
              "      <td>-1</td>\n",
              "      <td>1</td>\n",
              "      <td>1</td>\n",
              "      <td>0</td>\n",
              "      <td>1</td>\n",
              "      <td>0</td>\n",
              "    </tr>\n",
              "    <tr>\n",
              "      <th>2</th>\n",
              "      <td>1</td>\n",
              "      <td>-1</td>\n",
              "      <td>-1</td>\n",
              "      <td>1</td>\n",
              "      <td>-1</td>\n",
              "      <td>-1</td>\n",
              "      <td>0</td>\n",
              "      <td>-1</td>\n",
              "      <td>1</td>\n",
              "      <td>1</td>\n",
              "      <td>1</td>\n",
              "      <td>-1</td>\n",
              "      <td>-1</td>\n",
              "      <td>-1</td>\n",
              "      <td>1</td>\n",
              "      <td>-1</td>\n",
              "      <td>1</td>\n",
              "      <td>-1</td>\n",
              "      <td>0</td>\n",
              "      <td>1</td>\n",
              "      <td>1</td>\n",
              "      <td>1</td>\n",
              "      <td>1</td>\n",
              "      <td>-1</td>\n",
              "      <td>-1</td>\n",
              "      <td>-1</td>\n",
              "      <td>-1</td>\n",
              "      <td>-1</td>\n",
              "      <td>0</td>\n",
              "      <td>1</td>\n",
              "      <td>0</td>\n",
              "    </tr>\n",
              "    <tr>\n",
              "      <th>3</th>\n",
              "      <td>1</td>\n",
              "      <td>-1</td>\n",
              "      <td>1</td>\n",
              "      <td>1</td>\n",
              "      <td>1</td>\n",
              "      <td>-1</td>\n",
              "      <td>-1</td>\n",
              "      <td>1</td>\n",
              "      <td>-1</td>\n",
              "      <td>1</td>\n",
              "      <td>1</td>\n",
              "      <td>1</td>\n",
              "      <td>1</td>\n",
              "      <td>0</td>\n",
              "      <td>-1</td>\n",
              "      <td>-1</td>\n",
              "      <td>1</td>\n",
              "      <td>1</td>\n",
              "      <td>0</td>\n",
              "      <td>1</td>\n",
              "      <td>1</td>\n",
              "      <td>1</td>\n",
              "      <td>1</td>\n",
              "      <td>-1</td>\n",
              "      <td>-1</td>\n",
              "      <td>0</td>\n",
              "      <td>-1</td>\n",
              "      <td>1</td>\n",
              "      <td>0</td>\n",
              "      <td>1</td>\n",
              "      <td>0</td>\n",
              "    </tr>\n",
              "    <tr>\n",
              "      <th>4</th>\n",
              "      <td>1</td>\n",
              "      <td>-1</td>\n",
              "      <td>1</td>\n",
              "      <td>1</td>\n",
              "      <td>1</td>\n",
              "      <td>-1</td>\n",
              "      <td>-1</td>\n",
              "      <td>1</td>\n",
              "      <td>-1</td>\n",
              "      <td>1</td>\n",
              "      <td>1</td>\n",
              "      <td>1</td>\n",
              "      <td>1</td>\n",
              "      <td>0</td>\n",
              "      <td>1</td>\n",
              "      <td>-1</td>\n",
              "      <td>1</td>\n",
              "      <td>1</td>\n",
              "      <td>0</td>\n",
              "      <td>1</td>\n",
              "      <td>1</td>\n",
              "      <td>1</td>\n",
              "      <td>1</td>\n",
              "      <td>1</td>\n",
              "      <td>1</td>\n",
              "      <td>1</td>\n",
              "      <td>-1</td>\n",
              "      <td>1</td>\n",
              "      <td>0</td>\n",
              "      <td>1</td>\n",
              "      <td>1</td>\n",
              "    </tr>\n",
              "  </tbody>\n",
              "</table>\n",
              "</div>"
            ],
            "text/plain": [
              "   having_IP_Address  URL_Length  ...  Statistical_report  Result\n",
              "0                  1          -1  ...                   1       1\n",
              "1                 -1          -1  ...                   1       0\n",
              "2                  1          -1  ...                   1       0\n",
              "3                  1          -1  ...                   1       0\n",
              "4                  1          -1  ...                   1       1\n",
              "\n",
              "[5 rows x 31 columns]"
            ]
          },
          "metadata": {
            "tags": []
          },
          "execution_count": 14
        }
      ]
    },
    {
      "cell_type": "markdown",
      "metadata": {
        "id": "P5cHv91_AB0p"
      },
      "source": [
        "# **Splitting the Data**"
      ]
    },
    {
      "cell_type": "code",
      "metadata": {
        "colab": {
          "base_uri": "https://localhost:8080/"
        },
        "id": "Vaqo8nS__-iC",
        "outputId": "c595db75-76d6-4243-fcb8-051ec1181020"
      },
      "source": [
        "# Sepratating & assigning features and target columns to X & y\n",
        "y = data['Result']\n",
        "X = data.drop('Result',axis=1)\n",
        "X.shape, y.shape"
      ],
      "execution_count": null,
      "outputs": [
        {
          "output_type": "execute_result",
          "data": {
            "text/plain": [
              "((11055, 30), (11055,))"
            ]
          },
          "metadata": {
            "tags": []
          },
          "execution_count": 15
        }
      ]
    },
    {
      "cell_type": "code",
      "metadata": {
        "id": "u1okhsuSAHGq"
      },
      "source": [
        "# Feature Scaling \n",
        "from sklearn.preprocessing import StandardScaler \n",
        "sc = StandardScaler() \n",
        "X_train = sc.fit_transform(X) \n",
        "y_train=y"
      ],
      "execution_count": null,
      "outputs": []
    },
    {
      "cell_type": "code",
      "metadata": {
        "id": "W5snFkvJAKox"
      },
      "source": [
        "# Applying k-Fold Cross Validation \n",
        "from sklearn import model_selection\n",
        "from sklearn.metrics import accuracy_score,f1_score, precision_score,recall_score, make_scorer\n",
        "scoring={'accuracy':make_scorer(accuracy_score),'precision':make_scorer(precision_score),\n",
        "         'recall':make_scorer(recall_score),'f1':make_scorer(f1_score)}"
      ],
      "execution_count": null,
      "outputs": []
    },
    {
      "cell_type": "markdown",
      "metadata": {
        "id": "K2hb5v5YAlg_"
      },
      "source": [
        "# **Machine Learning Models & Training**"
      ]
    },
    {
      "cell_type": "code",
      "metadata": {
        "id": "hpHkw0q9AQVb"
      },
      "source": [
        "# Creating holders to store the model performance results\n",
        "ML_Model = []\n",
        "acc_cross = []\n",
        "acc_error=[]\n",
        "pre_cross = []\n",
        "pre_error = []\n",
        "rec_cross = []\n",
        "rec_error = []\n",
        "f1_cross = []\n",
        "f1_error = []\n",
        "ex_time = []\n",
        "#function to call for storing the results\n",
        "def storeResults(model, a,ae,p,pe,r,re,f,fe,t):\n",
        "  ML_Model.append(model)\n",
        "  acc_cross.append(round(a,3))\n",
        "  acc_error.append(round(ae,3))\n",
        "  pre_cross.append(round(p,3))\n",
        "  pre_error.append(round(pe,3))\n",
        "  rec_cross.append(round(r,3))\n",
        "  rec_error.append(round(re,3))\n",
        "  f1_cross.append(round(f,3))\n",
        "  f1_error.append(round(fe,3))\n",
        "  ex_time.append(round(t,3))"
      ],
      "execution_count": null,
      "outputs": []
    },
    {
      "cell_type": "markdown",
      "metadata": {
        "id": "OK3ridAMBfdc"
      },
      "source": [
        " # **Decision Tree Classifier**"
      ]
    },
    {
      "cell_type": "code",
      "metadata": {
        "id": "01CM9BN2BbIp"
      },
      "source": [
        "import time\n",
        "p=0\n",
        "tme=0\n",
        "tic=time.perf_counter()"
      ],
      "execution_count": null,
      "outputs": []
    },
    {
      "cell_type": "code",
      "metadata": {
        "id": "sLfpZ_P4Bmw7"
      },
      "source": [
        "# Decision Tree model \n",
        "from sklearn.tree import DecisionTreeClassifier\n",
        "\n",
        "# instantiate the model \n",
        "tree = DecisionTreeClassifier(max_depth = 5)"
      ],
      "execution_count": null,
      "outputs": []
    },
    {
      "cell_type": "code",
      "metadata": {
        "id": "WcIOyB7BBrSl"
      },
      "source": [
        "#applying kfold cross validation on model\n",
        "results_dt = model_selection.cross_validate(tree.fit(X_train,y_train),\n",
        "                                          X=X_train,\n",
        "                                          y=y_train,\n",
        "                                          cv=10,\n",
        "                                          scoring=scoring)"
      ],
      "execution_count": null,
      "outputs": []
    },
    {
      "cell_type": "markdown",
      "metadata": {
        "id": "RMrqWd0JCDDZ"
      },
      "source": [
        "### **Performance Evaluation:**"
      ]
    },
    {
      "cell_type": "code",
      "metadata": {
        "id": "Jk0dtTK7CABY"
      },
      "source": [
        "acc=np.mean(results_dt['test_accuracy'])\n",
        "acc_err=np.std(results_dt['test_accuracy'])\n",
        "pre=np.mean(results_dt['test_precision'])\n",
        "pre_err=np.std(results_dt['test_precision'])\n",
        "rec=np.mean(results_dt['test_recall'])\n",
        "rec_err=np.std(results_dt['test_recall'])\n",
        "f1=np.mean(results_dt['test_f1'])\n",
        "f1_err=np.std(results_dt['test_f1'])"
      ],
      "execution_count": null,
      "outputs": []
    },
    {
      "cell_type": "code",
      "metadata": {
        "colab": {
          "base_uri": "https://localhost:8080/"
        },
        "id": "s0neRy16CS-c",
        "outputId": "d0dc38b3-8f1e-4226-d25f-77d4fbb83717"
      },
      "source": [
        "print('Cross Validation accuracy: %.3f +/- %.3f' % (acc,acc_err))\n",
        "print('Precision: %.3f +/- %.3f' % (pre,pre_err))\n",
        "print('Recall: %.3f +/- %.3f' % (rec,rec_err))\n",
        "print('F1 Score: %.3f +/- %.3f' % (f1,f1_err))"
      ],
      "execution_count": null,
      "outputs": [
        {
          "output_type": "stream",
          "text": [
            "Cross Validation accuracy: 0.919 +/- 0.010\n",
            "Precision: 0.900 +/- 0.012\n",
            "Recall: 0.963 +/- 0.021\n",
            "F1 Score: 0.930 +/- 0.009\n"
          ],
          "name": "stdout"
        }
      ]
    },
    {
      "cell_type": "markdown",
      "metadata": {
        "id": "G1L_59u3CbkX"
      },
      "source": [
        "### **Storing the results:**"
      ]
    },
    {
      "cell_type": "code",
      "metadata": {
        "id": "jsJGFa0fCY8M"
      },
      "source": [
        "#storing the results. The below mentioned order of parameter passing is important.\n",
        "#Caution: Execute only once to avoid duplications.\n",
        "p=time.perf_counter()\n",
        "tme=p-tic\n",
        "tic=p\n",
        "storeResults('Decision Tree', acc,acc_err,pre,pre_err,rec,rec_err,f1,f1_err,tme)"
      ],
      "execution_count": null,
      "outputs": []
    },
    {
      "cell_type": "markdown",
      "metadata": {
        "id": "rVSGQ62gEh6o"
      },
      "source": [
        "# **Random Forest Classifier**"
      ]
    },
    {
      "cell_type": "code",
      "metadata": {
        "id": "9fRQ4aABDXnR"
      },
      "source": [
        "import time\n",
        "p=0\n",
        "tme=0\n",
        "tic=time.perf_counter()"
      ],
      "execution_count": null,
      "outputs": []
    },
    {
      "cell_type": "code",
      "metadata": {
        "id": "xmTE9ctwCh3h"
      },
      "source": [
        "# Random Forest model\n",
        "from sklearn.ensemble import RandomForestClassifier\n",
        "\n",
        "# instantiate the model\n",
        "forest = RandomForestClassifier(max_depth=5)"
      ],
      "execution_count": null,
      "outputs": []
    },
    {
      "cell_type": "code",
      "metadata": {
        "id": "IDxO7815FCDm"
      },
      "source": [
        "#applying kfold cross validation on model\n",
        "results_rf = model_selection.cross_validate(forest.fit(X_train,y_train),\n",
        "                                          X=X_train,\n",
        "                                          y=y_train,\n",
        "                                          cv=10,\n",
        "                                          scoring=scoring)"
      ],
      "execution_count": null,
      "outputs": []
    },
    {
      "cell_type": "markdown",
      "metadata": {
        "id": "rUxtIGVEFRPG"
      },
      "source": [
        "### **Performance Evaluation:**"
      ]
    },
    {
      "cell_type": "code",
      "metadata": {
        "id": "aL-58EroFNOS"
      },
      "source": [
        "acc=np.mean(results_rf['test_accuracy'])\n",
        "acc_err=np.std(results_rf['test_accuracy'])\n",
        "pre=np.mean(results_rf['test_precision'])\n",
        "pre_err=np.std(results_rf['test_precision'])\n",
        "rec=np.mean(results_rf['test_recall'])\n",
        "rec_err=np.std(results_rf['test_recall'])\n",
        "f1=np.mean(results_rf['test_f1'])\n",
        "f1_err=np.std(results_rf['test_f1'])"
      ],
      "execution_count": null,
      "outputs": []
    },
    {
      "cell_type": "code",
      "metadata": {
        "colab": {
          "base_uri": "https://localhost:8080/"
        },
        "id": "AUTzZAymFZ8E",
        "outputId": "00de3304-3452-4e79-b166-7512f44f0fc0"
      },
      "source": [
        "print('Cross Validation accuracy: %.3f +/- %.3f' % (acc,acc_err))\n",
        "print('Precision: %.3f +/- %.3f' % (pre,pre_err))\n",
        "print('Recall: %.3f +/- %.3f' % (rec,rec_err))\n",
        "print('F1 Score: %.3f +/- %.3f' % (f1,f1_err))"
      ],
      "execution_count": null,
      "outputs": [
        {
          "output_type": "stream",
          "text": [
            "Cross Validation accuracy: 0.930 +/- 0.007\n",
            "Precision: 0.919 +/- 0.005\n",
            "Recall: 0.960 +/- 0.010\n",
            "F1 Score: 0.939 +/- 0.006\n"
          ],
          "name": "stdout"
        }
      ]
    },
    {
      "cell_type": "markdown",
      "metadata": {
        "id": "9El-yBzn0FVa"
      },
      "source": [
        "#### **Storing the results:**"
      ]
    },
    {
      "cell_type": "code",
      "metadata": {
        "id": "MlDKK3pdFc2X"
      },
      "source": [
        "#storing the results. The below mentioned order of parameter passing is important.\n",
        "#Caution: Execute only once to avoid duplications.\n",
        "p=time.perf_counter()\n",
        "tme=p-tic\n",
        "tic=p\n",
        "storeResults('Random Forest', acc,acc_err,pre,pre_err,rec,rec_err,f1,f1_err,tme)"
      ],
      "execution_count": null,
      "outputs": []
    },
    {
      "cell_type": "markdown",
      "metadata": {
        "id": "mzhxesh6Gtxh"
      },
      "source": [
        "# **AdaBoost Classifier**"
      ]
    },
    {
      "cell_type": "code",
      "metadata": {
        "id": "wZKpvp-oFi0Q"
      },
      "source": [
        "import time\n",
        "p=0\n",
        "tme=0\n",
        "tic=time.perf_counter()"
      ],
      "execution_count": null,
      "outputs": []
    },
    {
      "cell_type": "code",
      "metadata": {
        "id": "CiZGs5JRG1tB"
      },
      "source": [
        "from sklearn.ensemble import AdaBoostClassifier\n",
        "adc=AdaBoostClassifier(n_estimators=5,learning_rate=1)"
      ],
      "execution_count": null,
      "outputs": []
    },
    {
      "cell_type": "code",
      "metadata": {
        "id": "Fs98nH3OHPyJ"
      },
      "source": [
        "#applying kfold cross validation on model\n",
        "results_adc = model_selection.cross_validate(adc.fit(X_train,y_train),\n",
        "                                          X=X_train,\n",
        "                                          y=y_train,\n",
        "                                          cv=10,\n",
        "                                          scoring=scoring)"
      ],
      "execution_count": null,
      "outputs": []
    },
    {
      "cell_type": "markdown",
      "metadata": {
        "id": "1Y9DjSkfHrAc"
      },
      "source": [
        "### **Performance Evaluation:**"
      ]
    },
    {
      "cell_type": "code",
      "metadata": {
        "id": "IJnHfEZBHnJF"
      },
      "source": [
        "acc=np.mean(results_adc['test_accuracy'])\n",
        "acc_err=np.std(results_adc['test_accuracy'])\n",
        "pre=np.mean(results_adc['test_precision'])\n",
        "pre_err=np.std(results_adc['test_precision'])\n",
        "rec=np.mean(results_adc['test_recall'])\n",
        "rec_err=np.std(results_adc['test_recall'])\n",
        "f1=np.mean(results_adc['test_f1'])\n",
        "f1_err=np.std(results_adc['test_f1'])"
      ],
      "execution_count": null,
      "outputs": []
    },
    {
      "cell_type": "code",
      "metadata": {
        "colab": {
          "base_uri": "https://localhost:8080/"
        },
        "id": "SRom5c2jHyv_",
        "outputId": "3f215999-6491-485b-a182-23e03eba1822"
      },
      "source": [
        "print('Cross Validation accuracy: %.3f +/- %.3f' % (acc,acc_err))\n",
        "print('Precision: %.3f +/- %.3f' % (pre,pre_err))\n",
        "print('Recall: %.3f +/- %.3f' % (rec,rec_err))\n",
        "print('F1 Score: %.3f +/- %.3f' % (f1,f1_err))"
      ],
      "execution_count": null,
      "outputs": [
        {
          "output_type": "stream",
          "text": [
            "Cross Validation accuracy: 0.917 +/- 0.009\n",
            "Precision: 0.924 +/- 0.007\n",
            "Recall: 0.928 +/- 0.012\n",
            "F1 Score: 0.926 +/- 0.009\n"
          ],
          "name": "stdout"
        }
      ]
    },
    {
      "cell_type": "markdown",
      "metadata": {
        "id": "v8cZ14kV0VOO"
      },
      "source": [
        "### **Storing the results:**"
      ]
    },
    {
      "cell_type": "code",
      "metadata": {
        "id": "YS8H8ZV9H1-R"
      },
      "source": [
        "#storing the results. The below mentioned order of parameter passing is important.\n",
        "#Caution: Execute only once to avoid duplications.\n",
        "p=time.perf_counter()\n",
        "tme=p-tic\n",
        "tic=p\n",
        "storeResults('AdaBoost Classifier', acc,acc_err,pre,pre_err,rec,rec_err,f1,f1_err,tme)"
      ],
      "execution_count": null,
      "outputs": []
    },
    {
      "cell_type": "markdown",
      "metadata": {
        "id": "gvo37Tw2s0mg"
      },
      "source": [
        "# **XGBoost Classifier**"
      ]
    },
    {
      "cell_type": "code",
      "metadata": {
        "id": "QUPF93rBtG-P"
      },
      "source": [
        "import time\n",
        "p=0\n",
        "tme=0\n",
        "tic=time.perf_counter()"
      ],
      "execution_count": null,
      "outputs": []
    },
    {
      "cell_type": "code",
      "metadata": {
        "id": "XlambeXfsqIp"
      },
      "source": [
        "#XGBoost Classifier\n",
        "from xgboost import XGBClassifier\n",
        "# instantiate the model \n",
        "xgb = XGBClassifier(learning_rate=0.4,max_depth=7)"
      ],
      "execution_count": null,
      "outputs": []
    },
    {
      "cell_type": "code",
      "metadata": {
        "id": "gOWkSJWJtZ-q"
      },
      "source": [
        "#applying kfold cross validation on model\n",
        "results_xgb = model_selection.cross_validate(xgb.fit(X_train,y_train),\n",
        "                                          X=X_train,\n",
        "                                          y=y_train,\n",
        "                                          cv=10,\n",
        "                                          scoring=scoring)"
      ],
      "execution_count": null,
      "outputs": []
    },
    {
      "cell_type": "markdown",
      "metadata": {
        "id": "pQIZFJTGtjw9"
      },
      "source": [
        "### **Performance Evaluation:**"
      ]
    },
    {
      "cell_type": "code",
      "metadata": {
        "id": "AUp53UUFtgZE"
      },
      "source": [
        "acc=np.mean(results_xgb['test_accuracy'])\n",
        "acc_err=np.std(results_xgb['test_accuracy'])\n",
        "pre=np.mean(results_xgb['test_precision'])\n",
        "pre_err=np.std(results_xgb['test_precision'])\n",
        "rec=np.mean(results_xgb['test_recall'])\n",
        "rec_err=np.std(results_xgb['test_recall'])\n",
        "f1=np.mean(results_xgb['test_f1'])\n",
        "f1_err=np.std(results_xgb['test_f1'])"
      ],
      "execution_count": null,
      "outputs": []
    },
    {
      "cell_type": "code",
      "metadata": {
        "colab": {
          "base_uri": "https://localhost:8080/"
        },
        "id": "Kz1mpYemuh3p",
        "outputId": "2d48f5f6-3390-4f49-9b8d-b9689d4a04f8"
      },
      "source": [
        "print('Cross Validation accuracy: %.3f +/- %.3f' % (acc,acc_err))\n",
        "print('Precision: %.3f +/- %.3f' % (pre,pre_err))\n",
        "print('Recall: %.3f +/- %.3f' % (rec,rec_err))\n",
        "print('F1 Score: %.3f +/- %.3f' % (f1,f1_err))"
      ],
      "execution_count": null,
      "outputs": [
        {
          "output_type": "stream",
          "text": [
            "Cross Validation accuracy: 0.974 +/- 0.003\n",
            "Precision: 0.972 +/- 0.005\n",
            "Recall: 0.981 +/- 0.004\n",
            "F1 Score: 0.976 +/- 0.003\n"
          ],
          "name": "stdout"
        }
      ]
    },
    {
      "cell_type": "markdown",
      "metadata": {
        "id": "MX7c3Pp9upDS"
      },
      "source": [
        "### **Storing the results:**\n",
        "\n"
      ]
    },
    {
      "cell_type": "code",
      "metadata": {
        "id": "EHGrLCCZulQu"
      },
      "source": [
        "#storing the results. The below mentioned order of parameter passing is important.\n",
        "#Caution: Execute only once to avoid duplications.\n",
        "p=time.perf_counter()\n",
        "tme=p-tic\n",
        "tic=p\n",
        "storeResults('XGBoost classifier', acc,acc_err,pre,pre_err,rec,rec_err,f1,f1_err,tme)"
      ],
      "execution_count": null,
      "outputs": []
    },
    {
      "cell_type": "markdown",
      "metadata": {
        "id": "D3cyiMcIu-Pq"
      },
      "source": [
        "# **Support Vector Machine**"
      ]
    },
    {
      "cell_type": "code",
      "metadata": {
        "id": "kSG0vEQku5mj"
      },
      "source": [
        "import time\n",
        "p=0\n",
        "tme=0\n",
        "tic=time.perf_counter()"
      ],
      "execution_count": null,
      "outputs": []
    },
    {
      "cell_type": "code",
      "metadata": {
        "id": "vVXsKg9gvEfx"
      },
      "source": [
        "# SVM model \n",
        "from sklearn.svm import SVC \n",
        "\n",
        "# instantiate the model \n",
        "svm = SVC(kernel='linear', C=1.0, random_state=12)"
      ],
      "execution_count": null,
      "outputs": []
    },
    {
      "cell_type": "code",
      "metadata": {
        "id": "W3S7NM0WvTjR"
      },
      "source": [
        "#applying kfold cross validation on model\n",
        "results_svm = model_selection.cross_validate(svm.fit(X_train,y_train),\n",
        "                                          X=X_train,\n",
        "                                          y=y_train,\n",
        "                                          cv=10,\n",
        "                                          scoring=scoring)"
      ],
      "execution_count": null,
      "outputs": []
    },
    {
      "cell_type": "markdown",
      "metadata": {
        "id": "LrvOYSkAvf76"
      },
      "source": [
        "### **Performance Evaluation:**"
      ]
    },
    {
      "cell_type": "code",
      "metadata": {
        "id": "Ulx2RNh3vbWn"
      },
      "source": [
        "acc=np.mean(results_svm['test_accuracy'])\n",
        "acc_err=np.std(results_svm['test_accuracy'])\n",
        "pre=np.mean(results_svm['test_precision'])\n",
        "pre_err=np.std(results_svm['test_precision'])\n",
        "rec=np.mean(results_svm['test_recall'])\n",
        "rec_err=np.std(results_svm['test_recall'])\n",
        "f1=np.mean(results_svm['test_f1'])\n",
        "f1_err=np.std(results_svm['test_f1'])"
      ],
      "execution_count": null,
      "outputs": []
    },
    {
      "cell_type": "code",
      "metadata": {
        "colab": {
          "base_uri": "https://localhost:8080/"
        },
        "id": "Y_5SQo-Dv1KD",
        "outputId": "56dd9df3-251a-4b3e-87c1-841e1b72944b"
      },
      "source": [
        "print('Cross Validation accuracy: %.3f +/- %.3f' % (acc,acc_err))\n",
        "print('Precision: %.3f +/- %.3f' % (pre,pre_err))\n",
        "print('Recall: %.3f +/- %.3f' % (rec,rec_err))\n",
        "print('F1 Score: %.3f +/- %.3f' % (f1,f1_err))"
      ],
      "execution_count": null,
      "outputs": [
        {
          "output_type": "stream",
          "text": [
            "Cross Validation accuracy: 0.928 +/- 0.007\n",
            "Precision: 0.926 +/- 0.009\n",
            "Recall: 0.946 +/- 0.009\n",
            "F1 Score: 0.936 +/- 0.006\n"
          ],
          "name": "stdout"
        }
      ]
    },
    {
      "cell_type": "markdown",
      "metadata": {
        "id": "RHre5hcXv4KB"
      },
      "source": [
        "###**Storing the results:**"
      ]
    },
    {
      "cell_type": "code",
      "metadata": {
        "id": "v1a6hcyOv3eT"
      },
      "source": [
        "#storing the results. The below mentioned order of parameter passing is important.\n",
        "#Caution: Execute only once to avoid duplications.\n",
        "p=time.perf_counter()\n",
        "tme=p-tic\n",
        "tic=p\n",
        "storeResults('Support Vector Machine', acc,acc_err,pre,pre_err,rec,rec_err,f1,f1_err,tme)"
      ],
      "execution_count": null,
      "outputs": []
    },
    {
      "cell_type": "markdown",
      "metadata": {
        "id": "TuxcotdRwM4N"
      },
      "source": [
        "# **K-nearest neighbors**"
      ]
    },
    {
      "cell_type": "code",
      "metadata": {
        "id": "CBxMRMBYwIOH"
      },
      "source": [
        "import time\n",
        "p=0\n",
        "tme=0\n",
        "tic=time.perf_counter()"
      ],
      "execution_count": null,
      "outputs": []
    },
    {
      "cell_type": "code",
      "metadata": {
        "id": "DFbavM1TwTMI"
      },
      "source": [
        "# K-nearest neighbors model \n",
        "from sklearn.neighbors import KNeighborsClassifier\n",
        "\n",
        "# instantiate the model \n",
        "knn=KNeighborsClassifier()"
      ],
      "execution_count": null,
      "outputs": []
    },
    {
      "cell_type": "code",
      "metadata": {
        "id": "F154a_Puwta1"
      },
      "source": [
        "#applying kfold cross validation on model\n",
        "results_knn = model_selection.cross_validate(knn.fit(X_train,y_train),\n",
        "                                          X=X_train,\n",
        "                                          y=y_train,\n",
        "                                          cv=10,\n",
        "                                          scoring=scoring)"
      ],
      "execution_count": null,
      "outputs": []
    },
    {
      "cell_type": "markdown",
      "metadata": {
        "id": "Yw01Bvr-w7RJ"
      },
      "source": [
        "### **Performance Evaluation:**"
      ]
    },
    {
      "cell_type": "code",
      "metadata": {
        "id": "M3l5ZAy2w068"
      },
      "source": [
        "acc=np.mean(results_knn['test_accuracy'])\n",
        "acc_err=np.std(results_knn['test_accuracy'])\n",
        "pre=np.mean(results_knn['test_precision'])\n",
        "pre_err=np.std(results_knn['test_precision'])\n",
        "rec=np.mean(results_knn['test_recall'])\n",
        "rec_err=np.std(results_knn['test_recall'])\n",
        "f1=np.mean(results_knn['test_f1'])\n",
        "f1_err=np.std(results_knn['test_f1'])"
      ],
      "execution_count": null,
      "outputs": []
    },
    {
      "cell_type": "code",
      "metadata": {
        "colab": {
          "base_uri": "https://localhost:8080/"
        },
        "id": "BWoIrQwTxR-y",
        "outputId": "240fe31a-a9a2-4dd2-c01f-136345b718a1"
      },
      "source": [
        "print('Cross Validation accuracy: %.3f +/- %.3f' % (acc,acc_err))\n",
        "print('Precision: %.3f +/- %.3f' % (pre,pre_err))\n",
        "print('Recall: %.3f +/- %.3f' % (rec,rec_err))\n",
        "print('F1 Score: %.3f +/- %.3f' % (f1,f1_err))"
      ],
      "execution_count": null,
      "outputs": [
        {
          "output_type": "stream",
          "text": [
            "Cross Validation accuracy: 0.948 +/- 0.005\n",
            "Precision: 0.949 +/- 0.009\n",
            "Recall: 0.958 +/- 0.007\n",
            "F1 Score: 0.953 +/- 0.005\n"
          ],
          "name": "stdout"
        }
      ]
    },
    {
      "cell_type": "markdown",
      "metadata": {
        "id": "ltOZvVI0xXSf"
      },
      "source": [
        " ### **Storing the results:**"
      ]
    },
    {
      "cell_type": "code",
      "metadata": {
        "id": "bv0hBoTBxUUx"
      },
      "source": [
        "#storing the results. The below mentioned order of parameter passing is important.\n",
        "#Caution: Execute only once to avoid duplications.\n",
        "p=time.perf_counter()\n",
        "tme=p-tic\n",
        "tic=p\n",
        "storeResults('K-nearest neighbors', acc,acc_err,pre,pre_err,rec,rec_err,f1,f1_err,tme)"
      ],
      "execution_count": null,
      "outputs": []
    },
    {
      "cell_type": "markdown",
      "metadata": {
        "id": "kg3KhOiXxseN"
      },
      "source": [
        "#**Gaussian Naive-Bayes**"
      ]
    },
    {
      "cell_type": "code",
      "metadata": {
        "id": "BcywPvgwxjxf"
      },
      "source": [
        "import time\n",
        "p=0\n",
        "tme=0\n",
        "tic=time.perf_counter()"
      ],
      "execution_count": null,
      "outputs": []
    },
    {
      "cell_type": "code",
      "metadata": {
        "id": "UAkD9Xjtx1BM"
      },
      "source": [
        "# Gaussian Naive-Bayes model \n",
        "from sklearn.naive_bayes import GaussianNB\n",
        "\n",
        "# instantiate the model \n",
        "gnb=GaussianNB()"
      ],
      "execution_count": null,
      "outputs": []
    },
    {
      "cell_type": "code",
      "metadata": {
        "id": "rVxVqOPlyBOz"
      },
      "source": [
        "#applying kfold cross validation on model\n",
        "results_gnb = model_selection.cross_validate(gnb.fit(X_train,y_train),\n",
        "                                          X=X_train,\n",
        "                                          y=y_train,\n",
        "                                          cv=10,\n",
        "                                          scoring=scoring)"
      ],
      "execution_count": null,
      "outputs": []
    },
    {
      "cell_type": "markdown",
      "metadata": {
        "id": "b8vZG1EkyJvb"
      },
      "source": [
        "### **Performance Evaluation:**"
      ]
    },
    {
      "cell_type": "code",
      "metadata": {
        "id": "x4goo94CyG-4"
      },
      "source": [
        "acc=np.mean(results_gnb['test_accuracy'])\n",
        "acc_err=np.std(results_gnb['test_accuracy'])\n",
        "pre=np.mean(results_gnb['test_precision'])\n",
        "pre_err=np.std(results_gnb['test_precision'])\n",
        "rec=np.mean(results_gnb['test_recall'])\n",
        "rec_err=np.std(results_gnb['test_recall'])\n",
        "f1=np.mean(results_gnb['test_f1'])\n",
        "f1_err=np.std(results_gnb['test_f1'])"
      ],
      "execution_count": null,
      "outputs": []
    },
    {
      "cell_type": "code",
      "metadata": {
        "colab": {
          "base_uri": "https://localhost:8080/"
        },
        "id": "tJZc5mslybOT",
        "outputId": "a0b6c1a5-d35d-4bd9-fb4e-8a718a6839b6"
      },
      "source": [
        "print('Cross Validation accuracy: %.3f +/- %.3f' % (acc,acc_err))\n",
        "print('Precision: %.3f +/- %.3f' % (pre,pre_err))\n",
        "print('Recall: %.3f +/- %.3f' % (rec,rec_err))\n",
        "print('F1 Score: %.3f +/- %.3f' % (f1,f1_err))"
      ],
      "execution_count": null,
      "outputs": [
        {
          "output_type": "stream",
          "text": [
            "Cross Validation accuracy: 0.598 +/- 0.009\n",
            "Precision: 0.997 +/- 0.005\n",
            "Recall: 0.279 +/- 0.016\n",
            "F1 Score: 0.436 +/- 0.019\n"
          ],
          "name": "stdout"
        }
      ]
    },
    {
      "cell_type": "markdown",
      "metadata": {
        "id": "Xow6ufEZyhZP"
      },
      "source": [
        "#### **Storing the results:**"
      ]
    },
    {
      "cell_type": "code",
      "metadata": {
        "id": "uqSGi02aydcl"
      },
      "source": [
        "#storing the results. The below mentioned order of parameter passing is important.\n",
        "#Caution: Execute only once to avoid duplications.\n",
        "p=time.perf_counter()\n",
        "tme=p-tic\n",
        "tic=p\n",
        "storeResults('Gaussian Naive-Bayes', acc,acc_err,pre,pre_err,rec,rec_err,f1,f1_err,tme)"
      ],
      "execution_count": null,
      "outputs": []
    },
    {
      "cell_type": "markdown",
      "metadata": {
        "id": "mauEV19rzC3I"
      },
      "source": [
        "# **Multilayer Perceptrons (MLPs): Deep Learning**"
      ]
    },
    {
      "cell_type": "code",
      "metadata": {
        "id": "CBBzeDWKzMK7"
      },
      "source": [
        "import time\n",
        "p=0\n",
        "tme=0\n",
        "tic=time.perf_counter()"
      ],
      "execution_count": null,
      "outputs": []
    },
    {
      "cell_type": "code",
      "metadata": {
        "id": "objcFl4oyqzn"
      },
      "source": [
        "# Multilayer Perceptrons model\n",
        "from sklearn.neural_network import MLPClassifier\n",
        "# instantiate the model\n",
        "mlp = MLPClassifier(alpha=0.001, hidden_layer_sizes=([100,100,100]))"
      ],
      "execution_count": null,
      "outputs": []
    },
    {
      "cell_type": "code",
      "metadata": {
        "id": "pKsWQyrgzIr8"
      },
      "source": [
        "#applying kfold cross validation on model\n",
        "results_mlp = model_selection.cross_validate(mlp.fit(X_train,y_train),\n",
        "                                          X=X_train,\n",
        "                                          y=y_train,\n",
        "                                          cv=10,\n",
        "                                          scoring=scoring)"
      ],
      "execution_count": null,
      "outputs": []
    },
    {
      "cell_type": "markdown",
      "metadata": {
        "id": "MeG36VrbzWdT"
      },
      "source": [
        "#### **Performance Evaluation:**"
      ]
    },
    {
      "cell_type": "code",
      "metadata": {
        "id": "8UO-SixzzTKn"
      },
      "source": [
        "acc=np.mean(results_mlp['test_accuracy'])\n",
        "acc_err=np.std(results_mlp['test_accuracy'])\n",
        "pre=np.mean(results_mlp['test_precision'])\n",
        "pre_err=np.std(results_mlp['test_precision'])\n",
        "rec=np.mean(results_mlp['test_recall'])\n",
        "rec_err=np.std(results_mlp['test_recall'])\n",
        "f1=np.mean(results_mlp['test_f1'])\n",
        "f1_err=np.std(results_mlp['test_f1'])"
      ],
      "execution_count": null,
      "outputs": []
    },
    {
      "cell_type": "code",
      "metadata": {
        "colab": {
          "base_uri": "https://localhost:8080/"
        },
        "id": "amdLQhZtzpu8",
        "outputId": "09d138cd-0c40-42ba-f45e-e54e5cc6cb60"
      },
      "source": [
        "print('Cross Validation accuracy: %.3f +/- %.3f' % (acc,acc_err))\n",
        "print('Precision: %.3f +/- %.3f' % (pre,pre_err))\n",
        "print('Recall: %.3f +/- %.3f' % (rec,rec_err))\n",
        "print('F1 Score: %.3f +/- %.3f' % (f1,f1_err))"
      ],
      "execution_count": null,
      "outputs": [
        {
          "output_type": "stream",
          "text": [
            "Cross Validation accuracy: 0.970 +/- 0.005\n",
            "Precision: 0.969 +/- 0.006\n",
            "Recall: 0.978 +/- 0.006\n",
            "F1 Score: 0.973 +/- 0.004\n"
          ],
          "name": "stdout"
        }
      ]
    },
    {
      "cell_type": "markdown",
      "metadata": {
        "id": "ueXe0U8h0gw2"
      },
      "source": [
        "### **Storing the results:**"
      ]
    },
    {
      "cell_type": "code",
      "metadata": {
        "id": "rstB06DB0dvW"
      },
      "source": [
        "#storing the results. The below mentioned order of parameter passing is important.\n",
        "#Caution: Execute only once to avoid duplications.\n",
        "p=time.perf_counter()\n",
        "tme=p-tic\n",
        "tic=p\n",
        "storeResults('Multilayer Perceptrons Classifier', acc,acc_err,pre,pre_err,rec,rec_err,f1,f1_err,tme)"
      ],
      "execution_count": null,
      "outputs": []
    },
    {
      "cell_type": "markdown",
      "metadata": {
        "id": "scxkFtlZ4iND"
      },
      "source": [
        "# **Comparision of Models**"
      ]
    },
    {
      "cell_type": "code",
      "metadata": {
        "colab": {
          "base_uri": "https://localhost:8080/",
          "height": 295
        },
        "id": "9qhRswID0uj6",
        "outputId": "3543d757-035d-46e5-b1b9-8d72aba55f70"
      },
      "source": [
        "#creating dataframe\n",
        "results = pd.DataFrame({ 'ML Model': ML_Model,    \n",
        "    'Acc(mean)': acc_cross,'error(+/-':acc_error,'precision(mean)':pre_cross,'error(+/-)':pre_error,\n",
        "    'recall(mean)':rec_cross,'error(+/-)':rec_error,'f1(mean)':f1_cross,'error(+/-)':f1_error,\n",
        "    'Execution Time':ex_time})\n",
        "results"
      ],
      "execution_count": null,
      "outputs": [
        {
          "output_type": "execute_result",
          "data": {
            "text/html": [
              "<div>\n",
              "<style scoped>\n",
              "    .dataframe tbody tr th:only-of-type {\n",
              "        vertical-align: middle;\n",
              "    }\n",
              "\n",
              "    .dataframe tbody tr th {\n",
              "        vertical-align: top;\n",
              "    }\n",
              "\n",
              "    .dataframe thead th {\n",
              "        text-align: right;\n",
              "    }\n",
              "</style>\n",
              "<table border=\"1\" class=\"dataframe\">\n",
              "  <thead>\n",
              "    <tr style=\"text-align: right;\">\n",
              "      <th></th>\n",
              "      <th>ML Model</th>\n",
              "      <th>Acc(mean)</th>\n",
              "      <th>error(+/-</th>\n",
              "      <th>precision(mean)</th>\n",
              "      <th>error(+/-)</th>\n",
              "      <th>recall(mean)</th>\n",
              "      <th>f1(mean)</th>\n",
              "      <th>Execution Time</th>\n",
              "    </tr>\n",
              "  </thead>\n",
              "  <tbody>\n",
              "    <tr>\n",
              "      <th>0</th>\n",
              "      <td>Decision Tree</td>\n",
              "      <td>0.919</td>\n",
              "      <td>0.010</td>\n",
              "      <td>0.900</td>\n",
              "      <td>0.009</td>\n",
              "      <td>0.963</td>\n",
              "      <td>0.930</td>\n",
              "      <td>0.443</td>\n",
              "    </tr>\n",
              "    <tr>\n",
              "      <th>1</th>\n",
              "      <td>Random Forest</td>\n",
              "      <td>0.930</td>\n",
              "      <td>0.007</td>\n",
              "      <td>0.919</td>\n",
              "      <td>0.006</td>\n",
              "      <td>0.960</td>\n",
              "      <td>0.939</td>\n",
              "      <td>4.778</td>\n",
              "    </tr>\n",
              "    <tr>\n",
              "      <th>2</th>\n",
              "      <td>AdaBoost Classifier</td>\n",
              "      <td>0.917</td>\n",
              "      <td>0.009</td>\n",
              "      <td>0.924</td>\n",
              "      <td>0.009</td>\n",
              "      <td>0.928</td>\n",
              "      <td>0.926</td>\n",
              "      <td>0.633</td>\n",
              "    </tr>\n",
              "    <tr>\n",
              "      <th>3</th>\n",
              "      <td>XGBoost classifier</td>\n",
              "      <td>0.974</td>\n",
              "      <td>0.003</td>\n",
              "      <td>0.972</td>\n",
              "      <td>0.003</td>\n",
              "      <td>0.981</td>\n",
              "      <td>0.976</td>\n",
              "      <td>22.266</td>\n",
              "    </tr>\n",
              "    <tr>\n",
              "      <th>4</th>\n",
              "      <td>Support Vector Machine</td>\n",
              "      <td>0.928</td>\n",
              "      <td>0.007</td>\n",
              "      <td>0.926</td>\n",
              "      <td>0.006</td>\n",
              "      <td>0.946</td>\n",
              "      <td>0.936</td>\n",
              "      <td>27.525</td>\n",
              "    </tr>\n",
              "    <tr>\n",
              "      <th>5</th>\n",
              "      <td>K-nearest neighbors</td>\n",
              "      <td>0.948</td>\n",
              "      <td>0.005</td>\n",
              "      <td>0.949</td>\n",
              "      <td>0.005</td>\n",
              "      <td>0.958</td>\n",
              "      <td>0.953</td>\n",
              "      <td>7.228</td>\n",
              "    </tr>\n",
              "    <tr>\n",
              "      <th>6</th>\n",
              "      <td>Gaussian Naive-Bayes</td>\n",
              "      <td>0.598</td>\n",
              "      <td>0.009</td>\n",
              "      <td>0.997</td>\n",
              "      <td>0.019</td>\n",
              "      <td>0.279</td>\n",
              "      <td>0.436</td>\n",
              "      <td>0.196</td>\n",
              "    </tr>\n",
              "    <tr>\n",
              "      <th>7</th>\n",
              "      <td>Multilayer Perceptrons Classifier</td>\n",
              "      <td>0.970</td>\n",
              "      <td>0.005</td>\n",
              "      <td>0.969</td>\n",
              "      <td>0.004</td>\n",
              "      <td>0.978</td>\n",
              "      <td>0.973</td>\n",
              "      <td>157.277</td>\n",
              "    </tr>\n",
              "  </tbody>\n",
              "</table>\n",
              "</div>"
            ],
            "text/plain": [
              "                            ML Model  Acc(mean)  ...  f1(mean)  Execution Time\n",
              "0                      Decision Tree      0.919  ...     0.930           0.443\n",
              "1                      Random Forest      0.930  ...     0.939           4.778\n",
              "2                AdaBoost Classifier      0.917  ...     0.926           0.633\n",
              "3                 XGBoost classifier      0.974  ...     0.976          22.266\n",
              "4             Support Vector Machine      0.928  ...     0.936          27.525\n",
              "5                K-nearest neighbors      0.948  ...     0.953           7.228\n",
              "6               Gaussian Naive-Bayes      0.598  ...     0.436           0.196\n",
              "7  Multilayer Perceptrons Classifier      0.970  ...     0.973         157.277\n",
              "\n",
              "[8 rows x 8 columns]"
            ]
          },
          "metadata": {
            "tags": []
          },
          "execution_count": 67
        }
      ]
    },
    {
      "cell_type": "code",
      "metadata": {
        "colab": {
          "base_uri": "https://localhost:8080/",
          "height": 295
        },
        "id": "HQ3NvwKL4pHb",
        "outputId": "e7450b50-c76b-4ea0-9037-e485ddceb45c"
      },
      "source": [
        "#Sorting the datafram on accuracy\n",
        "results.sort_values(by=['Acc(mean)'], ascending=False)"
      ],
      "execution_count": null,
      "outputs": [
        {
          "output_type": "execute_result",
          "data": {
            "text/html": [
              "<div>\n",
              "<style scoped>\n",
              "    .dataframe tbody tr th:only-of-type {\n",
              "        vertical-align: middle;\n",
              "    }\n",
              "\n",
              "    .dataframe tbody tr th {\n",
              "        vertical-align: top;\n",
              "    }\n",
              "\n",
              "    .dataframe thead th {\n",
              "        text-align: right;\n",
              "    }\n",
              "</style>\n",
              "<table border=\"1\" class=\"dataframe\">\n",
              "  <thead>\n",
              "    <tr style=\"text-align: right;\">\n",
              "      <th></th>\n",
              "      <th>ML Model</th>\n",
              "      <th>Acc(mean)</th>\n",
              "      <th>error(+/-</th>\n",
              "      <th>precision(mean)</th>\n",
              "      <th>error(+/-)</th>\n",
              "      <th>recall(mean)</th>\n",
              "      <th>f1(mean)</th>\n",
              "      <th>Execution Time</th>\n",
              "    </tr>\n",
              "  </thead>\n",
              "  <tbody>\n",
              "    <tr>\n",
              "      <th>3</th>\n",
              "      <td>XGBoost classifier</td>\n",
              "      <td>0.974</td>\n",
              "      <td>0.003</td>\n",
              "      <td>0.972</td>\n",
              "      <td>0.003</td>\n",
              "      <td>0.981</td>\n",
              "      <td>0.976</td>\n",
              "      <td>22.266</td>\n",
              "    </tr>\n",
              "    <tr>\n",
              "      <th>7</th>\n",
              "      <td>Multilayer Perceptrons Classifier</td>\n",
              "      <td>0.970</td>\n",
              "      <td>0.005</td>\n",
              "      <td>0.969</td>\n",
              "      <td>0.004</td>\n",
              "      <td>0.978</td>\n",
              "      <td>0.973</td>\n",
              "      <td>157.277</td>\n",
              "    </tr>\n",
              "    <tr>\n",
              "      <th>5</th>\n",
              "      <td>K-nearest neighbors</td>\n",
              "      <td>0.948</td>\n",
              "      <td>0.005</td>\n",
              "      <td>0.949</td>\n",
              "      <td>0.005</td>\n",
              "      <td>0.958</td>\n",
              "      <td>0.953</td>\n",
              "      <td>7.228</td>\n",
              "    </tr>\n",
              "    <tr>\n",
              "      <th>1</th>\n",
              "      <td>Random Forest</td>\n",
              "      <td>0.930</td>\n",
              "      <td>0.007</td>\n",
              "      <td>0.919</td>\n",
              "      <td>0.006</td>\n",
              "      <td>0.960</td>\n",
              "      <td>0.939</td>\n",
              "      <td>4.778</td>\n",
              "    </tr>\n",
              "    <tr>\n",
              "      <th>4</th>\n",
              "      <td>Support Vector Machine</td>\n",
              "      <td>0.928</td>\n",
              "      <td>0.007</td>\n",
              "      <td>0.926</td>\n",
              "      <td>0.006</td>\n",
              "      <td>0.946</td>\n",
              "      <td>0.936</td>\n",
              "      <td>27.525</td>\n",
              "    </tr>\n",
              "    <tr>\n",
              "      <th>0</th>\n",
              "      <td>Decision Tree</td>\n",
              "      <td>0.919</td>\n",
              "      <td>0.010</td>\n",
              "      <td>0.900</td>\n",
              "      <td>0.009</td>\n",
              "      <td>0.963</td>\n",
              "      <td>0.930</td>\n",
              "      <td>0.443</td>\n",
              "    </tr>\n",
              "    <tr>\n",
              "      <th>2</th>\n",
              "      <td>AdaBoost Classifier</td>\n",
              "      <td>0.917</td>\n",
              "      <td>0.009</td>\n",
              "      <td>0.924</td>\n",
              "      <td>0.009</td>\n",
              "      <td>0.928</td>\n",
              "      <td>0.926</td>\n",
              "      <td>0.633</td>\n",
              "    </tr>\n",
              "    <tr>\n",
              "      <th>6</th>\n",
              "      <td>Gaussian Naive-Bayes</td>\n",
              "      <td>0.598</td>\n",
              "      <td>0.009</td>\n",
              "      <td>0.997</td>\n",
              "      <td>0.019</td>\n",
              "      <td>0.279</td>\n",
              "      <td>0.436</td>\n",
              "      <td>0.196</td>\n",
              "    </tr>\n",
              "  </tbody>\n",
              "</table>\n",
              "</div>"
            ],
            "text/plain": [
              "                            ML Model  Acc(mean)  ...  f1(mean)  Execution Time\n",
              "3                 XGBoost classifier      0.974  ...     0.976          22.266\n",
              "7  Multilayer Perceptrons Classifier      0.970  ...     0.973         157.277\n",
              "5                K-nearest neighbors      0.948  ...     0.953           7.228\n",
              "1                      Random Forest      0.930  ...     0.939           4.778\n",
              "4             Support Vector Machine      0.928  ...     0.936          27.525\n",
              "0                      Decision Tree      0.919  ...     0.930           0.443\n",
              "2                AdaBoost Classifier      0.917  ...     0.926           0.633\n",
              "6               Gaussian Naive-Bayes      0.598  ...     0.436           0.196\n",
              "\n",
              "[8 rows x 8 columns]"
            ]
          },
          "metadata": {
            "tags": []
          },
          "execution_count": 68
        }
      ]
    },
    {
      "cell_type": "code",
      "metadata": {
        "colab": {
          "base_uri": "https://localhost:8080/",
          "height": 295
        },
        "id": "E7wVOLE85Bap",
        "outputId": "77bff85a-1aae-490a-c62b-e36c01b1a709"
      },
      "source": [
        "#Sorting the datafram on accuracy\n",
        "results.sort_values(by=['Execution Time'], ascending=False)"
      ],
      "execution_count": null,
      "outputs": [
        {
          "output_type": "execute_result",
          "data": {
            "text/html": [
              "<div>\n",
              "<style scoped>\n",
              "    .dataframe tbody tr th:only-of-type {\n",
              "        vertical-align: middle;\n",
              "    }\n",
              "\n",
              "    .dataframe tbody tr th {\n",
              "        vertical-align: top;\n",
              "    }\n",
              "\n",
              "    .dataframe thead th {\n",
              "        text-align: right;\n",
              "    }\n",
              "</style>\n",
              "<table border=\"1\" class=\"dataframe\">\n",
              "  <thead>\n",
              "    <tr style=\"text-align: right;\">\n",
              "      <th></th>\n",
              "      <th>ML Model</th>\n",
              "      <th>Acc(mean)</th>\n",
              "      <th>error(+/-</th>\n",
              "      <th>precision(mean)</th>\n",
              "      <th>error(+/-)</th>\n",
              "      <th>recall(mean)</th>\n",
              "      <th>f1(mean)</th>\n",
              "      <th>Execution Time</th>\n",
              "    </tr>\n",
              "  </thead>\n",
              "  <tbody>\n",
              "    <tr>\n",
              "      <th>7</th>\n",
              "      <td>Multilayer Perceptrons Classifier</td>\n",
              "      <td>0.970</td>\n",
              "      <td>0.005</td>\n",
              "      <td>0.969</td>\n",
              "      <td>0.004</td>\n",
              "      <td>0.978</td>\n",
              "      <td>0.973</td>\n",
              "      <td>157.277</td>\n",
              "    </tr>\n",
              "    <tr>\n",
              "      <th>4</th>\n",
              "      <td>Support Vector Machine</td>\n",
              "      <td>0.928</td>\n",
              "      <td>0.007</td>\n",
              "      <td>0.926</td>\n",
              "      <td>0.006</td>\n",
              "      <td>0.946</td>\n",
              "      <td>0.936</td>\n",
              "      <td>27.525</td>\n",
              "    </tr>\n",
              "    <tr>\n",
              "      <th>3</th>\n",
              "      <td>XGBoost classifier</td>\n",
              "      <td>0.974</td>\n",
              "      <td>0.003</td>\n",
              "      <td>0.972</td>\n",
              "      <td>0.003</td>\n",
              "      <td>0.981</td>\n",
              "      <td>0.976</td>\n",
              "      <td>22.266</td>\n",
              "    </tr>\n",
              "    <tr>\n",
              "      <th>5</th>\n",
              "      <td>K-nearest neighbors</td>\n",
              "      <td>0.948</td>\n",
              "      <td>0.005</td>\n",
              "      <td>0.949</td>\n",
              "      <td>0.005</td>\n",
              "      <td>0.958</td>\n",
              "      <td>0.953</td>\n",
              "      <td>7.228</td>\n",
              "    </tr>\n",
              "    <tr>\n",
              "      <th>1</th>\n",
              "      <td>Random Forest</td>\n",
              "      <td>0.930</td>\n",
              "      <td>0.007</td>\n",
              "      <td>0.919</td>\n",
              "      <td>0.006</td>\n",
              "      <td>0.960</td>\n",
              "      <td>0.939</td>\n",
              "      <td>4.778</td>\n",
              "    </tr>\n",
              "    <tr>\n",
              "      <th>2</th>\n",
              "      <td>AdaBoost Classifier</td>\n",
              "      <td>0.917</td>\n",
              "      <td>0.009</td>\n",
              "      <td>0.924</td>\n",
              "      <td>0.009</td>\n",
              "      <td>0.928</td>\n",
              "      <td>0.926</td>\n",
              "      <td>0.633</td>\n",
              "    </tr>\n",
              "    <tr>\n",
              "      <th>0</th>\n",
              "      <td>Decision Tree</td>\n",
              "      <td>0.919</td>\n",
              "      <td>0.010</td>\n",
              "      <td>0.900</td>\n",
              "      <td>0.009</td>\n",
              "      <td>0.963</td>\n",
              "      <td>0.930</td>\n",
              "      <td>0.443</td>\n",
              "    </tr>\n",
              "    <tr>\n",
              "      <th>6</th>\n",
              "      <td>Gaussian Naive-Bayes</td>\n",
              "      <td>0.598</td>\n",
              "      <td>0.009</td>\n",
              "      <td>0.997</td>\n",
              "      <td>0.019</td>\n",
              "      <td>0.279</td>\n",
              "      <td>0.436</td>\n",
              "      <td>0.196</td>\n",
              "    </tr>\n",
              "  </tbody>\n",
              "</table>\n",
              "</div>"
            ],
            "text/plain": [
              "                            ML Model  Acc(mean)  ...  f1(mean)  Execution Time\n",
              "7  Multilayer Perceptrons Classifier      0.970  ...     0.973         157.277\n",
              "4             Support Vector Machine      0.928  ...     0.936          27.525\n",
              "3                 XGBoost classifier      0.974  ...     0.976          22.266\n",
              "5                K-nearest neighbors      0.948  ...     0.953           7.228\n",
              "1                      Random Forest      0.930  ...     0.939           4.778\n",
              "2                AdaBoost Classifier      0.917  ...     0.926           0.633\n",
              "0                      Decision Tree      0.919  ...     0.930           0.443\n",
              "6               Gaussian Naive-Bayes      0.598  ...     0.436           0.196\n",
              "\n",
              "[8 rows x 8 columns]"
            ]
          },
          "metadata": {
            "tags": []
          },
          "execution_count": 69
        }
      ]
    },
    {
      "cell_type": "code",
      "metadata": {
        "id": "Vg-ffCVY5MRa"
      },
      "source": [
        ""
      ],
      "execution_count": null,
      "outputs": []
    }
  ]
}