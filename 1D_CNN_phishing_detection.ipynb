{
  "nbformat": 4,
  "nbformat_minor": 0,
  "metadata": {
    "colab": {
      "name": "1D CNN phishing detection.ipynb",
      "provenance": [],
      "include_colab_link": true
    },
    "kernelspec": {
      "name": "python3",
      "display_name": "Python 3"
    },
    "language_info": {
      "name": "python"
    }
  },
  "cells": [
    {
      "cell_type": "markdown",
      "metadata": {
        "id": "view-in-github",
        "colab_type": "text"
      },
      "source": [
        "<a href=\"https://colab.research.google.com/github/Nilufayeasmin299/Phishig-detection-using-both-machine-learning-and-deep-learning-techniques/blob/main/1D_CNN_phishing_detection.ipynb\" target=\"_parent\"><img src=\"https://colab.research.google.com/assets/colab-badge.svg\" alt=\"Open In Colab\"/></a>"
      ]
    },
    {
      "cell_type": "code",
      "metadata": {
        "colab": {
          "base_uri": "https://localhost:8080/"
        },
        "id": "miIyKAy6Nv4z",
        "outputId": "097c5b14-eced-4eca-b64b-09689a9f7c12"
      },
      "source": [
        "from google.colab import drive\n",
        "drive.mount('/content/gdrive')"
      ],
      "execution_count": null,
      "outputs": [
        {
          "output_type": "stream",
          "text": [
            "Mounted at /content/gdrive\n"
          ],
          "name": "stdout"
        }
      ]
    },
    {
      "cell_type": "code",
      "metadata": {
        "colab": {
          "base_uri": "https://localhost:8080/",
          "height": 223
        },
        "id": "ZlqC5925OO4B",
        "outputId": "669f0151-6643-402c-e109-7f3962bf11e7"
      },
      "source": [
        "#loading dataset\n",
        "import pandas as pd\n",
        "df=pd.read_csv('/content/gdrive/MyDrive/Second paper/Dataset/URL-Dataset.csv')\n",
        "df.head()"
      ],
      "execution_count": null,
      "outputs": [
        {
          "output_type": "execute_result",
          "data": {
            "text/html": [
              "<div>\n",
              "<style scoped>\n",
              "    .dataframe tbody tr th:only-of-type {\n",
              "        vertical-align: middle;\n",
              "    }\n",
              "\n",
              "    .dataframe tbody tr th {\n",
              "        vertical-align: top;\n",
              "    }\n",
              "\n",
              "    .dataframe thead th {\n",
              "        text-align: right;\n",
              "    }\n",
              "</style>\n",
              "<table border=\"1\" class=\"dataframe\">\n",
              "  <thead>\n",
              "    <tr style=\"text-align: right;\">\n",
              "      <th></th>\n",
              "      <th>having_IP_Address</th>\n",
              "      <th>URL_Length</th>\n",
              "      <th>Shortining_Service</th>\n",
              "      <th>having_At_Symbol</th>\n",
              "      <th>double_slash_redirecting</th>\n",
              "      <th>Prefix_Suffix</th>\n",
              "      <th>having_Sub_Domain</th>\n",
              "      <th>SSLfinal_State</th>\n",
              "      <th>Domain_registeration_length</th>\n",
              "      <th>Favicon</th>\n",
              "      <th>port</th>\n",
              "      <th>HTTPS_token</th>\n",
              "      <th>Request_URL</th>\n",
              "      <th>URL_of_Anchor</th>\n",
              "      <th>Links_in_tags</th>\n",
              "      <th>SFH</th>\n",
              "      <th>Submitting_to_email</th>\n",
              "      <th>Abnormal_URL</th>\n",
              "      <th>Redirect</th>\n",
              "      <th>on_mouseover</th>\n",
              "      <th>RightClick</th>\n",
              "      <th>popUpWidnow</th>\n",
              "      <th>Iframe</th>\n",
              "      <th>age_of_domain</th>\n",
              "      <th>DNSRecord</th>\n",
              "      <th>web_traffic</th>\n",
              "      <th>Page_Rank</th>\n",
              "      <th>Google_Index</th>\n",
              "      <th>Links_pointing_to_page</th>\n",
              "      <th>Statistical_report</th>\n",
              "      <th>Result</th>\n",
              "    </tr>\n",
              "  </thead>\n",
              "  <tbody>\n",
              "    <tr>\n",
              "      <th>0</th>\n",
              "      <td>-1</td>\n",
              "      <td>1</td>\n",
              "      <td>1</td>\n",
              "      <td>1</td>\n",
              "      <td>-1</td>\n",
              "      <td>-1</td>\n",
              "      <td>-1</td>\n",
              "      <td>-1</td>\n",
              "      <td>-1</td>\n",
              "      <td>1</td>\n",
              "      <td>1</td>\n",
              "      <td>-1</td>\n",
              "      <td>1</td>\n",
              "      <td>-1</td>\n",
              "      <td>1</td>\n",
              "      <td>-1</td>\n",
              "      <td>-1</td>\n",
              "      <td>-1</td>\n",
              "      <td>0</td>\n",
              "      <td>1</td>\n",
              "      <td>1</td>\n",
              "      <td>1</td>\n",
              "      <td>1</td>\n",
              "      <td>-1</td>\n",
              "      <td>-1</td>\n",
              "      <td>-1</td>\n",
              "      <td>-1</td>\n",
              "      <td>1</td>\n",
              "      <td>1</td>\n",
              "      <td>-1</td>\n",
              "      <td>0</td>\n",
              "    </tr>\n",
              "    <tr>\n",
              "      <th>1</th>\n",
              "      <td>1</td>\n",
              "      <td>1</td>\n",
              "      <td>1</td>\n",
              "      <td>1</td>\n",
              "      <td>1</td>\n",
              "      <td>-1</td>\n",
              "      <td>0</td>\n",
              "      <td>1</td>\n",
              "      <td>-1</td>\n",
              "      <td>1</td>\n",
              "      <td>1</td>\n",
              "      <td>-1</td>\n",
              "      <td>1</td>\n",
              "      <td>0</td>\n",
              "      <td>-1</td>\n",
              "      <td>-1</td>\n",
              "      <td>1</td>\n",
              "      <td>1</td>\n",
              "      <td>0</td>\n",
              "      <td>1</td>\n",
              "      <td>1</td>\n",
              "      <td>1</td>\n",
              "      <td>1</td>\n",
              "      <td>-1</td>\n",
              "      <td>-1</td>\n",
              "      <td>0</td>\n",
              "      <td>-1</td>\n",
              "      <td>1</td>\n",
              "      <td>1</td>\n",
              "      <td>1</td>\n",
              "      <td>0</td>\n",
              "    </tr>\n",
              "    <tr>\n",
              "      <th>2</th>\n",
              "      <td>1</td>\n",
              "      <td>0</td>\n",
              "      <td>1</td>\n",
              "      <td>1</td>\n",
              "      <td>1</td>\n",
              "      <td>-1</td>\n",
              "      <td>-1</td>\n",
              "      <td>-1</td>\n",
              "      <td>-1</td>\n",
              "      <td>1</td>\n",
              "      <td>1</td>\n",
              "      <td>-1</td>\n",
              "      <td>1</td>\n",
              "      <td>0</td>\n",
              "      <td>-1</td>\n",
              "      <td>-1</td>\n",
              "      <td>-1</td>\n",
              "      <td>-1</td>\n",
              "      <td>0</td>\n",
              "      <td>1</td>\n",
              "      <td>1</td>\n",
              "      <td>1</td>\n",
              "      <td>1</td>\n",
              "      <td>1</td>\n",
              "      <td>-1</td>\n",
              "      <td>1</td>\n",
              "      <td>-1</td>\n",
              "      <td>1</td>\n",
              "      <td>0</td>\n",
              "      <td>-1</td>\n",
              "      <td>0</td>\n",
              "    </tr>\n",
              "    <tr>\n",
              "      <th>3</th>\n",
              "      <td>1</td>\n",
              "      <td>0</td>\n",
              "      <td>1</td>\n",
              "      <td>1</td>\n",
              "      <td>1</td>\n",
              "      <td>-1</td>\n",
              "      <td>-1</td>\n",
              "      <td>-1</td>\n",
              "      <td>1</td>\n",
              "      <td>1</td>\n",
              "      <td>1</td>\n",
              "      <td>-1</td>\n",
              "      <td>-1</td>\n",
              "      <td>0</td>\n",
              "      <td>0</td>\n",
              "      <td>-1</td>\n",
              "      <td>1</td>\n",
              "      <td>1</td>\n",
              "      <td>0</td>\n",
              "      <td>1</td>\n",
              "      <td>1</td>\n",
              "      <td>1</td>\n",
              "      <td>1</td>\n",
              "      <td>-1</td>\n",
              "      <td>-1</td>\n",
              "      <td>1</td>\n",
              "      <td>-1</td>\n",
              "      <td>1</td>\n",
              "      <td>-1</td>\n",
              "      <td>1</td>\n",
              "      <td>0</td>\n",
              "    </tr>\n",
              "    <tr>\n",
              "      <th>4</th>\n",
              "      <td>1</td>\n",
              "      <td>0</td>\n",
              "      <td>-1</td>\n",
              "      <td>1</td>\n",
              "      <td>1</td>\n",
              "      <td>-1</td>\n",
              "      <td>1</td>\n",
              "      <td>1</td>\n",
              "      <td>-1</td>\n",
              "      <td>1</td>\n",
              "      <td>1</td>\n",
              "      <td>1</td>\n",
              "      <td>1</td>\n",
              "      <td>0</td>\n",
              "      <td>0</td>\n",
              "      <td>-1</td>\n",
              "      <td>1</td>\n",
              "      <td>1</td>\n",
              "      <td>0</td>\n",
              "      <td>-1</td>\n",
              "      <td>1</td>\n",
              "      <td>-1</td>\n",
              "      <td>1</td>\n",
              "      <td>-1</td>\n",
              "      <td>-1</td>\n",
              "      <td>0</td>\n",
              "      <td>-1</td>\n",
              "      <td>1</td>\n",
              "      <td>1</td>\n",
              "      <td>1</td>\n",
              "      <td>1</td>\n",
              "    </tr>\n",
              "  </tbody>\n",
              "</table>\n",
              "</div>"
            ],
            "text/plain": [
              "   having_IP_Address  URL_Length  ...  Statistical_report  Result\n",
              "0                 -1           1  ...                  -1       0\n",
              "1                  1           1  ...                   1       0\n",
              "2                  1           0  ...                  -1       0\n",
              "3                  1           0  ...                   1       0\n",
              "4                  1           0  ...                   1       1\n",
              "\n",
              "[5 rows x 31 columns]"
            ]
          },
          "metadata": {
            "tags": []
          },
          "execution_count": 7
        }
      ]
    },
    {
      "cell_type": "code",
      "metadata": {
        "colab": {
          "base_uri": "https://localhost:8080/"
        },
        "id": "Z0EqE3hrOkoz",
        "outputId": "64a77929-75c4-49e3-9679-0f94041aa51d"
      },
      "source": [
        "df.columns"
      ],
      "execution_count": null,
      "outputs": [
        {
          "output_type": "execute_result",
          "data": {
            "text/plain": [
              "Index(['having_IP_Address', 'URL_Length', 'Shortining_Service',\n",
              "       'having_At_Symbol', 'double_slash_redirecting', 'Prefix_Suffix',\n",
              "       'having_Sub_Domain', 'SSLfinal_State', 'Domain_registeration_length',\n",
              "       'Favicon', 'port', 'HTTPS_token', 'Request_URL', 'URL_of_Anchor',\n",
              "       'Links_in_tags', 'SFH', 'Submitting_to_email', 'Abnormal_URL',\n",
              "       'Redirect', 'on_mouseover', 'RightClick', 'popUpWidnow', 'Iframe',\n",
              "       'age_of_domain', 'DNSRecord', 'web_traffic', 'Page_Rank',\n",
              "       'Google_Index', 'Links_pointing_to_page', 'Statistical_report',\n",
              "       'Result'],\n",
              "      dtype='object')"
            ]
          },
          "metadata": {
            "tags": []
          },
          "execution_count": 8
        }
      ]
    },
    {
      "cell_type": "code",
      "metadata": {
        "colab": {
          "base_uri": "https://localhost:8080/"
        },
        "id": "0SFj9djYOouk",
        "outputId": "4db1f4d0-d3f4-4544-c345-d4b9cc8daa25"
      },
      "source": [
        "df.shape"
      ],
      "execution_count": null,
      "outputs": [
        {
          "output_type": "execute_result",
          "data": {
            "text/plain": [
              "(11055, 31)"
            ]
          },
          "metadata": {
            "tags": []
          },
          "execution_count": 9
        }
      ]
    },
    {
      "cell_type": "code",
      "metadata": {
        "colab": {
          "base_uri": "https://localhost:8080/"
        },
        "id": "kZSHqcfNOsU3",
        "outputId": "a13c8f5a-3db4-4558-e42e-a50e01a4e050"
      },
      "source": [
        "df.info()"
      ],
      "execution_count": null,
      "outputs": [
        {
          "output_type": "stream",
          "text": [
            "<class 'pandas.core.frame.DataFrame'>\n",
            "RangeIndex: 11055 entries, 0 to 11054\n",
            "Data columns (total 31 columns):\n",
            " #   Column                       Non-Null Count  Dtype\n",
            "---  ------                       --------------  -----\n",
            " 0   having_IP_Address            11055 non-null  int64\n",
            " 1   URL_Length                   11055 non-null  int64\n",
            " 2   Shortining_Service           11055 non-null  int64\n",
            " 3   having_At_Symbol             11055 non-null  int64\n",
            " 4   double_slash_redirecting     11055 non-null  int64\n",
            " 5   Prefix_Suffix                11055 non-null  int64\n",
            " 6   having_Sub_Domain            11055 non-null  int64\n",
            " 7   SSLfinal_State               11055 non-null  int64\n",
            " 8   Domain_registeration_length  11055 non-null  int64\n",
            " 9   Favicon                      11055 non-null  int64\n",
            " 10  port                         11055 non-null  int64\n",
            " 11  HTTPS_token                  11055 non-null  int64\n",
            " 12  Request_URL                  11055 non-null  int64\n",
            " 13  URL_of_Anchor                11055 non-null  int64\n",
            " 14  Links_in_tags                11055 non-null  int64\n",
            " 15  SFH                          11055 non-null  int64\n",
            " 16  Submitting_to_email          11055 non-null  int64\n",
            " 17  Abnormal_URL                 11055 non-null  int64\n",
            " 18  Redirect                     11055 non-null  int64\n",
            " 19  on_mouseover                 11055 non-null  int64\n",
            " 20  RightClick                   11055 non-null  int64\n",
            " 21  popUpWidnow                  11055 non-null  int64\n",
            " 22  Iframe                       11055 non-null  int64\n",
            " 23  age_of_domain                11055 non-null  int64\n",
            " 24  DNSRecord                    11055 non-null  int64\n",
            " 25  web_traffic                  11055 non-null  int64\n",
            " 26  Page_Rank                    11055 non-null  int64\n",
            " 27  Google_Index                 11055 non-null  int64\n",
            " 28  Links_pointing_to_page       11055 non-null  int64\n",
            " 29  Statistical_report           11055 non-null  int64\n",
            " 30  Result                       11055 non-null  int64\n",
            "dtypes: int64(31)\n",
            "memory usage: 2.6 MB\n"
          ],
          "name": "stdout"
        }
      ]
    },
    {
      "cell_type": "code",
      "metadata": {
        "id": "Lj1C1vdAOvL1"
      },
      "source": [
        "import numpy\n",
        "from numpy import mean\n",
        "from numpy import std\n",
        "from numpy import array\n",
        "from keras.models import Sequential\n",
        "from keras.layers import Dense, Dropout\n",
        "import pandas as pd\n",
        "from sklearn.metrics import confusion_matrix, precision_score, recall_score, f1_score, cohen_kappa_score\n",
        "from sklearn.model_selection import KFold\n",
        "from keras.layers import Conv1D, MaxPooling1D, Flatten, Activation\n",
        "import time"
      ],
      "execution_count": null,
      "outputs": []
    },
    {
      "cell_type": "code",
      "metadata": {
        "id": "wvv3yFGAO0dc"
      },
      "source": [
        "import tensorflow as tf"
      ],
      "execution_count": null,
      "outputs": []
    },
    {
      "cell_type": "code",
      "metadata": {
        "id": "jl8AMtoDO5N3"
      },
      "source": [
        "# lists to collect the performance metrics during each fold of the n-fold cross validation\n",
        "accuracy=list()\n",
        "loss=list()\n",
        "recall=list()\n",
        "f1=list()\n",
        "precision=list()"
      ],
      "execution_count": null,
      "outputs": []
    },
    {
      "cell_type": "code",
      "metadata": {
        "id": "XA_1FMR7PBdc"
      },
      "source": [
        "TrainTime=list()\n",
        "TestTime=list()"
      ],
      "execution_count": null,
      "outputs": []
    },
    {
      "cell_type": "code",
      "metadata": {
        "id": "tXX4_X-NPEIP"
      },
      "source": [
        "\n",
        "batch_size=32"
      ],
      "execution_count": null,
      "outputs": []
    },
    {
      "cell_type": "code",
      "metadata": {
        "colab": {
          "base_uri": "https://localhost:8080/"
        },
        "id": "hkpKwV0bBd4x",
        "outputId": "ec99ff86-149b-4bbb-cf03-a4632b4281ea"
      },
      "source": [
        "#create a dataframe with all the training data except the target column\n",
        "\n",
        "X_train = array(df.drop(columns=['Result']))\n",
        "print(X_train)\n",
        "y_train = array(df.Result)\n"
      ],
      "execution_count": null,
      "outputs": [
        {
          "output_type": "stream",
          "text": [
            "[[-1  1  1 ...  1  1 -1]\n",
            " [ 1  1  1 ...  1  1  1]\n",
            " [ 1  0  1 ...  1  0 -1]\n",
            " ...\n",
            " [ 1 -1  1 ...  1  0  1]\n",
            " [-1 -1  1 ...  1  1  1]\n",
            " [-1 -1  1 ... -1  1 -1]]\n"
          ],
          "name": "stdout"
        }
      ]
    },
    {
      "cell_type": "code",
      "metadata": {
        "id": "Ydux6m9ATFFV"
      },
      "source": [
        "#input shape\n",
        "n_cols = X_train.shape[1]"
      ],
      "execution_count": null,
      "outputs": []
    },
    {
      "cell_type": "code",
      "metadata": {
        "id": "pkrqObK9B7I5"
      },
      "source": [
        "number_of_folds = 10                            #number of folds in the n-fold cross validation - must have at least 2\n",
        "current_fold=0\n",
        "kfold = KFold(number_of_folds, True, 1)"
      ],
      "execution_count": null,
      "outputs": []
    },
    {
      "cell_type": "code",
      "metadata": {
        "id": "JZnMHVdrCCr1"
      },
      "source": [
        "# function to fit and evaluate a CNN model on the dataset\n",
        "\n",
        "def evaluate_1D_CNN_model(trainX, trainY, testX, testY, num_cols, fold):\n",
        "\n",
        "    current_fold=fold            # the current fold in the n-fold cross validation\n",
        "    dropout_rate=0.50\n",
        "    n_cols = num_cols\n",
        "    num_filters = 64             #number of filters in the convolutional layer\n",
        "    size_filters=10               #size of the filters in convolutional layer\n",
        "    start = time.time()\n",
        "\n",
        "    # Reshape the inputs (training and testing inputs)\n",
        "    trainX.shape=(trainX.shape[0],n_cols)\n",
        "   # print(trainX.shape)\n",
        "    trainX=trainX.reshape(trainX.shape[0], n_cols,1)\n",
        "   \n",
        "    #print(trainX.shape)\n",
        "    testX.shape = (testX.shape[0], n_cols)\n",
        "    #print(testX.shape)\n",
        "    testX = testX.reshape(testX.shape[0], n_cols,1)\n",
        "    \n",
        "    #print(testX.shape)\n",
        "\n",
        "    trainX = tf.convert_to_tensor(trainX,dtype=tf.float32)\n",
        "    testX = tf.convert_to_tensor(testX,dtype=tf.float32)\n",
        "\n",
        "\n",
        "    # define the model\n",
        "    model = Sequential()\n",
        "    model.add(Conv1D(num_filters, size_filters, input_shape=(num_cols, 1),use_bias=False))\n",
        "    model.add(Activation('relu'))\n",
        "    model.add(MaxPooling1D(pool_size=2, strides=2))\n",
        "    model.add(Conv1D(num_filters, 5,  use_bias=False))\n",
        "    model.add(Activation('relu'))\n",
        "    model.add(MaxPooling1D(pool_size=2,strides=2))\n",
        "    model.add(Flatten())\n",
        "    model.add(Dense(8, use_bias=False))\n",
        "    model.add(Activation('relu'))\n",
        "    model.add(Dropout(dropout_rate))\n",
        "    model.add(Dense(1, activation='sigmoid'))\n",
        "\n",
        "    \n",
        "\n",
        "    # compile the model using accuracy as a measure of model performance\n",
        "    model.compile(optimizer='adam', loss='binary_crossentropy', metrics=['accuracy'])\n",
        "       \n",
        "\n",
        "    #fit model\n",
        "   \n",
        "    history = model.fit(trainX, trainY, batch_size=batch_size, validation_split=0.1, epochs=20, verbose=0,)\n",
        "\n",
        "\n",
        "    if current_fold ==1:                                                # show the model summary architecture when evaluating the 1st fold in the n-fold cross validation\n",
        "        model.summary()\n",
        "\n",
        "    # obtain approximate training time\n",
        "    train_end_time = time.time()\n",
        "    train_time = (train_end_time - start)     #obtain time taken to train the model\n",
        "    TrainTime.append(train_time)\n",
        "\n",
        "    #evaluate the model\n",
        "    loss_score, acc_score = model.evaluate(testX, testY, verbose=0)\n",
        "    loss.append(loss_score)\n",
        "    accuracy.append(acc_score)\n",
        "\n",
        "    y_pred = model.predict_classes(testX)\n",
        "\n",
        "    # obtain approximate testing time\n",
        "    test_time = (time.time() -train_end_time)        #obtain time taken to test the model\n",
        "    TestTime.append(test_time)\n",
        "\n",
        "    #update the list of performance metrics for the folds\n",
        "    recall.append(recall_score(testY, y_pred))\n",
        "    f1.append(f1_score(testY, y_pred))\n",
        "    precision.append(precision_score(testY, y_pred))\n",
        "    \n",
        "    \n",
        "   \n",
        "\n",
        "    if current_fold == 1:                                                             #plot the test-validation loss and test-validation accuracy for fold 1\n",
        "        from matplotlib import pyplot\n",
        "\n",
        "        # plots ------\n",
        "        pyplot.plot(history.history['loss'], label='training loss')\n",
        "        pyplot.plot(history.history['val_loss'], label= 'validation loss')\n",
        "        pyplot.legend()\n",
        "        pyplot.show()\n",
        "       # pyplot.plot(history.history['acc'], label='training acc')\n",
        "        #pyplot.plot(history.history['val_acc'], label='validation acc')\n",
        "        #pyplot.legend()\n",
        "        #pyplot.show()\n",
        "\n",
        "    return acc_score\n",
        "\n"
      ],
      "execution_count": null,
      "outputs": []
    },
    {
      "cell_type": "code",
      "metadata": {
        "colab": {
          "base_uri": "https://localhost:8080/",
          "height": 990
        },
        "id": "G3CwbPzlEOWN",
        "outputId": "5357050e-1693-450b-f7b7-a004524182d0"
      },
      "source": [
        "#cross validation estimation of performance\n",
        "\n",
        "scores = list()\n",
        "for train_ix, test_ix in kfold.split(X_train):\n",
        "    current_fold = current_fold+1\n",
        "    #select samples\n",
        "    trainX, trainY = X_train[train_ix], y_train[train_ix]\n",
        "    testX, testY = X_train[test_ix], y_train[test_ix]\n",
        "\n",
        "    #evaluate model\n",
        "    \n",
        "    acc_for_fold = evaluate_1D_CNN_model(trainX, trainY, testX, testY, n_cols, current_fold)\n",
        "    print('>%.3f' % acc_for_fold)                 #output prediction accuracy for the current fold\n",
        "    scores.append(acc_for_fold)"
      ],
      "execution_count": null,
      "outputs": [
        {
          "output_type": "stream",
          "text": [
            "Model: \"sequential\"\n",
            "_________________________________________________________________\n",
            "Layer (type)                 Output Shape              Param #   \n",
            "=================================================================\n",
            "conv1d (Conv1D)              (None, 21, 64)            640       \n",
            "_________________________________________________________________\n",
            "activation (Activation)      (None, 21, 64)            0         \n",
            "_________________________________________________________________\n",
            "max_pooling1d (MaxPooling1D) (None, 10, 64)            0         \n",
            "_________________________________________________________________\n",
            "conv1d_1 (Conv1D)            (None, 6, 64)             20480     \n",
            "_________________________________________________________________\n",
            "activation_1 (Activation)    (None, 6, 64)             0         \n",
            "_________________________________________________________________\n",
            "max_pooling1d_1 (MaxPooling1 (None, 3, 64)             0         \n",
            "_________________________________________________________________\n",
            "flatten (Flatten)            (None, 192)               0         \n",
            "_________________________________________________________________\n",
            "dense (Dense)                (None, 8)                 1536      \n",
            "_________________________________________________________________\n",
            "activation_2 (Activation)    (None, 8)                 0         \n",
            "_________________________________________________________________\n",
            "dropout (Dropout)            (None, 8)                 0         \n",
            "_________________________________________________________________\n",
            "dense_1 (Dense)              (None, 1)                 9         \n",
            "=================================================================\n",
            "Total params: 22,665\n",
            "Trainable params: 22,665\n",
            "Non-trainable params: 0\n",
            "_________________________________________________________________\n"
          ],
          "name": "stdout"
        },
        {
          "output_type": "stream",
          "text": [
            "/usr/local/lib/python3.7/dist-packages/keras/engine/sequential.py:450: UserWarning: `model.predict_classes()` is deprecated and will be removed after 2021-01-01. Please use instead:* `np.argmax(model.predict(x), axis=-1)`,   if your model does multi-class classification   (e.g. if it uses a `softmax` last-layer activation).* `(model.predict(x) > 0.5).astype(\"int32\")`,   if your model does binary classification   (e.g. if it uses a `sigmoid` last-layer activation).\n",
            "  warnings.warn('`model.predict_classes()` is deprecated and '\n"
          ],
          "name": "stderr"
        },
        {
          "output_type": "display_data",
          "data": {
            "image/png": "[encoded data removed]",
            "text/plain": [
              "<Figure size 432x288 with 1 Axes>"
            ]
          },
          "metadata": {
            "tags": [],
            "needs_background": "light"
          }
        },
        {
          "output_type": "stream",
          "text": [
            ">0.945\n",
            ">0.947\n",
            ">0.953\n",
            ">0.956\n",
            ">0.961\n",
            ">0.953\n",
            ">0.952\n",
            ">0.952\n",
            ">0.944\n",
            ">0.951\n"
          ],
          "name": "stdout"
        }
      ]
    },
    {
      "cell_type": "code",
      "metadata": {
        "colab": {
          "base_uri": "https://localhost:8080/"
        },
        "id": "03syIy-5Ea4S",
        "outputId": "532359b2-d4c6-4086-8962-b12c15fa6b2d"
      },
      "source": [
        "# summarize the distribution of scores\n",
        "print('Accuracy Mean: %.3f, Standard Deviation: %.3f' % (mean(accuracy), std(accuracy)))                   #mean of all the accuracies fom the n folds and standard deviation\n",
        "print('Precision Mean: %.3f, Standard Deviation: %.3f' % (mean(precision), std(precision)))          #mean of all the precisions fom the n folds and standard deviation\n",
        "print('Recall Mean: %.3f, Standard Deviation: %.3f' % (mean(recall), std(recall)))\n",
        "print('F1 Mean: %.3f, Standard Deviation: %.3f' % (mean(f1), std(f1)))\n",
        "print('Train time Mean: %.3f, Standard Deviation: %.3f' % (mean(TrainTime), std(TrainTime)))\n",
        "print('Test time Mean: %.3f, Standard Deviation: %.3f' % (mean(TestTime), std(TestTime)))\n",
        "print('loss Mean: %.3f, Standard Deviation: %.3f' % (mean(loss), std(loss)))"
      ],
      "execution_count": null,
      "outputs": [
        {
          "output_type": "stream",
          "text": [
            "Accuracy Mean: 0.951, Standard Deviation: 0.005\n",
            "Precision Mean: 0.946, Standard Deviation: 0.020\n",
            "Recall Mean: 0.968, Standard Deviation: 0.020\n",
            "F1 Mean: 0.957, Standard Deviation: 0.005\n",
            "Train time Mean: 22.892, Standard Deviation: 4.402\n",
            "Test time Mean: 0.439, Standard Deviation: 0.056\n",
            "loss Mean: 0.114, Standard Deviation: 0.014\n"
          ],
          "name": "stdout"
        }
      ]
    },
    {
      "cell_type": "code",
      "metadata": {
        "id": "3PYZncWME6W5"
      },
      "source": [
        ""
      ],
      "execution_count": null,
      "outputs": []
    }
  ]
}