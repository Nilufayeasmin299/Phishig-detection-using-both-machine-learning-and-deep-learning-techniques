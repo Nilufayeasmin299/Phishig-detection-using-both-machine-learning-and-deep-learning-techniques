{
  "nbformat": 4,
  "nbformat_minor": 0,
  "metadata": {
    "colab": {
      "name": "LSTM phishing detection.ipynb",
      "provenance": [],
      "collapsed_sections": [],
      "include_colab_link": true
    },
    "kernelspec": {
      "display_name": "Python 3",
      "name": "python3"
    },
    "language_info": {
      "name": "python"
    }
  },
  "cells": [
    {
      "cell_type": "markdown",
      "metadata": {
        "id": "view-in-github",
        "colab_type": "text"
      },
      "source": [
        "<a href=\"https://colab.research.google.com/github/Nilufayeasmin299/Phishig-detection-using-both-machine-learning-and-deep-learning-techniques/blob/main/LSTM_phishing_detection.ipynb\" target=\"_parent\"><img src=\"https://colab.research.google.com/assets/colab-badge.svg\" alt=\"Open In Colab\"/></a>"
      ]
    },
    {
      "cell_type": "code",
      "metadata": {
        "colab": {
          "base_uri": "https://localhost:8080/"
        },
        "id": "u-ZhV2B1tKty",
        "outputId": "887bbd9b-5d26-4f0a-8200-8b21568a32fa"
      },
      "source": [
        "from google.colab import drive\n",
        "drive.mount('/content/gdrive')"
      ],
      "execution_count": 7,
      "outputs": [
        {
          "output_type": "stream",
          "text": [
            "Drive already mounted at /content/gdrive; to attempt to forcibly remount, call drive.mount(\"/content/gdrive\", force_remount=True).\n"
          ],
          "name": "stdout"
        }
      ]
    },
    {
      "cell_type": "code",
      "metadata": {
        "colab": {
          "base_uri": "https://localhost:8080/",
          "height": 223
        },
        "id": "iu1FiFRWtWJB",
        "outputId": "03c822ed-d926-42ee-dcd1-95b1b9b49a56"
      },
      "source": [
        "#loading dataset\n",
        "import pandas as pd\n",
        "df=pd.read_csv('/content/gdrive/MyDrive/Second paper/Dataset/URL-Dataset.csv')\n",
        "df.head()"
      ],
      "execution_count": 8,
      "outputs": [
        {
          "output_type": "execute_result",
          "data": {
            "text/html": [
              "<div>\n",
              "<style scoped>\n",
              "    .dataframe tbody tr th:only-of-type {\n",
              "        vertical-align: middle;\n",
              "    }\n",
              "\n",
              "    .dataframe tbody tr th {\n",
              "        vertical-align: top;\n",
              "    }\n",
              "\n",
              "    .dataframe thead th {\n",
              "        text-align: right;\n",
              "    }\n",
              "</style>\n",
              "<table border=\"1\" class=\"dataframe\">\n",
              "  <thead>\n",
              "    <tr style=\"text-align: right;\">\n",
              "      <th></th>\n",
              "      <th>having_IP_Address</th>\n",
              "      <th>URL_Length</th>\n",
              "      <th>Shortining_Service</th>\n",
              "      <th>having_At_Symbol</th>\n",
              "      <th>double_slash_redirecting</th>\n",
              "      <th>Prefix_Suffix</th>\n",
              "      <th>having_Sub_Domain</th>\n",
              "      <th>SSLfinal_State</th>\n",
              "      <th>Domain_registeration_length</th>\n",
              "      <th>Favicon</th>\n",
              "      <th>port</th>\n",
              "      <th>HTTPS_token</th>\n",
              "      <th>Request_URL</th>\n",
              "      <th>URL_of_Anchor</th>\n",
              "      <th>Links_in_tags</th>\n",
              "      <th>SFH</th>\n",
              "      <th>Submitting_to_email</th>\n",
              "      <th>Abnormal_URL</th>\n",
              "      <th>Redirect</th>\n",
              "      <th>on_mouseover</th>\n",
              "      <th>RightClick</th>\n",
              "      <th>popUpWidnow</th>\n",
              "      <th>Iframe</th>\n",
              "      <th>age_of_domain</th>\n",
              "      <th>DNSRecord</th>\n",
              "      <th>web_traffic</th>\n",
              "      <th>Page_Rank</th>\n",
              "      <th>Google_Index</th>\n",
              "      <th>Links_pointing_to_page</th>\n",
              "      <th>Statistical_report</th>\n",
              "      <th>Result</th>\n",
              "    </tr>\n",
              "  </thead>\n",
              "  <tbody>\n",
              "    <tr>\n",
              "      <th>0</th>\n",
              "      <td>-1</td>\n",
              "      <td>1</td>\n",
              "      <td>1</td>\n",
              "      <td>1</td>\n",
              "      <td>-1</td>\n",
              "      <td>-1</td>\n",
              "      <td>-1</td>\n",
              "      <td>-1</td>\n",
              "      <td>-1</td>\n",
              "      <td>1</td>\n",
              "      <td>1</td>\n",
              "      <td>-1</td>\n",
              "      <td>1</td>\n",
              "      <td>-1</td>\n",
              "      <td>1</td>\n",
              "      <td>-1</td>\n",
              "      <td>-1</td>\n",
              "      <td>-1</td>\n",
              "      <td>0</td>\n",
              "      <td>1</td>\n",
              "      <td>1</td>\n",
              "      <td>1</td>\n",
              "      <td>1</td>\n",
              "      <td>-1</td>\n",
              "      <td>-1</td>\n",
              "      <td>-1</td>\n",
              "      <td>-1</td>\n",
              "      <td>1</td>\n",
              "      <td>1</td>\n",
              "      <td>-1</td>\n",
              "      <td>0</td>\n",
              "    </tr>\n",
              "    <tr>\n",
              "      <th>1</th>\n",
              "      <td>1</td>\n",
              "      <td>1</td>\n",
              "      <td>1</td>\n",
              "      <td>1</td>\n",
              "      <td>1</td>\n",
              "      <td>-1</td>\n",
              "      <td>0</td>\n",
              "      <td>1</td>\n",
              "      <td>-1</td>\n",
              "      <td>1</td>\n",
              "      <td>1</td>\n",
              "      <td>-1</td>\n",
              "      <td>1</td>\n",
              "      <td>0</td>\n",
              "      <td>-1</td>\n",
              "      <td>-1</td>\n",
              "      <td>1</td>\n",
              "      <td>1</td>\n",
              "      <td>0</td>\n",
              "      <td>1</td>\n",
              "      <td>1</td>\n",
              "      <td>1</td>\n",
              "      <td>1</td>\n",
              "      <td>-1</td>\n",
              "      <td>-1</td>\n",
              "      <td>0</td>\n",
              "      <td>-1</td>\n",
              "      <td>1</td>\n",
              "      <td>1</td>\n",
              "      <td>1</td>\n",
              "      <td>0</td>\n",
              "    </tr>\n",
              "    <tr>\n",
              "      <th>2</th>\n",
              "      <td>1</td>\n",
              "      <td>0</td>\n",
              "      <td>1</td>\n",
              "      <td>1</td>\n",
              "      <td>1</td>\n",
              "      <td>-1</td>\n",
              "      <td>-1</td>\n",
              "      <td>-1</td>\n",
              "      <td>-1</td>\n",
              "      <td>1</td>\n",
              "      <td>1</td>\n",
              "      <td>-1</td>\n",
              "      <td>1</td>\n",
              "      <td>0</td>\n",
              "      <td>-1</td>\n",
              "      <td>-1</td>\n",
              "      <td>-1</td>\n",
              "      <td>-1</td>\n",
              "      <td>0</td>\n",
              "      <td>1</td>\n",
              "      <td>1</td>\n",
              "      <td>1</td>\n",
              "      <td>1</td>\n",
              "      <td>1</td>\n",
              "      <td>-1</td>\n",
              "      <td>1</td>\n",
              "      <td>-1</td>\n",
              "      <td>1</td>\n",
              "      <td>0</td>\n",
              "      <td>-1</td>\n",
              "      <td>0</td>\n",
              "    </tr>\n",
              "    <tr>\n",
              "      <th>3</th>\n",
              "      <td>1</td>\n",
              "      <td>0</td>\n",
              "      <td>1</td>\n",
              "      <td>1</td>\n",
              "      <td>1</td>\n",
              "      <td>-1</td>\n",
              "      <td>-1</td>\n",
              "      <td>-1</td>\n",
              "      <td>1</td>\n",
              "      <td>1</td>\n",
              "      <td>1</td>\n",
              "      <td>-1</td>\n",
              "      <td>-1</td>\n",
              "      <td>0</td>\n",
              "      <td>0</td>\n",
              "      <td>-1</td>\n",
              "      <td>1</td>\n",
              "      <td>1</td>\n",
              "      <td>0</td>\n",
              "      <td>1</td>\n",
              "      <td>1</td>\n",
              "      <td>1</td>\n",
              "      <td>1</td>\n",
              "      <td>-1</td>\n",
              "      <td>-1</td>\n",
              "      <td>1</td>\n",
              "      <td>-1</td>\n",
              "      <td>1</td>\n",
              "      <td>-1</td>\n",
              "      <td>1</td>\n",
              "      <td>0</td>\n",
              "    </tr>\n",
              "    <tr>\n",
              "      <th>4</th>\n",
              "      <td>1</td>\n",
              "      <td>0</td>\n",
              "      <td>-1</td>\n",
              "      <td>1</td>\n",
              "      <td>1</td>\n",
              "      <td>-1</td>\n",
              "      <td>1</td>\n",
              "      <td>1</td>\n",
              "      <td>-1</td>\n",
              "      <td>1</td>\n",
              "      <td>1</td>\n",
              "      <td>1</td>\n",
              "      <td>1</td>\n",
              "      <td>0</td>\n",
              "      <td>0</td>\n",
              "      <td>-1</td>\n",
              "      <td>1</td>\n",
              "      <td>1</td>\n",
              "      <td>0</td>\n",
              "      <td>-1</td>\n",
              "      <td>1</td>\n",
              "      <td>-1</td>\n",
              "      <td>1</td>\n",
              "      <td>-1</td>\n",
              "      <td>-1</td>\n",
              "      <td>0</td>\n",
              "      <td>-1</td>\n",
              "      <td>1</td>\n",
              "      <td>1</td>\n",
              "      <td>1</td>\n",
              "      <td>1</td>\n",
              "    </tr>\n",
              "  </tbody>\n",
              "</table>\n",
              "</div>"
            ],
            "text/plain": [
              "   having_IP_Address  URL_Length  ...  Statistical_report  Result\n",
              "0                 -1           1  ...                  -1       0\n",
              "1                  1           1  ...                   1       0\n",
              "2                  1           0  ...                  -1       0\n",
              "3                  1           0  ...                   1       0\n",
              "4                  1           0  ...                   1       1\n",
              "\n",
              "[5 rows x 31 columns]"
            ]
          },
          "metadata": {
            "tags": []
          },
          "execution_count": 8
        }
      ]
    },
    {
      "cell_type": "code",
      "metadata": {
        "colab": {
          "base_uri": "https://localhost:8080/"
        },
        "id": "txg_V_UGtwn8",
        "outputId": "5a052609-469d-4fd9-d75b-a7eeede77f9f"
      },
      "source": [
        "df.columns"
      ],
      "execution_count": 9,
      "outputs": [
        {
          "output_type": "execute_result",
          "data": {
            "text/plain": [
              "Index(['having_IP_Address', 'URL_Length', 'Shortining_Service',\n",
              "       'having_At_Symbol', 'double_slash_redirecting', 'Prefix_Suffix',\n",
              "       'having_Sub_Domain', 'SSLfinal_State', 'Domain_registeration_length',\n",
              "       'Favicon', 'port', 'HTTPS_token', 'Request_URL', 'URL_of_Anchor',\n",
              "       'Links_in_tags', 'SFH', 'Submitting_to_email', 'Abnormal_URL',\n",
              "       'Redirect', 'on_mouseover', 'RightClick', 'popUpWidnow', 'Iframe',\n",
              "       'age_of_domain', 'DNSRecord', 'web_traffic', 'Page_Rank',\n",
              "       'Google_Index', 'Links_pointing_to_page', 'Statistical_report',\n",
              "       'Result'],\n",
              "      dtype='object')"
            ]
          },
          "metadata": {
            "tags": []
          },
          "execution_count": 9
        }
      ]
    },
    {
      "cell_type": "code",
      "metadata": {
        "colab": {
          "base_uri": "https://localhost:8080/"
        },
        "id": "Crrbi4Yut1dS",
        "outputId": "0e30d595-a267-474a-f08e-eba965ea5e24"
      },
      "source": [
        "df.shape"
      ],
      "execution_count": 10,
      "outputs": [
        {
          "output_type": "execute_result",
          "data": {
            "text/plain": [
              "(11055, 31)"
            ]
          },
          "metadata": {
            "tags": []
          },
          "execution_count": 10
        }
      ]
    },
    {
      "cell_type": "code",
      "metadata": {
        "colab": {
          "base_uri": "https://localhost:8080/"
        },
        "id": "j1QgDQ7It7QX",
        "outputId": "9f863cd4-3c09-4000-9100-ede7f30fe9f7"
      },
      "source": [
        "df.info()"
      ],
      "execution_count": 11,
      "outputs": [
        {
          "output_type": "stream",
          "text": [
            "<class 'pandas.core.frame.DataFrame'>\n",
            "RangeIndex: 11055 entries, 0 to 11054\n",
            "Data columns (total 31 columns):\n",
            " #   Column                       Non-Null Count  Dtype\n",
            "---  ------                       --------------  -----\n",
            " 0   having_IP_Address            11055 non-null  int64\n",
            " 1   URL_Length                   11055 non-null  int64\n",
            " 2   Shortining_Service           11055 non-null  int64\n",
            " 3   having_At_Symbol             11055 non-null  int64\n",
            " 4   double_slash_redirecting     11055 non-null  int64\n",
            " 5   Prefix_Suffix                11055 non-null  int64\n",
            " 6   having_Sub_Domain            11055 non-null  int64\n",
            " 7   SSLfinal_State               11055 non-null  int64\n",
            " 8   Domain_registeration_length  11055 non-null  int64\n",
            " 9   Favicon                      11055 non-null  int64\n",
            " 10  port                         11055 non-null  int64\n",
            " 11  HTTPS_token                  11055 non-null  int64\n",
            " 12  Request_URL                  11055 non-null  int64\n",
            " 13  URL_of_Anchor                11055 non-null  int64\n",
            " 14  Links_in_tags                11055 non-null  int64\n",
            " 15  SFH                          11055 non-null  int64\n",
            " 16  Submitting_to_email          11055 non-null  int64\n",
            " 17  Abnormal_URL                 11055 non-null  int64\n",
            " 18  Redirect                     11055 non-null  int64\n",
            " 19  on_mouseover                 11055 non-null  int64\n",
            " 20  RightClick                   11055 non-null  int64\n",
            " 21  popUpWidnow                  11055 non-null  int64\n",
            " 22  Iframe                       11055 non-null  int64\n",
            " 23  age_of_domain                11055 non-null  int64\n",
            " 24  DNSRecord                    11055 non-null  int64\n",
            " 25  web_traffic                  11055 non-null  int64\n",
            " 26  Page_Rank                    11055 non-null  int64\n",
            " 27  Google_Index                 11055 non-null  int64\n",
            " 28  Links_pointing_to_page       11055 non-null  int64\n",
            " 29  Statistical_report           11055 non-null  int64\n",
            " 30  Result                       11055 non-null  int64\n",
            "dtypes: int64(31)\n",
            "memory usage: 2.6 MB\n"
          ],
          "name": "stdout"
        }
      ]
    },
    {
      "cell_type": "code",
      "metadata": {
        "colab": {
          "base_uri": "https://localhost:8080/",
          "height": 223
        },
        "id": "0xmr0jkt5fUG",
        "outputId": "3e9bffc7-c7ea-480e-e1e2-2759c7688dcb"
      },
      "source": [
        "# shuffling the rows in the dataset so that when splitting the train and test set are equally distributed\n",
        "data = df.sample(frac=1).reset_index(drop=True)\n",
        "data.head()"
      ],
      "execution_count": 12,
      "outputs": [
        {
          "output_type": "execute_result",
          "data": {
            "text/html": [
              "<div>\n",
              "<style scoped>\n",
              "    .dataframe tbody tr th:only-of-type {\n",
              "        vertical-align: middle;\n",
              "    }\n",
              "\n",
              "    .dataframe tbody tr th {\n",
              "        vertical-align: top;\n",
              "    }\n",
              "\n",
              "    .dataframe thead th {\n",
              "        text-align: right;\n",
              "    }\n",
              "</style>\n",
              "<table border=\"1\" class=\"dataframe\">\n",
              "  <thead>\n",
              "    <tr style=\"text-align: right;\">\n",
              "      <th></th>\n",
              "      <th>having_IP_Address</th>\n",
              "      <th>URL_Length</th>\n",
              "      <th>Shortining_Service</th>\n",
              "      <th>having_At_Symbol</th>\n",
              "      <th>double_slash_redirecting</th>\n",
              "      <th>Prefix_Suffix</th>\n",
              "      <th>having_Sub_Domain</th>\n",
              "      <th>SSLfinal_State</th>\n",
              "      <th>Domain_registeration_length</th>\n",
              "      <th>Favicon</th>\n",
              "      <th>port</th>\n",
              "      <th>HTTPS_token</th>\n",
              "      <th>Request_URL</th>\n",
              "      <th>URL_of_Anchor</th>\n",
              "      <th>Links_in_tags</th>\n",
              "      <th>SFH</th>\n",
              "      <th>Submitting_to_email</th>\n",
              "      <th>Abnormal_URL</th>\n",
              "      <th>Redirect</th>\n",
              "      <th>on_mouseover</th>\n",
              "      <th>RightClick</th>\n",
              "      <th>popUpWidnow</th>\n",
              "      <th>Iframe</th>\n",
              "      <th>age_of_domain</th>\n",
              "      <th>DNSRecord</th>\n",
              "      <th>web_traffic</th>\n",
              "      <th>Page_Rank</th>\n",
              "      <th>Google_Index</th>\n",
              "      <th>Links_pointing_to_page</th>\n",
              "      <th>Statistical_report</th>\n",
              "      <th>Result</th>\n",
              "    </tr>\n",
              "  </thead>\n",
              "  <tbody>\n",
              "    <tr>\n",
              "      <th>0</th>\n",
              "      <td>1</td>\n",
              "      <td>-1</td>\n",
              "      <td>1</td>\n",
              "      <td>1</td>\n",
              "      <td>1</td>\n",
              "      <td>-1</td>\n",
              "      <td>-1</td>\n",
              "      <td>1</td>\n",
              "      <td>1</td>\n",
              "      <td>1</td>\n",
              "      <td>1</td>\n",
              "      <td>-1</td>\n",
              "      <td>-1</td>\n",
              "      <td>1</td>\n",
              "      <td>1</td>\n",
              "      <td>-1</td>\n",
              "      <td>1</td>\n",
              "      <td>1</td>\n",
              "      <td>0</td>\n",
              "      <td>1</td>\n",
              "      <td>1</td>\n",
              "      <td>1</td>\n",
              "      <td>1</td>\n",
              "      <td>1</td>\n",
              "      <td>1</td>\n",
              "      <td>1</td>\n",
              "      <td>-1</td>\n",
              "      <td>1</td>\n",
              "      <td>1</td>\n",
              "      <td>1</td>\n",
              "      <td>1</td>\n",
              "    </tr>\n",
              "    <tr>\n",
              "      <th>1</th>\n",
              "      <td>1</td>\n",
              "      <td>-1</td>\n",
              "      <td>1</td>\n",
              "      <td>1</td>\n",
              "      <td>1</td>\n",
              "      <td>-1</td>\n",
              "      <td>1</td>\n",
              "      <td>-1</td>\n",
              "      <td>1</td>\n",
              "      <td>1</td>\n",
              "      <td>1</td>\n",
              "      <td>1</td>\n",
              "      <td>-1</td>\n",
              "      <td>-1</td>\n",
              "      <td>0</td>\n",
              "      <td>-1</td>\n",
              "      <td>1</td>\n",
              "      <td>1</td>\n",
              "      <td>0</td>\n",
              "      <td>1</td>\n",
              "      <td>1</td>\n",
              "      <td>1</td>\n",
              "      <td>1</td>\n",
              "      <td>-1</td>\n",
              "      <td>-1</td>\n",
              "      <td>-1</td>\n",
              "      <td>-1</td>\n",
              "      <td>1</td>\n",
              "      <td>1</td>\n",
              "      <td>-1</td>\n",
              "      <td>0</td>\n",
              "    </tr>\n",
              "    <tr>\n",
              "      <th>2</th>\n",
              "      <td>1</td>\n",
              "      <td>-1</td>\n",
              "      <td>1</td>\n",
              "      <td>1</td>\n",
              "      <td>1</td>\n",
              "      <td>-1</td>\n",
              "      <td>1</td>\n",
              "      <td>1</td>\n",
              "      <td>-1</td>\n",
              "      <td>1</td>\n",
              "      <td>1</td>\n",
              "      <td>1</td>\n",
              "      <td>1</td>\n",
              "      <td>0</td>\n",
              "      <td>0</td>\n",
              "      <td>-1</td>\n",
              "      <td>1</td>\n",
              "      <td>1</td>\n",
              "      <td>0</td>\n",
              "      <td>1</td>\n",
              "      <td>1</td>\n",
              "      <td>1</td>\n",
              "      <td>1</td>\n",
              "      <td>-1</td>\n",
              "      <td>1</td>\n",
              "      <td>0</td>\n",
              "      <td>1</td>\n",
              "      <td>1</td>\n",
              "      <td>0</td>\n",
              "      <td>1</td>\n",
              "      <td>1</td>\n",
              "    </tr>\n",
              "    <tr>\n",
              "      <th>3</th>\n",
              "      <td>1</td>\n",
              "      <td>-1</td>\n",
              "      <td>1</td>\n",
              "      <td>-1</td>\n",
              "      <td>1</td>\n",
              "      <td>-1</td>\n",
              "      <td>0</td>\n",
              "      <td>0</td>\n",
              "      <td>-1</td>\n",
              "      <td>-1</td>\n",
              "      <td>-1</td>\n",
              "      <td>1</td>\n",
              "      <td>-1</td>\n",
              "      <td>-1</td>\n",
              "      <td>0</td>\n",
              "      <td>-1</td>\n",
              "      <td>-1</td>\n",
              "      <td>1</td>\n",
              "      <td>0</td>\n",
              "      <td>1</td>\n",
              "      <td>1</td>\n",
              "      <td>-1</td>\n",
              "      <td>1</td>\n",
              "      <td>1</td>\n",
              "      <td>1</td>\n",
              "      <td>-1</td>\n",
              "      <td>-1</td>\n",
              "      <td>-1</td>\n",
              "      <td>0</td>\n",
              "      <td>1</td>\n",
              "      <td>0</td>\n",
              "    </tr>\n",
              "    <tr>\n",
              "      <th>4</th>\n",
              "      <td>-1</td>\n",
              "      <td>1</td>\n",
              "      <td>-1</td>\n",
              "      <td>-1</td>\n",
              "      <td>-1</td>\n",
              "      <td>-1</td>\n",
              "      <td>1</td>\n",
              "      <td>0</td>\n",
              "      <td>-1</td>\n",
              "      <td>1</td>\n",
              "      <td>1</td>\n",
              "      <td>-1</td>\n",
              "      <td>1</td>\n",
              "      <td>-1</td>\n",
              "      <td>1</td>\n",
              "      <td>-1</td>\n",
              "      <td>1</td>\n",
              "      <td>-1</td>\n",
              "      <td>1</td>\n",
              "      <td>1</td>\n",
              "      <td>1</td>\n",
              "      <td>1</td>\n",
              "      <td>1</td>\n",
              "      <td>1</td>\n",
              "      <td>-1</td>\n",
              "      <td>0</td>\n",
              "      <td>1</td>\n",
              "      <td>1</td>\n",
              "      <td>1</td>\n",
              "      <td>1</td>\n",
              "      <td>0</td>\n",
              "    </tr>\n",
              "  </tbody>\n",
              "</table>\n",
              "</div>"
            ],
            "text/plain": [
              "   having_IP_Address  URL_Length  ...  Statistical_report  Result\n",
              "0                  1          -1  ...                   1       1\n",
              "1                  1          -1  ...                  -1       0\n",
              "2                  1          -1  ...                   1       1\n",
              "3                  1          -1  ...                   1       0\n",
              "4                 -1           1  ...                   1       0\n",
              "\n",
              "[5 rows x 31 columns]"
            ]
          },
          "metadata": {
            "tags": []
          },
          "execution_count": 12
        }
      ]
    },
    {
      "cell_type": "code",
      "metadata": {
        "colab": {
          "base_uri": "https://localhost:8080/"
        },
        "id": "nldEsP4b5wJy",
        "outputId": "b8f905ff-03ba-430a-c05b-95cc8b6c6f34"
      },
      "source": [
        "# Sepratating & assigning features and target columns to X & y\n",
        "y = data['Result']\n",
        "X = data.drop('Result',axis=1)\n",
        "X.shape, y.shape"
      ],
      "execution_count": 13,
      "outputs": [
        {
          "output_type": "execute_result",
          "data": {
            "text/plain": [
              "((11055, 30), (11055,))"
            ]
          },
          "metadata": {
            "tags": []
          },
          "execution_count": 13
        }
      ]
    },
    {
      "cell_type": "code",
      "metadata": {
        "id": "h60L7R91A__G"
      },
      "source": [
        "from sklearn.preprocessing import StandardScaler\n",
        "scaler=StandardScaler()\n",
        "X_=scaler.fit_transform(X)"
      ],
      "execution_count": 14,
      "outputs": []
    },
    {
      "cell_type": "code",
      "metadata": {
        "id": "gDiTL9BDBPsG"
      },
      "source": [
        "y_=y.to_numpy()"
      ],
      "execution_count": 15,
      "outputs": []
    },
    {
      "cell_type": "code",
      "metadata": {
        "id": "WAN1gZ83BZXv"
      },
      "source": [
        "X_=X_.reshape(X_.shape[0],X_.shape[1],1)"
      ],
      "execution_count": 16,
      "outputs": []
    },
    {
      "cell_type": "code",
      "metadata": {
        "colab": {
          "base_uri": "https://localhost:8080/"
        },
        "id": "U5coBUy5Bsp7",
        "outputId": "95572e82-89dd-4e98-a48e-e7baa081a960"
      },
      "source": [
        "X_.shape"
      ],
      "execution_count": 17,
      "outputs": [
        {
          "output_type": "execute_result",
          "data": {
            "text/plain": [
              "(11055, 30, 1)"
            ]
          },
          "metadata": {
            "tags": []
          },
          "execution_count": 17
        }
      ]
    },
    {
      "cell_type": "code",
      "metadata": {
        "colab": {
          "base_uri": "https://localhost:8080/"
        },
        "id": "WGHi9P9enTiu",
        "outputId": "5aec81c9-302d-4530-f98d-931012905a25"
      },
      "source": [
        "y_.shape"
      ],
      "execution_count": 18,
      "outputs": [
        {
          "output_type": "execute_result",
          "data": {
            "text/plain": [
              "(11055,)"
            ]
          },
          "metadata": {
            "tags": []
          },
          "execution_count": 18
        }
      ]
    },
    {
      "cell_type": "code",
      "metadata": {
        "id": "co1BcCLZuVbb"
      },
      "source": [
        "import numpy\n",
        "from numpy import mean\n",
        "from numpy import std\n",
        "from numpy import array\n",
        "from keras.models import Sequential\n",
        "from keras.layers import Dense, Dropout\n",
        "import pandas as pd\n",
        "from sklearn.metrics import confusion_matrix, precision_score, recall_score, f1_score, cohen_kappa_score\n",
        "from sklearn.model_selection import KFold\n",
        "from keras.layers import Flatten, Activation, LSTM\n",
        "import time"
      ],
      "execution_count": 19,
      "outputs": []
    },
    {
      "cell_type": "code",
      "metadata": {
        "id": "gTDToZ0Cuc60"
      },
      "source": [
        "import tensorflow as tf\n",
        "import random "
      ],
      "execution_count": 20,
      "outputs": []
    },
    {
      "cell_type": "code",
      "metadata": {
        "id": "C-nNe_GUwqxK"
      },
      "source": [
        "import random\n",
        "random.seed( 1 )\n",
        "tf.random.set_seed(2)"
      ],
      "execution_count": 21,
      "outputs": []
    },
    {
      "cell_type": "code",
      "metadata": {
        "id": "TYXhBoG9wARM"
      },
      "source": [
        "# lists to collect the performance metrics during each fold of the n-fold cross validation\n",
        "accuracy=[]\n",
        "loss=[]\n",
        "recall=[]\n",
        "f1=[]\n",
        "precision=[]\n",
        "Time=[]\n",
        "start = time.time()"
      ],
      "execution_count": 22,
      "outputs": []
    },
    {
      "cell_type": "code",
      "metadata": {
        "colab": {
          "base_uri": "https://localhost:8080/"
        },
        "id": "t4HlZjI6uInv",
        "outputId": "738407d7-6901-4503-f74a-a63d1f9780e2"
      },
      "source": [
        "epochs = 10\n",
        "batch_size=100\n",
        "num_folds=10\n",
        "# Define the K-fold Cross Validator\n",
        "kfold = KFold(n_splits=num_folds, shuffle=True)\n",
        "\n",
        "# K-fold Cross Validation model evaluation\n",
        "fold_no = 1\n",
        "for train, test in kfold.split(X_, y_):\n",
        "\n",
        "  # Define the model architecture\n",
        "  model = Sequential()\n",
        "  model.add(LSTM(256, activation='relu', input_shape=(X_[0].shape)))\n",
        "  model.add(Dropout(0.7))\n",
        "  model.add(Dense(1, activation='sigmoid'))\n",
        "\n",
        "\n",
        "  # Compile the model\n",
        "  model.compile(loss='binary_crossentropy', \n",
        "                optimizer='adam',\n",
        "                metrics=['accuracy'])\n",
        "\n",
        "\n",
        "  # Generate a print\n",
        "  print('------------------------------------------------------------------------')\n",
        "  print(f'Training for fold {fold_no} ...')\n",
        "\n",
        "  # Fit data to model\n",
        "  history = model.fit(X_[train], y_[train],\n",
        "              batch_size=batch_size,\n",
        "              epochs=epochs,\n",
        "              verbose=1)\n",
        "\n",
        "  # Generate generalization metrics\n",
        "  y_pred = model.predict_classes(X_[test])\n",
        "  scores = model.evaluate(X_[test], y_[test], verbose=0)\n",
        "  print(f'Score for fold {fold_no}: {model.metrics_names[0]} of {scores[0]}; {model.metrics_names[1]} of {scores[1]*100}%')\n",
        "  accuracy.append(scores[1] * 100)\n",
        "  loss.append(scores[0])\n",
        "  recall.append(recall_score(y_[test], y_pred))\n",
        "  f1.append(f1_score(y_[test], y_pred))\n",
        "  precision.append(precision_score(y_[test], y_pred))\n",
        "\n",
        "  # Increase fold number\n",
        "  fold_no = fold_no + 1"
      ],
      "execution_count": 23,
      "outputs": [
        {
          "output_type": "stream",
          "text": [
            "------------------------------------------------------------------------\n",
            "Training for fold 1 ...\n",
            "Epoch 1/10\n",
            "100/100 [==============================] - 37s 153ms/step - loss: 0.6588 - accuracy: 0.6224\n",
            "Epoch 2/10\n",
            "100/100 [==============================] - 15s 153ms/step - loss: 0.6084 - accuracy: 0.6600\n",
            "Epoch 3/10\n",
            "100/100 [==============================] - 15s 151ms/step - loss: 0.6039 - accuracy: 0.6364\n",
            "Epoch 4/10\n",
            "100/100 [==============================] - 15s 153ms/step - loss: 0.5583 - accuracy: 0.7009\n",
            "Epoch 5/10\n",
            "100/100 [==============================] - 15s 152ms/step - loss: 0.4687 - accuracy: 0.7826\n",
            "Epoch 6/10\n",
            "100/100 [==============================] - 15s 152ms/step - loss: 0.5262 - accuracy: 0.7497\n",
            "Epoch 7/10\n",
            "100/100 [==============================] - 15s 153ms/step - loss: 0.3748 - accuracy: 0.8385\n",
            "Epoch 8/10\n",
            "100/100 [==============================] - 15s 154ms/step - loss: 0.3153 - accuracy: 0.8688\n",
            "Epoch 9/10\n",
            "100/100 [==============================] - 15s 154ms/step - loss: 0.3030 - accuracy: 0.8797\n",
            "Epoch 10/10\n",
            "100/100 [==============================] - 15s 152ms/step - loss: 0.2788 - accuracy: 0.8878\n"
          ],
          "name": "stdout"
        },
        {
          "output_type": "stream",
          "text": [
            "/usr/local/lib/python3.7/dist-packages/keras/engine/sequential.py:450: UserWarning: `model.predict_classes()` is deprecated and will be removed after 2021-01-01. Please use instead:* `np.argmax(model.predict(x), axis=-1)`,   if your model does multi-class classification   (e.g. if it uses a `softmax` last-layer activation).* `(model.predict(x) > 0.5).astype(\"int32\")`,   if your model does binary classification   (e.g. if it uses a `sigmoid` last-layer activation).\n",
            "  warnings.warn('`model.predict_classes()` is deprecated and '\n"
          ],
          "name": "stderr"
        },
        {
          "output_type": "stream",
          "text": [
            "Score for fold 1: loss of 0.2639980912208557; accuracy of 89.51175212860107%\n",
            "------------------------------------------------------------------------\n",
            "Training for fold 2 ...\n",
            "Epoch 1/10\n",
            "100/100 [==============================] - 17s 153ms/step - loss: 0.6313 - accuracy: 0.6288\n",
            "Epoch 2/10\n",
            "100/100 [==============================] - 15s 154ms/step - loss: 0.5478 - accuracy: 0.7099\n",
            "Epoch 3/10\n",
            "100/100 [==============================] - 15s 152ms/step - loss: 0.4705 - accuracy: 0.7674\n",
            "Epoch 4/10\n",
            "100/100 [==============================] - 15s 152ms/step - loss: 0.3899 - accuracy: 0.8483\n",
            "Epoch 5/10\n",
            "100/100 [==============================] - 15s 152ms/step - loss: 0.2951 - accuracy: 0.8843\n",
            "Epoch 6/10\n",
            "100/100 [==============================] - 15s 153ms/step - loss: 0.2870 - accuracy: 0.8880\n",
            "Epoch 7/10\n",
            "100/100 [==============================] - 15s 154ms/step - loss: 0.2797 - accuracy: 0.8900\n",
            "Epoch 8/10\n",
            "100/100 [==============================] - 15s 152ms/step - loss: 0.2745 - accuracy: 0.8893\n",
            "Epoch 9/10\n",
            "100/100 [==============================] - 15s 153ms/step - loss: 0.2540 - accuracy: 0.8974\n",
            "Epoch 10/10\n",
            "100/100 [==============================] - 15s 154ms/step - loss: 0.2543 - accuracy: 0.9030\n",
            "Score for fold 2: loss of 0.25422462821006775; accuracy of 90.5063271522522%\n",
            "------------------------------------------------------------------------\n",
            "Training for fold 3 ...\n",
            "Epoch 1/10\n",
            "100/100 [==============================] - 18s 157ms/step - loss: 1.0476 - accuracy: 0.5785\n",
            "Epoch 2/10\n",
            "100/100 [==============================] - 16s 159ms/step - loss: 0.5859 - accuracy: 0.6766\n",
            "Epoch 3/10\n",
            "100/100 [==============================] - 16s 159ms/step - loss: 0.4834 - accuracy: 0.7973\n",
            "Epoch 4/10\n",
            "100/100 [==============================] - 16s 158ms/step - loss: 0.3859 - accuracy: 0.8357\n",
            "Epoch 5/10\n",
            "100/100 [==============================] - 16s 158ms/step - loss: 0.3727 - accuracy: 0.8454\n",
            "Epoch 6/10\n",
            "100/100 [==============================] - 16s 159ms/step - loss: 0.3331 - accuracy: 0.8626\n",
            "Epoch 7/10\n",
            "100/100 [==============================] - 16s 157ms/step - loss: 0.2973 - accuracy: 0.8865\n",
            "Epoch 8/10\n",
            "100/100 [==============================] - 16s 157ms/step - loss: 0.2964 - accuracy: 0.8806\n",
            "Epoch 9/10\n",
            "100/100 [==============================] - 16s 159ms/step - loss: 0.2749 - accuracy: 0.8940\n",
            "Epoch 10/10\n",
            "100/100 [==============================] - 16s 158ms/step - loss: 0.2804 - accuracy: 0.8890\n",
            "Score for fold 3: loss of 0.26035305857658386; accuracy of 89.15008902549744%\n",
            "------------------------------------------------------------------------\n",
            "Training for fold 4 ...\n",
            "Epoch 1/10\n",
            "100/100 [==============================] - 18s 156ms/step - loss: 0.6148 - accuracy: 0.6294\n",
            "Epoch 2/10\n",
            "100/100 [==============================] - 15s 154ms/step - loss: 0.4482 - accuracy: 0.7997\n",
            "Epoch 3/10\n",
            "100/100 [==============================] - 15s 154ms/step - loss: 0.3917 - accuracy: 0.8233\n",
            "Epoch 4/10\n",
            "100/100 [==============================] - 15s 154ms/step - loss: 0.3226 - accuracy: 0.8697\n",
            "Epoch 5/10\n",
            "100/100 [==============================] - 15s 155ms/step - loss: 0.3084 - accuracy: 0.8750\n",
            "Epoch 6/10\n",
            "100/100 [==============================] - 16s 159ms/step - loss: 0.2766 - accuracy: 0.8881\n",
            "Epoch 7/10\n",
            "100/100 [==============================] - 15s 154ms/step - loss: 0.2795 - accuracy: 0.8867\n",
            "Epoch 8/10\n",
            "100/100 [==============================] - 16s 155ms/step - loss: 0.2655 - accuracy: 0.8984\n",
            "Epoch 9/10\n",
            "100/100 [==============================] - 15s 153ms/step - loss: 0.2471 - accuracy: 0.9079\n",
            "Epoch 10/10\n",
            "100/100 [==============================] - 15s 154ms/step - loss: 0.2382 - accuracy: 0.9076\n",
            "Score for fold 4: loss of 0.21982501447200775; accuracy of 91.77215099334717%\n",
            "------------------------------------------------------------------------\n",
            "Training for fold 5 ...\n",
            "Epoch 1/10\n",
            "100/100 [==============================] - 17s 150ms/step - loss: 0.6135 - accuracy: 0.6421\n",
            "Epoch 2/10\n",
            "100/100 [==============================] - 15s 151ms/step - loss: 0.5128 - accuracy: 0.7553\n",
            "Epoch 3/10\n",
            "100/100 [==============================] - 15s 149ms/step - loss: 0.3766 - accuracy: 0.8355\n",
            "Epoch 4/10\n",
            "100/100 [==============================] - 15s 150ms/step - loss: 0.3115 - accuracy: 0.8714\n",
            "Epoch 5/10\n",
            "100/100 [==============================] - 15s 151ms/step - loss: 0.2858 - accuracy: 0.8835\n",
            "Epoch 6/10\n",
            "100/100 [==============================] - 15s 151ms/step - loss: 0.2791 - accuracy: 0.8936\n",
            "Epoch 7/10\n",
            "100/100 [==============================] - 15s 151ms/step - loss: 0.2514 - accuracy: 0.8980\n",
            "Epoch 8/10\n",
            "100/100 [==============================] - 15s 154ms/step - loss: 0.2665 - accuracy: 0.8963\n",
            "Epoch 9/10\n",
            "100/100 [==============================] - 15s 151ms/step - loss: 0.2636 - accuracy: 0.8954\n",
            "Epoch 10/10\n",
            "100/100 [==============================] - 15s 150ms/step - loss: 0.2327 - accuracy: 0.9136\n",
            "Score for fold 5: loss of 0.2259674370288849; accuracy of 91.04882478713989%\n",
            "------------------------------------------------------------------------\n",
            "Training for fold 6 ...\n",
            "Epoch 1/10\n",
            "100/100 [==============================] - 17s 149ms/step - loss: 0.6288 - accuracy: 0.6127\n",
            "Epoch 2/10\n",
            "100/100 [==============================] - 15s 149ms/step - loss: 0.6279 - accuracy: 0.6824\n",
            "Epoch 3/10\n",
            "100/100 [==============================] - 15s 151ms/step - loss: 0.5604 - accuracy: 0.7233\n",
            "Epoch 4/10\n",
            "100/100 [==============================] - 15s 149ms/step - loss: 0.4301 - accuracy: 0.8012\n",
            "Epoch 5/10\n",
            "100/100 [==============================] - 15s 152ms/step - loss: 0.4323 - accuracy: 0.8074\n",
            "Epoch 6/10\n",
            "100/100 [==============================] - 15s 151ms/step - loss: 0.3736 - accuracy: 0.8372\n",
            "Epoch 7/10\n",
            "100/100 [==============================] - 15s 150ms/step - loss: 0.3543 - accuracy: 0.8536\n",
            "Epoch 8/10\n",
            "100/100 [==============================] - 15s 149ms/step - loss: 0.2816 - accuracy: 0.8871\n",
            "Epoch 9/10\n",
            "100/100 [==============================] - 15s 150ms/step - loss: 0.2732 - accuracy: 0.8946\n",
            "Epoch 10/10\n",
            "100/100 [==============================] - 15s 150ms/step - loss: 0.2673 - accuracy: 0.8938\n",
            "Score for fold 6: loss of 0.28236401081085205; accuracy of 89.86425399780273%\n",
            "------------------------------------------------------------------------\n",
            "Training for fold 7 ...\n",
            "Epoch 1/10\n",
            "100/100 [==============================] - 17s 148ms/step - loss: 0.6807 - accuracy: 0.6026\n",
            "Epoch 2/10\n",
            "100/100 [==============================] - 15s 147ms/step - loss: 0.6340 - accuracy: 0.6840\n",
            "Epoch 3/10\n",
            "100/100 [==============================] - 15s 147ms/step - loss: 0.6085 - accuracy: 0.6543\n",
            "Epoch 4/10\n",
            "100/100 [==============================] - 15s 148ms/step - loss: 0.5279 - accuracy: 0.7617\n",
            "Epoch 5/10\n",
            "100/100 [==============================] - 15s 148ms/step - loss: 0.6154 - accuracy: 0.5748\n",
            "Epoch 6/10\n",
            "100/100 [==============================] - 15s 148ms/step - loss: 0.4531 - accuracy: 0.8066\n",
            "Epoch 7/10\n",
            "100/100 [==============================] - 15s 148ms/step - loss: 0.3798 - accuracy: 0.8504\n",
            "Epoch 8/10\n",
            "100/100 [==============================] - 15s 147ms/step - loss: 0.3260 - accuracy: 0.8686\n",
            "Epoch 9/10\n",
            "100/100 [==============================] - 15s 147ms/step - loss: 0.2934 - accuracy: 0.8854\n",
            "Epoch 10/10\n",
            "100/100 [==============================] - 15s 148ms/step - loss: 0.2802 - accuracy: 0.8910\n",
            "Score for fold 7: loss of 0.27107682824134827; accuracy of 89.59276080131531%\n",
            "------------------------------------------------------------------------\n",
            "Training for fold 8 ...\n",
            "Epoch 1/10\n",
            "100/100 [==============================] - 17s 151ms/step - loss: 0.6106 - accuracy: 0.6396\n",
            "Epoch 2/10\n",
            "100/100 [==============================] - 15s 151ms/step - loss: 0.5909 - accuracy: 0.7548\n",
            "Epoch 3/10\n",
            "100/100 [==============================] - 15s 151ms/step - loss: 0.4226 - accuracy: 0.8076\n",
            "Epoch 4/10\n",
            "100/100 [==============================] - 15s 152ms/step - loss: 0.3360 - accuracy: 0.8646\n",
            "Epoch 5/10\n",
            "100/100 [==============================] - 15s 152ms/step - loss: 0.2949 - accuracy: 0.8848\n",
            "Epoch 6/10\n",
            "100/100 [==============================] - 15s 153ms/step - loss: 0.2958 - accuracy: 0.8830\n",
            "Epoch 7/10\n",
            "100/100 [==============================] - 15s 152ms/step - loss: 0.2634 - accuracy: 0.8984\n",
            "Epoch 8/10\n",
            "100/100 [==============================] - 15s 152ms/step - loss: 0.2875 - accuracy: 0.8844\n",
            "Epoch 9/10\n",
            "100/100 [==============================] - 15s 152ms/step - loss: 0.2762 - accuracy: 0.8938\n",
            "Epoch 10/10\n",
            "100/100 [==============================] - 15s 153ms/step - loss: 0.2554 - accuracy: 0.9041\n",
            "Score for fold 8: loss of 0.21535278856754303; accuracy of 91.8552041053772%\n",
            "------------------------------------------------------------------------\n",
            "Training for fold 9 ...\n",
            "Epoch 1/10\n",
            "100/100 [==============================] - 17s 153ms/step - loss: 0.6272 - accuracy: 0.6169\n",
            "Epoch 2/10\n",
            "100/100 [==============================] - 15s 153ms/step - loss: 0.6332 - accuracy: 0.6621\n",
            "Epoch 3/10\n",
            "100/100 [==============================] - 15s 153ms/step - loss: 0.6098 - accuracy: 0.5764\n",
            "Epoch 4/10\n",
            "100/100 [==============================] - 15s 154ms/step - loss: 0.5645 - accuracy: 0.6779\n",
            "Epoch 5/10\n",
            "100/100 [==============================] - 15s 153ms/step - loss: 0.4666 - accuracy: 0.7869\n",
            "Epoch 6/10\n",
            "100/100 [==============================] - 15s 153ms/step - loss: 0.3850 - accuracy: 0.8398\n",
            "Epoch 7/10\n",
            "100/100 [==============================] - 15s 153ms/step - loss: 0.3272 - accuracy: 0.8697\n",
            "Epoch 8/10\n",
            "100/100 [==============================] - 15s 153ms/step - loss: 0.2916 - accuracy: 0.8835\n",
            "Epoch 9/10\n",
            "100/100 [==============================] - 15s 152ms/step - loss: 0.2843 - accuracy: 0.8913\n",
            "Epoch 10/10\n",
            "100/100 [==============================] - 15s 153ms/step - loss: 0.2782 - accuracy: 0.8942\n",
            "Score for fold 9: loss of 0.23269882798194885; accuracy of 90.31674265861511%\n",
            "------------------------------------------------------------------------\n",
            "Training for fold 10 ...\n",
            "Epoch 1/10\n",
            "100/100 [==============================] - 18s 153ms/step - loss: 0.6608 - accuracy: 0.5890\n",
            "Epoch 2/10\n",
            "100/100 [==============================] - 15s 153ms/step - loss: 0.6182 - accuracy: 0.6890\n",
            "Epoch 3/10\n",
            "100/100 [==============================] - 15s 153ms/step - loss: 0.6399 - accuracy: 0.6781\n",
            "Epoch 4/10\n",
            "100/100 [==============================] - 15s 154ms/step - loss: 0.4783 - accuracy: 0.7698\n",
            "Epoch 5/10\n",
            "100/100 [==============================] - 15s 154ms/step - loss: 0.3664 - accuracy: 0.8430\n",
            "Epoch 6/10\n",
            "100/100 [==============================] - 15s 154ms/step - loss: 0.6200 - accuracy: 0.7374\n",
            "Epoch 7/10\n",
            "100/100 [==============================] - 15s 153ms/step - loss: 0.3889 - accuracy: 0.8351\n",
            "Epoch 8/10\n",
            "100/100 [==============================] - 15s 154ms/step - loss: 0.3178 - accuracy: 0.8731\n",
            "Epoch 9/10\n",
            "100/100 [==============================] - 15s 154ms/step - loss: 0.2690 - accuracy: 0.8952\n",
            "Epoch 10/10\n",
            "100/100 [==============================] - 15s 154ms/step - loss: 0.3019 - accuracy: 0.8790\n",
            "Score for fold 10: loss of 0.2770780920982361; accuracy of 90.22624492645264%\n"
          ],
          "name": "stdout"
        }
      ]
    },
    {
      "cell_type": "code",
      "metadata": {
        "id": "HYMII0CAEy7v"
      },
      "source": [
        "# obtain approximate training time\n",
        "end_time = time.time()\n",
        "time = (end_time - start)     #obtain time taken to train the model"
      ],
      "execution_count": 24,
      "outputs": []
    },
    {
      "cell_type": "code",
      "metadata": {
        "colab": {
          "base_uri": "https://localhost:8080/"
        },
        "id": "SKZB6JStGkUn",
        "outputId": "f53d6413-d3a2-4c27-840e-9adcd7f265c3"
      },
      "source": [
        "# summarize the distribution of scores\n",
        "print('Accuracy Mean: %.3f, Standard Deviation: %.3f' % (mean(accuracy), std(accuracy)))                   #mean of all the accuracies fom the n folds and standard deviation\n",
        "print('Precision Mean: %.3f, Standard Deviation: %.3f' % (mean(precision), std(precision)))          #mean of all the precisions fom the n folds and standard deviation\n",
        "print('Recall Mean: %.3f, Standard Deviation: %.3f' % (mean(recall), std(recall)))\n",
        "print('F1 Mean: %.3f, Standard Deviation: %.3f' % (mean(f1), std(f1)))\n",
        "print('Total time Mean: %.3f' % (time/10))\n",
        "print('loss Mean: %.3f, Standard Deviation: %.3f' % (mean(loss), std(loss)))"
      ],
      "execution_count": 25,
      "outputs": [
        {
          "output_type": "stream",
          "text": [
            "Accuracy Mean: 90.384, Standard Deviation: 0.881\n",
            "Precision Mean: 0.910, Standard Deviation: 0.021\n",
            "Recall Mean: 0.918, Standard Deviation: 0.021\n",
            "F1 Mean: 0.914, Standard Deviation: 0.009\n",
            "Total time Mean: 431.779\n",
            "loss Mean: 0.250, Standard Deviation: 0.024\n"
          ],
          "name": "stdout"
        }
      ]
    },
    {
      "cell_type": "code",
      "metadata": {
        "id": "4z4Rjd1ORGqY"
      },
      "source": [
        ""
      ],
      "execution_count": null,
      "outputs": []
    }
  ]
}