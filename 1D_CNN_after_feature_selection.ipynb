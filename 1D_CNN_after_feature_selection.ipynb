{
  "nbformat": 4,
  "nbformat_minor": 0,
  "metadata": {
    "colab": {
      "name": "1D-CNN after feature selection.ipynb",
      "provenance": [],
      "authorship_tag": "ABX9TyPhoFsxIhgPoRIjRs4ZTL0+",
      "include_colab_link": true
    },
    "kernelspec": {
      "name": "python3",
      "display_name": "Python 3"
    },
    "language_info": {
      "name": "python"
    }
  },
  "cells": [
    {
      "cell_type": "markdown",
      "metadata": {
        "id": "view-in-github",
        "colab_type": "text"
      },
      "source": [
        "<a href=\"https://colab.research.google.com/github/Nilufayeasmin299/Phishig-detection-using-both-machine-learning-and-deep-learning-techniques/blob/main/1D_CNN_after_feature_selection.ipynb\" target=\"_parent\"><img src=\"https://colab.research.google.com/assets/colab-badge.svg\" alt=\"Open In Colab\"/></a>"
      ]
    },
    {
      "cell_type": "code",
      "metadata": {
        "colab": {
          "base_uri": "https://localhost:8080/"
        },
        "id": "Yac3f-TPnmun",
        "outputId": "7f7491e3-ffa5-42a0-be7f-f3717bcc67ef"
      },
      "source": [
        "from google.colab import drive\n",
        "drive.mount('/content/gdrive')"
      ],
      "execution_count": null,
      "outputs": [
        {
          "output_type": "stream",
          "text": [
            "Drive already mounted at /content/gdrive; to attempt to forcibly remount, call drive.mount(\"/content/gdrive\", force_remount=True).\n"
          ],
          "name": "stdout"
        }
      ]
    },
    {
      "cell_type": "code",
      "metadata": {
        "colab": {
          "base_uri": "https://localhost:8080/",
          "height": 240
        },
        "id": "ob2NYNWNoQZO",
        "outputId": "35baaf3f-1fe0-447f-99c4-6771712b9a2a"
      },
      "source": [
        "#loading dataset\n",
        "import pandas as pd\n",
        "df=pd.read_csv('/content/gdrive/MyDrive/Second paper/Dataset/My new_data')\n",
        "df.head()"
      ],
      "execution_count": null,
      "outputs": [
        {
          "output_type": "execute_result",
          "data": {
            "text/html": [
              "<div>\n",
              "<style scoped>\n",
              "    .dataframe tbody tr th:only-of-type {\n",
              "        vertical-align: middle;\n",
              "    }\n",
              "\n",
              "    .dataframe tbody tr th {\n",
              "        vertical-align: top;\n",
              "    }\n",
              "\n",
              "    .dataframe thead th {\n",
              "        text-align: right;\n",
              "    }\n",
              "</style>\n",
              "<table border=\"1\" class=\"dataframe\">\n",
              "  <thead>\n",
              "    <tr style=\"text-align: right;\">\n",
              "      <th></th>\n",
              "      <th>Unnamed: 0</th>\n",
              "      <th>having_IP_Address</th>\n",
              "      <th>URL_Length</th>\n",
              "      <th>Shortining_Service</th>\n",
              "      <th>Prefix_Suffix</th>\n",
              "      <th>having_Sub_Domain</th>\n",
              "      <th>SSLfinal_State</th>\n",
              "      <th>Domain_registeration_length</th>\n",
              "      <th>Request_URL</th>\n",
              "      <th>URL_of_Anchor</th>\n",
              "      <th>Links_in_tags</th>\n",
              "      <th>SFH</th>\n",
              "      <th>Redirect</th>\n",
              "      <th>on_mouseover</th>\n",
              "      <th>RightClick</th>\n",
              "      <th>age_of_domain</th>\n",
              "      <th>web_traffic</th>\n",
              "      <th>Page_Rank</th>\n",
              "      <th>Google_Index</th>\n",
              "      <th>Links_pointing_to_page</th>\n",
              "      <th>Statistical_report</th>\n",
              "      <th>Result</th>\n",
              "    </tr>\n",
              "  </thead>\n",
              "  <tbody>\n",
              "    <tr>\n",
              "      <th>0</th>\n",
              "      <td>0</td>\n",
              "      <td>-1</td>\n",
              "      <td>1</td>\n",
              "      <td>1</td>\n",
              "      <td>-1</td>\n",
              "      <td>-1</td>\n",
              "      <td>-1</td>\n",
              "      <td>-1</td>\n",
              "      <td>1</td>\n",
              "      <td>-1</td>\n",
              "      <td>1</td>\n",
              "      <td>-1</td>\n",
              "      <td>0</td>\n",
              "      <td>1</td>\n",
              "      <td>1</td>\n",
              "      <td>-1</td>\n",
              "      <td>-1</td>\n",
              "      <td>-1</td>\n",
              "      <td>1</td>\n",
              "      <td>1</td>\n",
              "      <td>-1</td>\n",
              "      <td>0</td>\n",
              "    </tr>\n",
              "    <tr>\n",
              "      <th>1</th>\n",
              "      <td>1</td>\n",
              "      <td>1</td>\n",
              "      <td>1</td>\n",
              "      <td>1</td>\n",
              "      <td>-1</td>\n",
              "      <td>0</td>\n",
              "      <td>1</td>\n",
              "      <td>-1</td>\n",
              "      <td>1</td>\n",
              "      <td>0</td>\n",
              "      <td>-1</td>\n",
              "      <td>-1</td>\n",
              "      <td>0</td>\n",
              "      <td>1</td>\n",
              "      <td>1</td>\n",
              "      <td>-1</td>\n",
              "      <td>0</td>\n",
              "      <td>-1</td>\n",
              "      <td>1</td>\n",
              "      <td>1</td>\n",
              "      <td>1</td>\n",
              "      <td>0</td>\n",
              "    </tr>\n",
              "    <tr>\n",
              "      <th>2</th>\n",
              "      <td>2</td>\n",
              "      <td>1</td>\n",
              "      <td>0</td>\n",
              "      <td>1</td>\n",
              "      <td>-1</td>\n",
              "      <td>-1</td>\n",
              "      <td>-1</td>\n",
              "      <td>-1</td>\n",
              "      <td>1</td>\n",
              "      <td>0</td>\n",
              "      <td>-1</td>\n",
              "      <td>-1</td>\n",
              "      <td>0</td>\n",
              "      <td>1</td>\n",
              "      <td>1</td>\n",
              "      <td>1</td>\n",
              "      <td>1</td>\n",
              "      <td>-1</td>\n",
              "      <td>1</td>\n",
              "      <td>0</td>\n",
              "      <td>-1</td>\n",
              "      <td>0</td>\n",
              "    </tr>\n",
              "    <tr>\n",
              "      <th>3</th>\n",
              "      <td>3</td>\n",
              "      <td>1</td>\n",
              "      <td>0</td>\n",
              "      <td>1</td>\n",
              "      <td>-1</td>\n",
              "      <td>-1</td>\n",
              "      <td>-1</td>\n",
              "      <td>1</td>\n",
              "      <td>-1</td>\n",
              "      <td>0</td>\n",
              "      <td>0</td>\n",
              "      <td>-1</td>\n",
              "      <td>0</td>\n",
              "      <td>1</td>\n",
              "      <td>1</td>\n",
              "      <td>-1</td>\n",
              "      <td>1</td>\n",
              "      <td>-1</td>\n",
              "      <td>1</td>\n",
              "      <td>-1</td>\n",
              "      <td>1</td>\n",
              "      <td>0</td>\n",
              "    </tr>\n",
              "    <tr>\n",
              "      <th>4</th>\n",
              "      <td>4</td>\n",
              "      <td>1</td>\n",
              "      <td>0</td>\n",
              "      <td>-1</td>\n",
              "      <td>-1</td>\n",
              "      <td>1</td>\n",
              "      <td>1</td>\n",
              "      <td>-1</td>\n",
              "      <td>1</td>\n",
              "      <td>0</td>\n",
              "      <td>0</td>\n",
              "      <td>-1</td>\n",
              "      <td>0</td>\n",
              "      <td>-1</td>\n",
              "      <td>1</td>\n",
              "      <td>-1</td>\n",
              "      <td>0</td>\n",
              "      <td>-1</td>\n",
              "      <td>1</td>\n",
              "      <td>1</td>\n",
              "      <td>1</td>\n",
              "      <td>1</td>\n",
              "    </tr>\n",
              "  </tbody>\n",
              "</table>\n",
              "</div>"
            ],
            "text/plain": [
              "   Unnamed: 0  having_IP_Address  ...  Statistical_report  Result\n",
              "0           0                 -1  ...                  -1       0\n",
              "1           1                  1  ...                   1       0\n",
              "2           2                  1  ...                  -1       0\n",
              "3           3                  1  ...                   1       0\n",
              "4           4                  1  ...                   1       1\n",
              "\n",
              "[5 rows x 22 columns]"
            ]
          },
          "metadata": {
            "tags": []
          },
          "execution_count": 2
        }
      ]
    },
    {
      "cell_type": "code",
      "metadata": {
        "colab": {
          "base_uri": "https://localhost:8080/"
        },
        "id": "sGOH8k6Fos3g",
        "outputId": "e7fd02e9-3c8b-4750-f670-c74bd1f148ca"
      },
      "source": [
        "df.columns"
      ],
      "execution_count": null,
      "outputs": [
        {
          "output_type": "execute_result",
          "data": {
            "text/plain": [
              "Index(['Unnamed: 0', 'having_IP_Address', 'URL_Length', 'Shortining_Service',\n",
              "       'Prefix_Suffix', 'having_Sub_Domain', 'SSLfinal_State',\n",
              "       'Domain_registeration_length', 'Request_URL', 'URL_of_Anchor',\n",
              "       'Links_in_tags', 'SFH', 'Redirect', 'on_mouseover', 'RightClick',\n",
              "       'age_of_domain', 'web_traffic', 'Page_Rank', 'Google_Index',\n",
              "       'Links_pointing_to_page', 'Statistical_report', 'Result'],\n",
              "      dtype='object')"
            ]
          },
          "metadata": {
            "tags": []
          },
          "execution_count": 3
        }
      ]
    },
    {
      "cell_type": "code",
      "metadata": {
        "id": "9CHEnvZCoznt"
      },
      "source": [
        "data=df.drop(['Unnamed: 0'], axis=1)"
      ],
      "execution_count": null,
      "outputs": []
    },
    {
      "cell_type": "code",
      "metadata": {
        "colab": {
          "base_uri": "https://localhost:8080/",
          "height": 223
        },
        "id": "fDSSxRuGo9lQ",
        "outputId": "e5fc515e-031b-4219-cf09-0a002061b1a6"
      },
      "source": [
        "data.head()"
      ],
      "execution_count": null,
      "outputs": [
        {
          "output_type": "execute_result",
          "data": {
            "text/html": [
              "<div>\n",
              "<style scoped>\n",
              "    .dataframe tbody tr th:only-of-type {\n",
              "        vertical-align: middle;\n",
              "    }\n",
              "\n",
              "    .dataframe tbody tr th {\n",
              "        vertical-align: top;\n",
              "    }\n",
              "\n",
              "    .dataframe thead th {\n",
              "        text-align: right;\n",
              "    }\n",
              "</style>\n",
              "<table border=\"1\" class=\"dataframe\">\n",
              "  <thead>\n",
              "    <tr style=\"text-align: right;\">\n",
              "      <th></th>\n",
              "      <th>having_IP_Address</th>\n",
              "      <th>URL_Length</th>\n",
              "      <th>Shortining_Service</th>\n",
              "      <th>Prefix_Suffix</th>\n",
              "      <th>having_Sub_Domain</th>\n",
              "      <th>SSLfinal_State</th>\n",
              "      <th>Domain_registeration_length</th>\n",
              "      <th>Request_URL</th>\n",
              "      <th>URL_of_Anchor</th>\n",
              "      <th>Links_in_tags</th>\n",
              "      <th>SFH</th>\n",
              "      <th>Redirect</th>\n",
              "      <th>on_mouseover</th>\n",
              "      <th>RightClick</th>\n",
              "      <th>age_of_domain</th>\n",
              "      <th>web_traffic</th>\n",
              "      <th>Page_Rank</th>\n",
              "      <th>Google_Index</th>\n",
              "      <th>Links_pointing_to_page</th>\n",
              "      <th>Statistical_report</th>\n",
              "      <th>Result</th>\n",
              "    </tr>\n",
              "  </thead>\n",
              "  <tbody>\n",
              "    <tr>\n",
              "      <th>0</th>\n",
              "      <td>-1</td>\n",
              "      <td>1</td>\n",
              "      <td>1</td>\n",
              "      <td>-1</td>\n",
              "      <td>-1</td>\n",
              "      <td>-1</td>\n",
              "      <td>-1</td>\n",
              "      <td>1</td>\n",
              "      <td>-1</td>\n",
              "      <td>1</td>\n",
              "      <td>-1</td>\n",
              "      <td>0</td>\n",
              "      <td>1</td>\n",
              "      <td>1</td>\n",
              "      <td>-1</td>\n",
              "      <td>-1</td>\n",
              "      <td>-1</td>\n",
              "      <td>1</td>\n",
              "      <td>1</td>\n",
              "      <td>-1</td>\n",
              "      <td>0</td>\n",
              "    </tr>\n",
              "    <tr>\n",
              "      <th>1</th>\n",
              "      <td>1</td>\n",
              "      <td>1</td>\n",
              "      <td>1</td>\n",
              "      <td>-1</td>\n",
              "      <td>0</td>\n",
              "      <td>1</td>\n",
              "      <td>-1</td>\n",
              "      <td>1</td>\n",
              "      <td>0</td>\n",
              "      <td>-1</td>\n",
              "      <td>-1</td>\n",
              "      <td>0</td>\n",
              "      <td>1</td>\n",
              "      <td>1</td>\n",
              "      <td>-1</td>\n",
              "      <td>0</td>\n",
              "      <td>-1</td>\n",
              "      <td>1</td>\n",
              "      <td>1</td>\n",
              "      <td>1</td>\n",
              "      <td>0</td>\n",
              "    </tr>\n",
              "    <tr>\n",
              "      <th>2</th>\n",
              "      <td>1</td>\n",
              "      <td>0</td>\n",
              "      <td>1</td>\n",
              "      <td>-1</td>\n",
              "      <td>-1</td>\n",
              "      <td>-1</td>\n",
              "      <td>-1</td>\n",
              "      <td>1</td>\n",
              "      <td>0</td>\n",
              "      <td>-1</td>\n",
              "      <td>-1</td>\n",
              "      <td>0</td>\n",
              "      <td>1</td>\n",
              "      <td>1</td>\n",
              "      <td>1</td>\n",
              "      <td>1</td>\n",
              "      <td>-1</td>\n",
              "      <td>1</td>\n",
              "      <td>0</td>\n",
              "      <td>-1</td>\n",
              "      <td>0</td>\n",
              "    </tr>\n",
              "    <tr>\n",
              "      <th>3</th>\n",
              "      <td>1</td>\n",
              "      <td>0</td>\n",
              "      <td>1</td>\n",
              "      <td>-1</td>\n",
              "      <td>-1</td>\n",
              "      <td>-1</td>\n",
              "      <td>1</td>\n",
              "      <td>-1</td>\n",
              "      <td>0</td>\n",
              "      <td>0</td>\n",
              "      <td>-1</td>\n",
              "      <td>0</td>\n",
              "      <td>1</td>\n",
              "      <td>1</td>\n",
              "      <td>-1</td>\n",
              "      <td>1</td>\n",
              "      <td>-1</td>\n",
              "      <td>1</td>\n",
              "      <td>-1</td>\n",
              "      <td>1</td>\n",
              "      <td>0</td>\n",
              "    </tr>\n",
              "    <tr>\n",
              "      <th>4</th>\n",
              "      <td>1</td>\n",
              "      <td>0</td>\n",
              "      <td>-1</td>\n",
              "      <td>-1</td>\n",
              "      <td>1</td>\n",
              "      <td>1</td>\n",
              "      <td>-1</td>\n",
              "      <td>1</td>\n",
              "      <td>0</td>\n",
              "      <td>0</td>\n",
              "      <td>-1</td>\n",
              "      <td>0</td>\n",
              "      <td>-1</td>\n",
              "      <td>1</td>\n",
              "      <td>-1</td>\n",
              "      <td>0</td>\n",
              "      <td>-1</td>\n",
              "      <td>1</td>\n",
              "      <td>1</td>\n",
              "      <td>1</td>\n",
              "      <td>1</td>\n",
              "    </tr>\n",
              "  </tbody>\n",
              "</table>\n",
              "</div>"
            ],
            "text/plain": [
              "   having_IP_Address  URL_Length  ...  Statistical_report  Result\n",
              "0                 -1           1  ...                  -1       0\n",
              "1                  1           1  ...                   1       0\n",
              "2                  1           0  ...                  -1       0\n",
              "3                  1           0  ...                   1       0\n",
              "4                  1           0  ...                   1       1\n",
              "\n",
              "[5 rows x 21 columns]"
            ]
          },
          "metadata": {
            "tags": []
          },
          "execution_count": 5
        }
      ]
    },
    {
      "cell_type": "code",
      "metadata": {
        "colab": {
          "base_uri": "https://localhost:8080/"
        },
        "id": "tG1KXzDMpATy",
        "outputId": "85e17f35-18c3-4243-b357-245eac3e0385"
      },
      "source": [
        "data.shape"
      ],
      "execution_count": null,
      "outputs": [
        {
          "output_type": "execute_result",
          "data": {
            "text/plain": [
              "(11055, 21)"
            ]
          },
          "metadata": {
            "tags": []
          },
          "execution_count": 6
        }
      ]
    },
    {
      "cell_type": "code",
      "metadata": {
        "id": "JrjI8zp-pF7y"
      },
      "source": [
        "import numpy\n",
        "from numpy import mean\n",
        "from numpy import std\n",
        "from numpy import array\n",
        "from keras.models import Sequential\n",
        "from keras.layers import Dense, Dropout\n",
        "import pandas as pd\n",
        "from sklearn.metrics import confusion_matrix, precision_score, recall_score, f1_score, cohen_kappa_score\n",
        "from sklearn.model_selection import KFold\n",
        "from keras.layers import Conv1D, MaxPooling1D, Flatten, Activation\n",
        "import time"
      ],
      "execution_count": null,
      "outputs": []
    },
    {
      "cell_type": "code",
      "metadata": {
        "id": "VbOsnfb7pMvu"
      },
      "source": [
        "import tensorflow as tf"
      ],
      "execution_count": null,
      "outputs": []
    },
    {
      "cell_type": "code",
      "metadata": {
        "id": "-Pt4_bF9pQIl"
      },
      "source": [
        "# lists to collect the performance metrics during each fold of the n-fold cross validation\n",
        "accuracy=list()\n",
        "loss=list()\n",
        "recall=list()\n",
        "f1=list()\n",
        "precision=list()"
      ],
      "execution_count": null,
      "outputs": []
    },
    {
      "cell_type": "code",
      "metadata": {
        "id": "NaqJl9ZbpSwN"
      },
      "source": [
        "TrainTime=list()\n",
        "TestTime=list()"
      ],
      "execution_count": null,
      "outputs": []
    },
    {
      "cell_type": "code",
      "metadata": {
        "id": "GXt9GeuTpU9h"
      },
      "source": [
        "batch_size=32"
      ],
      "execution_count": null,
      "outputs": []
    },
    {
      "cell_type": "code",
      "metadata": {
        "id": "Rtrq6i3npXgL"
      },
      "source": [
        "#create a dataframe with all the training data except the target column\n",
        "\n",
        "X_train = array(df.drop(columns=['Result']))\n",
        "y_train = array(df.Result)"
      ],
      "execution_count": null,
      "outputs": []
    },
    {
      "cell_type": "code",
      "metadata": {
        "id": "AZ0lR4JIpz6S"
      },
      "source": [
        "#input shape\n",
        "n_cols = X_train.shape[1]"
      ],
      "execution_count": null,
      "outputs": []
    },
    {
      "cell_type": "code",
      "metadata": {
        "id": "dvl6a5Waq48v"
      },
      "source": [
        "number_of_folds = 10                            #number of folds in the n-fold cross validation - must have at least 2\n",
        "current_fold=0\n",
        "kfold = KFold(number_of_folds, True, 1)"
      ],
      "execution_count": null,
      "outputs": []
    },
    {
      "cell_type": "code",
      "metadata": {
        "id": "V3bYAML0q88c"
      },
      "source": [
        "# function to fit and evaluate a CNN model on the dataset\n",
        "\n",
        "def evaluate_1D_CNN_model(trainX, trainY, testX, testY, num_cols, fold):\n",
        "\n",
        "    current_fold=fold            # the current fold in the n-fold cross validation\n",
        "    dropout_rate=0.50\n",
        "    n_cols = num_cols\n",
        "    num_filters = 64             #number of filters in the convolutional layer\n",
        "    size_filters=10               #size of the filters in convolutional layer\n",
        "    start = time.time()\n",
        "\n",
        "    # Reshape the inputs (training and testing inputs)\n",
        "    trainX.shape=(trainX.shape[0],n_cols)\n",
        "   # print(trainX.shape)\n",
        "    trainX=trainX.reshape(trainX.shape[0], n_cols,1)\n",
        "   \n",
        "    #print(trainX.shape)\n",
        "    testX.shape = (testX.shape[0], n_cols)\n",
        "    #print(testX.shape)\n",
        "    testX = testX.reshape(testX.shape[0], n_cols,1)\n",
        "    \n",
        "    #print(testX.shape)\n",
        "\n",
        "    trainX = tf.convert_to_tensor(trainX,dtype=tf.float32)\n",
        "    testX = tf.convert_to_tensor(testX,dtype=tf.float32)\n",
        "\n",
        "\n",
        "    # define the model\n",
        "    model = Sequential()\n",
        "    model.add(Conv1D(num_filters, size_filters, input_shape=(num_cols, 1),use_bias=False))\n",
        "    model.add(Activation('relu'))\n",
        "    model.add(MaxPooling1D(pool_size=2, strides=2))\n",
        "    model.add(Conv1D(num_filters, 5,  use_bias=False))\n",
        "    model.add(Activation('relu'))\n",
        "    model.add(MaxPooling1D(pool_size=2,strides=2))\n",
        "    model.add(Flatten())\n",
        "    model.add(Dense(8, use_bias=False))\n",
        "    model.add(Activation('relu'))\n",
        "    model.add(Dropout(dropout_rate))\n",
        "    model.add(Dense(1, activation='sigmoid'))\n",
        "\n",
        "    \n",
        "\n",
        "    # compile the model using accuracy as a measure of model performance\n",
        "    model.compile(optimizer='adam', loss='binary_crossentropy', metrics=['accuracy'])\n",
        "       \n",
        "\n",
        "    #fit model\n",
        "   \n",
        "    history = model.fit(trainX, trainY, batch_size=batch_size, validation_split=0.1, epochs=20, verbose=0,)\n",
        "\n",
        "\n",
        "    if current_fold ==1:                                                # show the model summary architecture when evaluating the 1st fold in the n-fold cross validation\n",
        "        model.summary()\n",
        "\n",
        "    # obtain approximate training time\n",
        "    train_end_time = time.time()\n",
        "    train_time = (train_end_time - start)     #obtain time taken to train the model\n",
        "    TrainTime.append(train_time)\n",
        "\n",
        "    #evaluate the model\n",
        "    loss_score, acc_score = model.evaluate(testX, testY, verbose=0)\n",
        "    loss.append(loss_score)\n",
        "    accuracy.append(acc_score)\n",
        "\n",
        "    y_pred = model.predict_classes(testX)\n",
        "\n",
        "    # obtain approximate testing time\n",
        "    test_time = (time.time() -train_end_time)        #obtain time taken to test the model\n",
        "    TestTime.append(test_time)\n",
        "\n",
        "    #update the list of performance metrics for the folds\n",
        "    recall.append(recall_score(testY, y_pred))\n",
        "    f1.append(f1_score(testY, y_pred))\n",
        "    precision.append(precision_score(testY, y_pred))\n",
        "    \n",
        "    \n",
        "   \n",
        "\n",
        "    if current_fold == 1:                                                             #plot the test-validation loss and test-validation accuracy for fold 1\n",
        "        from matplotlib import pyplot\n",
        "\n",
        "        # plots ------\n",
        "        pyplot.plot(history.history['loss'], label='training loss')\n",
        "        pyplot.plot(history.history['val_loss'], label= 'validation loss')\n",
        "        pyplot.legend()\n",
        "        pyplot.show()\n",
        "       # pyplot.plot(history.history['acc'], label='training acc')\n",
        "        #pyplot.plot(history.history['val_acc'], label='validation acc')\n",
        "        #pyplot.legend()\n",
        "        #pyplot.show()\n",
        "\n",
        "    return acc_score\n",
        "\n"
      ],
      "execution_count": null,
      "outputs": []
    },
    {
      "cell_type": "code",
      "metadata": {
        "colab": {
          "base_uri": "https://localhost:8080/",
          "height": 990
        },
        "id": "TRU2hvtEveCv",
        "outputId": "9edaeadf-97b5-41bb-a1d8-1612122a2568"
      },
      "source": [
        "#cross validation estimation of performance\n",
        "\n",
        "scores = list()\n",
        "for train_ix, test_ix in kfold.split(X_train):\n",
        "    current_fold = current_fold+1\n",
        "    #select samples\n",
        "    trainX, trainY = X_train[train_ix], y_train[train_ix]\n",
        "    testX, testY = X_train[test_ix], y_train[test_ix]\n",
        "\n",
        "    #evaluate model\n",
        "    \n",
        "    acc_for_fold = evaluate_1D_CNN_model(trainX, trainY, testX, testY, n_cols, current_fold)\n",
        "    print('>%.3f' % acc_for_fold)                 #output prediction accuracy for the current fold\n",
        "    scores.append(acc_for_fold)"
      ],
      "execution_count": null,
      "outputs": [
        {
          "output_type": "stream",
          "text": [
            "Model: \"sequential\"\n",
            "_________________________________________________________________\n",
            "Layer (type)                 Output Shape              Param #   \n",
            "=================================================================\n",
            "conv1d (Conv1D)              (None, 12, 64)            640       \n",
            "_________________________________________________________________\n",
            "activation (Activation)      (None, 12, 64)            0         \n",
            "_________________________________________________________________\n",
            "max_pooling1d (MaxPooling1D) (None, 6, 64)             0         \n",
            "_________________________________________________________________\n",
            "conv1d_1 (Conv1D)            (None, 2, 64)             20480     \n",
            "_________________________________________________________________\n",
            "activation_1 (Activation)    (None, 2, 64)             0         \n",
            "_________________________________________________________________\n",
            "max_pooling1d_1 (MaxPooling1 (None, 1, 64)             0         \n",
            "_________________________________________________________________\n",
            "flatten (Flatten)            (None, 64)                0         \n",
            "_________________________________________________________________\n",
            "dense (Dense)                (None, 8)                 512       \n",
            "_________________________________________________________________\n",
            "activation_2 (Activation)    (None, 8)                 0         \n",
            "_________________________________________________________________\n",
            "dropout (Dropout)            (None, 8)                 0         \n",
            "_________________________________________________________________\n",
            "dense_1 (Dense)              (None, 1)                 9         \n",
            "=================================================================\n",
            "Total params: 21,641\n",
            "Trainable params: 21,641\n",
            "Non-trainable params: 0\n",
            "_________________________________________________________________\n"
          ],
          "name": "stdout"
        },
        {
          "output_type": "stream",
          "text": [
            "/usr/local/lib/python3.7/dist-packages/keras/engine/sequential.py:450: UserWarning: `model.predict_classes()` is deprecated and will be removed after 2021-01-01. Please use instead:* `np.argmax(model.predict(x), axis=-1)`,   if your model does multi-class classification   (e.g. if it uses a `softmax` last-layer activation).* `(model.predict(x) > 0.5).astype(\"int32\")`,   if your model does binary classification   (e.g. if it uses a `sigmoid` last-layer activation).\n",
            "  warnings.warn('`model.predict_classes()` is deprecated and '\n"
          ],
          "name": "stderr"
        },
        {
          "output_type": "display_data",
          "data": {
            "image/png": "[encoded data removed]",
            "text/plain": [
              "<Figure size 432x288 with 1 Axes>"
            ]
          },
          "metadata": {
            "tags": [],
            "needs_background": "light"
          }
        },
        {
          "output_type": "stream",
          "text": [
            ">0.932\n",
            ">0.916\n",
            ">0.914\n",
            ">0.542\n",
            ">0.932\n",
            ">0.554\n",
            ">0.924\n",
            ">0.565\n",
            ">0.561\n",
            ">0.934\n"
          ],
          "name": "stdout"
        }
      ]
    },
    {
      "cell_type": "code",
      "metadata": {
        "id": "Cfw42BTrvhsv",
        "colab": {
          "base_uri": "https://localhost:8080/"
        },
        "outputId": "dcf40177-abfd-48e6-9c1b-3b92817d9cdd"
      },
      "source": [
        "# summarize the distribution of scores\n",
        "print('Accuracy Mean: %.3f, Standard Deviation: %.3f' % (mean(accuracy), std(accuracy)))                   #mean of all the accuracies fom the n folds and standard deviation\n",
        "print('Precision Mean: %.3f, Standard Deviation: %.3f' % (mean(precision), std(precision)))          #mean of all the precisions fom the n folds and standard deviation\n",
        "print('Recall Mean: %.3f, Standard Deviation: %.3f' % (mean(recall), std(recall)))\n",
        "print('F1 Mean: %.3f, Standard Deviation: %.3f' % (mean(f1), std(f1)))\n",
        "print('Train time Mean: %.3f, Standard Deviation: %.3f' % (mean(TrainTime), std(TrainTime)))\n",
        "print('Test time Mean: %.3f, Standard Deviation: %.3f' % (mean(TestTime), std(TestTime)))\n",
        "print('loss Mean: %.3f, Standard Deviation: %.3f' % (mean(loss), std(loss)))"
      ],
      "execution_count": null,
      "outputs": [
        {
          "output_type": "stream",
          "text": [
            "Accuracy Mean: 0.777, Standard Deviation: 0.181\n",
            "Precision Mean: 0.771, Standard Deviation: 0.177\n",
            "Recall Mean: 0.975, Standard Deviation: 0.025\n",
            "F1 Mean: 0.847, Standard Deviation: 0.108\n",
            "Train time Mean: 20.685, Standard Deviation: 5.775\n",
            "Test time Mean: 0.466, Standard Deviation: 0.048\n",
            "loss Mean: 0.411, Standard Deviation: 0.230\n"
          ],
          "name": "stdout"
        }
      ]
    },
    {
      "cell_type": "code",
      "metadata": {
        "id": "_AI8_3cOB91Y"
      },
      "source": [
        ""
      ],
      "execution_count": null,
      "outputs": []
    }
  ]
}