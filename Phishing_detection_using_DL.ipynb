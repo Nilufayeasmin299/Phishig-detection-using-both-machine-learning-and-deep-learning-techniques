{
  "nbformat": 4,
  "nbformat_minor": 0,
  "metadata": {
    "colab": {
      "name": "Phishing detection using DL.ipynb",
      "provenance": [],
      "authorship_tag": "ABX9TyPJ9xCy+3ajTNsz4R7frf6g",
      "include_colab_link": true
    },
    "kernelspec": {
      "name": "python3",
      "display_name": "Python 3"
    },
    "language_info": {
      "name": "python"
    }
  },
  "cells": [
    {
      "cell_type": "markdown",
      "metadata": {
        "id": "view-in-github",
        "colab_type": "text"
      },
      "source": [
        "<a href=\"https://colab.research.google.com/github/Nilufayeasmin299/Phishig-detection-using-both-machine-learning-and-deep-learning-techniques/blob/main/Phishing_detection_using_DL.ipynb\" target=\"_parent\"><img src=\"https://colab.research.google.com/assets/colab-badge.svg\" alt=\"Open In Colab\"/></a>"
      ]
    },
    {
      "cell_type": "code",
      "metadata": {
        "colab": {
          "base_uri": "https://localhost:8080/"
        },
        "id": "2JEFX8FiadF1",
        "outputId": "4c33cf2d-2792-4c58-94f7-c8820ba514db"
      },
      "source": [
        "from google.colab import drive\n",
        "drive.mount('/content/gdrive')"
      ],
      "execution_count": 47,
      "outputs": [
        {
          "output_type": "stream",
          "text": [
            "Drive already mounted at /content/gdrive; to attempt to forcibly remount, call drive.mount(\"/content/gdrive\", force_remount=True).\n"
          ],
          "name": "stdout"
        }
      ]
    },
    {
      "cell_type": "markdown",
      "metadata": {
        "id": "DztRfAvMJm5T"
      },
      "source": [
        "#**Loading Dataset**"
      ]
    },
    {
      "cell_type": "code",
      "metadata": {
        "colab": {
          "base_uri": "https://localhost:8080/",
          "height": 215
        },
        "id": "lQrpTGp6apnE",
        "outputId": "75d3d30d-f1ab-4f30-dcfb-006f12c96eda"
      },
      "source": [
        "#loading dataset\n",
        "import pandas as pd\n",
        "df=pd.read_csv('/content/gdrive/MyDrive/Second paper/Dataset/Training Dataset.csv')\n",
        "df.head()"
      ],
      "execution_count": 48,
      "outputs": [
        {
          "output_type": "execute_result",
          "data": {
            "text/html": [
              "<div>\n",
              "<style scoped>\n",
              "    .dataframe tbody tr th:only-of-type {\n",
              "        vertical-align: middle;\n",
              "    }\n",
              "\n",
              "    .dataframe tbody tr th {\n",
              "        vertical-align: top;\n",
              "    }\n",
              "\n",
              "    .dataframe thead th {\n",
              "        text-align: right;\n",
              "    }\n",
              "</style>\n",
              "<table border=\"1\" class=\"dataframe\">\n",
              "  <thead>\n",
              "    <tr style=\"text-align: right;\">\n",
              "      <th></th>\n",
              "      <th>having_IP_Address</th>\n",
              "      <th>URL_Length</th>\n",
              "      <th>Shortining_Service</th>\n",
              "      <th>having_At_Symbol</th>\n",
              "      <th>double_slash_redirecting</th>\n",
              "      <th>Prefix_Suffix</th>\n",
              "      <th>having_Sub_Domain</th>\n",
              "      <th>SSLfinal_State</th>\n",
              "      <th>Domain_registeration_length</th>\n",
              "      <th>Favicon</th>\n",
              "      <th>port</th>\n",
              "      <th>HTTPS_token</th>\n",
              "      <th>Request_URL</th>\n",
              "      <th>URL_of_Anchor</th>\n",
              "      <th>Links_in_tags</th>\n",
              "      <th>SFH</th>\n",
              "      <th>Submitting_to_email</th>\n",
              "      <th>Abnormal_URL</th>\n",
              "      <th>Redirect</th>\n",
              "      <th>on_mouseover</th>\n",
              "      <th>RightClick</th>\n",
              "      <th>popUpWidnow</th>\n",
              "      <th>Iframe</th>\n",
              "      <th>age_of_domain</th>\n",
              "      <th>DNSRecord</th>\n",
              "      <th>web_traffic</th>\n",
              "      <th>Page_Rank</th>\n",
              "      <th>Google_Index</th>\n",
              "      <th>Links_pointing_to_page</th>\n",
              "      <th>Statistical_report</th>\n",
              "      <th>Result</th>\n",
              "    </tr>\n",
              "  </thead>\n",
              "  <tbody>\n",
              "    <tr>\n",
              "      <th>0</th>\n",
              "      <td>-1</td>\n",
              "      <td>1</td>\n",
              "      <td>1</td>\n",
              "      <td>1</td>\n",
              "      <td>-1</td>\n",
              "      <td>-1</td>\n",
              "      <td>-1</td>\n",
              "      <td>-1</td>\n",
              "      <td>-1</td>\n",
              "      <td>1</td>\n",
              "      <td>1</td>\n",
              "      <td>-1</td>\n",
              "      <td>1</td>\n",
              "      <td>-1</td>\n",
              "      <td>1</td>\n",
              "      <td>-1</td>\n",
              "      <td>-1</td>\n",
              "      <td>-1</td>\n",
              "      <td>0</td>\n",
              "      <td>1</td>\n",
              "      <td>1</td>\n",
              "      <td>1</td>\n",
              "      <td>1</td>\n",
              "      <td>-1</td>\n",
              "      <td>-1</td>\n",
              "      <td>-1</td>\n",
              "      <td>-1</td>\n",
              "      <td>1</td>\n",
              "      <td>1</td>\n",
              "      <td>-1</td>\n",
              "      <td>-1</td>\n",
              "    </tr>\n",
              "    <tr>\n",
              "      <th>1</th>\n",
              "      <td>1</td>\n",
              "      <td>1</td>\n",
              "      <td>1</td>\n",
              "      <td>1</td>\n",
              "      <td>1</td>\n",
              "      <td>-1</td>\n",
              "      <td>0</td>\n",
              "      <td>1</td>\n",
              "      <td>-1</td>\n",
              "      <td>1</td>\n",
              "      <td>1</td>\n",
              "      <td>-1</td>\n",
              "      <td>1</td>\n",
              "      <td>0</td>\n",
              "      <td>-1</td>\n",
              "      <td>-1</td>\n",
              "      <td>1</td>\n",
              "      <td>1</td>\n",
              "      <td>0</td>\n",
              "      <td>1</td>\n",
              "      <td>1</td>\n",
              "      <td>1</td>\n",
              "      <td>1</td>\n",
              "      <td>-1</td>\n",
              "      <td>-1</td>\n",
              "      <td>0</td>\n",
              "      <td>-1</td>\n",
              "      <td>1</td>\n",
              "      <td>1</td>\n",
              "      <td>1</td>\n",
              "      <td>-1</td>\n",
              "    </tr>\n",
              "    <tr>\n",
              "      <th>2</th>\n",
              "      <td>1</td>\n",
              "      <td>0</td>\n",
              "      <td>1</td>\n",
              "      <td>1</td>\n",
              "      <td>1</td>\n",
              "      <td>-1</td>\n",
              "      <td>-1</td>\n",
              "      <td>-1</td>\n",
              "      <td>-1</td>\n",
              "      <td>1</td>\n",
              "      <td>1</td>\n",
              "      <td>-1</td>\n",
              "      <td>1</td>\n",
              "      <td>0</td>\n",
              "      <td>-1</td>\n",
              "      <td>-1</td>\n",
              "      <td>-1</td>\n",
              "      <td>-1</td>\n",
              "      <td>0</td>\n",
              "      <td>1</td>\n",
              "      <td>1</td>\n",
              "      <td>1</td>\n",
              "      <td>1</td>\n",
              "      <td>1</td>\n",
              "      <td>-1</td>\n",
              "      <td>1</td>\n",
              "      <td>-1</td>\n",
              "      <td>1</td>\n",
              "      <td>0</td>\n",
              "      <td>-1</td>\n",
              "      <td>-1</td>\n",
              "    </tr>\n",
              "    <tr>\n",
              "      <th>3</th>\n",
              "      <td>1</td>\n",
              "      <td>0</td>\n",
              "      <td>1</td>\n",
              "      <td>1</td>\n",
              "      <td>1</td>\n",
              "      <td>-1</td>\n",
              "      <td>-1</td>\n",
              "      <td>-1</td>\n",
              "      <td>1</td>\n",
              "      <td>1</td>\n",
              "      <td>1</td>\n",
              "      <td>-1</td>\n",
              "      <td>-1</td>\n",
              "      <td>0</td>\n",
              "      <td>0</td>\n",
              "      <td>-1</td>\n",
              "      <td>1</td>\n",
              "      <td>1</td>\n",
              "      <td>0</td>\n",
              "      <td>1</td>\n",
              "      <td>1</td>\n",
              "      <td>1</td>\n",
              "      <td>1</td>\n",
              "      <td>-1</td>\n",
              "      <td>-1</td>\n",
              "      <td>1</td>\n",
              "      <td>-1</td>\n",
              "      <td>1</td>\n",
              "      <td>-1</td>\n",
              "      <td>1</td>\n",
              "      <td>-1</td>\n",
              "    </tr>\n",
              "    <tr>\n",
              "      <th>4</th>\n",
              "      <td>1</td>\n",
              "      <td>0</td>\n",
              "      <td>-1</td>\n",
              "      <td>1</td>\n",
              "      <td>1</td>\n",
              "      <td>-1</td>\n",
              "      <td>1</td>\n",
              "      <td>1</td>\n",
              "      <td>-1</td>\n",
              "      <td>1</td>\n",
              "      <td>1</td>\n",
              "      <td>1</td>\n",
              "      <td>1</td>\n",
              "      <td>0</td>\n",
              "      <td>0</td>\n",
              "      <td>-1</td>\n",
              "      <td>1</td>\n",
              "      <td>1</td>\n",
              "      <td>0</td>\n",
              "      <td>-1</td>\n",
              "      <td>1</td>\n",
              "      <td>-1</td>\n",
              "      <td>1</td>\n",
              "      <td>-1</td>\n",
              "      <td>-1</td>\n",
              "      <td>0</td>\n",
              "      <td>-1</td>\n",
              "      <td>1</td>\n",
              "      <td>1</td>\n",
              "      <td>1</td>\n",
              "      <td>1</td>\n",
              "    </tr>\n",
              "  </tbody>\n",
              "</table>\n",
              "</div>"
            ],
            "text/plain": [
              "   having_IP_Address  URL_Length  ...  Statistical_report  Result\n",
              "0                 -1           1  ...                  -1      -1\n",
              "1                  1           1  ...                   1      -1\n",
              "2                  1           0  ...                  -1      -1\n",
              "3                  1           0  ...                   1      -1\n",
              "4                  1           0  ...                   1       1\n",
              "\n",
              "[5 rows x 31 columns]"
            ]
          },
          "metadata": {
            "tags": []
          },
          "execution_count": 48
        }
      ]
    },
    {
      "cell_type": "markdown",
      "metadata": {
        "id": "b5PBB3FjJukr"
      },
      "source": [
        "#**Familiarizing with Data**"
      ]
    },
    {
      "cell_type": "code",
      "metadata": {
        "colab": {
          "base_uri": "https://localhost:8080/"
        },
        "id": "BngnJkT1bCPA",
        "outputId": "75850db5-f8e9-47b1-b6c8-12dc8bb776e5"
      },
      "source": [
        "df.columns"
      ],
      "execution_count": 49,
      "outputs": [
        {
          "output_type": "execute_result",
          "data": {
            "text/plain": [
              "Index(['having_IP_Address', 'URL_Length', 'Shortining_Service',\n",
              "       'having_At_Symbol', 'double_slash_redirecting', 'Prefix_Suffix',\n",
              "       'having_Sub_Domain', 'SSLfinal_State', 'Domain_registeration_length',\n",
              "       'Favicon', 'port', 'HTTPS_token', 'Request_URL', 'URL_of_Anchor',\n",
              "       'Links_in_tags', 'SFH', 'Submitting_to_email', 'Abnormal_URL',\n",
              "       'Redirect', 'on_mouseover', 'RightClick', 'popUpWidnow', 'Iframe',\n",
              "       'age_of_domain', 'DNSRecord', 'web_traffic', 'Page_Rank',\n",
              "       'Google_Index', 'Links_pointing_to_page', 'Statistical_report',\n",
              "       'Result'],\n",
              "      dtype='object')"
            ]
          },
          "metadata": {
            "tags": []
          },
          "execution_count": 49
        }
      ]
    },
    {
      "cell_type": "code",
      "metadata": {
        "colab": {
          "base_uri": "https://localhost:8080/"
        },
        "id": "pm1JERX-bHtq",
        "outputId": "189a8515-adb7-4962-cac8-effe63b40e5e"
      },
      "source": [
        "df.shape"
      ],
      "execution_count": 50,
      "outputs": [
        {
          "output_type": "execute_result",
          "data": {
            "text/plain": [
              "(11055, 31)"
            ]
          },
          "metadata": {
            "tags": []
          },
          "execution_count": 50
        }
      ]
    },
    {
      "cell_type": "code",
      "metadata": {
        "colab": {
          "base_uri": "https://localhost:8080/"
        },
        "id": "1qB7UsRJC0Bm",
        "outputId": "81de287f-7252-48a0-9bb5-d4e4825d6f71"
      },
      "source": [
        "df.info()"
      ],
      "execution_count": 51,
      "outputs": [
        {
          "output_type": "stream",
          "text": [
            "<class 'pandas.core.frame.DataFrame'>\n",
            "RangeIndex: 11055 entries, 0 to 11054\n",
            "Data columns (total 31 columns):\n",
            " #   Column                       Non-Null Count  Dtype\n",
            "---  ------                       --------------  -----\n",
            " 0   having_IP_Address            11055 non-null  int64\n",
            " 1   URL_Length                   11055 non-null  int64\n",
            " 2   Shortining_Service           11055 non-null  int64\n",
            " 3   having_At_Symbol             11055 non-null  int64\n",
            " 4   double_slash_redirecting     11055 non-null  int64\n",
            " 5   Prefix_Suffix                11055 non-null  int64\n",
            " 6   having_Sub_Domain            11055 non-null  int64\n",
            " 7   SSLfinal_State               11055 non-null  int64\n",
            " 8   Domain_registeration_length  11055 non-null  int64\n",
            " 9   Favicon                      11055 non-null  int64\n",
            " 10  port                         11055 non-null  int64\n",
            " 11  HTTPS_token                  11055 non-null  int64\n",
            " 12  Request_URL                  11055 non-null  int64\n",
            " 13  URL_of_Anchor                11055 non-null  int64\n",
            " 14  Links_in_tags                11055 non-null  int64\n",
            " 15  SFH                          11055 non-null  int64\n",
            " 16  Submitting_to_email          11055 non-null  int64\n",
            " 17  Abnormal_URL                 11055 non-null  int64\n",
            " 18  Redirect                     11055 non-null  int64\n",
            " 19  on_mouseover                 11055 non-null  int64\n",
            " 20  RightClick                   11055 non-null  int64\n",
            " 21  popUpWidnow                  11055 non-null  int64\n",
            " 22  Iframe                       11055 non-null  int64\n",
            " 23  age_of_domain                11055 non-null  int64\n",
            " 24  DNSRecord                    11055 non-null  int64\n",
            " 25  web_traffic                  11055 non-null  int64\n",
            " 26  Page_Rank                    11055 non-null  int64\n",
            " 27  Google_Index                 11055 non-null  int64\n",
            " 28  Links_pointing_to_page       11055 non-null  int64\n",
            " 29  Statistical_report           11055 non-null  int64\n",
            " 30  Result                       11055 non-null  int64\n",
            "dtypes: int64(31)\n",
            "memory usage: 2.6 MB\n"
          ],
          "name": "stdout"
        }
      ]
    },
    {
      "cell_type": "markdown",
      "metadata": {
        "id": "2CqI4u2EKYws"
      },
      "source": [
        "#**Visualizing the data**"
      ]
    },
    {
      "cell_type": "code",
      "metadata": {
        "colab": {
          "base_uri": "https://localhost:8080/",
          "height": 1000
        },
        "id": "hK-QXJv8Kg_a",
        "outputId": "e9e43457-48a0-4763-8ff6-bece21d49776"
      },
      "source": [
        "#Plotting the data distribution\n",
        "df.hist(bins = 50,figsize = (20,20))\n",
        "plt.show()"
      ],
      "execution_count": 52,
      "outputs": [
        {
          "output_type": "display_data",
          "data": {
            "image/png": "[encoded data removed]",
            "text/plain": [
              "<Figure size 1440x1440 with 36 Axes>"
            ]
          },
          "metadata": {
            "tags": [],
            "needs_background": "light"
          }
        }
      ]
    },
    {
      "cell_type": "code",
      "metadata": {
        "colab": {
          "base_uri": "https://localhost:8080/",
          "height": 893
        },
        "id": "gWWTZvnfK0PB",
        "outputId": "8640fb4b-6a11-444b-eddb-a96573870e4b"
      },
      "source": [
        "#Correlation heatmap\n",
        "\n",
        "plt.figure(figsize=(15,13))\n",
        "sns.heatmap(df.corr())\n",
        "plt.show()"
      ],
      "execution_count": 55,
      "outputs": [
        {
          "output_type": "display_data",
          "data": {
            "image/png": "[encoded data removed]",
            "text/plain": [
              "<Figure size 1080x936 with 2 Axes>"
            ]
          },
          "metadata": {
            "tags": [],
            "needs_background": "light"
          }
        }
      ]
    },
    {
      "cell_type": "markdown",
      "metadata": {
        "id": "MfOhsIC8LMVx"
      },
      "source": [
        "#**Data Preprocessing & EDA**"
      ]
    },
    {
      "cell_type": "code",
      "metadata": {
        "colab": {
          "base_uri": "https://localhost:8080/",
          "height": 304
        },
        "id": "J8g4LBEILRgn",
        "outputId": "f4cb1961-e0df-481a-e42b-2e2ec1643f72"
      },
      "source": [
        "df.describe()"
      ],
      "execution_count": 56,
      "outputs": [
        {
          "output_type": "execute_result",
          "data": {
            "text/html": [
              "<div>\n",
              "<style scoped>\n",
              "    .dataframe tbody tr th:only-of-type {\n",
              "        vertical-align: middle;\n",
              "    }\n",
              "\n",
              "    .dataframe tbody tr th {\n",
              "        vertical-align: top;\n",
              "    }\n",
              "\n",
              "    .dataframe thead th {\n",
              "        text-align: right;\n",
              "    }\n",
              "</style>\n",
              "<table border=\"1\" class=\"dataframe\">\n",
              "  <thead>\n",
              "    <tr style=\"text-align: right;\">\n",
              "      <th></th>\n",
              "      <th>having_IP_Address</th>\n",
              "      <th>URL_Length</th>\n",
              "      <th>Shortining_Service</th>\n",
              "      <th>having_At_Symbol</th>\n",
              "      <th>double_slash_redirecting</th>\n",
              "      <th>Prefix_Suffix</th>\n",
              "      <th>having_Sub_Domain</th>\n",
              "      <th>SSLfinal_State</th>\n",
              "      <th>Domain_registeration_length</th>\n",
              "      <th>Favicon</th>\n",
              "      <th>port</th>\n",
              "      <th>HTTPS_token</th>\n",
              "      <th>Request_URL</th>\n",
              "      <th>URL_of_Anchor</th>\n",
              "      <th>Links_in_tags</th>\n",
              "      <th>SFH</th>\n",
              "      <th>Submitting_to_email</th>\n",
              "      <th>Abnormal_URL</th>\n",
              "      <th>Redirect</th>\n",
              "      <th>on_mouseover</th>\n",
              "      <th>RightClick</th>\n",
              "      <th>popUpWidnow</th>\n",
              "      <th>Iframe</th>\n",
              "      <th>age_of_domain</th>\n",
              "      <th>DNSRecord</th>\n",
              "      <th>web_traffic</th>\n",
              "      <th>Page_Rank</th>\n",
              "      <th>Google_Index</th>\n",
              "      <th>Links_pointing_to_page</th>\n",
              "      <th>Statistical_report</th>\n",
              "      <th>Result</th>\n",
              "    </tr>\n",
              "  </thead>\n",
              "  <tbody>\n",
              "    <tr>\n",
              "      <th>count</th>\n",
              "      <td>11055.000000</td>\n",
              "      <td>11055.000000</td>\n",
              "      <td>11055.000000</td>\n",
              "      <td>11055.000000</td>\n",
              "      <td>11055.000000</td>\n",
              "      <td>11055.000000</td>\n",
              "      <td>11055.000000</td>\n",
              "      <td>11055.000000</td>\n",
              "      <td>11055.000000</td>\n",
              "      <td>11055.000000</td>\n",
              "      <td>11055.000000</td>\n",
              "      <td>11055.000000</td>\n",
              "      <td>11055.000000</td>\n",
              "      <td>11055.000000</td>\n",
              "      <td>11055.000000</td>\n",
              "      <td>11055.000000</td>\n",
              "      <td>11055.000000</td>\n",
              "      <td>11055.000000</td>\n",
              "      <td>11055.000000</td>\n",
              "      <td>11055.000000</td>\n",
              "      <td>11055.000000</td>\n",
              "      <td>11055.000000</td>\n",
              "      <td>11055.000000</td>\n",
              "      <td>11055.000000</td>\n",
              "      <td>11055.000000</td>\n",
              "      <td>11055.000000</td>\n",
              "      <td>11055.000000</td>\n",
              "      <td>11055.000000</td>\n",
              "      <td>11055.000000</td>\n",
              "      <td>11055.000000</td>\n",
              "      <td>11055.000000</td>\n",
              "    </tr>\n",
              "    <tr>\n",
              "      <th>mean</th>\n",
              "      <td>0.313795</td>\n",
              "      <td>-0.633198</td>\n",
              "      <td>0.738761</td>\n",
              "      <td>0.700588</td>\n",
              "      <td>0.741474</td>\n",
              "      <td>-0.734962</td>\n",
              "      <td>0.063953</td>\n",
              "      <td>0.250927</td>\n",
              "      <td>-0.336771</td>\n",
              "      <td>0.628584</td>\n",
              "      <td>0.728268</td>\n",
              "      <td>0.675079</td>\n",
              "      <td>0.186793</td>\n",
              "      <td>-0.076526</td>\n",
              "      <td>-0.118137</td>\n",
              "      <td>-0.595749</td>\n",
              "      <td>0.635640</td>\n",
              "      <td>0.705292</td>\n",
              "      <td>0.115694</td>\n",
              "      <td>0.762099</td>\n",
              "      <td>0.913885</td>\n",
              "      <td>0.613388</td>\n",
              "      <td>0.816915</td>\n",
              "      <td>0.061239</td>\n",
              "      <td>0.377114</td>\n",
              "      <td>0.287291</td>\n",
              "      <td>-0.483673</td>\n",
              "      <td>0.721574</td>\n",
              "      <td>0.344007</td>\n",
              "      <td>0.719584</td>\n",
              "      <td>0.113885</td>\n",
              "    </tr>\n",
              "    <tr>\n",
              "      <th>std</th>\n",
              "      <td>0.949534</td>\n",
              "      <td>0.766095</td>\n",
              "      <td>0.673998</td>\n",
              "      <td>0.713598</td>\n",
              "      <td>0.671011</td>\n",
              "      <td>0.678139</td>\n",
              "      <td>0.817518</td>\n",
              "      <td>0.911892</td>\n",
              "      <td>0.941629</td>\n",
              "      <td>0.777777</td>\n",
              "      <td>0.685324</td>\n",
              "      <td>0.737779</td>\n",
              "      <td>0.982444</td>\n",
              "      <td>0.715138</td>\n",
              "      <td>0.763973</td>\n",
              "      <td>0.759143</td>\n",
              "      <td>0.772021</td>\n",
              "      <td>0.708949</td>\n",
              "      <td>0.319872</td>\n",
              "      <td>0.647490</td>\n",
              "      <td>0.405991</td>\n",
              "      <td>0.789818</td>\n",
              "      <td>0.576784</td>\n",
              "      <td>0.998168</td>\n",
              "      <td>0.926209</td>\n",
              "      <td>0.827733</td>\n",
              "      <td>0.875289</td>\n",
              "      <td>0.692369</td>\n",
              "      <td>0.569944</td>\n",
              "      <td>0.694437</td>\n",
              "      <td>0.993539</td>\n",
              "    </tr>\n",
              "    <tr>\n",
              "      <th>min</th>\n",
              "      <td>-1.000000</td>\n",
              "      <td>-1.000000</td>\n",
              "      <td>-1.000000</td>\n",
              "      <td>-1.000000</td>\n",
              "      <td>-1.000000</td>\n",
              "      <td>-1.000000</td>\n",
              "      <td>-1.000000</td>\n",
              "      <td>-1.000000</td>\n",
              "      <td>-1.000000</td>\n",
              "      <td>-1.000000</td>\n",
              "      <td>-1.000000</td>\n",
              "      <td>-1.000000</td>\n",
              "      <td>-1.000000</td>\n",
              "      <td>-1.000000</td>\n",
              "      <td>-1.000000</td>\n",
              "      <td>-1.000000</td>\n",
              "      <td>-1.000000</td>\n",
              "      <td>-1.000000</td>\n",
              "      <td>0.000000</td>\n",
              "      <td>-1.000000</td>\n",
              "      <td>-1.000000</td>\n",
              "      <td>-1.000000</td>\n",
              "      <td>-1.000000</td>\n",
              "      <td>-1.000000</td>\n",
              "      <td>-1.000000</td>\n",
              "      <td>-1.000000</td>\n",
              "      <td>-1.000000</td>\n",
              "      <td>-1.000000</td>\n",
              "      <td>-1.000000</td>\n",
              "      <td>-1.000000</td>\n",
              "      <td>-1.000000</td>\n",
              "    </tr>\n",
              "    <tr>\n",
              "      <th>25%</th>\n",
              "      <td>-1.000000</td>\n",
              "      <td>-1.000000</td>\n",
              "      <td>1.000000</td>\n",
              "      <td>1.000000</td>\n",
              "      <td>1.000000</td>\n",
              "      <td>-1.000000</td>\n",
              "      <td>-1.000000</td>\n",
              "      <td>-1.000000</td>\n",
              "      <td>-1.000000</td>\n",
              "      <td>1.000000</td>\n",
              "      <td>1.000000</td>\n",
              "      <td>1.000000</td>\n",
              "      <td>-1.000000</td>\n",
              "      <td>-1.000000</td>\n",
              "      <td>-1.000000</td>\n",
              "      <td>-1.000000</td>\n",
              "      <td>1.000000</td>\n",
              "      <td>1.000000</td>\n",
              "      <td>0.000000</td>\n",
              "      <td>1.000000</td>\n",
              "      <td>1.000000</td>\n",
              "      <td>1.000000</td>\n",
              "      <td>1.000000</td>\n",
              "      <td>-1.000000</td>\n",
              "      <td>-1.000000</td>\n",
              "      <td>0.000000</td>\n",
              "      <td>-1.000000</td>\n",
              "      <td>1.000000</td>\n",
              "      <td>0.000000</td>\n",
              "      <td>1.000000</td>\n",
              "      <td>-1.000000</td>\n",
              "    </tr>\n",
              "    <tr>\n",
              "      <th>50%</th>\n",
              "      <td>1.000000</td>\n",
              "      <td>-1.000000</td>\n",
              "      <td>1.000000</td>\n",
              "      <td>1.000000</td>\n",
              "      <td>1.000000</td>\n",
              "      <td>-1.000000</td>\n",
              "      <td>0.000000</td>\n",
              "      <td>1.000000</td>\n",
              "      <td>-1.000000</td>\n",
              "      <td>1.000000</td>\n",
              "      <td>1.000000</td>\n",
              "      <td>1.000000</td>\n",
              "      <td>1.000000</td>\n",
              "      <td>0.000000</td>\n",
              "      <td>0.000000</td>\n",
              "      <td>-1.000000</td>\n",
              "      <td>1.000000</td>\n",
              "      <td>1.000000</td>\n",
              "      <td>0.000000</td>\n",
              "      <td>1.000000</td>\n",
              "      <td>1.000000</td>\n",
              "      <td>1.000000</td>\n",
              "      <td>1.000000</td>\n",
              "      <td>1.000000</td>\n",
              "      <td>1.000000</td>\n",
              "      <td>1.000000</td>\n",
              "      <td>-1.000000</td>\n",
              "      <td>1.000000</td>\n",
              "      <td>0.000000</td>\n",
              "      <td>1.000000</td>\n",
              "      <td>1.000000</td>\n",
              "    </tr>\n",
              "    <tr>\n",
              "      <th>75%</th>\n",
              "      <td>1.000000</td>\n",
              "      <td>-1.000000</td>\n",
              "      <td>1.000000</td>\n",
              "      <td>1.000000</td>\n",
              "      <td>1.000000</td>\n",
              "      <td>-1.000000</td>\n",
              "      <td>1.000000</td>\n",
              "      <td>1.000000</td>\n",
              "      <td>1.000000</td>\n",
              "      <td>1.000000</td>\n",
              "      <td>1.000000</td>\n",
              "      <td>1.000000</td>\n",
              "      <td>1.000000</td>\n",
              "      <td>0.000000</td>\n",
              "      <td>0.000000</td>\n",
              "      <td>-1.000000</td>\n",
              "      <td>1.000000</td>\n",
              "      <td>1.000000</td>\n",
              "      <td>0.000000</td>\n",
              "      <td>1.000000</td>\n",
              "      <td>1.000000</td>\n",
              "      <td>1.000000</td>\n",
              "      <td>1.000000</td>\n",
              "      <td>1.000000</td>\n",
              "      <td>1.000000</td>\n",
              "      <td>1.000000</td>\n",
              "      <td>1.000000</td>\n",
              "      <td>1.000000</td>\n",
              "      <td>1.000000</td>\n",
              "      <td>1.000000</td>\n",
              "      <td>1.000000</td>\n",
              "    </tr>\n",
              "    <tr>\n",
              "      <th>max</th>\n",
              "      <td>1.000000</td>\n",
              "      <td>1.000000</td>\n",
              "      <td>1.000000</td>\n",
              "      <td>1.000000</td>\n",
              "      <td>1.000000</td>\n",
              "      <td>1.000000</td>\n",
              "      <td>1.000000</td>\n",
              "      <td>1.000000</td>\n",
              "      <td>1.000000</td>\n",
              "      <td>1.000000</td>\n",
              "      <td>1.000000</td>\n",
              "      <td>1.000000</td>\n",
              "      <td>1.000000</td>\n",
              "      <td>1.000000</td>\n",
              "      <td>1.000000</td>\n",
              "      <td>1.000000</td>\n",
              "      <td>1.000000</td>\n",
              "      <td>1.000000</td>\n",
              "      <td>1.000000</td>\n",
              "      <td>1.000000</td>\n",
              "      <td>1.000000</td>\n",
              "      <td>1.000000</td>\n",
              "      <td>1.000000</td>\n",
              "      <td>1.000000</td>\n",
              "      <td>1.000000</td>\n",
              "      <td>1.000000</td>\n",
              "      <td>1.000000</td>\n",
              "      <td>1.000000</td>\n",
              "      <td>1.000000</td>\n",
              "      <td>1.000000</td>\n",
              "      <td>1.000000</td>\n",
              "    </tr>\n",
              "  </tbody>\n",
              "</table>\n",
              "</div>"
            ],
            "text/plain": [
              "       having_IP_Address    URL_Length  ...  Statistical_report        Result\n",
              "count       11055.000000  11055.000000  ...        11055.000000  11055.000000\n",
              "mean            0.313795     -0.633198  ...            0.719584      0.113885\n",
              "std             0.949534      0.766095  ...            0.694437      0.993539\n",
              "min            -1.000000     -1.000000  ...           -1.000000     -1.000000\n",
              "25%            -1.000000     -1.000000  ...            1.000000     -1.000000\n",
              "50%             1.000000     -1.000000  ...            1.000000      1.000000\n",
              "75%             1.000000     -1.000000  ...            1.000000      1.000000\n",
              "max             1.000000      1.000000  ...            1.000000      1.000000\n",
              "\n",
              "[8 rows x 31 columns]"
            ]
          },
          "metadata": {
            "tags": []
          },
          "execution_count": 56
        }
      ]
    },
    {
      "cell_type": "code",
      "metadata": {
        "colab": {
          "base_uri": "https://localhost:8080/"
        },
        "id": "oIAGp6IyLm2m",
        "outputId": "c63d8afe-6dbb-457e-b0ae-5948f39898f3"
      },
      "source": [
        "\n",
        "#checking the data for null or missing values\n",
        "df.isnull().sum()"
      ],
      "execution_count": 57,
      "outputs": [
        {
          "output_type": "execute_result",
          "data": {
            "text/plain": [
              "having_IP_Address              0\n",
              "URL_Length                     0\n",
              "Shortining_Service             0\n",
              "having_At_Symbol               0\n",
              "double_slash_redirecting       0\n",
              "Prefix_Suffix                  0\n",
              "having_Sub_Domain              0\n",
              "SSLfinal_State                 0\n",
              "Domain_registeration_length    0\n",
              "Favicon                        0\n",
              "port                           0\n",
              "HTTPS_token                    0\n",
              "Request_URL                    0\n",
              "URL_of_Anchor                  0\n",
              "Links_in_tags                  0\n",
              "SFH                            0\n",
              "Submitting_to_email            0\n",
              "Abnormal_URL                   0\n",
              "Redirect                       0\n",
              "on_mouseover                   0\n",
              "RightClick                     0\n",
              "popUpWidnow                    0\n",
              "Iframe                         0\n",
              "age_of_domain                  0\n",
              "DNSRecord                      0\n",
              "web_traffic                    0\n",
              "Page_Rank                      0\n",
              "Google_Index                   0\n",
              "Links_pointing_to_page         0\n",
              "Statistical_report             0\n",
              "Result                         0\n",
              "dtype: int64"
            ]
          },
          "metadata": {
            "tags": []
          },
          "execution_count": 57
        }
      ]
    },
    {
      "cell_type": "code",
      "metadata": {
        "colab": {
          "base_uri": "https://localhost:8080/",
          "height": 215
        },
        "id": "9jc6gK1nLpy4",
        "outputId": "3f755b31-567e-4ba5-c706-70b23efbc449"
      },
      "source": [
        "# shuffling the rows in the dataset so that when splitting the train and test set are equally distributed\n",
        "data = df.sample(frac=1).reset_index(drop=True)\n",
        "data.head()"
      ],
      "execution_count": 58,
      "outputs": [
        {
          "output_type": "execute_result",
          "data": {
            "text/html": [
              "<div>\n",
              "<style scoped>\n",
              "    .dataframe tbody tr th:only-of-type {\n",
              "        vertical-align: middle;\n",
              "    }\n",
              "\n",
              "    .dataframe tbody tr th {\n",
              "        vertical-align: top;\n",
              "    }\n",
              "\n",
              "    .dataframe thead th {\n",
              "        text-align: right;\n",
              "    }\n",
              "</style>\n",
              "<table border=\"1\" class=\"dataframe\">\n",
              "  <thead>\n",
              "    <tr style=\"text-align: right;\">\n",
              "      <th></th>\n",
              "      <th>having_IP_Address</th>\n",
              "      <th>URL_Length</th>\n",
              "      <th>Shortining_Service</th>\n",
              "      <th>having_At_Symbol</th>\n",
              "      <th>double_slash_redirecting</th>\n",
              "      <th>Prefix_Suffix</th>\n",
              "      <th>having_Sub_Domain</th>\n",
              "      <th>SSLfinal_State</th>\n",
              "      <th>Domain_registeration_length</th>\n",
              "      <th>Favicon</th>\n",
              "      <th>port</th>\n",
              "      <th>HTTPS_token</th>\n",
              "      <th>Request_URL</th>\n",
              "      <th>URL_of_Anchor</th>\n",
              "      <th>Links_in_tags</th>\n",
              "      <th>SFH</th>\n",
              "      <th>Submitting_to_email</th>\n",
              "      <th>Abnormal_URL</th>\n",
              "      <th>Redirect</th>\n",
              "      <th>on_mouseover</th>\n",
              "      <th>RightClick</th>\n",
              "      <th>popUpWidnow</th>\n",
              "      <th>Iframe</th>\n",
              "      <th>age_of_domain</th>\n",
              "      <th>DNSRecord</th>\n",
              "      <th>web_traffic</th>\n",
              "      <th>Page_Rank</th>\n",
              "      <th>Google_Index</th>\n",
              "      <th>Links_pointing_to_page</th>\n",
              "      <th>Statistical_report</th>\n",
              "      <th>Result</th>\n",
              "    </tr>\n",
              "  </thead>\n",
              "  <tbody>\n",
              "    <tr>\n",
              "      <th>0</th>\n",
              "      <td>-1</td>\n",
              "      <td>-1</td>\n",
              "      <td>1</td>\n",
              "      <td>1</td>\n",
              "      <td>1</td>\n",
              "      <td>-1</td>\n",
              "      <td>1</td>\n",
              "      <td>1</td>\n",
              "      <td>-1</td>\n",
              "      <td>-1</td>\n",
              "      <td>1</td>\n",
              "      <td>-1</td>\n",
              "      <td>1</td>\n",
              "      <td>1</td>\n",
              "      <td>-1</td>\n",
              "      <td>-1</td>\n",
              "      <td>1</td>\n",
              "      <td>1</td>\n",
              "      <td>0</td>\n",
              "      <td>-1</td>\n",
              "      <td>1</td>\n",
              "      <td>-1</td>\n",
              "      <td>1</td>\n",
              "      <td>1</td>\n",
              "      <td>1</td>\n",
              "      <td>-1</td>\n",
              "      <td>-1</td>\n",
              "      <td>1</td>\n",
              "      <td>-1</td>\n",
              "      <td>1</td>\n",
              "      <td>1</td>\n",
              "    </tr>\n",
              "    <tr>\n",
              "      <th>1</th>\n",
              "      <td>-1</td>\n",
              "      <td>1</td>\n",
              "      <td>1</td>\n",
              "      <td>1</td>\n",
              "      <td>1</td>\n",
              "      <td>-1</td>\n",
              "      <td>1</td>\n",
              "      <td>0</td>\n",
              "      <td>1</td>\n",
              "      <td>1</td>\n",
              "      <td>1</td>\n",
              "      <td>1</td>\n",
              "      <td>-1</td>\n",
              "      <td>-1</td>\n",
              "      <td>0</td>\n",
              "      <td>-1</td>\n",
              "      <td>1</td>\n",
              "      <td>1</td>\n",
              "      <td>0</td>\n",
              "      <td>1</td>\n",
              "      <td>1</td>\n",
              "      <td>1</td>\n",
              "      <td>1</td>\n",
              "      <td>1</td>\n",
              "      <td>1</td>\n",
              "      <td>0</td>\n",
              "      <td>1</td>\n",
              "      <td>1</td>\n",
              "      <td>0</td>\n",
              "      <td>1</td>\n",
              "      <td>-1</td>\n",
              "    </tr>\n",
              "    <tr>\n",
              "      <th>2</th>\n",
              "      <td>-1</td>\n",
              "      <td>1</td>\n",
              "      <td>-1</td>\n",
              "      <td>1</td>\n",
              "      <td>1</td>\n",
              "      <td>1</td>\n",
              "      <td>1</td>\n",
              "      <td>1</td>\n",
              "      <td>-1</td>\n",
              "      <td>1</td>\n",
              "      <td>1</td>\n",
              "      <td>-1</td>\n",
              "      <td>1</td>\n",
              "      <td>0</td>\n",
              "      <td>1</td>\n",
              "      <td>-1</td>\n",
              "      <td>1</td>\n",
              "      <td>1</td>\n",
              "      <td>0</td>\n",
              "      <td>1</td>\n",
              "      <td>1</td>\n",
              "      <td>1</td>\n",
              "      <td>1</td>\n",
              "      <td>1</td>\n",
              "      <td>1</td>\n",
              "      <td>-1</td>\n",
              "      <td>1</td>\n",
              "      <td>1</td>\n",
              "      <td>-1</td>\n",
              "      <td>1</td>\n",
              "      <td>1</td>\n",
              "    </tr>\n",
              "    <tr>\n",
              "      <th>3</th>\n",
              "      <td>1</td>\n",
              "      <td>-1</td>\n",
              "      <td>1</td>\n",
              "      <td>1</td>\n",
              "      <td>1</td>\n",
              "      <td>-1</td>\n",
              "      <td>1</td>\n",
              "      <td>1</td>\n",
              "      <td>-1</td>\n",
              "      <td>1</td>\n",
              "      <td>1</td>\n",
              "      <td>1</td>\n",
              "      <td>1</td>\n",
              "      <td>0</td>\n",
              "      <td>0</td>\n",
              "      <td>-1</td>\n",
              "      <td>1</td>\n",
              "      <td>1</td>\n",
              "      <td>0</td>\n",
              "      <td>1</td>\n",
              "      <td>1</td>\n",
              "      <td>1</td>\n",
              "      <td>1</td>\n",
              "      <td>1</td>\n",
              "      <td>1</td>\n",
              "      <td>0</td>\n",
              "      <td>-1</td>\n",
              "      <td>1</td>\n",
              "      <td>0</td>\n",
              "      <td>1</td>\n",
              "      <td>1</td>\n",
              "    </tr>\n",
              "    <tr>\n",
              "      <th>4</th>\n",
              "      <td>1</td>\n",
              "      <td>-1</td>\n",
              "      <td>1</td>\n",
              "      <td>1</td>\n",
              "      <td>1</td>\n",
              "      <td>-1</td>\n",
              "      <td>0</td>\n",
              "      <td>-1</td>\n",
              "      <td>-1</td>\n",
              "      <td>1</td>\n",
              "      <td>1</td>\n",
              "      <td>1</td>\n",
              "      <td>-1</td>\n",
              "      <td>-1</td>\n",
              "      <td>-1</td>\n",
              "      <td>-1</td>\n",
              "      <td>1</td>\n",
              "      <td>1</td>\n",
              "      <td>0</td>\n",
              "      <td>1</td>\n",
              "      <td>1</td>\n",
              "      <td>1</td>\n",
              "      <td>1</td>\n",
              "      <td>1</td>\n",
              "      <td>1</td>\n",
              "      <td>1</td>\n",
              "      <td>-1</td>\n",
              "      <td>1</td>\n",
              "      <td>0</td>\n",
              "      <td>1</td>\n",
              "      <td>-1</td>\n",
              "    </tr>\n",
              "  </tbody>\n",
              "</table>\n",
              "</div>"
            ],
            "text/plain": [
              "   having_IP_Address  URL_Length  ...  Statistical_report  Result\n",
              "0                 -1          -1  ...                   1       1\n",
              "1                 -1           1  ...                   1      -1\n",
              "2                 -1           1  ...                   1       1\n",
              "3                  1          -1  ...                   1       1\n",
              "4                  1          -1  ...                   1      -1\n",
              "\n",
              "[5 rows x 31 columns]"
            ]
          },
          "metadata": {
            "tags": []
          },
          "execution_count": 58
        }
      ]
    },
    {
      "cell_type": "markdown",
      "metadata": {
        "id": "1qQotcouMBSr"
      },
      "source": [
        "#**Splitting dataset**"
      ]
    },
    {
      "cell_type": "code",
      "metadata": {
        "id": "sTaDlEKSbJr7"
      },
      "source": [
        "import numpy as np\n",
        "import seaborn as sns\n",
        "import matplotlib.pyplot as plt\n",
        "\n",
        "from sklearn.model_selection import train_test_split"
      ],
      "execution_count": 59,
      "outputs": []
    },
    {
      "cell_type": "code",
      "metadata": {
        "colab": {
          "base_uri": "https://localhost:8080/"
        },
        "id": "vm6lYPU7bQlZ",
        "outputId": "3426b07a-888c-4641-8c0c-f742d18152da"
      },
      "source": [
        "df['Result'].value_counts()"
      ],
      "execution_count": 60,
      "outputs": [
        {
          "output_type": "execute_result",
          "data": {
            "text/plain": [
              " 1    6157\n",
              "-1    4898\n",
              "Name: Result, dtype: int64"
            ]
          },
          "metadata": {
            "tags": []
          },
          "execution_count": 60
        }
      ]
    },
    {
      "cell_type": "code",
      "metadata": {
        "id": "iMPKkpYdDVRB"
      },
      "source": [
        "legitimate=df[df['Result']==1]\n",
        "phishing=df[df['Result']==-1]"
      ],
      "execution_count": 61,
      "outputs": []
    },
    {
      "cell_type": "code",
      "metadata": {
        "colab": {
          "base_uri": "https://localhost:8080/"
        },
        "id": "vsmsotcAEEmE",
        "outputId": "4df62d20-8b41-4a72-b8ba-c71882b357ec"
      },
      "source": [
        "legitimate.shape, phishing.shape"
      ],
      "execution_count": 62,
      "outputs": [
        {
          "output_type": "execute_result",
          "data": {
            "text/plain": [
              "((6157, 31), (4898, 31))"
            ]
          },
          "metadata": {
            "tags": []
          },
          "execution_count": 62
        }
      ]
    },
    {
      "cell_type": "code",
      "metadata": {
        "id": "lwCVUb3S85cM"
      },
      "source": [
        "y=df['Result']\n",
        "X=df.drop('Result',axis=1)"
      ],
      "execution_count": 63,
      "outputs": []
    },
    {
      "cell_type": "code",
      "metadata": {
        "id": "l-fqLjokbapl"
      },
      "source": [
        "# Splitting the dataset into train and test sets: 80-20 split\n",
        "\n",
        "X_train, X_test, y_train, y_test = train_test_split(X, y, test_size = 0.2, random_state = 12, stratify=y)"
      ],
      "execution_count": 64,
      "outputs": []
    },
    {
      "cell_type": "code",
      "metadata": {
        "colab": {
          "base_uri": "https://localhost:8080/"
        },
        "id": "L06IFW3l9G0d",
        "outputId": "b4165026-e4b9-4b6b-e69b-43a10536fda4"
      },
      "source": [
        "X_train.shape"
      ],
      "execution_count": 65,
      "outputs": [
        {
          "output_type": "execute_result",
          "data": {
            "text/plain": [
              "(8844, 30)"
            ]
          },
          "metadata": {
            "tags": []
          },
          "execution_count": 65
        }
      ]
    },
    {
      "cell_type": "code",
      "metadata": {
        "colab": {
          "base_uri": "https://localhost:8080/"
        },
        "id": "kT5-C-Uq9Jb-",
        "outputId": "43adcecb-05c7-4e26-ed31-fcfe25c9a320"
      },
      "source": [
        "X_test.shape"
      ],
      "execution_count": 66,
      "outputs": [
        {
          "output_type": "execute_result",
          "data": {
            "text/plain": [
              "(2211, 30)"
            ]
          },
          "metadata": {
            "tags": []
          },
          "execution_count": 66
        }
      ]
    },
    {
      "cell_type": "markdown",
      "metadata": {
        "id": "Brvw4DA0MNAU"
      },
      "source": [
        "#**Reshape the dataset**"
      ]
    },
    {
      "cell_type": "code",
      "metadata": {
        "id": "4Rmy3C48lJv_"
      },
      "source": [
        "from sklearn.preprocessing import StandardScaler\n",
        "scaler=StandardScaler()\n",
        "X_train=scaler.fit_transform(X_train)\n",
        "X_test=scaler.fit_transform(X_test)"
      ],
      "execution_count": 67,
      "outputs": []
    },
    {
      "cell_type": "code",
      "metadata": {
        "id": "WMn7lvXaxnKk"
      },
      "source": [
        "X_train = X_train.reshape(X_train.shape[0],X_train.shape[1],1)\n",
        "X_test = X_test.reshape(X_test.shape[0],X_test.shape[1],1)"
      ],
      "execution_count": 68,
      "outputs": []
    },
    {
      "cell_type": "code",
      "metadata": {
        "id": "nu2pTGe1ZDvr"
      },
      "source": [
        "#importing all dataset foe training deep learning model\n",
        "import keras\n",
        "import tensorflow as tf\n",
        "from keras.models import Sequential\n",
        "from keras.layers import Conv1D, Dense, Flatten, MaxPooling1D, BatchNormalization\n",
        "from keras.layers import Activation, Dense, Dropout"
      ],
      "execution_count": 69,
      "outputs": []
    },
    {
      "cell_type": "markdown",
      "metadata": {
        "id": "dJmMtnlv7oGO"
      },
      "source": [
        "#**Single 1D CONV**"
      ]
    },
    {
      "cell_type": "code",
      "metadata": {
        "colab": {
          "base_uri": "https://localhost:8080/"
        },
        "id": "cV4gTIxUYuf0",
        "outputId": "e957ef27-00fa-41a3-f5b2-66def824edc8"
      },
      "source": [
        "model=Sequential()\n",
        "model.add(Conv1D(filters=64, kernel_size=10, activation='relu', input_shape=(X_train.shape[1], 1)))\n",
        "model.add(MaxPooling1D(pool_size=2, strides=2))\n",
        "model.add(BatchNormalization())\n",
        "model.add(Dropout(0.5))\n",
        "model.add(Flatten())\n",
        "model.add(Dense(8, activation='relu'))\n",
        "model.add(Dense(1, activation='sigmoid'))\n",
        "model.compile(loss='binary_crossentropy', optimizer='adam', metrics=['accuracy'])\n",
        "model.summary()"
      ],
      "execution_count": 70,
      "outputs": [
        {
          "output_type": "stream",
          "text": [
            "Model: \"sequential_6\"\n",
            "_________________________________________________________________\n",
            "Layer (type)                 Output Shape              Param #   \n",
            "=================================================================\n",
            "conv1d_2 (Conv1D)            (None, 21, 64)            704       \n",
            "_________________________________________________________________\n",
            "max_pooling1d_2 (MaxPooling1 (None, 10, 64)            0         \n",
            "_________________________________________________________________\n",
            "batch_normalization_2 (Batch (None, 10, 64)            256       \n",
            "_________________________________________________________________\n",
            "dropout_6 (Dropout)          (None, 10, 64)            0         \n",
            "_________________________________________________________________\n",
            "flatten_2 (Flatten)          (None, 640)               0         \n",
            "_________________________________________________________________\n",
            "dense_27 (Dense)             (None, 8)                 5128      \n",
            "_________________________________________________________________\n",
            "dense_28 (Dense)             (None, 1)                 9         \n",
            "=================================================================\n",
            "Total params: 6,097\n",
            "Trainable params: 5,969\n",
            "Non-trainable params: 128\n",
            "_________________________________________________________________\n"
          ],
          "name": "stdout"
        }
      ]
    },
    {
      "cell_type": "code",
      "metadata": {
        "id": "B9HKnPD1CLiY",
        "colab": {
          "base_uri": "https://localhost:8080/"
        },
        "outputId": "d7e94123-3f78-4d7c-d45a-75bf97111ab9"
      },
      "source": [
        "# Store training stats\n",
        "history = model.fit(X_train, y_train, epochs=100,\n",
        "                    validation_split=0.2, verbose=1)\n"
      ],
      "execution_count": 71,
      "outputs": [
        {
          "output_type": "stream",
          "text": [
            "Epoch 1/100\n",
            "222/222 [==============================] - 2s 5ms/step - loss: -9.6480 - accuracy: 0.3928 - val_loss: -42.1269 - val_accuracy: 0.2962\n",
            "Epoch 2/100\n",
            "222/222 [==============================] - 1s 4ms/step - loss: -144.3690 - accuracy: 0.3536 - val_loss: -401.0706 - val_accuracy: 0.3058\n",
            "Epoch 3/100\n",
            "222/222 [==============================] - 1s 4ms/step - loss: -586.2373 - accuracy: 0.2920 - val_loss: -1221.3450 - val_accuracy: 0.2764\n",
            "Epoch 4/100\n",
            "222/222 [==============================] - 1s 4ms/step - loss: -1505.8558 - accuracy: 0.2653 - val_loss: -2557.5679 - val_accuracy: 0.2679\n",
            "Epoch 5/100\n",
            "222/222 [==============================] - 1s 3ms/step - loss: -2922.8100 - accuracy: 0.2608 - val_loss: -4463.5703 - val_accuracy: 0.2657\n",
            "Epoch 6/100\n",
            "222/222 [==============================] - 1s 4ms/step - loss: -4788.9236 - accuracy: 0.2701 - val_loss: -7260.0928 - val_accuracy: 0.2493\n",
            "Epoch 7/100\n",
            "222/222 [==============================] - 1s 4ms/step - loss: -7672.5899 - accuracy: 0.2661 - val_loss: -10549.8770 - val_accuracy: 0.2521\n",
            "Epoch 8/100\n",
            "222/222 [==============================] - 1s 4ms/step - loss: -11073.8935 - accuracy: 0.2591 - val_loss: -15062.8770 - val_accuracy: 0.2448\n",
            "Epoch 9/100\n",
            "222/222 [==============================] - 1s 4ms/step - loss: -15064.0577 - accuracy: 0.2640 - val_loss: -20027.5684 - val_accuracy: 0.2504\n",
            "Epoch 10/100\n",
            "222/222 [==============================] - 1s 4ms/step - loss: -20849.1066 - accuracy: 0.2589 - val_loss: -26093.8613 - val_accuracy: 0.2583\n",
            "Epoch 11/100\n",
            "222/222 [==============================] - 1s 4ms/step - loss: -27182.6900 - accuracy: 0.2595 - val_loss: -33174.1992 - val_accuracy: 0.2510\n",
            "Epoch 12/100\n",
            "222/222 [==============================] - 1s 3ms/step - loss: -33139.2653 - accuracy: 0.2678 - val_loss: -41247.1992 - val_accuracy: 0.2516\n",
            "Epoch 13/100\n",
            "222/222 [==============================] - 1s 4ms/step - loss: -39861.3748 - accuracy: 0.2578 - val_loss: -49869.6367 - val_accuracy: 0.2561\n",
            "Epoch 14/100\n",
            "222/222 [==============================] - 1s 4ms/step - loss: -49721.4066 - accuracy: 0.2537 - val_loss: -60087.1328 - val_accuracy: 0.2533\n",
            "Epoch 15/100\n",
            "222/222 [==============================] - 1s 4ms/step - loss: -58326.3596 - accuracy: 0.2602 - val_loss: -71165.5234 - val_accuracy: 0.2482\n",
            "Epoch 16/100\n",
            "222/222 [==============================] - 1s 4ms/step - loss: -69120.7323 - accuracy: 0.2536 - val_loss: -82674.7422 - val_accuracy: 0.2538\n",
            "Epoch 17/100\n",
            "222/222 [==============================] - 1s 3ms/step - loss: -84845.2733 - accuracy: 0.2565 - val_loss: -96852.8281 - val_accuracy: 0.2487\n",
            "Epoch 18/100\n",
            "222/222 [==============================] - 1s 3ms/step - loss: -99418.0958 - accuracy: 0.2600 - val_loss: -111795.7422 - val_accuracy: 0.2516\n",
            "Epoch 19/100\n",
            "222/222 [==============================] - 1s 4ms/step - loss: -109304.2020 - accuracy: 0.2629 - val_loss: -126510.2891 - val_accuracy: 0.2527\n",
            "Epoch 20/100\n",
            "222/222 [==============================] - 1s 4ms/step - loss: -128162.7201 - accuracy: 0.2593 - val_loss: -143581.6094 - val_accuracy: 0.2527\n",
            "Epoch 21/100\n",
            "222/222 [==============================] - 1s 4ms/step - loss: -144193.9293 - accuracy: 0.2640 - val_loss: -160262.6250 - val_accuracy: 0.2493\n",
            "Epoch 22/100\n",
            "222/222 [==============================] - 1s 4ms/step - loss: -159947.5704 - accuracy: 0.2593 - val_loss: -179818.0625 - val_accuracy: 0.2549\n",
            "Epoch 23/100\n",
            "222/222 [==============================] - 1s 3ms/step - loss: -176774.6265 - accuracy: 0.2605 - val_loss: -201221.7031 - val_accuracy: 0.2533\n",
            "Epoch 24/100\n",
            "222/222 [==============================] - 1s 3ms/step - loss: -190925.1773 - accuracy: 0.2594 - val_loss: -221601.2344 - val_accuracy: 0.2521\n",
            "Epoch 25/100\n",
            "222/222 [==============================] - 1s 4ms/step - loss: -219064.2465 - accuracy: 0.2554 - val_loss: -246053.4688 - val_accuracy: 0.2470\n",
            "Epoch 26/100\n",
            "222/222 [==============================] - 1s 4ms/step - loss: -236606.2786 - accuracy: 0.2657 - val_loss: -269792.8438 - val_accuracy: 0.2521\n",
            "Epoch 27/100\n",
            "222/222 [==============================] - 1s 4ms/step - loss: -267754.2173 - accuracy: 0.2625 - val_loss: -293594.9062 - val_accuracy: 0.2516\n",
            "Epoch 28/100\n",
            "222/222 [==============================] - 1s 4ms/step - loss: -284366.2829 - accuracy: 0.2596 - val_loss: -323437.1562 - val_accuracy: 0.2499\n",
            "Epoch 29/100\n",
            "222/222 [==============================] - 1s 4ms/step - loss: -315582.4243 - accuracy: 0.2632 - val_loss: -350951.5000 - val_accuracy: 0.2521\n",
            "Epoch 30/100\n",
            "222/222 [==============================] - 1s 4ms/step - loss: -348796.9554 - accuracy: 0.2596 - val_loss: -379641.8438 - val_accuracy: 0.2521\n",
            "Epoch 31/100\n",
            "222/222 [==============================] - 1s 4ms/step - loss: -377635.9172 - accuracy: 0.2573 - val_loss: -411057.5625 - val_accuracy: 0.2521\n",
            "Epoch 32/100\n",
            "222/222 [==============================] - 1s 4ms/step - loss: -403218.6862 - accuracy: 0.2611 - val_loss: -442602.2188 - val_accuracy: 0.2544\n",
            "Epoch 33/100\n",
            "222/222 [==============================] - 1s 4ms/step - loss: -449581.0872 - accuracy: 0.2572 - val_loss: -479508.8438 - val_accuracy: 0.2448\n",
            "Epoch 34/100\n",
            "222/222 [==============================] - 1s 4ms/step - loss: -466890.1373 - accuracy: 0.2571 - val_loss: -512959.0625 - val_accuracy: 0.2504\n",
            "Epoch 35/100\n",
            "222/222 [==============================] - 1s 4ms/step - loss: -490007.4015 - accuracy: 0.2658 - val_loss: -550338.4375 - val_accuracy: 0.2510\n",
            "Epoch 36/100\n",
            "222/222 [==============================] - 1s 4ms/step - loss: -528854.9990 - accuracy: 0.2615 - val_loss: -588256.6875 - val_accuracy: 0.2516\n",
            "Epoch 37/100\n",
            "222/222 [==============================] - 1s 4ms/step - loss: -570431.5314 - accuracy: 0.2673 - val_loss: -629274.7500 - val_accuracy: 0.2538\n",
            "Epoch 38/100\n",
            "222/222 [==============================] - 1s 4ms/step - loss: -602058.4067 - accuracy: 0.2583 - val_loss: -670376.0625 - val_accuracy: 0.2482\n",
            "Epoch 39/100\n",
            "222/222 [==============================] - 1s 4ms/step - loss: -665541.4644 - accuracy: 0.2556 - val_loss: -717888.5625 - val_accuracy: 0.2470\n",
            "Epoch 40/100\n",
            "222/222 [==============================] - 1s 4ms/step - loss: -726824.7346 - accuracy: 0.2585 - val_loss: -758950.9375 - val_accuracy: 0.2527\n",
            "Epoch 41/100\n",
            "222/222 [==============================] - 1s 4ms/step - loss: -732917.1466 - accuracy: 0.2640 - val_loss: -805222.7500 - val_accuracy: 0.2527\n",
            "Epoch 42/100\n",
            "222/222 [==============================] - 1s 4ms/step - loss: -780139.3957 - accuracy: 0.2624 - val_loss: -855191.8125 - val_accuracy: 0.2521\n",
            "Epoch 43/100\n",
            "222/222 [==============================] - 1s 4ms/step - loss: -823363.8924 - accuracy: 0.2555 - val_loss: -905155.2500 - val_accuracy: 0.2493\n",
            "Epoch 44/100\n",
            "222/222 [==============================] - 1s 3ms/step - loss: -882891.0415 - accuracy: 0.2558 - val_loss: -954680.7500 - val_accuracy: 0.2561\n",
            "Epoch 45/100\n",
            "222/222 [==============================] - 1s 4ms/step - loss: -920402.4571 - accuracy: 0.2625 - val_loss: -1015214.4375 - val_accuracy: 0.2516\n",
            "Epoch 46/100\n",
            "222/222 [==============================] - 1s 4ms/step - loss: -1008720.4254 - accuracy: 0.2657 - val_loss: -1069550.5000 - val_accuracy: 0.2510\n",
            "Epoch 47/100\n",
            "222/222 [==============================] - 1s 4ms/step - loss: -1073231.4451 - accuracy: 0.2631 - val_loss: -1123478.7500 - val_accuracy: 0.2555\n",
            "Epoch 48/100\n",
            "222/222 [==============================] - 1s 4ms/step - loss: -1091426.5213 - accuracy: 0.2541 - val_loss: -1183912.6250 - val_accuracy: 0.2499\n",
            "Epoch 49/100\n",
            "222/222 [==============================] - 1s 4ms/step - loss: -1133312.1833 - accuracy: 0.2577 - val_loss: -1246469.6250 - val_accuracy: 0.2549\n",
            "Epoch 50/100\n",
            "222/222 [==============================] - 1s 4ms/step - loss: -1244790.5493 - accuracy: 0.2520 - val_loss: -1315799.0000 - val_accuracy: 0.2476\n",
            "Epoch 51/100\n",
            "222/222 [==============================] - 1s 4ms/step - loss: -1260622.5535 - accuracy: 0.2628 - val_loss: -1377527.1250 - val_accuracy: 0.2504\n",
            "Epoch 52/100\n",
            "222/222 [==============================] - 1s 4ms/step - loss: -1347610.9305 - accuracy: 0.2594 - val_loss: -1436744.2500 - val_accuracy: 0.2566\n",
            "Epoch 53/100\n",
            "222/222 [==============================] - 1s 4ms/step - loss: -1374171.7225 - accuracy: 0.2625 - val_loss: -1510827.3750 - val_accuracy: 0.2521\n",
            "Epoch 54/100\n",
            "222/222 [==============================] - 1s 4ms/step - loss: -1481015.9524 - accuracy: 0.2539 - val_loss: -1585130.0000 - val_accuracy: 0.2482\n",
            "Epoch 55/100\n",
            "222/222 [==============================] - 1s 4ms/step - loss: -1520372.8666 - accuracy: 0.2625 - val_loss: -1659257.5000 - val_accuracy: 0.2544\n",
            "Epoch 56/100\n",
            "222/222 [==============================] - 1s 4ms/step - loss: -1585444.6704 - accuracy: 0.2612 - val_loss: -1731796.0000 - val_accuracy: 0.2504\n",
            "Epoch 57/100\n",
            "222/222 [==============================] - 1s 4ms/step - loss: -1720970.0712 - accuracy: 0.2614 - val_loss: -1812941.7500 - val_accuracy: 0.2516\n",
            "Epoch 58/100\n",
            "222/222 [==============================] - 1s 4ms/step - loss: -1748008.6839 - accuracy: 0.2600 - val_loss: -1889874.2500 - val_accuracy: 0.2510\n",
            "Epoch 59/100\n",
            "222/222 [==============================] - 1s 4ms/step - loss: -1821480.7789 - accuracy: 0.2548 - val_loss: -1977653.1250 - val_accuracy: 0.2533\n",
            "Epoch 60/100\n",
            "222/222 [==============================] - 1s 4ms/step - loss: -1890512.4591 - accuracy: 0.2537 - val_loss: -2060693.7500 - val_accuracy: 0.2516\n",
            "Epoch 61/100\n",
            "222/222 [==============================] - 1s 4ms/step - loss: -2032179.1003 - accuracy: 0.2670 - val_loss: -2147592.5000 - val_accuracy: 0.2561\n",
            "Epoch 62/100\n",
            "222/222 [==============================] - 1s 4ms/step - loss: -2130885.7932 - accuracy: 0.2627 - val_loss: -2234537.2500 - val_accuracy: 0.2521\n",
            "Epoch 63/100\n",
            "222/222 [==============================] - 1s 4ms/step - loss: -2118936.8929 - accuracy: 0.2570 - val_loss: -2312879.0000 - val_accuracy: 0.2527\n",
            "Epoch 64/100\n",
            "222/222 [==============================] - 1s 4ms/step - loss: -2249394.9832 - accuracy: 0.2585 - val_loss: -2427898.2500 - val_accuracy: 0.2499\n",
            "Epoch 65/100\n",
            "222/222 [==============================] - 1s 4ms/step - loss: -2319223.7724 - accuracy: 0.2659 - val_loss: -2535381.2500 - val_accuracy: 0.2504\n",
            "Epoch 66/100\n",
            "222/222 [==============================] - 1s 4ms/step - loss: -2402397.8924 - accuracy: 0.2693 - val_loss: -2620814.7500 - val_accuracy: 0.2516\n",
            "Epoch 67/100\n",
            "222/222 [==============================] - 1s 4ms/step - loss: -2582131.5493 - accuracy: 0.2680 - val_loss: -2722840.0000 - val_accuracy: 0.2527\n",
            "Epoch 68/100\n",
            "222/222 [==============================] - 1s 4ms/step - loss: -2605905.7982 - accuracy: 0.2715 - val_loss: -2827099.0000 - val_accuracy: 0.2510\n",
            "Epoch 69/100\n",
            "222/222 [==============================] - 1s 4ms/step - loss: -2757580.7231 - accuracy: 0.2628 - val_loss: -2919739.5000 - val_accuracy: 0.2516\n",
            "Epoch 70/100\n",
            "222/222 [==============================] - 1s 4ms/step - loss: -2846293.9350 - accuracy: 0.2654 - val_loss: -3036066.0000 - val_accuracy: 0.2516\n",
            "Epoch 71/100\n",
            "222/222 [==============================] - 1s 4ms/step - loss: -2959797.2791 - accuracy: 0.2659 - val_loss: -3136296.0000 - val_accuracy: 0.2510\n",
            "Epoch 72/100\n",
            "222/222 [==============================] - 1s 4ms/step - loss: -3124145.6614 - accuracy: 0.2624 - val_loss: -3257981.5000 - val_accuracy: 0.2516\n",
            "Epoch 73/100\n",
            "222/222 [==============================] - 1s 4ms/step - loss: -3197495.4563 - accuracy: 0.2584 - val_loss: -3367769.7500 - val_accuracy: 0.2510\n",
            "Epoch 74/100\n",
            "222/222 [==============================] - 1s 4ms/step - loss: -3288802.8632 - accuracy: 0.2615 - val_loss: -3481831.7500 - val_accuracy: 0.2533\n",
            "Epoch 75/100\n",
            "222/222 [==============================] - 1s 4ms/step - loss: -3385137.9753 - accuracy: 0.2614 - val_loss: -3607917.0000 - val_accuracy: 0.2527\n",
            "Epoch 76/100\n",
            "222/222 [==============================] - 1s 4ms/step - loss: -3544335.4865 - accuracy: 0.2636 - val_loss: -3740315.7500 - val_accuracy: 0.2516\n",
            "Epoch 77/100\n",
            "222/222 [==============================] - 1s 4ms/step - loss: -3586245.7657 - accuracy: 0.2621 - val_loss: -3858852.5000 - val_accuracy: 0.2487\n",
            "Epoch 78/100\n",
            "222/222 [==============================] - 1s 4ms/step - loss: -3647880.2220 - accuracy: 0.2590 - val_loss: -3971713.7500 - val_accuracy: 0.2516\n",
            "Epoch 79/100\n",
            "222/222 [==============================] - 1s 4ms/step - loss: -3802181.3498 - accuracy: 0.2613 - val_loss: -4097583.7500 - val_accuracy: 0.2538\n",
            "Epoch 80/100\n",
            "222/222 [==============================] - 1s 4ms/step - loss: -3912474.5303 - accuracy: 0.2617 - val_loss: -4250331.5000 - val_accuracy: 0.2533\n",
            "Epoch 81/100\n",
            "222/222 [==============================] - 1s 4ms/step - loss: -4224741.5504 - accuracy: 0.2625 - val_loss: -4402956.5000 - val_accuracy: 0.2470\n",
            "Epoch 82/100\n",
            "222/222 [==============================] - 1s 4ms/step - loss: -4190113.7410 - accuracy: 0.2607 - val_loss: -4523463.0000 - val_accuracy: 0.2516\n",
            "Epoch 83/100\n",
            "222/222 [==============================] - 1s 4ms/step - loss: -4499989.1928 - accuracy: 0.2614 - val_loss: -4687191.5000 - val_accuracy: 0.2476\n",
            "Epoch 84/100\n",
            "222/222 [==============================] - 1s 4ms/step - loss: -4482795.5303 - accuracy: 0.2668 - val_loss: -4803678.0000 - val_accuracy: 0.2527\n",
            "Epoch 85/100\n",
            "222/222 [==============================] - 1s 4ms/step - loss: -4731306.9843 - accuracy: 0.2622 - val_loss: -4958307.5000 - val_accuracy: 0.2527\n",
            "Epoch 86/100\n",
            "222/222 [==============================] - 1s 4ms/step - loss: -4848517.7545 - accuracy: 0.2623 - val_loss: -5114728.0000 - val_accuracy: 0.2555\n",
            "Epoch 87/100\n",
            "222/222 [==============================] - 1s 4ms/step - loss: -4968432.5202 - accuracy: 0.2568 - val_loss: -5252011.0000 - val_accuracy: 0.2544\n",
            "Epoch 88/100\n",
            "222/222 [==============================] - 1s 4ms/step - loss: -5122319.4238 - accuracy: 0.2673 - val_loss: -5416856.5000 - val_accuracy: 0.2527\n",
            "Epoch 89/100\n",
            "222/222 [==============================] - 1s 4ms/step - loss: -5263818.1536 - accuracy: 0.2559 - val_loss: -5568330.0000 - val_accuracy: 0.2549\n",
            "Epoch 90/100\n",
            "222/222 [==============================] - 1s 4ms/step - loss: -5368537.4664 - accuracy: 0.2594 - val_loss: -5740606.0000 - val_accuracy: 0.2538\n",
            "Epoch 91/100\n",
            "222/222 [==============================] - 1s 4ms/step - loss: -5706356.4843 - accuracy: 0.2599 - val_loss: -5913710.0000 - val_accuracy: 0.2549\n",
            "Epoch 92/100\n",
            "222/222 [==============================] - 1s 4ms/step - loss: -5784502.1099 - accuracy: 0.2521 - val_loss: -6063102.5000 - val_accuracy: 0.2504\n",
            "Epoch 93/100\n",
            "222/222 [==============================] - 1s 4ms/step - loss: -6001490.2197 - accuracy: 0.2596 - val_loss: -6263797.5000 - val_accuracy: 0.2499\n",
            "Epoch 94/100\n",
            "222/222 [==============================] - 1s 4ms/step - loss: -6030938.9215 - accuracy: 0.2601 - val_loss: -6439444.5000 - val_accuracy: 0.2516\n",
            "Epoch 95/100\n",
            "222/222 [==============================] - 1s 4ms/step - loss: -6344770.4484 - accuracy: 0.2584 - val_loss: -6576693.0000 - val_accuracy: 0.2544\n",
            "Epoch 96/100\n",
            "222/222 [==============================] - 1s 4ms/step - loss: -6265743.5493 - accuracy: 0.2538 - val_loss: -6789233.5000 - val_accuracy: 0.2527\n",
            "Epoch 97/100\n",
            "222/222 [==============================] - 1s 4ms/step - loss: -6385997.7444 - accuracy: 0.2600 - val_loss: -6987379.5000 - val_accuracy: 0.2504\n",
            "Epoch 98/100\n",
            "222/222 [==============================] - 1s 4ms/step - loss: -6601124.1861 - accuracy: 0.2573 - val_loss: -7116300.5000 - val_accuracy: 0.2555\n",
            "Epoch 99/100\n",
            "222/222 [==============================] - 1s 4ms/step - loss: -7004560.2489 - accuracy: 0.2651 - val_loss: -7304052.0000 - val_accuracy: 0.2566\n",
            "Epoch 100/100\n",
            "222/222 [==============================] - 1s 4ms/step - loss: -7020455.7668 - accuracy: 0.2586 - val_loss: -7516347.5000 - val_accuracy: 0.2510\n"
          ],
          "name": "stdout"
        }
      ]
    },
    {
      "cell_type": "code",
      "metadata": {
        "id": "rvQHivPvM09j"
      },
      "source": [
        "y_pred=model.predict(X_test)"
      ],
      "execution_count": 73,
      "outputs": []
    },
    {
      "cell_type": "code",
      "metadata": {
        "id": "Dbj5y-OVNXJM"
      },
      "source": [
        "import numpy as np \n",
        "y_pred= np.argmax(y_pred,axis=1)"
      ],
      "execution_count": 74,
      "outputs": []
    },
    {
      "cell_type": "code",
      "metadata": {
        "colab": {
          "base_uri": "https://localhost:8080/"
        },
        "id": "u-UZ5mqpNbfD",
        "outputId": "b07c3171-8494-4eb6-b4cf-b261691f07c1"
      },
      "source": [
        "from sklearn.metrics import confusion_matrix\n",
        "confusion_matrix(y_test, y_pred)\n",
        "from sklearn.metrics import classification_report\n",
        "print(classification_report(y_test,y_pred))"
      ],
      "execution_count": 75,
      "outputs": [
        {
          "output_type": "stream",
          "text": [
            "              precision    recall  f1-score   support\n",
            "\n",
            "          -1       0.00      0.00      0.00     980.0\n",
            "           0       0.00      0.00      0.00       0.0\n",
            "           1       0.00      0.00      0.00    1231.0\n",
            "\n",
            "    accuracy                           0.00    2211.0\n",
            "   macro avg       0.00      0.00      0.00    2211.0\n",
            "weighted avg       0.00      0.00      0.00    2211.0\n",
            "\n"
          ],
          "name": "stdout"
        },
        {
          "output_type": "stream",
          "text": [
            "/usr/local/lib/python3.7/dist-packages/sklearn/metrics/_classification.py:1272: UndefinedMetricWarning: Precision and F-score are ill-defined and being set to 0.0 in labels with no predicted samples. Use `zero_division` parameter to control this behavior.\n",
            "  _warn_prf(average, modifier, msg_start, len(result))\n",
            "/usr/local/lib/python3.7/dist-packages/sklearn/metrics/_classification.py:1272: UndefinedMetricWarning: Recall and F-score are ill-defined and being set to 0.0 in labels with no true samples. Use `zero_division` parameter to control this behavior.\n",
            "  _warn_prf(average, modifier, msg_start, len(result))\n"
          ],
          "name": "stderr"
        }
      ]
    },
    {
      "cell_type": "markdown",
      "metadata": {
        "id": "NUjMOIG87Yf9"
      },
      "source": [
        "#**Multi 1D CONV**"
      ]
    },
    {
      "cell_type": "code",
      "metadata": {
        "id": "vR2L-36s3epP",
        "colab": {
          "base_uri": "https://localhost:8080/"
        },
        "outputId": "53c1cfc9-be30-4466-e6ab-fbc8847097c0"
      },
      "source": [
        "def build_conv1D_model():\n",
        "\n",
        "  model = keras.Sequential(name=\"model_conv1D\")\n",
        "  model.add(keras.layers.Input(shape=(30, 1)))\n",
        "  model.add(keras.layers.Conv1D(16, 10, activation='relu', name=\"Conv1D_1\"))\n",
        "  model.add(keras.layers.Dropout(0.5))\n",
        "  model.add(keras.layers.Conv1D(32, 10, activation='relu', name=\"Conv1D_2\"))\n",
        "  \n",
        "  model.add(keras.layers.Conv1D(64, 10, activation='relu', name=\"Conv1D_3\"))\n",
        "  \n",
        "  model.add(keras.layers.MaxPooling1D(pool_size=2, name=\"MaxPooling1D\"))\n",
        "  model.add(keras.layers.Flatten())\n",
        "  model.add(keras.layers.Dense(8, activation='relu', name=\"Dense_1\"))\n",
        "  model.add(keras.layers.Dense(1, name=\"Dense_2\"))\n",
        "\n",
        "\n",
        "  optimizer = tf.keras.optimizers.RMSprop(0.001)\n",
        "\n",
        "  model.compile(loss='mse',optimizer=optimizer,metrics=['mae'])\n",
        "  return model\n",
        "\n",
        "model_conv1D = build_conv1D_model()\n",
        "model_conv1D.summary()"
      ],
      "execution_count": 76,
      "outputs": [
        {
          "output_type": "stream",
          "text": [
            "Model: \"model_conv1D\"\n",
            "_________________________________________________________________\n",
            "Layer (type)                 Output Shape              Param #   \n",
            "=================================================================\n",
            "Conv1D_1 (Conv1D)            (None, 21, 16)            176       \n",
            "_________________________________________________________________\n",
            "dropout_7 (Dropout)          (None, 21, 16)            0         \n",
            "_________________________________________________________________\n",
            "Conv1D_2 (Conv1D)            (None, 12, 32)            5152      \n",
            "_________________________________________________________________\n",
            "Conv1D_3 (Conv1D)            (None, 3, 64)             20544     \n",
            "_________________________________________________________________\n",
            "MaxPooling1D (MaxPooling1D)  (None, 1, 64)             0         \n",
            "_________________________________________________________________\n",
            "flatten_3 (Flatten)          (None, 64)                0         \n",
            "_________________________________________________________________\n",
            "Dense_1 (Dense)              (None, 8)                 520       \n",
            "_________________________________________________________________\n",
            "Dense_2 (Dense)              (None, 1)                 9         \n",
            "=================================================================\n",
            "Total params: 26,401\n",
            "Trainable params: 26,401\n",
            "Non-trainable params: 0\n",
            "_________________________________________________________________\n"
          ],
          "name": "stdout"
        }
      ]
    },
    {
      "cell_type": "code",
      "metadata": {
        "colab": {
          "base_uri": "https://localhost:8080/"
        },
        "id": "zaF03VNI3GSw",
        "outputId": "335eda69-6974-47e1-9741-7208b5fcb64b"
      },
      "source": [
        "# Store training stats\n",
        "history = model.fit(X_train, y_train, epochs=100,\n",
        "                    validation_split=0.2, verbose=1)"
      ],
      "execution_count": 77,
      "outputs": [
        {
          "output_type": "stream",
          "text": [
            "Epoch 1/100\n",
            "222/222 [==============================] - 1s 4ms/step - loss: -7319361.0000 - accuracy: 0.2606 - val_loss: -7752105.5000 - val_accuracy: 0.2510\n",
            "Epoch 2/100\n",
            "222/222 [==============================] - 1s 4ms/step - loss: -7559584.5000 - accuracy: 0.2646 - val_loss: -7938810.0000 - val_accuracy: 0.2504\n",
            "Epoch 3/100\n",
            "222/222 [==============================] - 1s 4ms/step - loss: -7689701.5000 - accuracy: 0.2613 - val_loss: -8146988.0000 - val_accuracy: 0.2504\n",
            "Epoch 4/100\n",
            "222/222 [==============================] - 1s 4ms/step - loss: -7927976.0000 - accuracy: 0.2601 - val_loss: -8358938.5000 - val_accuracy: 0.2527\n",
            "Epoch 5/100\n",
            "222/222 [==============================] - 1s 4ms/step - loss: -8074514.0000 - accuracy: 0.2584 - val_loss: -8565398.0000 - val_accuracy: 0.2504\n",
            "Epoch 6/100\n",
            "222/222 [==============================] - 1s 4ms/step - loss: -8277027.5000 - accuracy: 0.2615 - val_loss: -8771215.0000 - val_accuracy: 0.2493\n",
            "Epoch 7/100\n",
            "222/222 [==============================] - 1s 4ms/step - loss: -8522960.0000 - accuracy: 0.2611 - val_loss: -8930046.0000 - val_accuracy: 0.2555\n",
            "Epoch 8/100\n",
            "222/222 [==============================] - 1s 4ms/step - loss: -8801466.0000 - accuracy: 0.2646 - val_loss: -9186421.0000 - val_accuracy: 0.2533\n",
            "Epoch 9/100\n",
            "222/222 [==============================] - 1s 4ms/step - loss: -8923334.0000 - accuracy: 0.2616 - val_loss: -9361859.0000 - val_accuracy: 0.2544\n",
            "Epoch 10/100\n",
            "222/222 [==============================] - 1s 4ms/step - loss: -9158673.0000 - accuracy: 0.2619 - val_loss: -9675967.0000 - val_accuracy: 0.2493\n",
            "Epoch 11/100\n",
            "222/222 [==============================] - 1s 4ms/step - loss: -9370679.0000 - accuracy: 0.2626 - val_loss: -9913326.0000 - val_accuracy: 0.2504\n",
            "Epoch 12/100\n",
            "222/222 [==============================] - 1s 4ms/step - loss: -9595236.0000 - accuracy: 0.2609 - val_loss: -10125678.0000 - val_accuracy: 0.2538\n",
            "Epoch 13/100\n",
            "222/222 [==============================] - 1s 4ms/step - loss: -9828957.0000 - accuracy: 0.2602 - val_loss: -10334567.0000 - val_accuracy: 0.2516\n",
            "Epoch 14/100\n",
            "222/222 [==============================] - 1s 4ms/step - loss: -10059229.0000 - accuracy: 0.2640 - val_loss: -10591568.0000 - val_accuracy: 0.2533\n",
            "Epoch 15/100\n",
            "222/222 [==============================] - 1s 4ms/step - loss: -10337913.0000 - accuracy: 0.2615 - val_loss: -10822203.0000 - val_accuracy: 0.2527\n",
            "Epoch 16/100\n",
            "222/222 [==============================] - 1s 4ms/step - loss: -10552828.0000 - accuracy: 0.2632 - val_loss: -11071362.0000 - val_accuracy: 0.2527\n",
            "Epoch 17/100\n",
            "222/222 [==============================] - 1s 4ms/step - loss: -10765379.0000 - accuracy: 0.2602 - val_loss: -11284825.0000 - val_accuracy: 0.2504\n",
            "Epoch 18/100\n",
            "222/222 [==============================] - 1s 4ms/step - loss: -11028480.0000 - accuracy: 0.2615 - val_loss: -11584947.0000 - val_accuracy: 0.2499\n",
            "Epoch 19/100\n",
            "222/222 [==============================] - 1s 4ms/step - loss: -11238721.0000 - accuracy: 0.2608 - val_loss: -11871838.0000 - val_accuracy: 0.2499\n",
            "Epoch 20/100\n",
            "222/222 [==============================] - 1s 4ms/step - loss: -11542990.0000 - accuracy: 0.2623 - val_loss: -12101961.0000 - val_accuracy: 0.2521\n",
            "Epoch 21/100\n",
            "222/222 [==============================] - 1s 4ms/step - loss: -11787098.0000 - accuracy: 0.2645 - val_loss: -12396916.0000 - val_accuracy: 0.2499\n",
            "Epoch 22/100\n",
            "222/222 [==============================] - 1s 4ms/step - loss: -12056338.0000 - accuracy: 0.2636 - val_loss: -12640438.0000 - val_accuracy: 0.2516\n",
            "Epoch 23/100\n",
            "222/222 [==============================] - 1s 4ms/step - loss: -12297995.0000 - accuracy: 0.2616 - val_loss: -12852093.0000 - val_accuracy: 0.2527\n",
            "Epoch 24/100\n",
            "222/222 [==============================] - 1s 4ms/step - loss: -12534953.0000 - accuracy: 0.2622 - val_loss: -13195538.0000 - val_accuracy: 0.2499\n",
            "Epoch 25/100\n",
            "222/222 [==============================] - 1s 4ms/step - loss: -12839558.0000 - accuracy: 0.2629 - val_loss: -13463229.0000 - val_accuracy: 0.2482\n",
            "Epoch 26/100\n",
            "222/222 [==============================] - 1s 4ms/step - loss: -13115688.0000 - accuracy: 0.2633 - val_loss: -13698506.0000 - val_accuracy: 0.2544\n",
            "Epoch 27/100\n",
            "222/222 [==============================] - 1s 4ms/step - loss: -13378539.0000 - accuracy: 0.2611 - val_loss: -13980267.0000 - val_accuracy: 0.2516\n",
            "Epoch 28/100\n",
            "222/222 [==============================] - 1s 4ms/step - loss: -13633336.0000 - accuracy: 0.2625 - val_loss: -14369312.0000 - val_accuracy: 0.2521\n",
            "Epoch 29/100\n",
            "222/222 [==============================] - 1s 4ms/step - loss: -13867009.0000 - accuracy: 0.2589 - val_loss: -14574539.0000 - val_accuracy: 0.2561\n",
            "Epoch 30/100\n",
            "222/222 [==============================] - 1s 4ms/step - loss: -14150129.0000 - accuracy: 0.2608 - val_loss: -14951760.0000 - val_accuracy: 0.2527\n",
            "Epoch 31/100\n",
            "222/222 [==============================] - 1s 4ms/step - loss: -14504478.0000 - accuracy: 0.2584 - val_loss: -15156426.0000 - val_accuracy: 0.2510\n",
            "Epoch 32/100\n",
            "222/222 [==============================] - 1s 4ms/step - loss: -14762906.0000 - accuracy: 0.2635 - val_loss: -15523181.0000 - val_accuracy: 0.2527\n",
            "Epoch 33/100\n",
            "222/222 [==============================] - 1s 4ms/step - loss: -15084347.0000 - accuracy: 0.2591 - val_loss: -15900741.0000 - val_accuracy: 0.2487\n",
            "Epoch 34/100\n",
            "222/222 [==============================] - 1s 4ms/step - loss: -15350986.0000 - accuracy: 0.2606 - val_loss: -16078990.0000 - val_accuracy: 0.2521\n",
            "Epoch 35/100\n",
            "222/222 [==============================] - 1s 4ms/step - loss: -15670553.0000 - accuracy: 0.2598 - val_loss: -16468281.0000 - val_accuracy: 0.2510\n",
            "Epoch 36/100\n",
            "222/222 [==============================] - 1s 4ms/step - loss: -15999893.0000 - accuracy: 0.2636 - val_loss: -16734024.0000 - val_accuracy: 0.2499\n",
            "Epoch 37/100\n",
            "222/222 [==============================] - 1s 4ms/step - loss: -16287279.0000 - accuracy: 0.2633 - val_loss: -17163280.0000 - val_accuracy: 0.2538\n",
            "Epoch 38/100\n",
            "222/222 [==============================] - 1s 4ms/step - loss: -16665394.0000 - accuracy: 0.2619 - val_loss: -17463662.0000 - val_accuracy: 0.2510\n",
            "Epoch 39/100\n",
            "222/222 [==============================] - 1s 4ms/step - loss: -16975594.0000 - accuracy: 0.2619 - val_loss: -17807674.0000 - val_accuracy: 0.2487\n",
            "Epoch 40/100\n",
            "222/222 [==============================] - 1s 4ms/step - loss: -17276762.0000 - accuracy: 0.2622 - val_loss: -18201436.0000 - val_accuracy: 0.2504\n",
            "Epoch 41/100\n",
            "222/222 [==============================] - 1s 4ms/step - loss: -17582846.0000 - accuracy: 0.2612 - val_loss: -18473420.0000 - val_accuracy: 0.2527\n",
            "Epoch 42/100\n",
            "222/222 [==============================] - 1s 4ms/step - loss: -18008366.0000 - accuracy: 0.2635 - val_loss: -18852576.0000 - val_accuracy: 0.2493\n",
            "Epoch 43/100\n",
            "222/222 [==============================] - 1s 4ms/step - loss: -18247762.0000 - accuracy: 0.2609 - val_loss: -19158466.0000 - val_accuracy: 0.2549\n",
            "Epoch 44/100\n",
            "222/222 [==============================] - 1s 4ms/step - loss: -18662718.0000 - accuracy: 0.2584 - val_loss: -19584414.0000 - val_accuracy: 0.2538\n",
            "Epoch 45/100\n",
            "222/222 [==============================] - 1s 4ms/step - loss: -18929020.0000 - accuracy: 0.2606 - val_loss: -19919102.0000 - val_accuracy: 0.2533\n",
            "Epoch 46/100\n",
            "222/222 [==============================] - 1s 4ms/step - loss: -19369372.0000 - accuracy: 0.2623 - val_loss: -20225080.0000 - val_accuracy: 0.2521\n",
            "Epoch 47/100\n",
            "222/222 [==============================] - 1s 4ms/step - loss: -19717330.0000 - accuracy: 0.2632 - val_loss: -20629126.0000 - val_accuracy: 0.2538\n",
            "Epoch 48/100\n",
            "222/222 [==============================] - 1s 4ms/step - loss: -19955766.0000 - accuracy: 0.2574 - val_loss: -21071950.0000 - val_accuracy: 0.2504\n",
            "Epoch 49/100\n",
            "222/222 [==============================] - 1s 4ms/step - loss: -20324422.0000 - accuracy: 0.2625 - val_loss: -21415960.0000 - val_accuracy: 0.2516\n",
            "Epoch 50/100\n",
            "222/222 [==============================] - 1s 4ms/step - loss: -20819782.0000 - accuracy: 0.2636 - val_loss: -21726192.0000 - val_accuracy: 0.2544\n",
            "Epoch 51/100\n",
            "222/222 [==============================] - 1s 4ms/step - loss: -21325040.0000 - accuracy: 0.2604 - val_loss: -22139670.0000 - val_accuracy: 0.2510\n",
            "Epoch 52/100\n",
            "222/222 [==============================] - 1s 4ms/step - loss: -21469534.0000 - accuracy: 0.2616 - val_loss: -22544232.0000 - val_accuracy: 0.2533\n",
            "Epoch 53/100\n",
            "222/222 [==============================] - 1s 3ms/step - loss: -21974400.0000 - accuracy: 0.2653 - val_loss: -22932298.0000 - val_accuracy: 0.2566\n",
            "Epoch 54/100\n",
            "222/222 [==============================] - 1s 4ms/step - loss: -22167126.0000 - accuracy: 0.2615 - val_loss: -23413968.0000 - val_accuracy: 0.2521\n",
            "Epoch 55/100\n",
            "222/222 [==============================] - 1s 4ms/step - loss: -22640406.0000 - accuracy: 0.2615 - val_loss: -23775300.0000 - val_accuracy: 0.2516\n",
            "Epoch 56/100\n",
            "222/222 [==============================] - 1s 4ms/step - loss: -23060840.0000 - accuracy: 0.2620 - val_loss: -24207408.0000 - val_accuracy: 0.2549\n",
            "Epoch 57/100\n",
            "222/222 [==============================] - 1s 4ms/step - loss: -23347522.0000 - accuracy: 0.2636 - val_loss: -24697362.0000 - val_accuracy: 0.2533\n",
            "Epoch 58/100\n",
            "222/222 [==============================] - 1s 4ms/step - loss: -23728922.0000 - accuracy: 0.2598 - val_loss: -24981754.0000 - val_accuracy: 0.2555\n",
            "Epoch 59/100\n",
            "222/222 [==============================] - 1s 4ms/step - loss: -24419426.0000 - accuracy: 0.2657 - val_loss: -25457188.0000 - val_accuracy: 0.2538\n",
            "Epoch 60/100\n",
            "222/222 [==============================] - 1s 4ms/step - loss: -24646088.0000 - accuracy: 0.2650 - val_loss: -25822226.0000 - val_accuracy: 0.2533\n",
            "Epoch 61/100\n",
            "222/222 [==============================] - 1s 4ms/step - loss: -25050746.0000 - accuracy: 0.2604 - val_loss: -26328774.0000 - val_accuracy: 0.2527\n",
            "Epoch 62/100\n",
            "222/222 [==============================] - 1s 4ms/step - loss: -25530572.0000 - accuracy: 0.2613 - val_loss: -26817094.0000 - val_accuracy: 0.2521\n",
            "Epoch 63/100\n",
            "222/222 [==============================] - 1s 4ms/step - loss: -25854772.0000 - accuracy: 0.2609 - val_loss: -27213584.0000 - val_accuracy: 0.2521\n",
            "Epoch 64/100\n",
            "222/222 [==============================] - 1s 4ms/step - loss: -26313808.0000 - accuracy: 0.2630 - val_loss: -27582510.0000 - val_accuracy: 0.2583\n",
            "Epoch 65/100\n",
            "222/222 [==============================] - 1s 4ms/step - loss: -26967446.0000 - accuracy: 0.2628 - val_loss: -27969466.0000 - val_accuracy: 0.2527\n",
            "Epoch 66/100\n",
            "222/222 [==============================] - 1s 4ms/step - loss: -27314978.0000 - accuracy: 0.2650 - val_loss: -28506752.0000 - val_accuracy: 0.2527\n",
            "Epoch 67/100\n",
            "222/222 [==============================] - 1s 4ms/step - loss: -27669318.0000 - accuracy: 0.2584 - val_loss: -28975882.0000 - val_accuracy: 0.2538\n",
            "Epoch 68/100\n",
            "222/222 [==============================] - 1s 4ms/step - loss: -28262724.0000 - accuracy: 0.2615 - val_loss: -29542480.0000 - val_accuracy: 0.2527\n",
            "Epoch 69/100\n",
            "222/222 [==============================] - 1s 4ms/step - loss: -28659776.0000 - accuracy: 0.2609 - val_loss: -29968140.0000 - val_accuracy: 0.2549\n",
            "Epoch 70/100\n",
            "222/222 [==============================] - 1s 3ms/step - loss: -29129370.0000 - accuracy: 0.2611 - val_loss: -30560972.0000 - val_accuracy: 0.2527\n",
            "Epoch 71/100\n",
            "222/222 [==============================] - 1s 4ms/step - loss: -29517744.0000 - accuracy: 0.2642 - val_loss: -30849366.0000 - val_accuracy: 0.2561\n",
            "Epoch 72/100\n",
            "222/222 [==============================] - 1s 4ms/step - loss: -29868946.0000 - accuracy: 0.2640 - val_loss: -31407086.0000 - val_accuracy: 0.2561\n",
            "Epoch 73/100\n",
            "222/222 [==============================] - 1s 4ms/step - loss: -30491550.0000 - accuracy: 0.2620 - val_loss: -31923958.0000 - val_accuracy: 0.2516\n",
            "Epoch 74/100\n",
            "222/222 [==============================] - 1s 4ms/step - loss: -31027834.0000 - accuracy: 0.2619 - val_loss: -32302688.0000 - val_accuracy: 0.2538\n",
            "Epoch 75/100\n",
            "222/222 [==============================] - 1s 4ms/step - loss: -31164052.0000 - accuracy: 0.2613 - val_loss: -32836718.0000 - val_accuracy: 0.2516\n",
            "Epoch 76/100\n",
            "222/222 [==============================] - 1s 4ms/step - loss: -31907948.0000 - accuracy: 0.2654 - val_loss: -33389784.0000 - val_accuracy: 0.2527\n",
            "Epoch 77/100\n",
            "222/222 [==============================] - 1s 4ms/step - loss: -32374490.0000 - accuracy: 0.2640 - val_loss: -33896860.0000 - val_accuracy: 0.2555\n",
            "Epoch 78/100\n",
            "222/222 [==============================] - 1s 4ms/step - loss: -32853942.0000 - accuracy: 0.2615 - val_loss: -34362044.0000 - val_accuracy: 0.2549\n",
            "Epoch 79/100\n",
            "222/222 [==============================] - 1s 4ms/step - loss: -33475170.0000 - accuracy: 0.2633 - val_loss: -34861944.0000 - val_accuracy: 0.2561\n",
            "Epoch 80/100\n",
            "222/222 [==============================] - 1s 4ms/step - loss: -33962176.0000 - accuracy: 0.2613 - val_loss: -35594876.0000 - val_accuracy: 0.2510\n",
            "Epoch 81/100\n",
            "222/222 [==============================] - 1s 4ms/step - loss: -34422900.0000 - accuracy: 0.2693 - val_loss: -35963568.0000 - val_accuracy: 0.2549\n",
            "Epoch 82/100\n",
            "222/222 [==============================] - 1s 4ms/step - loss: -34845904.0000 - accuracy: 0.2629 - val_loss: -36455360.0000 - val_accuracy: 0.2538\n",
            "Epoch 83/100\n",
            "222/222 [==============================] - 1s 4ms/step - loss: -35584592.0000 - accuracy: 0.2616 - val_loss: -37114728.0000 - val_accuracy: 0.2516\n",
            "Epoch 84/100\n",
            "222/222 [==============================] - 1s 4ms/step - loss: -35978492.0000 - accuracy: 0.2612 - val_loss: -37480036.0000 - val_accuracy: 0.2555\n",
            "Epoch 85/100\n",
            "222/222 [==============================] - 1s 4ms/step - loss: -36544716.0000 - accuracy: 0.2673 - val_loss: -38240192.0000 - val_accuracy: 0.2504\n",
            "Epoch 86/100\n",
            "222/222 [==============================] - 1s 4ms/step - loss: -37019444.0000 - accuracy: 0.2616 - val_loss: -38814504.0000 - val_accuracy: 0.2527\n",
            "Epoch 87/100\n",
            "222/222 [==============================] - 1s 4ms/step - loss: -37484108.0000 - accuracy: 0.2635 - val_loss: -39375440.0000 - val_accuracy: 0.2533\n",
            "Epoch 88/100\n",
            "222/222 [==============================] - 1s 4ms/step - loss: -38072676.0000 - accuracy: 0.2587 - val_loss: -39820624.0000 - val_accuracy: 0.2521\n",
            "Epoch 89/100\n",
            "222/222 [==============================] - 1s 4ms/step - loss: -38776864.0000 - accuracy: 0.2632 - val_loss: -40297952.0000 - val_accuracy: 0.2561\n",
            "Epoch 90/100\n",
            "222/222 [==============================] - 1s 4ms/step - loss: -39201788.0000 - accuracy: 0.2602 - val_loss: -41084208.0000 - val_accuracy: 0.2510\n",
            "Epoch 91/100\n",
            "222/222 [==============================] - 1s 4ms/step - loss: -39846032.0000 - accuracy: 0.2628 - val_loss: -41805752.0000 - val_accuracy: 0.2504\n",
            "Epoch 92/100\n",
            "222/222 [==============================] - 1s 4ms/step - loss: -40410604.0000 - accuracy: 0.2626 - val_loss: -42193260.0000 - val_accuracy: 0.2527\n",
            "Epoch 93/100\n",
            "222/222 [==============================] - 1s 4ms/step - loss: -40769208.0000 - accuracy: 0.2637 - val_loss: -42910284.0000 - val_accuracy: 0.2538\n",
            "Epoch 94/100\n",
            "222/222 [==============================] - 1s 4ms/step - loss: -41530736.0000 - accuracy: 0.2609 - val_loss: -43564580.0000 - val_accuracy: 0.2521\n",
            "Epoch 95/100\n",
            "222/222 [==============================] - 1s 4ms/step - loss: -42070640.0000 - accuracy: 0.2623 - val_loss: -44094564.0000 - val_accuracy: 0.2504\n",
            "Epoch 96/100\n",
            "222/222 [==============================] - 1s 4ms/step - loss: -42564812.0000 - accuracy: 0.2620 - val_loss: -44660960.0000 - val_accuracy: 0.2527\n",
            "Epoch 97/100\n",
            "222/222 [==============================] - 1s 4ms/step - loss: -43013440.0000 - accuracy: 0.2636 - val_loss: -45370544.0000 - val_accuracy: 0.2549\n",
            "Epoch 98/100\n",
            "222/222 [==============================] - 1s 4ms/step - loss: -43724420.0000 - accuracy: 0.2605 - val_loss: -45875492.0000 - val_accuracy: 0.2533\n",
            "Epoch 99/100\n",
            "222/222 [==============================] - 1s 4ms/step - loss: -44322288.0000 - accuracy: 0.2575 - val_loss: -46265644.0000 - val_accuracy: 0.2572\n",
            "Epoch 100/100\n",
            "222/222 [==============================] - 1s 4ms/step - loss: -45004628.0000 - accuracy: 0.2657 - val_loss: -46986056.0000 - val_accuracy: 0.2538\n"
          ],
          "name": "stdout"
        }
      ]
    },
    {
      "cell_type": "markdown",
      "metadata": {
        "id": "kwKtzKq07wCb"
      },
      "source": [
        "#**LTSM model**"
      ]
    },
    {
      "cell_type": "code",
      "metadata": {
        "id": "pIM5j6ta7HN5"
      },
      "source": [
        "from keras.layers import LSTM"
      ],
      "execution_count": 78,
      "outputs": []
    },
    {
      "cell_type": "code",
      "metadata": {
        "colab": {
          "base_uri": "https://localhost:8080/"
        },
        "id": "LKSGDz0H78yj",
        "outputId": "fccbc0e8-7fc5-4e56-8923-665730c55980"
      },
      "source": [
        "model = Sequential()\n",
        "model.add(LSTM(32, activation='relu', input_shape=(30, 1)))\n",
        "model.add(Dropout(0.7))\n",
        "model.add(Dense(1, activation='sigmoid'))\n",
        "model.compile(loss='binary_crossentropy', optimizer='adam', metrics=['accuracy'])\n",
        "print(model.summary())"
      ],
      "execution_count": 79,
      "outputs": [
        {
          "output_type": "stream",
          "text": [
            "Model: \"sequential_7\"\n",
            "_________________________________________________________________\n",
            "Layer (type)                 Output Shape              Param #   \n",
            "=================================================================\n",
            "lstm_4 (LSTM)                (None, 32)                4352      \n",
            "_________________________________________________________________\n",
            "dropout_8 (Dropout)          (None, 32)                0         \n",
            "_________________________________________________________________\n",
            "dense_29 (Dense)             (None, 1)                 33        \n",
            "=================================================================\n",
            "Total params: 4,385\n",
            "Trainable params: 4,385\n",
            "Non-trainable params: 0\n",
            "_________________________________________________________________\n",
            "None\n"
          ],
          "name": "stdout"
        }
      ]
    },
    {
      "cell_type": "code",
      "metadata": {
        "colab": {
          "base_uri": "https://localhost:8080/"
        },
        "id": "n3c2xuUs8LjY",
        "outputId": "c1a510b8-a8d9-47b7-fca7-f4f0316cc3cc"
      },
      "source": [
        "# Store training stats\n",
        "history = model.fit(X_train, y_train, epochs=100,\n",
        "                    validation_split=0.2, verbose=1)"
      ],
      "execution_count": 80,
      "outputs": [
        {
          "output_type": "stream",
          "text": [
            "Epoch 1/100\n",
            "222/222 [==============================] - 5s 14ms/step - loss: 41.8714 - accuracy: 0.1363 - val_loss: -3282.0635 - val_accuracy: 0.0000e+00\n",
            "Epoch 2/100\n",
            "222/222 [==============================] - 3s 14ms/step - loss: -26184.9095 - accuracy: 0.0334 - val_loss: -125640.4062 - val_accuracy: 0.1164\n",
            "Epoch 3/100\n",
            "222/222 [==============================] - 3s 14ms/step - loss: -344154.6792 - accuracy: 0.0569 - val_loss: -6.2212 - val_accuracy: 0.0000e+00\n",
            "Epoch 4/100\n",
            "222/222 [==============================] - 3s 13ms/step - loss: 57.8481 - accuracy: 0.0679 - val_loss: -4.6203 - val_accuracy: 0.0000e+00\n",
            "Epoch 5/100\n",
            "222/222 [==============================] - 3s 13ms/step - loss: 31.6928 - accuracy: 0.0633 - val_loss: -2.9330 - val_accuracy: 0.0000e+00\n",
            "Epoch 6/100\n",
            "222/222 [==============================] - 3s 13ms/step - loss: -8.0750 - accuracy: 0.0000e+00 - val_loss: -3.1054 - val_accuracy: 0.0000e+00\n",
            "Epoch 7/100\n",
            "222/222 [==============================] - 3s 13ms/step - loss: -13.1821 - accuracy: 7.8711e-04 - val_loss: -3.2072 - val_accuracy: 0.0000e+00\n",
            "Epoch 8/100\n",
            "222/222 [==============================] - 3s 14ms/step - loss: 21.4741 - accuracy: 0.0036 - val_loss: -3.1779 - val_accuracy: 0.0000e+00\n",
            "Epoch 9/100\n",
            "222/222 [==============================] - 3s 13ms/step - loss: 0.2938 - accuracy: 0.0000e+00 - val_loss: -3.2144 - val_accuracy: 0.0000e+00\n",
            "Epoch 10/100\n",
            "222/222 [==============================] - 3s 14ms/step - loss: -13.1493 - accuracy: 0.0000e+00 - val_loss: -3.3666 - val_accuracy: 0.0000e+00\n",
            "Epoch 11/100\n",
            "222/222 [==============================] - 3s 13ms/step - loss: 11.3627 - accuracy: 0.0000e+00 - val_loss: -3.7185 - val_accuracy: 0.0000e+00\n",
            "Epoch 12/100\n",
            "222/222 [==============================] - 3s 14ms/step - loss: 6.5048 - accuracy: 5.8627e-04 - val_loss: -4.0438 - val_accuracy: 0.0000e+00\n",
            "Epoch 13/100\n",
            "222/222 [==============================] - 3s 14ms/step - loss: -17.1969 - accuracy: 0.0014 - val_loss: -4.2744 - val_accuracy: 0.0000e+00\n",
            "Epoch 14/100\n",
            "222/222 [==============================] - 3s 14ms/step - loss: -5.6763 - accuracy: 0.0000e+00 - val_loss: -4.5405 - val_accuracy: 0.0000e+00\n",
            "Epoch 15/100\n",
            "222/222 [==============================] - 3s 13ms/step - loss: -8.2098 - accuracy: 0.0017 - val_loss: -4.9079 - val_accuracy: 0.0000e+00\n",
            "Epoch 16/100\n",
            "222/222 [==============================] - 3s 15ms/step - loss: -5.9491 - accuracy: 0.0014 - val_loss: -5.2700 - val_accuracy: 0.0000e+00\n",
            "Epoch 17/100\n",
            "222/222 [==============================] - 3s 13ms/step - loss: 10.6490 - accuracy: 4.2360e-04 - val_loss: -5.6204 - val_accuracy: 0.0000e+00\n",
            "Epoch 18/100\n",
            "222/222 [==============================] - 3s 14ms/step - loss: -0.0591 - accuracy: 0.0022 - val_loss: -6.0297 - val_accuracy: 0.0000e+00\n",
            "Epoch 19/100\n",
            "222/222 [==============================] - 3s 13ms/step - loss: 5.1865 - accuracy: 0.0020 - val_loss: -6.7026 - val_accuracy: 0.0000e+00\n",
            "Epoch 20/100\n",
            "222/222 [==============================] - 3s 13ms/step - loss: -5.1537 - accuracy: 0.0069 - val_loss: -7.4027 - val_accuracy: 0.0000e+00\n",
            "Epoch 21/100\n",
            "222/222 [==============================] - 3s 13ms/step - loss: -12.4786 - accuracy: 0.0013 - val_loss: -8.1188 - val_accuracy: 0.0000e+00\n",
            "Epoch 22/100\n",
            "222/222 [==============================] - 3s 13ms/step - loss: -10.3075 - accuracy: 0.0034 - val_loss: -8.9895 - val_accuracy: 0.0000e+00\n",
            "Epoch 23/100\n",
            "222/222 [==============================] - 3s 13ms/step - loss: 2.0683 - accuracy: 0.0059 - val_loss: -9.9416 - val_accuracy: 0.0000e+00\n",
            "Epoch 24/100\n",
            "222/222 [==============================] - 3s 13ms/step - loss: -19.2391 - accuracy: 2.8745e-04 - val_loss: -11.3175 - val_accuracy: 0.0000e+00\n",
            "Epoch 25/100\n",
            "222/222 [==============================] - 3s 13ms/step - loss: 43.1064 - accuracy: 0.0017 - val_loss: -12.5683 - val_accuracy: 0.0000e+00\n",
            "Epoch 26/100\n",
            "222/222 [==============================] - 3s 14ms/step - loss: -2.5710 - accuracy: 0.0000e+00 - val_loss: -14.3771 - val_accuracy: 0.0000e+00\n",
            "Epoch 27/100\n",
            "222/222 [==============================] - 3s 15ms/step - loss: -27.7738 - accuracy: 0.0000e+00 - val_loss: -19.3260 - val_accuracy: 0.0000e+00\n",
            "Epoch 28/100\n",
            "222/222 [==============================] - 3s 15ms/step - loss: -64.7568 - accuracy: 0.0280 - val_loss: -464.6438 - val_accuracy: 0.0000e+00\n",
            "Epoch 29/100\n",
            "222/222 [==============================] - 3s 14ms/step - loss: 148.0653 - accuracy: 0.1047 - val_loss: -1112.6680 - val_accuracy: 0.0000e+00\n",
            "Epoch 30/100\n",
            "222/222 [==============================] - 3s 14ms/step - loss: -229727.3820 - accuracy: 0.0705 - val_loss: -445.9670 - val_accuracy: 0.0000e+00\n",
            "Epoch 31/100\n",
            "222/222 [==============================] - 3s 13ms/step - loss: -858.2810 - accuracy: 0.1069 - val_loss: -873.7946 - val_accuracy: 0.0000e+00\n",
            "Epoch 32/100\n",
            "222/222 [==============================] - 3s 14ms/step - loss: -2440.6592 - accuracy: 0.0949 - val_loss: -12318.1504 - val_accuracy: 0.0000e+00\n",
            "Epoch 33/100\n",
            "222/222 [==============================] - 3s 14ms/step - loss: 33392.4675 - accuracy: 0.0696 - val_loss: 840.4763 - val_accuracy: 0.0000e+00\n",
            "Epoch 34/100\n",
            "222/222 [==============================] - 3s 14ms/step - loss: 937.1140 - accuracy: 0.0000e+00 - val_loss: 788.2141 - val_accuracy: 0.0000e+00\n",
            "Epoch 35/100\n",
            "222/222 [==============================] - 3s 13ms/step - loss: 1064.6515 - accuracy: 0.0000e+00 - val_loss: 712.3050 - val_accuracy: 0.0000e+00\n",
            "Epoch 36/100\n",
            "222/222 [==============================] - 3s 14ms/step - loss: 887.5090 - accuracy: 0.0000e+00 - val_loss: 655.8267 - val_accuracy: 0.0000e+00\n",
            "Epoch 37/100\n",
            "222/222 [==============================] - 3s 13ms/step - loss: 836.3461 - accuracy: 0.0000e+00 - val_loss: 620.9578 - val_accuracy: 0.0000e+00\n",
            "Epoch 38/100\n",
            "222/222 [==============================] - 3s 13ms/step - loss: 750.5505 - accuracy: 0.0000e+00 - val_loss: 570.2773 - val_accuracy: 0.0000e+00\n",
            "Epoch 39/100\n",
            "222/222 [==============================] - 3s 13ms/step - loss: 451.2588 - accuracy: 0.0000e+00 - val_loss: 328.8112 - val_accuracy: 0.0000e+00\n",
            "Epoch 40/100\n",
            "222/222 [==============================] - 3s 13ms/step - loss: 384.3069 - accuracy: 0.0000e+00 - val_loss: 319.1680 - val_accuracy: 0.0000e+00\n",
            "Epoch 41/100\n",
            "222/222 [==============================] - 3s 14ms/step - loss: 602.4893 - accuracy: 0.0000e+00 - val_loss: 307.4244 - val_accuracy: 0.0000e+00\n",
            "Epoch 42/100\n",
            "222/222 [==============================] - 3s 13ms/step - loss: 365.8400 - accuracy: 0.0000e+00 - val_loss: 295.6893 - val_accuracy: 0.0000e+00\n",
            "Epoch 43/100\n",
            "222/222 [==============================] - 3s 14ms/step - loss: 301.3700 - accuracy: 0.0000e+00 - val_loss: 283.9598 - val_accuracy: 0.0000e+00\n",
            "Epoch 44/100\n",
            "222/222 [==============================] - 3s 13ms/step - loss: 395.4835 - accuracy: 0.0000e+00 - val_loss: 271.0008 - val_accuracy: 0.0000e+00\n",
            "Epoch 45/100\n",
            "222/222 [==============================] - 3s 14ms/step - loss: 486.1299 - accuracy: 0.0000e+00 - val_loss: 256.8577 - val_accuracy: 0.0000e+00\n",
            "Epoch 46/100\n",
            "222/222 [==============================] - 3s 13ms/step - loss: 281.9311 - accuracy: 0.0000e+00 - val_loss: 242.9192 - val_accuracy: 0.0000e+00\n",
            "Epoch 47/100\n",
            "222/222 [==============================] - 3s 14ms/step - loss: 217.4886 - accuracy: 0.0000e+00 - val_loss: 227.5908 - val_accuracy: 0.0000e+00\n",
            "Epoch 48/100\n",
            "222/222 [==============================] - 3s 14ms/step - loss: 312.1245 - accuracy: 0.0000e+00 - val_loss: 210.9562 - val_accuracy: 0.0000e+00\n",
            "Epoch 49/100\n",
            "222/222 [==============================] - 3s 14ms/step - loss: 370.4956 - accuracy: 0.0000e+00 - val_loss: 188.6737 - val_accuracy: 0.0000e+00\n",
            "Epoch 50/100\n",
            "222/222 [==============================] - 3s 14ms/step - loss: 122.9475 - accuracy: 0.0000e+00 - val_loss: 162.2207 - val_accuracy: 0.0000e+00\n",
            "Epoch 51/100\n",
            "222/222 [==============================] - 3s 14ms/step - loss: 160.1759 - accuracy: 0.0000e+00 - val_loss: 125.0326 - val_accuracy: 0.0000e+00\n",
            "Epoch 52/100\n",
            "222/222 [==============================] - 3s 14ms/step - loss: 118.6300 - accuracy: 1.1548e-05 - val_loss: -84.9989 - val_accuracy: 0.0000e+00\n",
            "Epoch 53/100\n",
            "222/222 [==============================] - 3s 14ms/step - loss: 76.3291 - accuracy: 0.0000e+00 - val_loss: -51.2499 - val_accuracy: 0.0000e+00\n",
            "Epoch 54/100\n",
            "222/222 [==============================] - 3s 14ms/step - loss: -41.6858 - accuracy: 0.0000e+00 - val_loss: -1666.0151 - val_accuracy: 0.0000e+00\n",
            "Epoch 55/100\n",
            "222/222 [==============================] - 3s 13ms/step - loss: 6381.6889 - accuracy: 0.0119 - val_loss: 83.9161 - val_accuracy: 0.0000e+00\n",
            "Epoch 56/100\n",
            "222/222 [==============================] - 3s 14ms/step - loss: 206.9838 - accuracy: 0.0000e+00 - val_loss: 41.2214 - val_accuracy: 0.0000e+00\n",
            "Epoch 57/100\n",
            "222/222 [==============================] - 3s 13ms/step - loss: 112.4017 - accuracy: 3.8763e-05 - val_loss: 7.5818 - val_accuracy: 0.0000e+00\n",
            "Epoch 58/100\n",
            "222/222 [==============================] - 3s 14ms/step - loss: 6.1437 - accuracy: 0.0000e+00 - val_loss: -54.8655 - val_accuracy: 5.6529e-04\n",
            "Epoch 59/100\n",
            "222/222 [==============================] - 3s 13ms/step - loss: 669.9884 - accuracy: 0.0020 - val_loss: -1086.8586 - val_accuracy: 0.0000e+00\n",
            "Epoch 60/100\n",
            "222/222 [==============================] - 3s 14ms/step - loss: 289.3376 - accuracy: 0.0055 - val_loss: -623.3195 - val_accuracy: 0.0000e+00\n",
            "Epoch 61/100\n",
            "222/222 [==============================] - 3s 14ms/step - loss: -673.1008 - accuracy: 0.0159 - val_loss: -2153.6431 - val_accuracy: 0.0000e+00\n",
            "Epoch 62/100\n",
            "222/222 [==============================] - 3s 15ms/step - loss: -2435.8509 - accuracy: 0.0422 - val_loss: -61.8607 - val_accuracy: 0.0000e+00\n",
            "Epoch 63/100\n",
            "222/222 [==============================] - 3s 15ms/step - loss: 839573802.0164 - accuracy: 0.0532 - val_loss: 6.8267 - val_accuracy: 0.0000e+00\n",
            "Epoch 64/100\n",
            "222/222 [==============================] - 3s 15ms/step - loss: 17.8040 - accuracy: 0.0045 - val_loss: 8.5832 - val_accuracy: 0.0000e+00\n",
            "Epoch 65/100\n",
            "222/222 [==============================] - 3s 15ms/step - loss: 20.2281 - accuracy: 0.0011 - val_loss: 8.2810 - val_accuracy: 0.0000e+00\n",
            "Epoch 66/100\n",
            "222/222 [==============================] - 3s 15ms/step - loss: 34.1825 - accuracy: 0.0016 - val_loss: 7.3893 - val_accuracy: 0.0000e+00\n",
            "Epoch 67/100\n",
            "222/222 [==============================] - 3s 15ms/step - loss: 23.1786 - accuracy: 0.0020 - val_loss: 7.0931 - val_accuracy: 0.0000e+00\n",
            "Epoch 68/100\n",
            "222/222 [==============================] - 3s 14ms/step - loss: 7.1148 - accuracy: 0.0013 - val_loss: 6.6286 - val_accuracy: 0.0000e+00\n",
            "Epoch 69/100\n",
            "222/222 [==============================] - 3s 15ms/step - loss: 11.8151 - accuracy: 0.0015 - val_loss: 6.0118 - val_accuracy: 0.0000e+00\n",
            "Epoch 70/100\n",
            "222/222 [==============================] - 3s 16ms/step - loss: 9.5119 - accuracy: 0.0023 - val_loss: 6.0678 - val_accuracy: 0.0000e+00\n",
            "Epoch 71/100\n",
            "222/222 [==============================] - 3s 16ms/step - loss: 1.4200 - accuracy: 0.0022 - val_loss: 5.2274 - val_accuracy: 0.0000e+00\n",
            "Epoch 72/100\n",
            "222/222 [==============================] - 3s 15ms/step - loss: 9.1784 - accuracy: 0.0039 - val_loss: 4.5454 - val_accuracy: 0.0000e+00\n",
            "Epoch 73/100\n",
            "222/222 [==============================] - 3s 15ms/step - loss: 7.5884 - accuracy: 0.0051 - val_loss: 3.8019 - val_accuracy: 0.0000e+00\n",
            "Epoch 74/100\n",
            "222/222 [==============================] - 3s 14ms/step - loss: 6.7963 - accuracy: 0.0068 - val_loss: 3.3710 - val_accuracy: 0.0000e+00\n",
            "Epoch 75/100\n",
            "222/222 [==============================] - 3s 14ms/step - loss: -0.9841 - accuracy: 0.0058 - val_loss: 3.1388 - val_accuracy: 0.0000e+00\n",
            "Epoch 76/100\n",
            "222/222 [==============================] - 3s 14ms/step - loss: 4.7540 - accuracy: 0.0118 - val_loss: 3.1543 - val_accuracy: 0.0000e+00\n",
            "Epoch 77/100\n",
            "222/222 [==============================] - 3s 15ms/step - loss: 7.3285 - accuracy: 0.0129 - val_loss: 3.1349 - val_accuracy: 0.0000e+00\n",
            "Epoch 78/100\n",
            "222/222 [==============================] - 4s 16ms/step - loss: 2.7173 - accuracy: 0.0147 - val_loss: 3.1894 - val_accuracy: 0.0000e+00\n",
            "Epoch 79/100\n",
            "222/222 [==============================] - 3s 14ms/step - loss: 11.8993 - accuracy: 0.0326 - val_loss: 3.1995 - val_accuracy: 0.0000e+00\n",
            "Epoch 80/100\n",
            "222/222 [==============================] - 3s 14ms/step - loss: 9.8917 - accuracy: 0.0266 - val_loss: 3.5223 - val_accuracy: 0.0000e+00\n",
            "Epoch 81/100\n",
            "222/222 [==============================] - 3s 14ms/step - loss: 6.8316 - accuracy: 0.0178 - val_loss: 3.1638 - val_accuracy: 0.0000e+00\n",
            "Epoch 82/100\n",
            "222/222 [==============================] - 3s 14ms/step - loss: 5.6299 - accuracy: 0.0161 - val_loss: 3.3037 - val_accuracy: 0.0000e+00\n",
            "Epoch 83/100\n",
            "222/222 [==============================] - 3s 15ms/step - loss: 2.6544 - accuracy: 0.0212 - val_loss: 3.0530 - val_accuracy: 0.0000e+00\n",
            "Epoch 84/100\n",
            "222/222 [==============================] - 3s 14ms/step - loss: 8.8718 - accuracy: 0.0279 - val_loss: 3.1385 - val_accuracy: 0.0000e+00\n",
            "Epoch 85/100\n",
            "222/222 [==============================] - 3s 15ms/step - loss: 5.3046 - accuracy: 0.0235 - val_loss: 3.3116 - val_accuracy: 0.0000e+00\n",
            "Epoch 86/100\n",
            "222/222 [==============================] - 3s 14ms/step - loss: 4.9487 - accuracy: 0.0239 - val_loss: 3.3884 - val_accuracy: 0.0000e+00\n",
            "Epoch 87/100\n",
            "222/222 [==============================] - 3s 14ms/step - loss: 4.1835 - accuracy: 0.0254 - val_loss: 3.1986 - val_accuracy: 0.0000e+00\n",
            "Epoch 88/100\n",
            "222/222 [==============================] - 3s 14ms/step - loss: 5.1038 - accuracy: 0.0320 - val_loss: 3.1182 - val_accuracy: 0.0000e+00\n",
            "Epoch 89/100\n",
            "222/222 [==============================] - 3s 14ms/step - loss: 6.8100 - accuracy: 0.0350 - val_loss: 3.1757 - val_accuracy: 0.0000e+00\n",
            "Epoch 90/100\n",
            "222/222 [==============================] - 3s 14ms/step - loss: 5.0122 - accuracy: 0.0368 - val_loss: 3.1307 - val_accuracy: 0.0000e+00\n",
            "Epoch 91/100\n",
            "222/222 [==============================] - 3s 14ms/step - loss: 3.6383 - accuracy: 0.0377 - val_loss: 3.2090 - val_accuracy: 0.0000e+00\n",
            "Epoch 92/100\n",
            "222/222 [==============================] - 3s 14ms/step - loss: 4.2822 - accuracy: 0.0540 - val_loss: 3.4262 - val_accuracy: 0.0000e+00\n",
            "Epoch 93/100\n",
            "222/222 [==============================] - 3s 14ms/step - loss: 14.4244 - accuracy: 0.0397 - val_loss: 3.4459 - val_accuracy: 0.0000e+00\n",
            "Epoch 94/100\n",
            "222/222 [==============================] - 3s 14ms/step - loss: 7.2953 - accuracy: 0.0425 - val_loss: 3.2492 - val_accuracy: 0.0000e+00\n",
            "Epoch 95/100\n",
            "222/222 [==============================] - 3s 14ms/step - loss: 4.2625 - accuracy: 0.0386 - val_loss: 3.0306 - val_accuracy: 0.0000e+00\n",
            "Epoch 96/100\n",
            "222/222 [==============================] - 3s 13ms/step - loss: 3.5472 - accuracy: 0.0516 - val_loss: 2.9841 - val_accuracy: 0.0000e+00\n",
            "Epoch 97/100\n",
            "222/222 [==============================] - 3s 15ms/step - loss: 1.8128 - accuracy: 0.0618 - val_loss: 3.1773 - val_accuracy: 0.0000e+00\n",
            "Epoch 98/100\n",
            "222/222 [==============================] - 3s 13ms/step - loss: 4.7919 - accuracy: 0.0567 - val_loss: 3.2344 - val_accuracy: 0.0000e+00\n",
            "Epoch 99/100\n",
            "222/222 [==============================] - 3s 14ms/step - loss: 8.3735 - accuracy: 0.0467 - val_loss: 3.1202 - val_accuracy: 0.0000e+00\n",
            "Epoch 100/100\n",
            "222/222 [==============================] - 3s 14ms/step - loss: 1.6022 - accuracy: 0.0890 - val_loss: 3.3772 - val_accuracy: 0.0000e+00\n"
          ],
          "name": "stdout"
        }
      ]
    },
    {
      "cell_type": "code",
      "metadata": {
        "id": "LFk7Tb9c9BZF"
      },
      "source": [
        "#importing required packages\n",
        "import keras\n",
        "from keras.layers import Input, Dense\n",
        "from keras import regularizers\n",
        "import tensorflow as tf\n",
        "from keras.models import Model\n",
        "from sklearn import metrics"
      ],
      "execution_count": 34,
      "outputs": []
    },
    {
      "cell_type": "code",
      "metadata": {
        "colab": {
          "base_uri": "https://localhost:8080/"
        },
        "id": "axP3w0TUET3f",
        "outputId": "6d2ab8d2-0a7f-4194-f699-b3b55893cf86"
      },
      "source": [
        "\n",
        "input_dim = X_train.shape[1]\n",
        "encoding_dim = input_dim\n",
        "\n",
        "input_layer = Input(shape=(input_dim,  ))\n",
        "encoder = Dense(encoding_dim, activation=\"relu\",\n",
        "                activity_regularizer=regularizers.l1(10e-4))(input_layer)\n",
        "encoder = Dense(int(encoding_dim), activation=\"relu\")(encoder)\n",
        "\n",
        "encoder = Dense(int(encoding_dim-2), activation=\"relu\")(encoder)\n",
        "code = Dense(int(encoding_dim-4), activation='relu')(encoder)\n",
        "decoder = Dense(int(encoding_dim-2), activation='relu')(code)\n",
        "\n",
        "decoder = Dense(int(encoding_dim), activation='relu')(encoder)\n",
        "decoder = Dense(input_dim, activation='relu')(decoder)\n",
        "autoencoder = Model(inputs=input_layer, outputs=decoder)\n",
        "autoencoder.summary()"
      ],
      "execution_count": 44,
      "outputs": [
        {
          "output_type": "stream",
          "text": [
            "Model: \"model_2\"\n",
            "_________________________________________________________________\n",
            "Layer (type)                 Output Shape              Param #   \n",
            "=================================================================\n",
            "input_4 (InputLayer)         [(None, 30)]              0         \n",
            "_________________________________________________________________\n",
            "dense_20 (Dense)             (None, 30)                930       \n",
            "_________________________________________________________________\n",
            "dense_21 (Dense)             (None, 30)                930       \n",
            "_________________________________________________________________\n",
            "dense_22 (Dense)             (None, 28)                868       \n",
            "_________________________________________________________________\n",
            "dense_25 (Dense)             (None, 30)                870       \n",
            "_________________________________________________________________\n",
            "dense_26 (Dense)             (None, 30)                930       \n",
            "=================================================================\n",
            "Total params: 4,528\n",
            "Trainable params: 4,528\n",
            "Non-trainable params: 0\n",
            "_________________________________________________________________\n"
          ],
          "name": "stdout"
        }
      ]
    },
    {
      "cell_type": "code",
      "metadata": {
        "id": "47ddBUo5EXVk"
      },
      "source": [
        "#compiling the model\n",
        "autoencoder.compile(optimizer='adam',loss='binary_crossentropy',metrics=['accuracy'])"
      ],
      "execution_count": 45,
      "outputs": []
    },
    {
      "cell_type": "code",
      "metadata": {
        "colab": {
          "base_uri": "https://localhost:8080/"
        },
        "id": "ewwXnmczEbdT",
        "outputId": "6dda8e6d-bdcc-4253-a124-274edc6459e5"
      },
      "source": [
        "#Training the model\n",
        "history = autoencoder.fit(X_train, y_train, epochs=10, batch_size=64, shuffle=True, validation_split=0.2)"
      ],
      "execution_count": 46,
      "outputs": [
        {
          "output_type": "stream",
          "text": [
            "Epoch 1/10\n",
            "111/111 [==============================] - 1s 4ms/step - loss: 0.6295 - accuracy: 0.0000e+00 - val_loss: -0.7629 - val_accuracy: 0.0000e+00\n",
            "Epoch 2/10\n",
            "111/111 [==============================] - 0s 2ms/step - loss: -0.8563 - accuracy: 0.0044 - val_loss: -1.6955 - val_accuracy: 5.6529e-04\n",
            "Epoch 3/10\n",
            "111/111 [==============================] - 0s 2ms/step - loss: -1.8159 - accuracy: 5.9622e-04 - val_loss: -2.7477 - val_accuracy: 0.0000e+00\n",
            "Epoch 4/10\n",
            "111/111 [==============================] - 0s 2ms/step - loss: -2.7016 - accuracy: 1.6492e-04 - val_loss: -2.9784 - val_accuracy: 0.0000e+00\n",
            "Epoch 5/10\n",
            "111/111 [==============================] - 0s 2ms/step - loss: -2.9488 - accuracy: 0.0000e+00 - val_loss: -3.3757 - val_accuracy: 0.0000e+00\n",
            "Epoch 6/10\n",
            "111/111 [==============================] - 0s 2ms/step - loss: -3.3005 - accuracy: 2.9843e-04 - val_loss: -3.6122 - val_accuracy: 0.0000e+00\n",
            "Epoch 7/10\n",
            "111/111 [==============================] - 0s 3ms/step - loss: -3.4613 - accuracy: 3.9532e-04 - val_loss: -3.4469 - val_accuracy: 0.0260\n",
            "Epoch 8/10\n",
            "111/111 [==============================] - 0s 2ms/step - loss: -2.9722 - accuracy: 0.0574 - val_loss: -3.7411 - val_accuracy: 0.1159\n",
            "Epoch 9/10\n",
            "111/111 [==============================] - 0s 2ms/step - loss: -3.6310 - accuracy: 0.1192 - val_loss: -3.8637 - val_accuracy: 0.1136\n",
            "Epoch 10/10\n",
            "111/111 [==============================] - 0s 2ms/step - loss: -3.7611 - accuracy: 0.1006 - val_loss: -3.9147 - val_accuracy: 0.0531\n"
          ],
          "name": "stdout"
        }
      ]
    },
    {
      "cell_type": "code",
      "metadata": {
        "id": "E89zPGm6EjsM"
      },
      "source": [
        ""
      ],
      "execution_count": null,
      "outputs": []
    }
  ]
}